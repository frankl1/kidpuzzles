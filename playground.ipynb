{
 "cells": [
  {
   "cell_type": "code",
   "execution_count": 1,
   "metadata": {},
   "outputs": [],
   "source": [
    "import sys \n",
    "import math\n",
    "import gymnasium as gym\n",
    "from gymnasium.wrappers.record_video import RecordVideo\n",
    "from gymnasium.wrappers.record_episode_statistics import RecordEpisodeStatistics\n",
    "import kidspuzzles\n",
    "from stable_baselines3 import A2C"
   ]
  },
  {
   "cell_type": "code",
   "execution_count": 2,
   "metadata": {},
   "outputs": [],
   "source": [
    "def linear_scheduler(initial_value):\n",
    "    def func(progress_remaining):\n",
    "        return initial_value * progress_remaining\n",
    "    return func\n",
    "\n",
    "def step_scheduler(initial_value, drop_interval, drop_factor):\n",
    "    def func(progress_remaining):\n",
    "        return initial_value * (drop_factor ** (int((1 - progress_remaining) / drop_interval)))\n",
    "    return func\n",
    "\n",
    "def cosine_annealing_scheduler(initial_value, T_max):\n",
    "    def func(progress_remaining):\n",
    "        return initial_value * (1 + math.cos(math.pi * progress_remaining / T_max)) / 2\n",
    "    return func"
   ]
  },
  {
   "cell_type": "code",
   "execution_count": 3,
   "metadata": {},
   "outputs": [],
   "source": [
    "\n",
    "n_digits = 10\n",
    "# reward_clipped = -0.02\n",
    "# reward_enter_target_area = 0.01\n",
    "# reward_exit_target_area = -0.02\n",
    "\n",
    "env = gym.make(\n",
    "    'kidspuzzles/DigitsPuzzleEnv-v0', \n",
    "    render_mode = 'rgb_array', \n",
    "    n_digits = n_digits,\n",
    "    # reward_clipped = reward_clipped,\n",
    "    # reward_enter_target_area = reward_enter_target_area,\n",
    "    # reward_exit_target_area = reward_exit_target_area\n",
    ")\n",
    "\n",
    "record_freq = 200\n",
    "\n",
    "total_timesteps=5_000_000\n",
    "initial_lr = 7e-4\n",
    "lin_lr_scheduler = linear_scheduler(initial_lr)\n",
    "step_lr_scheduler = step_scheduler(initial_value=initial_lr, drop_factor=0.5, drop_interval=0.33)\n",
    "cos_lr_scheduler = cosine_annealing_scheduler(initial_lr, T_max=total_timesteps)"
   ]
  },
  {
   "cell_type": "code",
   "execution_count": 4,
   "metadata": {},
   "outputs": [],
   "source": [
    "\n",
    "lr_scheduler = step_lr_scheduler\n",
    "lr_name = \"step_f0.5_i0.33\""
   ]
  },
  {
   "cell_type": "code",
   "execution_count": 5,
   "metadata": {},
   "outputs": [
    {
     "name": "stdout",
     "output_type": "stream",
     "text": [
      "Using mps device\n",
      "Wrapping the env with a `Monitor` wrapper\n",
      "Wrapping the env in a DummyVecEnv.\n",
      "Logging to ./logs/a2c_digitspuzzle_nd10_step_f0.5_i0.2/A2C_2\n",
      "MoviePy - Building video /Users/bapa/Codes/KidsPuzzles/videos/DigitsPuzzle-10-step_f0.5_i0.2/training-episode-0.mp4.\n",
      "MoviePy - Writing video /Users/bapa/Codes/KidsPuzzles/videos/DigitsPuzzle-10-step_f0.5_i0.2/training-episode-0.mp4\n",
      "\n"
     ]
    },
    {
     "name": "stderr",
     "output_type": "stream",
     "text": [
      "                                                                          \r"
     ]
    },
    {
     "name": "stdout",
     "output_type": "stream",
     "text": [
      "MoviePy - Done !\n",
      "MoviePy - video ready /Users/bapa/Codes/KidsPuzzles/videos/DigitsPuzzle-10-step_f0.5_i0.2/training-episode-0.mp4\n"
     ]
    },
    {
     "name": "stderr",
     "output_type": "stream",
     "text": [
      "\r"
     ]
    },
    {
     "name": "stdout",
     "output_type": "stream",
     "text": [
      "-----------------------------------------\n",
      "| rollout/              |               |\n",
      "|    ep_len_mean        | 300           |\n",
      "|    ep_rew_mean        | -176          |\n",
      "| time/                 |               |\n",
      "|    fps                | 234           |\n",
      "|    iterations         | 100           |\n",
      "|    time_elapsed       | 26            |\n",
      "|    total_timesteps    | 6400          |\n",
      "| train/                |               |\n",
      "|    entropy_loss       | -3.64         |\n",
      "|    explained_variance | -0.0021808147 |\n",
      "|    learning_rate      | 0.0007        |\n",
      "|    n_updates          | 99            |\n",
      "|    policy_loss        | -20.6         |\n",
      "|    value_loss         | 41.7          |\n",
      "-----------------------------------------\n",
      "-----------------------------------------\n",
      "| rollout/              |               |\n",
      "|    ep_len_mean        | 300           |\n",
      "|    ep_rew_mean        | -170          |\n",
      "| time/                 |               |\n",
      "|    fps                | 255           |\n",
      "|    iterations         | 200           |\n",
      "|    time_elapsed       | 49            |\n",
      "|    total_timesteps    | 12800         |\n",
      "| train/                |               |\n",
      "|    entropy_loss       | -3.64         |\n",
      "|    explained_variance | 0.00025230646 |\n",
      "|    learning_rate      | 0.0007        |\n",
      "|    n_updates          | 199           |\n",
      "|    policy_loss        | -31.8         |\n",
      "|    value_loss         | 97            |\n",
      "-----------------------------------------\n",
      "-----------------------------------------\n",
      "| rollout/              |               |\n",
      "|    ep_len_mean        | 300           |\n",
      "|    ep_rew_mean        | -173          |\n",
      "| time/                 |               |\n",
      "|    fps                | 262           |\n",
      "|    iterations         | 300           |\n",
      "|    time_elapsed       | 73            |\n",
      "|    total_timesteps    | 19200         |\n",
      "| train/                |               |\n",
      "|    entropy_loss       | -3.66         |\n",
      "|    explained_variance | 5.6028366e-06 |\n",
      "|    learning_rate      | 0.0007        |\n",
      "|    n_updates          | 299           |\n",
      "|    policy_loss        | -47.6         |\n",
      "|    value_loss         | 222           |\n",
      "-----------------------------------------\n",
      "-----------------------------------------\n",
      "| rollout/              |               |\n",
      "|    ep_len_mean        | 300           |\n",
      "|    ep_rew_mean        | -172          |\n",
      "| time/                 |               |\n",
      "|    fps                | 266           |\n",
      "|    iterations         | 400           |\n",
      "|    time_elapsed       | 96            |\n",
      "|    total_timesteps    | 25600         |\n",
      "| train/                |               |\n",
      "|    entropy_loss       | -3.66         |\n",
      "|    explained_variance | -8.380413e-05 |\n",
      "|    learning_rate      | 0.0007        |\n",
      "|    n_updates          | 399           |\n",
      "|    policy_loss        | -17.9         |\n",
      "|    value_loss         | 34.9          |\n",
      "-----------------------------------------\n",
      "-----------------------------------------\n",
      "| rollout/              |               |\n",
      "|    ep_len_mean        | 300           |\n",
      "|    ep_rew_mean        | -172          |\n",
      "| time/                 |               |\n",
      "|    fps                | 269           |\n",
      "|    iterations         | 500           |\n",
      "|    time_elapsed       | 118           |\n",
      "|    total_timesteps    | 32000         |\n",
      "| train/                |               |\n",
      "|    entropy_loss       | -3.66         |\n",
      "|    explained_variance | -0.0001052618 |\n",
      "|    learning_rate      | 0.0007        |\n",
      "|    n_updates          | 499           |\n",
      "|    policy_loss        | -11.7         |\n",
      "|    value_loss         | 14.1          |\n",
      "-----------------------------------------\n",
      "------------------------------------------\n",
      "| rollout/              |                |\n",
      "|    ep_len_mean        | 300            |\n",
      "|    ep_rew_mean        | -169           |\n",
      "| time/                 |                |\n",
      "|    fps                | 270            |\n",
      "|    iterations         | 600            |\n",
      "|    time_elapsed       | 141            |\n",
      "|    total_timesteps    | 38400          |\n",
      "| train/                |                |\n",
      "|    entropy_loss       | -3.66          |\n",
      "|    explained_variance | -0.00010097027 |\n",
      "|    learning_rate      | 0.0007         |\n",
      "|    n_updates          | 599            |\n",
      "|    policy_loss        | -18.8          |\n",
      "|    value_loss         | 34.7           |\n",
      "------------------------------------------\n",
      "------------------------------------------\n",
      "| rollout/              |                |\n",
      "|    ep_len_mean        | 300            |\n",
      "|    ep_rew_mean        | -165           |\n",
      "| time/                 |                |\n",
      "|    fps                | 272            |\n",
      "|    iterations         | 700            |\n",
      "|    time_elapsed       | 164            |\n",
      "|    total_timesteps    | 44800          |\n",
      "| train/                |                |\n",
      "|    entropy_loss       | -3.66          |\n",
      "|    explained_variance | -4.9710274e-05 |\n",
      "|    learning_rate      | 0.0007         |\n",
      "|    n_updates          | 699            |\n",
      "|    policy_loss        | -2.59          |\n",
      "|    value_loss         | 2.84           |\n",
      "------------------------------------------\n",
      "-----------------------------------------\n",
      "| rollout/              |               |\n",
      "|    ep_len_mean        | 300           |\n",
      "|    ep_rew_mean        | -160          |\n",
      "| time/                 |               |\n",
      "|    fps                | 273           |\n",
      "|    iterations         | 800           |\n",
      "|    time_elapsed       | 187           |\n",
      "|    total_timesteps    | 51200         |\n",
      "| train/                |               |\n",
      "|    entropy_loss       | -3.59         |\n",
      "|    explained_variance | -6.699562e-05 |\n",
      "|    learning_rate      | 0.0007        |\n",
      "|    n_updates          | 799           |\n",
      "|    policy_loss        | -3.05         |\n",
      "|    value_loss         | 1.49          |\n",
      "-----------------------------------------\n",
      "------------------------------------------\n",
      "| rollout/              |                |\n",
      "|    ep_len_mean        | 300            |\n",
      "|    ep_rew_mean        | -155           |\n",
      "| time/                 |                |\n",
      "|    fps                | 274            |\n",
      "|    iterations         | 900            |\n",
      "|    time_elapsed       | 209            |\n",
      "|    total_timesteps    | 57600          |\n",
      "| train/                |                |\n",
      "|    entropy_loss       | -3.66          |\n",
      "|    explained_variance | -1.3113022e-06 |\n",
      "|    learning_rate      | 0.0007         |\n",
      "|    n_updates          | 899            |\n",
      "|    policy_loss        | 13.9           |\n",
      "|    value_loss         | 16.1           |\n",
      "------------------------------------------\n",
      "MoviePy - Building video /Users/bapa/Codes/KidsPuzzles/videos/DigitsPuzzle-10-step_f0.5_i0.2/training-episode-200.mp4.\n",
      "MoviePy - Writing video /Users/bapa/Codes/KidsPuzzles/videos/DigitsPuzzle-10-step_f0.5_i0.2/training-episode-200.mp4\n",
      "\n"
     ]
    },
    {
     "name": "stderr",
     "output_type": "stream",
     "text": [
      "                                                                          "
     ]
    },
    {
     "name": "stdout",
     "output_type": "stream",
     "text": [
      "MoviePy - Done !\n",
      "MoviePy - video ready /Users/bapa/Codes/KidsPuzzles/videos/DigitsPuzzle-10-step_f0.5_i0.2/training-episode-200.mp4\n"
     ]
    },
    {
     "name": "stderr",
     "output_type": "stream",
     "text": [
      "\r"
     ]
    },
    {
     "name": "stdout",
     "output_type": "stream",
     "text": [
      "------------------------------------------\n",
      "| rollout/              |                |\n",
      "|    ep_len_mean        | 300            |\n",
      "|    ep_rew_mean        | -150           |\n",
      "| time/                 |                |\n",
      "|    fps                | 272            |\n",
      "|    iterations         | 1000           |\n",
      "|    time_elapsed       | 234            |\n",
      "|    total_timesteps    | 64000          |\n",
      "| train/                |                |\n",
      "|    entropy_loss       | -3.63          |\n",
      "|    explained_variance | -1.9788742e-05 |\n",
      "|    learning_rate      | 0.0007         |\n",
      "|    n_updates          | 999            |\n",
      "|    policy_loss        | -9.67          |\n",
      "|    value_loss         | 17.1           |\n",
      "------------------------------------------\n",
      "-----------------------------------------\n",
      "| rollout/              |               |\n",
      "|    ep_len_mean        | 300           |\n",
      "|    ep_rew_mean        | -147          |\n",
      "| time/                 |               |\n",
      "|    fps                | 273           |\n",
      "|    iterations         | 1100          |\n",
      "|    time_elapsed       | 257           |\n",
      "|    total_timesteps    | 70400         |\n",
      "| train/                |               |\n",
      "|    entropy_loss       | -3.61         |\n",
      "|    explained_variance | 2.0205975e-05 |\n",
      "|    learning_rate      | 0.0007        |\n",
      "|    n_updates          | 1099          |\n",
      "|    policy_loss        | -3.87         |\n",
      "|    value_loss         | 1.91          |\n",
      "-----------------------------------------\n",
      "-----------------------------------------\n",
      "| rollout/              |               |\n",
      "|    ep_len_mean        | 300           |\n",
      "|    ep_rew_mean        | -142          |\n",
      "| time/                 |               |\n",
      "|    fps                | 273           |\n",
      "|    iterations         | 1200          |\n",
      "|    time_elapsed       | 280           |\n",
      "|    total_timesteps    | 76800         |\n",
      "| train/                |               |\n",
      "|    entropy_loss       | -3.6          |\n",
      "|    explained_variance | 3.0577183e-05 |\n",
      "|    learning_rate      | 0.0007        |\n",
      "|    n_updates          | 1199          |\n",
      "|    policy_loss        | -1.74         |\n",
      "|    value_loss         | 6.14          |\n",
      "-----------------------------------------\n",
      "-----------------------------------------\n",
      "| rollout/              |               |\n",
      "|    ep_len_mean        | 300           |\n",
      "|    ep_rew_mean        | -138          |\n",
      "| time/                 |               |\n",
      "|    fps                | 274           |\n",
      "|    iterations         | 1300          |\n",
      "|    time_elapsed       | 303           |\n",
      "|    total_timesteps    | 83200         |\n",
      "| train/                |               |\n",
      "|    entropy_loss       | -3.55         |\n",
      "|    explained_variance | 3.7908554e-05 |\n",
      "|    learning_rate      | 0.0007        |\n",
      "|    n_updates          | 1299          |\n",
      "|    policy_loss        | 3.56          |\n",
      "|    value_loss         | 2.32          |\n",
      "-----------------------------------------\n",
      "------------------------------------------\n",
      "| rollout/              |                |\n",
      "|    ep_len_mean        | 300            |\n",
      "|    ep_rew_mean        | -135           |\n",
      "| time/                 |                |\n",
      "|    fps                | 274            |\n",
      "|    iterations         | 1400           |\n",
      "|    time_elapsed       | 325            |\n",
      "|    total_timesteps    | 89600          |\n",
      "| train/                |                |\n",
      "|    entropy_loss       | -3.46          |\n",
      "|    explained_variance | -0.00022518635 |\n",
      "|    learning_rate      | 0.0007         |\n",
      "|    n_updates          | 1399           |\n",
      "|    policy_loss        | -6.16          |\n",
      "|    value_loss         | 4.87           |\n",
      "------------------------------------------\n",
      "-----------------------------------------\n",
      "| rollout/              |               |\n",
      "|    ep_len_mean        | 300           |\n",
      "|    ep_rew_mean        | -130          |\n",
      "| time/                 |               |\n",
      "|    fps                | 275           |\n",
      "|    iterations         | 1500          |\n",
      "|    time_elapsed       | 348           |\n",
      "|    total_timesteps    | 96000         |\n",
      "| train/                |               |\n",
      "|    entropy_loss       | -3.45         |\n",
      "|    explained_variance | -0.0010422468 |\n",
      "|    learning_rate      | 0.0007        |\n",
      "|    n_updates          | 1499          |\n",
      "|    policy_loss        | 7.69          |\n",
      "|    value_loss         | 10.2          |\n",
      "-----------------------------------------\n",
      "---------------------------------------\n",
      "| rollout/              |             |\n",
      "|    ep_len_mean        | 300         |\n",
      "|    ep_rew_mean        | -126        |\n",
      "| time/                 |             |\n",
      "|    fps                | 275         |\n",
      "|    iterations         | 1600        |\n",
      "|    time_elapsed       | 371         |\n",
      "|    total_timesteps    | 102400      |\n",
      "| train/                |             |\n",
      "|    entropy_loss       | -3.35       |\n",
      "|    explained_variance | -0.12870169 |\n",
      "|    learning_rate      | 0.0007      |\n",
      "|    n_updates          | 1599        |\n",
      "|    policy_loss        | 0.134       |\n",
      "|    value_loss         | 0.312       |\n",
      "---------------------------------------\n",
      "---------------------------------------\n",
      "| rollout/              |             |\n",
      "|    ep_len_mean        | 300         |\n",
      "|    ep_rew_mean        | -120        |\n",
      "| time/                 |             |\n",
      "|    fps                | 275         |\n",
      "|    iterations         | 1700        |\n",
      "|    time_elapsed       | 394         |\n",
      "|    total_timesteps    | 108800      |\n",
      "| train/                |             |\n",
      "|    entropy_loss       | -3.43       |\n",
      "|    explained_variance | -0.07107353 |\n",
      "|    learning_rate      | 0.0007      |\n",
      "|    n_updates          | 1699        |\n",
      "|    policy_loss        | -5.01       |\n",
      "|    value_loss         | 3.76        |\n",
      "---------------------------------------\n",
      "----------------------------------------\n",
      "| rollout/              |              |\n",
      "|    ep_len_mean        | 300          |\n",
      "|    ep_rew_mean        | -116         |\n",
      "| time/                 |              |\n",
      "|    fps                | 276          |\n",
      "|    iterations         | 1800         |\n",
      "|    time_elapsed       | 417          |\n",
      "|    total_timesteps    | 115200       |\n",
      "| train/                |              |\n",
      "|    entropy_loss       | -3.28        |\n",
      "|    explained_variance | -0.085217476 |\n",
      "|    learning_rate      | 0.0007       |\n",
      "|    n_updates          | 1799         |\n",
      "|    policy_loss        | 12.7         |\n",
      "|    value_loss         | 16.6         |\n",
      "----------------------------------------\n",
      "MoviePy - Building video /Users/bapa/Codes/KidsPuzzles/videos/DigitsPuzzle-10-step_f0.5_i0.2/training-episode-400.mp4.\n",
      "MoviePy - Writing video /Users/bapa/Codes/KidsPuzzles/videos/DigitsPuzzle-10-step_f0.5_i0.2/training-episode-400.mp4\n",
      "\n"
     ]
    },
    {
     "name": "stderr",
     "output_type": "stream",
     "text": [
      "                                                                          "
     ]
    },
    {
     "name": "stdout",
     "output_type": "stream",
     "text": [
      "MoviePy - Done !\n",
      "MoviePy - video ready /Users/bapa/Codes/KidsPuzzles/videos/DigitsPuzzle-10-step_f0.5_i0.2/training-episode-400.mp4\n"
     ]
    },
    {
     "name": "stderr",
     "output_type": "stream",
     "text": [
      "\r"
     ]
    },
    {
     "name": "stdout",
     "output_type": "stream",
     "text": [
      "---------------------------------------\n",
      "| rollout/              |             |\n",
      "|    ep_len_mean        | 300         |\n",
      "|    ep_rew_mean        | -113        |\n",
      "| time/                 |             |\n",
      "|    fps                | 275         |\n",
      "|    iterations         | 1900        |\n",
      "|    time_elapsed       | 441         |\n",
      "|    total_timesteps    | 121600      |\n",
      "| train/                |             |\n",
      "|    entropy_loss       | -3.31       |\n",
      "|    explained_variance | 0.060113788 |\n",
      "|    learning_rate      | 0.0007      |\n",
      "|    n_updates          | 1899        |\n",
      "|    policy_loss        | 1.13        |\n",
      "|    value_loss         | 2.45        |\n",
      "---------------------------------------\n",
      "-----------------------------------------\n",
      "| rollout/              |               |\n",
      "|    ep_len_mean        | 300           |\n",
      "|    ep_rew_mean        | -140          |\n",
      "| time/                 |               |\n",
      "|    fps                | 278           |\n",
      "|    iterations         | 1400          |\n",
      "|    time_elapsed       | 321           |\n",
      "|    total_timesteps    | 89600         |\n",
      "| train/                |               |\n",
      "|    entropy_loss       | -3.44         |\n",
      "|    explained_variance | 2.4139881e-05 |\n",
      "|    learning_rate      | 0.0007        |\n",
      "|    n_updates          | 1399          |\n",
      "|    policy_loss        | -3.04         |\n",
      "|    value_loss         | 2.1           |\n",
      "-----------------------------------------\n",
      "-----------------------------------------\n",
      "| rollout/              |               |\n",
      "|    ep_len_mean        | 300           |\n",
      "|    ep_rew_mean        | -137          |\n",
      "| time/                 |               |\n",
      "|    fps                | 278           |\n",
      "|    iterations         | 1500          |\n",
      "|    time_elapsed       | 344           |\n",
      "|    total_timesteps    | 96000         |\n",
      "| train/                |               |\n",
      "|    entropy_loss       | -3.44         |\n",
      "|    explained_variance | 9.1671944e-05 |\n",
      "|    learning_rate      | 0.0007        |\n",
      "|    n_updates          | 1499          |\n",
      "|    policy_loss        | 6.25          |\n",
      "|    value_loss         | 7.84          |\n",
      "-----------------------------------------\n",
      "--------------------------------------\n",
      "| rollout/              |            |\n",
      "|    ep_len_mean        | 300        |\n",
      "|    ep_rew_mean        | -109       |\n",
      "| time/                 |            |\n",
      "|    fps                | 275        |\n",
      "|    iterations         | 2000       |\n",
      "|    time_elapsed       | 464        |\n",
      "|    total_timesteps    | 128000     |\n",
      "| train/                |            |\n",
      "|    entropy_loss       | -3.23      |\n",
      "|    explained_variance | -0.7818966 |\n",
      "|    learning_rate      | 0.0007     |\n",
      "|    n_updates          | 1999       |\n",
      "|    policy_loss        | 6.99       |\n",
      "|    value_loss         | 6.25       |\n",
      "--------------------------------------\n",
      "----------------------------------------\n",
      "| rollout/              |              |\n",
      "|    ep_len_mean        | 300          |\n",
      "|    ep_rew_mean        | -108         |\n",
      "| time/                 |              |\n",
      "|    fps                | 275          |\n",
      "|    iterations         | 2100         |\n",
      "|    time_elapsed       | 487          |\n",
      "|    total_timesteps    | 134400       |\n",
      "| train/                |              |\n",
      "|    entropy_loss       | -3.08        |\n",
      "|    explained_variance | -0.092767596 |\n",
      "|    learning_rate      | 0.0007       |\n",
      "|    n_updates          | 2099         |\n",
      "|    policy_loss        | 6.84         |\n",
      "|    value_loss         | 5.6          |\n",
      "----------------------------------------\n",
      "--------------------------------------\n",
      "| rollout/              |            |\n",
      "|    ep_len_mean        | 300        |\n",
      "|    ep_rew_mean        | -106       |\n",
      "| time/                 |            |\n",
      "|    fps                | 275        |\n",
      "|    iterations         | 2200       |\n",
      "|    time_elapsed       | 510        |\n",
      "|    total_timesteps    | 140800     |\n",
      "| train/                |            |\n",
      "|    entropy_loss       | -3.12      |\n",
      "|    explained_variance | 0.38031268 |\n",
      "|    learning_rate      | 0.0007     |\n",
      "|    n_updates          | 2199       |\n",
      "|    policy_loss        | -0.248     |\n",
      "|    value_loss         | 4.16       |\n",
      "--------------------------------------\n",
      "--------------------------------------\n",
      "| rollout/              |            |\n",
      "|    ep_len_mean        | 300        |\n",
      "|    ep_rew_mean        | -104       |\n",
      "| time/                 |            |\n",
      "|    fps                | 276        |\n",
      "|    iterations         | 2300       |\n",
      "|    time_elapsed       | 533        |\n",
      "|    total_timesteps    | 147200     |\n",
      "| train/                |            |\n",
      "|    entropy_loss       | -3.07      |\n",
      "|    explained_variance | 0.14009768 |\n",
      "|    learning_rate      | 0.0007     |\n",
      "|    n_updates          | 2299       |\n",
      "|    policy_loss        | 1.02       |\n",
      "|    value_loss         | 0.961      |\n",
      "--------------------------------------\n",
      "----------------------------------------\n",
      "| rollout/              |              |\n",
      "|    ep_len_mean        | 300          |\n",
      "|    ep_rew_mean        | -102         |\n",
      "| time/                 |              |\n",
      "|    fps                | 276          |\n",
      "|    iterations         | 2400         |\n",
      "|    time_elapsed       | 556          |\n",
      "|    total_timesteps    | 153600       |\n",
      "| train/                |              |\n",
      "|    entropy_loss       | -3.03        |\n",
      "|    explained_variance | -0.097230434 |\n",
      "|    learning_rate      | 0.0007       |\n",
      "|    n_updates          | 2399         |\n",
      "|    policy_loss        | 6.71         |\n",
      "|    value_loss         | 6.93         |\n",
      "----------------------------------------\n",
      "-------------------------------------\n",
      "| rollout/              |           |\n",
      "|    ep_len_mean        | 300       |\n",
      "|    ep_rew_mean        | -99.9     |\n",
      "| time/                 |           |\n",
      "|    fps                | 276       |\n",
      "|    iterations         | 2500      |\n",
      "|    time_elapsed       | 579       |\n",
      "|    total_timesteps    | 160000    |\n",
      "| train/                |           |\n",
      "|    entropy_loss       | -3.08     |\n",
      "|    explained_variance | 0.8455885 |\n",
      "|    learning_rate      | 0.0007    |\n",
      "|    n_updates          | 2499      |\n",
      "|    policy_loss        | -3.19     |\n",
      "|    value_loss         | 3.09      |\n",
      "-------------------------------------\n",
      "--------------------------------------\n",
      "| rollout/              |            |\n",
      "|    ep_len_mean        | 300        |\n",
      "|    ep_rew_mean        | -96.5      |\n",
      "| time/                 |            |\n",
      "|    fps                | 276        |\n",
      "|    iterations         | 2600       |\n",
      "|    time_elapsed       | 601        |\n",
      "|    total_timesteps    | 166400     |\n",
      "| train/                |            |\n",
      "|    entropy_loss       | -2.91      |\n",
      "|    explained_variance | 0.30037522 |\n",
      "|    learning_rate      | 0.0007     |\n",
      "|    n_updates          | 2599       |\n",
      "|    policy_loss        | -0.403     |\n",
      "|    value_loss         | 0.161      |\n",
      "--------------------------------------\n",
      "-------------------------------------\n",
      "| rollout/              |           |\n",
      "|    ep_len_mean        | 300       |\n",
      "|    ep_rew_mean        | -128      |\n",
      "| time/                 |           |\n",
      "|    fps                | 278       |\n",
      "|    iterations         | 1700      |\n",
      "|    time_elapsed       | 390       |\n",
      "|    total_timesteps    | 108800    |\n",
      "| train/                |           |\n",
      "|    entropy_loss       | -3.29     |\n",
      "|    explained_variance | 0.1395669 |\n",
      "|    learning_rate      | 0.0007    |\n",
      "|    n_updates          | 1699      |\n",
      "|    policy_loss        | -10.1     |\n",
      "|    value_loss         | 10.4      |\n",
      "-------------------------------------\n",
      "--------------------------------------\n",
      "| rollout/              |            |\n",
      "|    ep_len_mean        | 300        |\n",
      "|    ep_rew_mean        | -95.8      |\n",
      "| time/                 |            |\n",
      "|    fps                | 276        |\n",
      "|    iterations         | 2700       |\n",
      "|    time_elapsed       | 624        |\n",
      "|    total_timesteps    | 172800     |\n",
      "| train/                |            |\n",
      "|    entropy_loss       | -2.72      |\n",
      "|    explained_variance | 0.24817091 |\n",
      "|    learning_rate      | 0.0007     |\n",
      "|    n_updates          | 2699       |\n",
      "|    policy_loss        | 2.1        |\n",
      "|    value_loss         | 0.934      |\n",
      "--------------------------------------\n",
      "---------------------------------------\n",
      "| rollout/              |             |\n",
      "|    ep_len_mean        | 300         |\n",
      "|    ep_rew_mean        | -92.7       |\n",
      "| time/                 |             |\n",
      "|    fps                | 276         |\n",
      "|    iterations         | 2800        |\n",
      "|    time_elapsed       | 647         |\n",
      "|    total_timesteps    | 179200      |\n",
      "| train/                |             |\n",
      "|    entropy_loss       | -2.88       |\n",
      "|    explained_variance | 0.007453263 |\n",
      "|    learning_rate      | 0.0007      |\n",
      "|    n_updates          | 2799        |\n",
      "|    policy_loss        | -9.94       |\n",
      "|    value_loss         | 20.6        |\n",
      "---------------------------------------\n",
      "MoviePy - Building video /Users/bapa/Codes/KidsPuzzles/videos/DigitsPuzzle-10-step_f0.5_i0.2/training-episode-600.mp4.\n",
      "MoviePy - Writing video /Users/bapa/Codes/KidsPuzzles/videos/DigitsPuzzle-10-step_f0.5_i0.2/training-episode-600.mp4\n",
      "\n"
     ]
    },
    {
     "name": "stderr",
     "output_type": "stream",
     "text": [
      "                                                                          "
     ]
    },
    {
     "name": "stdout",
     "output_type": "stream",
     "text": [
      "MoviePy - Done !\n",
      "MoviePy - video ready /Users/bapa/Codes/KidsPuzzles/videos/DigitsPuzzle-10-step_f0.5_i0.2/training-episode-600.mp4\n"
     ]
    },
    {
     "name": "stderr",
     "output_type": "stream",
     "text": [
      "\r"
     ]
    },
    {
     "name": "stdout",
     "output_type": "stream",
     "text": [
      "--------------------------------------\n",
      "| rollout/              |            |\n",
      "|    ep_len_mean        | 300        |\n",
      "|    ep_rew_mean        | -90.5      |\n",
      "| time/                 |            |\n",
      "|    fps                | 276        |\n",
      "|    iterations         | 2900       |\n",
      "|    time_elapsed       | 672        |\n",
      "|    total_timesteps    | 185600     |\n",
      "| train/                |            |\n",
      "|    entropy_loss       | -2.81      |\n",
      "|    explained_variance | 0.17749476 |\n",
      "|    learning_rate      | 0.0007     |\n",
      "|    n_updates          | 2899       |\n",
      "|    policy_loss        | -2.32      |\n",
      "|    value_loss         | 1.04       |\n",
      "--------------------------------------\n",
      "--------------------------------------\n",
      "| rollout/              |            |\n",
      "|    ep_len_mean        | 300        |\n",
      "|    ep_rew_mean        | -88.2      |\n",
      "| time/                 |            |\n",
      "|    fps                | 276        |\n",
      "|    iterations         | 3000       |\n",
      "|    time_elapsed       | 695        |\n",
      "|    total_timesteps    | 192000     |\n",
      "| train/                |            |\n",
      "|    entropy_loss       | -2.73      |\n",
      "|    explained_variance | -0.0734632 |\n",
      "|    learning_rate      | 0.0007     |\n",
      "|    n_updates          | 2999       |\n",
      "|    policy_loss        | -0.104     |\n",
      "|    value_loss         | 1.15       |\n",
      "--------------------------------------\n",
      "-------------------------------------\n",
      "| rollout/              |           |\n",
      "|    ep_len_mean        | 300       |\n",
      "|    ep_rew_mean        | -86.1     |\n",
      "| time/                 |           |\n",
      "|    fps                | 276       |\n",
      "|    iterations         | 3100      |\n",
      "|    time_elapsed       | 717       |\n",
      "|    total_timesteps    | 198400    |\n",
      "| train/                |           |\n",
      "|    entropy_loss       | -2.79     |\n",
      "|    explained_variance | 0.5390658 |\n",
      "|    learning_rate      | 0.0007    |\n",
      "|    n_updates          | 3099      |\n",
      "|    policy_loss        | 0.498     |\n",
      "|    value_loss         | 0.224     |\n",
      "-------------------------------------\n",
      "--------------------------------------\n",
      "| rollout/              |            |\n",
      "|    ep_len_mean        | 300        |\n",
      "|    ep_rew_mean        | -82.9      |\n",
      "| time/                 |            |\n",
      "|    fps                | 276        |\n",
      "|    iterations         | 3200       |\n",
      "|    time_elapsed       | 740        |\n",
      "|    total_timesteps    | 204800     |\n",
      "| train/                |            |\n",
      "|    entropy_loss       | -2.92      |\n",
      "|    explained_variance | -1.1895919 |\n",
      "|    learning_rate      | 0.0007     |\n",
      "|    n_updates          | 3199       |\n",
      "|    policy_loss        | 2.05       |\n",
      "|    value_loss         | 1.01       |\n",
      "--------------------------------------\n",
      "---------------------------------------\n",
      "| rollout/              |             |\n",
      "|    ep_len_mean        | 300         |\n",
      "|    ep_rew_mean        | -81.1       |\n",
      "| time/                 |             |\n",
      "|    fps                | 276         |\n",
      "|    iterations         | 3300        |\n",
      "|    time_elapsed       | 763         |\n",
      "|    total_timesteps    | 211200      |\n",
      "| train/                |             |\n",
      "|    entropy_loss       | -2.68       |\n",
      "|    explained_variance | -0.02014482 |\n",
      "|    learning_rate      | 0.0007      |\n",
      "|    n_updates          | 3299        |\n",
      "|    policy_loss        | 2.18        |\n",
      "|    value_loss         | 1.22        |\n",
      "---------------------------------------\n",
      "--------------------------------------\n",
      "| rollout/              |            |\n",
      "|    ep_len_mean        | 300        |\n",
      "|    ep_rew_mean        | -78.6      |\n",
      "| time/                 |            |\n",
      "|    fps                | 276        |\n",
      "|    iterations         | 3400       |\n",
      "|    time_elapsed       | 786        |\n",
      "|    total_timesteps    | 217600     |\n",
      "| train/                |            |\n",
      "|    entropy_loss       | -2.56      |\n",
      "|    explained_variance | 0.75200534 |\n",
      "|    learning_rate      | 0.0007     |\n",
      "|    n_updates          | 3399       |\n",
      "|    policy_loss        | 2.75       |\n",
      "|    value_loss         | 2.63       |\n",
      "--------------------------------------\n",
      "--------------------------------------\n",
      "| rollout/              |            |\n",
      "|    ep_len_mean        | 300        |\n",
      "|    ep_rew_mean        | -76.9      |\n",
      "| time/                 |            |\n",
      "|    fps                | 276        |\n",
      "|    iterations         | 3500       |\n",
      "|    time_elapsed       | 809        |\n",
      "|    total_timesteps    | 224000     |\n",
      "| train/                |            |\n",
      "|    entropy_loss       | -2.49      |\n",
      "|    explained_variance | -0.6530957 |\n",
      "|    learning_rate      | 0.0007     |\n",
      "|    n_updates          | 3499       |\n",
      "|    policy_loss        | -5.27      |\n",
      "|    value_loss         | 4.94       |\n",
      "--------------------------------------\n",
      "--------------------------------------\n",
      "| rollout/              |            |\n",
      "|    ep_len_mean        | 300        |\n",
      "|    ep_rew_mean        | -75.3      |\n",
      "| time/                 |            |\n",
      "|    fps                | 276        |\n",
      "|    iterations         | 3600       |\n",
      "|    time_elapsed       | 832        |\n",
      "|    total_timesteps    | 230400     |\n",
      "| train/                |            |\n",
      "|    entropy_loss       | -2.69      |\n",
      "|    explained_variance | -1.6950798 |\n",
      "|    learning_rate      | 0.0007     |\n",
      "|    n_updates          | 3599       |\n",
      "|    policy_loss        | 0.289      |\n",
      "|    value_loss         | 0.154      |\n",
      "--------------------------------------\n",
      "-------------------------------------\n",
      "| rollout/              |           |\n",
      "|    ep_len_mean        | 300       |\n",
      "|    ep_rew_mean        | -73.9     |\n",
      "| time/                 |           |\n",
      "|    fps                | 276       |\n",
      "|    iterations         | 3700      |\n",
      "|    time_elapsed       | 855       |\n",
      "|    total_timesteps    | 236800    |\n",
      "| train/                |           |\n",
      "|    entropy_loss       | -2.67     |\n",
      "|    explained_variance | 0.5289551 |\n",
      "|    learning_rate      | 0.0007    |\n",
      "|    n_updates          | 3699      |\n",
      "|    policy_loss        | -0.189    |\n",
      "|    value_loss         | 2.47      |\n",
      "-------------------------------------\n",
      "MoviePy - Building video /Users/bapa/Codes/KidsPuzzles/videos/DigitsPuzzle-10-step_f0.5_i0.2/training-episode-800.mp4.\n",
      "MoviePy - Writing video /Users/bapa/Codes/KidsPuzzles/videos/DigitsPuzzle-10-step_f0.5_i0.2/training-episode-800.mp4\n",
      "\n"
     ]
    },
    {
     "name": "stderr",
     "output_type": "stream",
     "text": [
      "                                                                          "
     ]
    },
    {
     "name": "stdout",
     "output_type": "stream",
     "text": [
      "MoviePy - Done !\n",
      "MoviePy - video ready /Users/bapa/Codes/KidsPuzzles/videos/DigitsPuzzle-10-step_f0.5_i0.2/training-episode-800.mp4\n"
     ]
    },
    {
     "name": "stderr",
     "output_type": "stream",
     "text": [
      "\r"
     ]
    },
    {
     "name": "stdout",
     "output_type": "stream",
     "text": [
      "---------------------------------------\n",
      "| rollout/              |             |\n",
      "|    ep_len_mean        | 300         |\n",
      "|    ep_rew_mean        | -73.1       |\n",
      "| time/                 |             |\n",
      "|    fps                | 276         |\n",
      "|    iterations         | 3800        |\n",
      "|    time_elapsed       | 879         |\n",
      "|    total_timesteps    | 243200      |\n",
      "| train/                |             |\n",
      "|    entropy_loss       | -2.5        |\n",
      "|    explained_variance | 0.042707086 |\n",
      "|    learning_rate      | 0.0007      |\n",
      "|    n_updates          | 3799        |\n",
      "|    policy_loss        | 6.15        |\n",
      "|    value_loss         | 7.27        |\n",
      "---------------------------------------\n",
      "--------------------------------------\n",
      "| rollout/              |            |\n",
      "|    ep_len_mean        | 300        |\n",
      "|    ep_rew_mean        | -72        |\n",
      "| time/                 |            |\n",
      "|    fps                | 276        |\n",
      "|    iterations         | 3900       |\n",
      "|    time_elapsed       | 902        |\n",
      "|    total_timesteps    | 249600     |\n",
      "| train/                |            |\n",
      "|    entropy_loss       | -2.74      |\n",
      "|    explained_variance | -2.2516387 |\n",
      "|    learning_rate      | 0.0007     |\n",
      "|    n_updates          | 3899       |\n",
      "|    policy_loss        | 0.665      |\n",
      "|    value_loss         | 0.103      |\n",
      "--------------------------------------\n",
      "--------------------------------------\n",
      "| rollout/              |            |\n",
      "|    ep_len_mean        | 300        |\n",
      "|    ep_rew_mean        | -70.2      |\n",
      "| time/                 |            |\n",
      "|    fps                | 276        |\n",
      "|    iterations         | 4000       |\n",
      "|    time_elapsed       | 925        |\n",
      "|    total_timesteps    | 256000     |\n",
      "| train/                |            |\n",
      "|    entropy_loss       | -2.52      |\n",
      "|    explained_variance | 0.12031263 |\n",
      "|    learning_rate      | 0.0007     |\n",
      "|    n_updates          | 3999       |\n",
      "|    policy_loss        | -2.88      |\n",
      "|    value_loss         | 3.37       |\n",
      "--------------------------------------\n",
      "---------------------------------------\n",
      "| rollout/              |             |\n",
      "|    ep_len_mean        | 300         |\n",
      "|    ep_rew_mean        | -69.6       |\n",
      "| time/                 |             |\n",
      "|    fps                | 276         |\n",
      "|    iterations         | 4100        |\n",
      "|    time_elapsed       | 948         |\n",
      "|    total_timesteps    | 262400      |\n",
      "| train/                |             |\n",
      "|    entropy_loss       | -2.21       |\n",
      "|    explained_variance | -0.20427465 |\n",
      "|    learning_rate      | 0.0007      |\n",
      "|    n_updates          | 4099        |\n",
      "|    policy_loss        | 1.73        |\n",
      "|    value_loss         | 0.923       |\n",
      "---------------------------------------\n",
      "---------------------------------------\n",
      "| rollout/              |             |\n",
      "|    ep_len_mean        | 300         |\n",
      "|    ep_rew_mean        | -68.6       |\n",
      "| time/                 |             |\n",
      "|    fps                | 276         |\n",
      "|    iterations         | 4200        |\n",
      "|    time_elapsed       | 971         |\n",
      "|    total_timesteps    | 268800      |\n",
      "| train/                |             |\n",
      "|    entropy_loss       | -2.36       |\n",
      "|    explained_variance | -0.24838364 |\n",
      "|    learning_rate      | 0.0007      |\n",
      "|    n_updates          | 4199        |\n",
      "|    policy_loss        | -0.52       |\n",
      "|    value_loss         | 0.221       |\n",
      "---------------------------------------\n",
      "-------------------------------------\n",
      "| rollout/              |           |\n",
      "|    ep_len_mean        | 300       |\n",
      "|    ep_rew_mean        | -68       |\n",
      "| time/                 |           |\n",
      "|    fps                | 276       |\n",
      "|    iterations         | 4300      |\n",
      "|    time_elapsed       | 994       |\n",
      "|    total_timesteps    | 275200    |\n",
      "| train/                |           |\n",
      "|    entropy_loss       | -2.61     |\n",
      "|    explained_variance | 0.9574767 |\n",
      "|    learning_rate      | 0.0007    |\n",
      "|    n_updates          | 4299      |\n",
      "|    policy_loss        | 0.000713  |\n",
      "|    value_loss         | 0.204     |\n",
      "-------------------------------------\n",
      "--------------------------------------\n",
      "| rollout/              |            |\n",
      "|    ep_len_mean        | 300        |\n",
      "|    ep_rew_mean        | -67.9      |\n",
      "| time/                 |            |\n",
      "|    fps                | 276        |\n",
      "|    iterations         | 4400       |\n",
      "|    time_elapsed       | 1016       |\n",
      "|    total_timesteps    | 281600     |\n",
      "| train/                |            |\n",
      "|    entropy_loss       | -2.36      |\n",
      "|    explained_variance | 0.46450347 |\n",
      "|    learning_rate      | 0.0007     |\n",
      "|    n_updates          | 4399       |\n",
      "|    policy_loss        | -4.21      |\n",
      "|    value_loss         | 4.31       |\n",
      "--------------------------------------\n",
      "------------------------------------\n",
      "| rollout/              |          |\n",
      "|    ep_len_mean        | 300      |\n",
      "|    ep_rew_mean        | -67.6    |\n",
      "| time/                 |          |\n",
      "|    fps                | 276      |\n",
      "|    iterations         | 4500     |\n",
      "|    time_elapsed       | 1040     |\n",
      "|    total_timesteps    | 288000   |\n",
      "| train/                |          |\n",
      "|    entropy_loss       | -2.25    |\n",
      "|    explained_variance | -5.10151 |\n",
      "|    learning_rate      | 0.0007   |\n",
      "|    n_updates          | 4499     |\n",
      "|    policy_loss        | 2.25     |\n",
      "|    value_loss         | 1.75     |\n",
      "------------------------------------\n",
      "-------------------------------------\n",
      "| rollout/              |           |\n",
      "|    ep_len_mean        | 300       |\n",
      "|    ep_rew_mean        | -67.2     |\n",
      "| time/                 |           |\n",
      "|    fps                | 276       |\n",
      "|    iterations         | 4600      |\n",
      "|    time_elapsed       | 1063      |\n",
      "|    total_timesteps    | 294400    |\n",
      "| train/                |           |\n",
      "|    entropy_loss       | -2.43     |\n",
      "|    explained_variance | 0.8043225 |\n",
      "|    learning_rate      | 0.0007    |\n",
      "|    n_updates          | 4599      |\n",
      "|    policy_loss        | -4.48     |\n",
      "|    value_loss         | 5.39      |\n",
      "-------------------------------------\n",
      "MoviePy - Building video /Users/bapa/Codes/KidsPuzzles/videos/DigitsPuzzle-10-step_f0.5_i0.2/training-episode-1000.mp4.\n",
      "MoviePy - Writing video /Users/bapa/Codes/KidsPuzzles/videos/DigitsPuzzle-10-step_f0.5_i0.2/training-episode-1000.mp4\n",
      "\n"
     ]
    },
    {
     "name": "stderr",
     "output_type": "stream",
     "text": [
      "                                                                          "
     ]
    },
    {
     "name": "stdout",
     "output_type": "stream",
     "text": [
      "MoviePy - Done !\n",
      "MoviePy - video ready /Users/bapa/Codes/KidsPuzzles/videos/DigitsPuzzle-10-step_f0.5_i0.2/training-episode-1000.mp4\n"
     ]
    },
    {
     "name": "stderr",
     "output_type": "stream",
     "text": [
      "\r"
     ]
    },
    {
     "name": "stdout",
     "output_type": "stream",
     "text": [
      "------------------------------------\n",
      "| rollout/              |          |\n",
      "|    ep_len_mean        | 300      |\n",
      "|    ep_rew_mean        | -65.9    |\n",
      "| time/                 |          |\n",
      "|    fps                | 276      |\n",
      "|    iterations         | 4700     |\n",
      "|    time_elapsed       | 1087     |\n",
      "|    total_timesteps    | 300800   |\n",
      "| train/                |          |\n",
      "|    entropy_loss       | -2.53    |\n",
      "|    explained_variance | 0.171202 |\n",
      "|    learning_rate      | 0.0007   |\n",
      "|    n_updates          | 4699     |\n",
      "|    policy_loss        | -2.77    |\n",
      "|    value_loss         | 1.37     |\n",
      "------------------------------------\n",
      "--------------------------------------\n",
      "| rollout/              |            |\n",
      "|    ep_len_mean        | 300        |\n",
      "|    ep_rew_mean        | -64.9      |\n",
      "| time/                 |            |\n",
      "|    fps                | 276        |\n",
      "|    iterations         | 4800       |\n",
      "|    time_elapsed       | 1111       |\n",
      "|    total_timesteps    | 307200     |\n",
      "| train/                |            |\n",
      "|    entropy_loss       | -2.41      |\n",
      "|    explained_variance | -1.0805852 |\n",
      "|    learning_rate      | 0.0007     |\n",
      "|    n_updates          | 4799       |\n",
      "|    policy_loss        | 3.02       |\n",
      "|    value_loss         | 2.03       |\n",
      "--------------------------------------\n",
      "--------------------------------------\n",
      "| rollout/              |            |\n",
      "|    ep_len_mean        | 300        |\n",
      "|    ep_rew_mean        | -63.6      |\n",
      "| time/                 |            |\n",
      "|    fps                | 276        |\n",
      "|    iterations         | 4900       |\n",
      "|    time_elapsed       | 1134       |\n",
      "|    total_timesteps    | 313600     |\n",
      "| train/                |            |\n",
      "|    entropy_loss       | -2.5       |\n",
      "|    explained_variance | 0.68011653 |\n",
      "|    learning_rate      | 0.0007     |\n",
      "|    n_updates          | 4899       |\n",
      "|    policy_loss        | -1.39      |\n",
      "|    value_loss         | 1.57       |\n",
      "--------------------------------------\n",
      "--------------------------------------\n",
      "| rollout/              |            |\n",
      "|    ep_len_mean        | 300        |\n",
      "|    ep_rew_mean        | -62.4      |\n",
      "| time/                 |            |\n",
      "|    fps                | 276        |\n",
      "|    iterations         | 5000       |\n",
      "|    time_elapsed       | 1157       |\n",
      "|    total_timesteps    | 320000     |\n",
      "| train/                |            |\n",
      "|    entropy_loss       | -2.28      |\n",
      "|    explained_variance | -0.1795131 |\n",
      "|    learning_rate      | 0.0007     |\n",
      "|    n_updates          | 4999       |\n",
      "|    policy_loss        | -3.79      |\n",
      "|    value_loss         | 4.93       |\n",
      "--------------------------------------\n",
      "---------------------------------------\n",
      "| rollout/              |             |\n",
      "|    ep_len_mean        | 300         |\n",
      "|    ep_rew_mean        | -62.8       |\n",
      "| time/                 |             |\n",
      "|    fps                | 276         |\n",
      "|    iterations         | 5100        |\n",
      "|    time_elapsed       | 1180        |\n",
      "|    total_timesteps    | 326400      |\n",
      "| train/                |             |\n",
      "|    entropy_loss       | -2.54       |\n",
      "|    explained_variance | -0.10991585 |\n",
      "|    learning_rate      | 0.0007      |\n",
      "|    n_updates          | 5099        |\n",
      "|    policy_loss        | 3.17        |\n",
      "|    value_loss         | 1.95        |\n",
      "---------------------------------------\n",
      "--------------------------------------\n",
      "| rollout/              |            |\n",
      "|    ep_len_mean        | 300        |\n",
      "|    ep_rew_mean        | -62.5      |\n",
      "| time/                 |            |\n",
      "|    fps                | 276        |\n",
      "|    iterations         | 5200       |\n",
      "|    time_elapsed       | 1203       |\n",
      "|    total_timesteps    | 332800     |\n",
      "| train/                |            |\n",
      "|    entropy_loss       | -2.6       |\n",
      "|    explained_variance | 0.69975936 |\n",
      "|    learning_rate      | 0.0007     |\n",
      "|    n_updates          | 5199       |\n",
      "|    policy_loss        | -1.3       |\n",
      "|    value_loss         | 1.13       |\n",
      "--------------------------------------\n",
      "----------------------------------------\n",
      "| rollout/              |              |\n",
      "|    ep_len_mean        | 300          |\n",
      "|    ep_rew_mean        | -62.2        |\n",
      "| time/                 |              |\n",
      "|    fps                | 276          |\n",
      "|    iterations         | 5300         |\n",
      "|    time_elapsed       | 1226         |\n",
      "|    total_timesteps    | 339200       |\n",
      "| train/                |              |\n",
      "|    entropy_loss       | -2.52        |\n",
      "|    explained_variance | -0.059275985 |\n",
      "|    learning_rate      | 0.0007       |\n",
      "|    n_updates          | 5299         |\n",
      "|    policy_loss        | 2.11         |\n",
      "|    value_loss         | 0.889        |\n",
      "----------------------------------------\n",
      "--------------------------------------\n",
      "| rollout/              |            |\n",
      "|    ep_len_mean        | 300        |\n",
      "|    ep_rew_mean        | -61.7      |\n",
      "| time/                 |            |\n",
      "|    fps                | 276        |\n",
      "|    iterations         | 5400       |\n",
      "|    time_elapsed       | 1249       |\n",
      "|    total_timesteps    | 345600     |\n",
      "| train/                |            |\n",
      "|    entropy_loss       | -2.57      |\n",
      "|    explained_variance | -0.3689332 |\n",
      "|    learning_rate      | 0.0007     |\n",
      "|    n_updates          | 5399       |\n",
      "|    policy_loss        | 8.14       |\n",
      "|    value_loss         | 11.3       |\n",
      "--------------------------------------\n",
      "-------------------------------------\n",
      "| rollout/              |           |\n",
      "|    ep_len_mean        | 300       |\n",
      "|    ep_rew_mean        | -59.8     |\n",
      "| time/                 |           |\n",
      "|    fps                | 276       |\n",
      "|    iterations         | 5500      |\n",
      "|    time_elapsed       | 1272      |\n",
      "|    total_timesteps    | 352000    |\n",
      "| train/                |           |\n",
      "|    entropy_loss       | -2.64     |\n",
      "|    explained_variance | 0.9925993 |\n",
      "|    learning_rate      | 0.0007    |\n",
      "|    n_updates          | 5499      |\n",
      "|    policy_loss        | 0.7       |\n",
      "|    value_loss         | 0.145     |\n",
      "-------------------------------------\n",
      "--------------------------------------\n",
      "| rollout/              |            |\n",
      "|    ep_len_mean        | 300        |\n",
      "|    ep_rew_mean        | -59.2      |\n",
      "| time/                 |            |\n",
      "|    fps                | 276        |\n",
      "|    iterations         | 5600       |\n",
      "|    time_elapsed       | 1296       |\n",
      "|    total_timesteps    | 358400     |\n",
      "| train/                |            |\n",
      "|    entropy_loss       | -2.71      |\n",
      "|    explained_variance | 0.09347075 |\n",
      "|    learning_rate      | 0.0007     |\n",
      "|    n_updates          | 5599       |\n",
      "|    policy_loss        | -1.11      |\n",
      "|    value_loss         | 0.621      |\n",
      "--------------------------------------\n",
      "MoviePy - Building video /Users/bapa/Codes/KidsPuzzles/videos/DigitsPuzzle-10-step_f0.5_i0.2/training-episode-1200.mp4.\n",
      "MoviePy - Writing video /Users/bapa/Codes/KidsPuzzles/videos/DigitsPuzzle-10-step_f0.5_i0.2/training-episode-1200.mp4\n",
      "\n"
     ]
    },
    {
     "name": "stderr",
     "output_type": "stream",
     "text": [
      "                                                                          "
     ]
    },
    {
     "name": "stdout",
     "output_type": "stream",
     "text": [
      "MoviePy - Done !\n",
      "MoviePy - video ready /Users/bapa/Codes/KidsPuzzles/videos/DigitsPuzzle-10-step_f0.5_i0.2/training-episode-1200.mp4\n"
     ]
    },
    {
     "name": "stderr",
     "output_type": "stream",
     "text": [
      "\r"
     ]
    },
    {
     "name": "stdout",
     "output_type": "stream",
     "text": [
      "--------------------------------------\n",
      "| rollout/              |            |\n",
      "|    ep_len_mean        | 300        |\n",
      "|    ep_rew_mean        | -58.6      |\n",
      "| time/                 |            |\n",
      "|    fps                | 276        |\n",
      "|    iterations         | 5700       |\n",
      "|    time_elapsed       | 1320       |\n",
      "|    total_timesteps    | 364800     |\n",
      "| train/                |            |\n",
      "|    entropy_loss       | -2.58      |\n",
      "|    explained_variance | -0.7553276 |\n",
      "|    learning_rate      | 0.0007     |\n",
      "|    n_updates          | 5699       |\n",
      "|    policy_loss        | -0.532     |\n",
      "|    value_loss         | 0.204      |\n",
      "--------------------------------------\n",
      "-------------------------------------\n",
      "| rollout/              |           |\n",
      "|    ep_len_mean        | 300       |\n",
      "|    ep_rew_mean        | -57.7     |\n",
      "| time/                 |           |\n",
      "|    fps                | 276       |\n",
      "|    iterations         | 5800      |\n",
      "|    time_elapsed       | 1344      |\n",
      "|    total_timesteps    | 371200    |\n",
      "| train/                |           |\n",
      "|    entropy_loss       | -2.63     |\n",
      "|    explained_variance | 0.8764919 |\n",
      "|    learning_rate      | 0.0007    |\n",
      "|    n_updates          | 5799      |\n",
      "|    policy_loss        | -0.935    |\n",
      "|    value_loss         | 0.786     |\n",
      "-------------------------------------\n",
      "--------------------------------------\n",
      "| rollout/              |            |\n",
      "|    ep_len_mean        | 300        |\n",
      "|    ep_rew_mean        | -57.4      |\n",
      "| time/                 |            |\n",
      "|    fps                | 276        |\n",
      "|    iterations         | 5900       |\n",
      "|    time_elapsed       | 1367       |\n",
      "|    total_timesteps    | 377600     |\n",
      "| train/                |            |\n",
      "|    entropy_loss       | -2.61      |\n",
      "|    explained_variance | -1.0273538 |\n",
      "|    learning_rate      | 0.0007     |\n",
      "|    n_updates          | 5899       |\n",
      "|    policy_loss        | 1.66       |\n",
      "|    value_loss         | 0.565      |\n",
      "--------------------------------------\n",
      "--------------------------------------\n",
      "| rollout/              |            |\n",
      "|    ep_len_mean        | 300        |\n",
      "|    ep_rew_mean        | -56.7      |\n",
      "| time/                 |            |\n",
      "|    fps                | 276        |\n",
      "|    iterations         | 6000       |\n",
      "|    time_elapsed       | 1390       |\n",
      "|    total_timesteps    | 384000     |\n",
      "| train/                |            |\n",
      "|    entropy_loss       | -2.68      |\n",
      "|    explained_variance | 0.14661223 |\n",
      "|    learning_rate      | 0.0007     |\n",
      "|    n_updates          | 5999       |\n",
      "|    policy_loss        | -3.75      |\n",
      "|    value_loss         | 2.04       |\n",
      "--------------------------------------\n",
      "--------------------------------------\n",
      "| rollout/              |            |\n",
      "|    ep_len_mean        | 300        |\n",
      "|    ep_rew_mean        | -54.7      |\n",
      "| time/                 |            |\n",
      "|    fps                | 276        |\n",
      "|    iterations         | 6100       |\n",
      "|    time_elapsed       | 1413       |\n",
      "|    total_timesteps    | 390400     |\n",
      "| train/                |            |\n",
      "|    entropy_loss       | -2.57      |\n",
      "|    explained_variance | 0.30115741 |\n",
      "|    learning_rate      | 0.0007     |\n",
      "|    n_updates          | 6099       |\n",
      "|    policy_loss        | -1.48      |\n",
      "|    value_loss         | 1.62       |\n",
      "--------------------------------------\n",
      "--------------------------------------\n",
      "| rollout/              |            |\n",
      "|    ep_len_mean        | 300        |\n",
      "|    ep_rew_mean        | -53.6      |\n",
      "| time/                 |            |\n",
      "|    fps                | 276        |\n",
      "|    iterations         | 6200       |\n",
      "|    time_elapsed       | 1436       |\n",
      "|    total_timesteps    | 396800     |\n",
      "| train/                |            |\n",
      "|    entropy_loss       | -2.8       |\n",
      "|    explained_variance | 0.37428075 |\n",
      "|    learning_rate      | 0.0007     |\n",
      "|    n_updates          | 6199       |\n",
      "|    policy_loss        | 1.25       |\n",
      "|    value_loss         | 1.52       |\n",
      "--------------------------------------\n",
      "--------------------------------------\n",
      "| rollout/              |            |\n",
      "|    ep_len_mean        | 300        |\n",
      "|    ep_rew_mean        | -51.8      |\n",
      "| time/                 |            |\n",
      "|    fps                | 276        |\n",
      "|    iterations         | 6300       |\n",
      "|    time_elapsed       | 1459       |\n",
      "|    total_timesteps    | 403200     |\n",
      "| train/                |            |\n",
      "|    entropy_loss       | -2.4       |\n",
      "|    explained_variance | 0.18923837 |\n",
      "|    learning_rate      | 0.0007     |\n",
      "|    n_updates          | 6299       |\n",
      "|    policy_loss        | -0.889     |\n",
      "|    value_loss         | 0.266      |\n",
      "--------------------------------------\n",
      "--------------------------------------\n",
      "| rollout/              |            |\n",
      "|    ep_len_mean        | 300        |\n",
      "|    ep_rew_mean        | -50.9      |\n",
      "| time/                 |            |\n",
      "|    fps                | 276        |\n",
      "|    iterations         | 6400       |\n",
      "|    time_elapsed       | 1482       |\n",
      "|    total_timesteps    | 409600     |\n",
      "| train/                |            |\n",
      "|    entropy_loss       | -2.46      |\n",
      "|    explained_variance | 0.82629496 |\n",
      "|    learning_rate      | 0.0007     |\n",
      "|    n_updates          | 6399       |\n",
      "|    policy_loss        | -1.33      |\n",
      "|    value_loss         | 1.16       |\n",
      "--------------------------------------\n",
      "-------------------------------------\n",
      "| rollout/              |           |\n",
      "|    ep_len_mean        | 300       |\n",
      "|    ep_rew_mean        | -50.4     |\n",
      "| time/                 |           |\n",
      "|    fps                | 276       |\n",
      "|    iterations         | 6500      |\n",
      "|    time_elapsed       | 1506      |\n",
      "|    total_timesteps    | 416000    |\n",
      "| train/                |           |\n",
      "|    entropy_loss       | -2.57     |\n",
      "|    explained_variance | -27.57859 |\n",
      "|    learning_rate      | 0.0007    |\n",
      "|    n_updates          | 6499      |\n",
      "|    policy_loss        | 1.52      |\n",
      "|    value_loss         | 0.955     |\n",
      "-------------------------------------\n",
      "MoviePy - Building video /Users/bapa/Codes/KidsPuzzles/videos/DigitsPuzzle-10-step_f0.5_i0.2/training-episode-1400.mp4.\n",
      "MoviePy - Writing video /Users/bapa/Codes/KidsPuzzles/videos/DigitsPuzzle-10-step_f0.5_i0.2/training-episode-1400.mp4\n",
      "\n"
     ]
    },
    {
     "name": "stderr",
     "output_type": "stream",
     "text": [
      "                                                                          "
     ]
    },
    {
     "name": "stdout",
     "output_type": "stream",
     "text": [
      "MoviePy - Done !\n",
      "MoviePy - video ready /Users/bapa/Codes/KidsPuzzles/videos/DigitsPuzzle-10-step_f0.5_i0.2/training-episode-1400.mp4\n"
     ]
    },
    {
     "name": "stderr",
     "output_type": "stream",
     "text": [
      "\r"
     ]
    },
    {
     "name": "stdout",
     "output_type": "stream",
     "text": [
      "--------------------------------------\n",
      "| rollout/              |            |\n",
      "|    ep_len_mean        | 300        |\n",
      "|    ep_rew_mean        | -49.4      |\n",
      "| time/                 |            |\n",
      "|    fps                | 275        |\n",
      "|    iterations         | 6600       |\n",
      "|    time_elapsed       | 1530       |\n",
      "|    total_timesteps    | 422400     |\n",
      "| train/                |            |\n",
      "|    entropy_loss       | -2.56      |\n",
      "|    explained_variance | 0.11503583 |\n",
      "|    learning_rate      | 0.0007     |\n",
      "|    n_updates          | 6599       |\n",
      "|    policy_loss        | 4.33       |\n",
      "|    value_loss         | 3.3        |\n",
      "--------------------------------------\n",
      "-------------------------------------\n",
      "| rollout/              |           |\n",
      "|    ep_len_mean        | 300       |\n",
      "|    ep_rew_mean        | -48.8     |\n",
      "| time/                 |           |\n",
      "|    fps                | 275       |\n",
      "|    iterations         | 6700      |\n",
      "|    time_elapsed       | 1553      |\n",
      "|    total_timesteps    | 428800    |\n",
      "| train/                |           |\n",
      "|    entropy_loss       | -2.57     |\n",
      "|    explained_variance | 0.6214419 |\n",
      "|    learning_rate      | 0.0007    |\n",
      "|    n_updates          | 6699      |\n",
      "|    policy_loss        | -2        |\n",
      "|    value_loss         | 0.926     |\n",
      "-------------------------------------\n",
      "--------------------------------------\n",
      "| rollout/              |            |\n",
      "|    ep_len_mean        | 300        |\n",
      "|    ep_rew_mean        | -49.8      |\n",
      "| time/                 |            |\n",
      "|    fps                | 275        |\n",
      "|    iterations         | 6800       |\n",
      "|    time_elapsed       | 1577       |\n",
      "|    total_timesteps    | 435200     |\n",
      "| train/                |            |\n",
      "|    entropy_loss       | -2.68      |\n",
      "|    explained_variance | 0.33822435 |\n",
      "|    learning_rate      | 0.0007     |\n",
      "|    n_updates          | 6799       |\n",
      "|    policy_loss        | 4.74       |\n",
      "|    value_loss         | 3.36       |\n",
      "--------------------------------------\n",
      "--------------------------------------\n",
      "| rollout/              |            |\n",
      "|    ep_len_mean        | 300        |\n",
      "|    ep_rew_mean        | -49.5      |\n",
      "| time/                 |            |\n",
      "|    fps                | 275        |\n",
      "|    iterations         | 6900       |\n",
      "|    time_elapsed       | 1600       |\n",
      "|    total_timesteps    | 441600     |\n",
      "| train/                |            |\n",
      "|    entropy_loss       | -2.42      |\n",
      "|    explained_variance | -0.2808317 |\n",
      "|    learning_rate      | 0.0007     |\n",
      "|    n_updates          | 6899       |\n",
      "|    policy_loss        | 6.37       |\n",
      "|    value_loss         | 9.64       |\n",
      "--------------------------------------\n",
      "--------------------------------------\n",
      "| rollout/              |            |\n",
      "|    ep_len_mean        | 300        |\n",
      "|    ep_rew_mean        | -48.8      |\n",
      "| time/                 |            |\n",
      "|    fps                | 275        |\n",
      "|    iterations         | 7000       |\n",
      "|    time_elapsed       | 1623       |\n",
      "|    total_timesteps    | 448000     |\n",
      "| train/                |            |\n",
      "|    entropy_loss       | -2.52      |\n",
      "|    explained_variance | 0.67332584 |\n",
      "|    learning_rate      | 0.0007     |\n",
      "|    n_updates          | 6999       |\n",
      "|    policy_loss        | -3.95      |\n",
      "|    value_loss         | 3.61       |\n",
      "--------------------------------------\n",
      "--------------------------------------\n",
      "| rollout/              |            |\n",
      "|    ep_len_mean        | 300        |\n",
      "|    ep_rew_mean        | -49.8      |\n",
      "| time/                 |            |\n",
      "|    fps                | 275        |\n",
      "|    iterations         | 7100       |\n",
      "|    time_elapsed       | 1646       |\n",
      "|    total_timesteps    | 454400     |\n",
      "| train/                |            |\n",
      "|    entropy_loss       | -2.5       |\n",
      "|    explained_variance | -0.2492516 |\n",
      "|    learning_rate      | 0.0007     |\n",
      "|    n_updates          | 7099       |\n",
      "|    policy_loss        | -2.03      |\n",
      "|    value_loss         | 1.26       |\n",
      "--------------------------------------\n",
      "---------------------------------------\n",
      "| rollout/              |             |\n",
      "|    ep_len_mean        | 300         |\n",
      "|    ep_rew_mean        | -68.5       |\n",
      "| time/                 |             |\n",
      "|    fps                | 276         |\n",
      "|    iterations         | 6000        |\n",
      "|    time_elapsed       | 1386        |\n",
      "|    total_timesteps    | 384000      |\n",
      "| train/                |             |\n",
      "|    entropy_loss       | -1.91       |\n",
      "|    explained_variance | -0.12115884 |\n",
      "|    learning_rate      | 0.0007      |\n",
      "|    n_updates          | 5999        |\n",
      "|    policy_loss        | 2.41        |\n",
      "|    value_loss         | 1.77        |\n",
      "---------------------------------------\n",
      "-------------------------------------\n",
      "| rollout/              |           |\n",
      "|    ep_len_mean        | 300       |\n",
      "|    ep_rew_mean        | -48.6     |\n",
      "| time/                 |           |\n",
      "|    fps                | 275       |\n",
      "|    iterations         | 7200      |\n",
      "|    time_elapsed       | 1669      |\n",
      "|    total_timesteps    | 460800    |\n",
      "| train/                |           |\n",
      "|    entropy_loss       | -2.48     |\n",
      "|    explained_variance | 0.4216951 |\n",
      "|    learning_rate      | 0.0007    |\n",
      "|    n_updates          | 7199      |\n",
      "|    policy_loss        | -1.7      |\n",
      "|    value_loss         | 0.512     |\n",
      "-------------------------------------\n",
      "--------------------------------------\n",
      "| rollout/              |            |\n",
      "|    ep_len_mean        | 300        |\n",
      "|    ep_rew_mean        | -70.9      |\n",
      "| time/                 |            |\n",
      "|    fps                | 276        |\n",
      "|    iterations         | 6200       |\n",
      "|    time_elapsed       | 1432       |\n",
      "|    total_timesteps    | 396800     |\n",
      "| train/                |            |\n",
      "|    entropy_loss       | -2.24      |\n",
      "|    explained_variance | 0.49585658 |\n",
      "|    learning_rate      | 0.0007     |\n",
      "|    n_updates          | 6199       |\n",
      "|    policy_loss        | -0.553     |\n",
      "|    value_loss         | 0.112      |\n",
      "--------------------------------------\n",
      "--------------------------------------\n",
      "| rollout/              |            |\n",
      "|    ep_len_mean        | 300        |\n",
      "|    ep_rew_mean        | -70.8      |\n",
      "| time/                 |            |\n",
      "|    fps                | 276        |\n",
      "|    iterations         | 6300       |\n",
      "|    time_elapsed       | 1455       |\n",
      "|    total_timesteps    | 403200     |\n",
      "| train/                |            |\n",
      "|    entropy_loss       | -2.23      |\n",
      "|    explained_variance | -0.3665775 |\n",
      "|    learning_rate      | 0.0007     |\n",
      "|    n_updates          | 6299       |\n",
      "|    policy_loss        | 1.32       |\n",
      "|    value_loss         | 0.624      |\n",
      "--------------------------------------\n",
      "-------------------------------------\n",
      "| rollout/              |           |\n",
      "|    ep_len_mean        | 300       |\n",
      "|    ep_rew_mean        | -48.9     |\n",
      "| time/                 |           |\n",
      "|    fps                | 275       |\n",
      "|    iterations         | 7300      |\n",
      "|    time_elapsed       | 1692      |\n",
      "|    total_timesteps    | 467200    |\n",
      "| train/                |           |\n",
      "|    entropy_loss       | -2.39     |\n",
      "|    explained_variance | 0.9703596 |\n",
      "|    learning_rate      | 0.0007    |\n",
      "|    n_updates          | 7299      |\n",
      "|    policy_loss        | -0.0584   |\n",
      "|    value_loss         | 0.0972    |\n",
      "-------------------------------------\n",
      "--------------------------------------\n",
      "| rollout/              |            |\n",
      "|    ep_len_mean        | 300        |\n",
      "|    ep_rew_mean        | -48        |\n",
      "| time/                 |            |\n",
      "|    fps                | 275        |\n",
      "|    iterations         | 7400       |\n",
      "|    time_elapsed       | 1716       |\n",
      "|    total_timesteps    | 473600     |\n",
      "| train/                |            |\n",
      "|    entropy_loss       | -2.49      |\n",
      "|    explained_variance | -2.0205884 |\n",
      "|    learning_rate      | 0.0007     |\n",
      "|    n_updates          | 7399       |\n",
      "|    policy_loss        | -1.07      |\n",
      "|    value_loss         | 0.216      |\n",
      "--------------------------------------\n",
      "--------------------------------------\n",
      "| rollout/              |            |\n",
      "|    ep_len_mean        | 300        |\n",
      "|    ep_rew_mean        | -48.1      |\n",
      "| time/                 |            |\n",
      "|    fps                | 275        |\n",
      "|    iterations         | 7500       |\n",
      "|    time_elapsed       | 1739       |\n",
      "|    total_timesteps    | 480000     |\n",
      "| train/                |            |\n",
      "|    entropy_loss       | -2.53      |\n",
      "|    explained_variance | -3.2286048 |\n",
      "|    learning_rate      | 0.0007     |\n",
      "|    n_updates          | 7499       |\n",
      "|    policy_loss        | 1.61       |\n",
      "|    value_loss         | 0.527      |\n",
      "--------------------------------------\n",
      "MoviePy - Building video /Users/bapa/Codes/KidsPuzzles/videos/DigitsPuzzle-10-step_f0.5_i0.2/training-episode-1600.mp4.\n",
      "MoviePy - Writing video /Users/bapa/Codes/KidsPuzzles/videos/DigitsPuzzle-10-step_f0.5_i0.2/training-episode-1600.mp4\n",
      "\n"
     ]
    },
    {
     "name": "stderr",
     "output_type": "stream",
     "text": [
      "                                                                          \r"
     ]
    },
    {
     "name": "stdout",
     "output_type": "stream",
     "text": [
      "MoviePy - Done !\n",
      "MoviePy - video ready /Users/bapa/Codes/KidsPuzzles/videos/DigitsPuzzle-10-step_f0.5_i0.2/training-episode-1600.mp4\n"
     ]
    },
    {
     "name": "stderr",
     "output_type": "stream",
     "text": [
      "\r"
     ]
    },
    {
     "name": "stdout",
     "output_type": "stream",
     "text": [
      "--------------------------------------\n",
      "| rollout/              |            |\n",
      "|    ep_len_mean        | 300        |\n",
      "|    ep_rew_mean        | -48.1      |\n",
      "| time/                 |            |\n",
      "|    fps                | 275        |\n",
      "|    iterations         | 7600       |\n",
      "|    time_elapsed       | 1763       |\n",
      "|    total_timesteps    | 486400     |\n",
      "| train/                |            |\n",
      "|    entropy_loss       | -2.4       |\n",
      "|    explained_variance | 0.74482787 |\n",
      "|    learning_rate      | 0.0007     |\n",
      "|    n_updates          | 7599       |\n",
      "|    policy_loss        | 1.32       |\n",
      "|    value_loss         | 0.624      |\n",
      "--------------------------------------\n",
      "--------------------------------------\n",
      "| rollout/              |            |\n",
      "|    ep_len_mean        | 300        |\n",
      "|    ep_rew_mean        | -47.8      |\n",
      "| time/                 |            |\n",
      "|    fps                | 275        |\n",
      "|    iterations         | 7700       |\n",
      "|    time_elapsed       | 1787       |\n",
      "|    total_timesteps    | 492800     |\n",
      "| train/                |            |\n",
      "|    entropy_loss       | -2.59      |\n",
      "|    explained_variance | -2.0761135 |\n",
      "|    learning_rate      | 0.0007     |\n",
      "|    n_updates          | 7699       |\n",
      "|    policy_loss        | 4.72       |\n",
      "|    value_loss         | 4.67       |\n",
      "--------------------------------------\n",
      "--------------------------------------\n",
      "| rollout/              |            |\n",
      "|    ep_len_mean        | 300        |\n",
      "|    ep_rew_mean        | -46.8      |\n",
      "| time/                 |            |\n",
      "|    fps                | 275        |\n",
      "|    iterations         | 7800       |\n",
      "|    time_elapsed       | 1810       |\n",
      "|    total_timesteps    | 499200     |\n",
      "| train/                |            |\n",
      "|    entropy_loss       | -2.59      |\n",
      "|    explained_variance | 0.05125624 |\n",
      "|    learning_rate      | 0.0007     |\n",
      "|    n_updates          | 7799       |\n",
      "|    policy_loss        | 2.09       |\n",
      "|    value_loss         | 1.11       |\n",
      "--------------------------------------\n",
      "-------------------------------------\n",
      "| rollout/              |           |\n",
      "|    ep_len_mean        | 300       |\n",
      "|    ep_rew_mean        | -46.7     |\n",
      "| time/                 |           |\n",
      "|    fps                | 275       |\n",
      "|    iterations         | 7900      |\n",
      "|    time_elapsed       | 1833      |\n",
      "|    total_timesteps    | 505600    |\n",
      "| train/                |           |\n",
      "|    entropy_loss       | -2.39     |\n",
      "|    explained_variance | 0.8984497 |\n",
      "|    learning_rate      | 0.0007    |\n",
      "|    n_updates          | 7899      |\n",
      "|    policy_loss        | 0.108     |\n",
      "|    value_loss         | 0.127     |\n",
      "-------------------------------------\n",
      "--------------------------------------\n",
      "| rollout/              |            |\n",
      "|    ep_len_mean        | 300        |\n",
      "|    ep_rew_mean        | -45.6      |\n",
      "| time/                 |            |\n",
      "|    fps                | 275        |\n",
      "|    iterations         | 8000       |\n",
      "|    time_elapsed       | 1856       |\n",
      "|    total_timesteps    | 512000     |\n",
      "| train/                |            |\n",
      "|    entropy_loss       | -2.57      |\n",
      "|    explained_variance | -2.1256158 |\n",
      "|    learning_rate      | 0.0007     |\n",
      "|    n_updates          | 7999       |\n",
      "|    policy_loss        | 0.017      |\n",
      "|    value_loss         | 0.147      |\n",
      "--------------------------------------\n",
      "-------------------------------------\n",
      "| rollout/              |           |\n",
      "|    ep_len_mean        | 300       |\n",
      "|    ep_rew_mean        | -44.2     |\n",
      "| time/                 |           |\n",
      "|    fps                | 275       |\n",
      "|    iterations         | 8100      |\n",
      "|    time_elapsed       | 1879      |\n",
      "|    total_timesteps    | 518400    |\n",
      "| train/                |           |\n",
      "|    entropy_loss       | -2.59     |\n",
      "|    explained_variance | 0.2431761 |\n",
      "|    learning_rate      | 0.0007    |\n",
      "|    n_updates          | 8099      |\n",
      "|    policy_loss        | 0.771     |\n",
      "|    value_loss         | 0.476     |\n",
      "-------------------------------------\n",
      "-------------------------------------\n",
      "| rollout/              |           |\n",
      "|    ep_len_mean        | 300       |\n",
      "|    ep_rew_mean        | -45       |\n",
      "| time/                 |           |\n",
      "|    fps                | 275       |\n",
      "|    iterations         | 8200      |\n",
      "|    time_elapsed       | 1902      |\n",
      "|    total_timesteps    | 524800    |\n",
      "| train/                |           |\n",
      "|    entropy_loss       | -2.56     |\n",
      "|    explained_variance | 0.8306775 |\n",
      "|    learning_rate      | 0.0007    |\n",
      "|    n_updates          | 8199      |\n",
      "|    policy_loss        | 0.407     |\n",
      "|    value_loss         | 0.502     |\n",
      "-------------------------------------\n",
      "---------------------------------------\n",
      "| rollout/              |             |\n",
      "|    ep_len_mean        | 300         |\n",
      "|    ep_rew_mean        | -44         |\n",
      "| time/                 |             |\n",
      "|    fps                | 275         |\n",
      "|    iterations         | 8300        |\n",
      "|    time_elapsed       | 1925        |\n",
      "|    total_timesteps    | 531200      |\n",
      "| train/                |             |\n",
      "|    entropy_loss       | -2.43       |\n",
      "|    explained_variance | -0.16408706 |\n",
      "|    learning_rate      | 0.0007      |\n",
      "|    n_updates          | 8299        |\n",
      "|    policy_loss        | -0.916      |\n",
      "|    value_loss         | 0.326       |\n",
      "---------------------------------------\n",
      "-------------------------------------\n",
      "| rollout/              |           |\n",
      "|    ep_len_mean        | 300       |\n",
      "|    ep_rew_mean        | -43.1     |\n",
      "| time/                 |           |\n",
      "|    fps                | 275       |\n",
      "|    iterations         | 8400      |\n",
      "|    time_elapsed       | 1949      |\n",
      "|    total_timesteps    | 537600    |\n",
      "| train/                |           |\n",
      "|    entropy_loss       | -2.31     |\n",
      "|    explained_variance | 0.3449834 |\n",
      "|    learning_rate      | 0.0007    |\n",
      "|    n_updates          | 8399      |\n",
      "|    policy_loss        | 2.48      |\n",
      "|    value_loss         | 1.51      |\n",
      "-------------------------------------\n",
      "MoviePy - Building video /Users/bapa/Codes/KidsPuzzles/videos/DigitsPuzzle-10-step_f0.5_i0.2/training-episode-1800.mp4.\n",
      "MoviePy - Writing video /Users/bapa/Codes/KidsPuzzles/videos/DigitsPuzzle-10-step_f0.5_i0.2/training-episode-1800.mp4\n",
      "\n"
     ]
    },
    {
     "name": "stderr",
     "output_type": "stream",
     "text": [
      "                                                                          "
     ]
    },
    {
     "name": "stdout",
     "output_type": "stream",
     "text": [
      "MoviePy - Done !\n",
      "MoviePy - video ready /Users/bapa/Codes/KidsPuzzles/videos/DigitsPuzzle-10-step_f0.5_i0.2/training-episode-1800.mp4\n"
     ]
    },
    {
     "name": "stderr",
     "output_type": "stream",
     "text": [
      "\r"
     ]
    },
    {
     "name": "stdout",
     "output_type": "stream",
     "text": [
      "--------------------------------------\n",
      "| rollout/              |            |\n",
      "|    ep_len_mean        | 300        |\n",
      "|    ep_rew_mean        | -41.9      |\n",
      "| time/                 |            |\n",
      "|    fps                | 275        |\n",
      "|    iterations         | 8500       |\n",
      "|    time_elapsed       | 1973       |\n",
      "|    total_timesteps    | 544000     |\n",
      "| train/                |            |\n",
      "|    entropy_loss       | -2.57      |\n",
      "|    explained_variance | 0.89887184 |\n",
      "|    learning_rate      | 0.0007     |\n",
      "|    n_updates          | 8499       |\n",
      "|    policy_loss        | -2.26      |\n",
      "|    value_loss         | 1.11       |\n",
      "--------------------------------------\n",
      "--------------------------------------\n",
      "| rollout/              |            |\n",
      "|    ep_len_mean        | 300        |\n",
      "|    ep_rew_mean        | -40.6      |\n",
      "| time/                 |            |\n",
      "|    fps                | 275        |\n",
      "|    iterations         | 8600       |\n",
      "|    time_elapsed       | 1996       |\n",
      "|    total_timesteps    | 550400     |\n",
      "| train/                |            |\n",
      "|    entropy_loss       | -2.38      |\n",
      "|    explained_variance | -9.6400795 |\n",
      "|    learning_rate      | 0.0007     |\n",
      "|    n_updates          | 8599       |\n",
      "|    policy_loss        | 0.893      |\n",
      "|    value_loss         | 0.401      |\n",
      "--------------------------------------\n",
      "--------------------------------------\n",
      "| rollout/              |            |\n",
      "|    ep_len_mean        | 300        |\n",
      "|    ep_rew_mean        | -37.5      |\n",
      "| time/                 |            |\n",
      "|    fps                | 275        |\n",
      "|    iterations         | 8700       |\n",
      "|    time_elapsed       | 2019       |\n",
      "|    total_timesteps    | 556800     |\n",
      "| train/                |            |\n",
      "|    entropy_loss       | -2.44      |\n",
      "|    explained_variance | 0.11190522 |\n",
      "|    learning_rate      | 0.0007     |\n",
      "|    n_updates          | 8699       |\n",
      "|    policy_loss        | -3.6       |\n",
      "|    value_loss         | 3.28       |\n",
      "--------------------------------------\n",
      "-------------------------------------\n",
      "| rollout/              |           |\n",
      "|    ep_len_mean        | 300       |\n",
      "|    ep_rew_mean        | -36.7     |\n",
      "| time/                 |           |\n",
      "|    fps                | 275       |\n",
      "|    iterations         | 8800      |\n",
      "|    time_elapsed       | 2042      |\n",
      "|    total_timesteps    | 563200    |\n",
      "| train/                |           |\n",
      "|    entropy_loss       | -2.3      |\n",
      "|    explained_variance | 0.9334907 |\n",
      "|    learning_rate      | 0.0007    |\n",
      "|    n_updates          | 8799      |\n",
      "|    policy_loss        | 0.43      |\n",
      "|    value_loss         | 0.234     |\n",
      "-------------------------------------\n",
      "---------------------------------------\n",
      "| rollout/              |             |\n",
      "|    ep_len_mean        | 300         |\n",
      "|    ep_rew_mean        | -35.6       |\n",
      "| time/                 |             |\n",
      "|    fps                | 275         |\n",
      "|    iterations         | 8900        |\n",
      "|    time_elapsed       | 2065        |\n",
      "|    total_timesteps    | 569600      |\n",
      "| train/                |             |\n",
      "|    entropy_loss       | -2.61       |\n",
      "|    explained_variance | -0.24737298 |\n",
      "|    learning_rate      | 0.0007      |\n",
      "|    n_updates          | 8899        |\n",
      "|    policy_loss        | 1.36        |\n",
      "|    value_loss         | 0.459       |\n",
      "---------------------------------------\n",
      "--------------------------------------\n",
      "| rollout/              |            |\n",
      "|    ep_len_mean        | 300        |\n",
      "|    ep_rew_mean        | -36.7      |\n",
      "| time/                 |            |\n",
      "|    fps                | 275        |\n",
      "|    iterations         | 9000       |\n",
      "|    time_elapsed       | 2088       |\n",
      "|    total_timesteps    | 576000     |\n",
      "| train/                |            |\n",
      "|    entropy_loss       | -2.23      |\n",
      "|    explained_variance | -0.5803927 |\n",
      "|    learning_rate      | 0.0007     |\n",
      "|    n_updates          | 8999       |\n",
      "|    policy_loss        | 2.03       |\n",
      "|    value_loss         | 1.16       |\n",
      "--------------------------------------\n",
      "--------------------------------------\n",
      "| rollout/              |            |\n",
      "|    ep_len_mean        | 300        |\n",
      "|    ep_rew_mean        | -39.8      |\n",
      "| time/                 |            |\n",
      "|    fps                | 275        |\n",
      "|    iterations         | 9100       |\n",
      "|    time_elapsed       | 2112       |\n",
      "|    total_timesteps    | 582400     |\n",
      "| train/                |            |\n",
      "|    entropy_loss       | -2.38      |\n",
      "|    explained_variance | 0.87838954 |\n",
      "|    learning_rate      | 0.0007     |\n",
      "|    n_updates          | 9099       |\n",
      "|    policy_loss        | -0.215     |\n",
      "|    value_loss         | 0.431      |\n",
      "--------------------------------------\n",
      "----------------------------------------\n",
      "| rollout/              |              |\n",
      "|    ep_len_mean        | 300          |\n",
      "|    ep_rew_mean        | -41.4        |\n",
      "| time/                 |              |\n",
      "|    fps                | 275          |\n",
      "|    iterations         | 9200         |\n",
      "|    time_elapsed       | 2135         |\n",
      "|    total_timesteps    | 588800       |\n",
      "| train/                |              |\n",
      "|    entropy_loss       | -2.43        |\n",
      "|    explained_variance | -0.022531986 |\n",
      "|    learning_rate      | 0.0007       |\n",
      "|    n_updates          | 9199         |\n",
      "|    policy_loss        | 1.06         |\n",
      "|    value_loss         | 0.286        |\n",
      "----------------------------------------\n",
      "---------------------------------------\n",
      "| rollout/              |             |\n",
      "|    ep_len_mean        | 300         |\n",
      "|    ep_rew_mean        | -42.2       |\n",
      "| time/                 |             |\n",
      "|    fps                | 275         |\n",
      "|    iterations         | 9300        |\n",
      "|    time_elapsed       | 2158        |\n",
      "|    total_timesteps    | 595200      |\n",
      "| train/                |             |\n",
      "|    entropy_loss       | -2.08       |\n",
      "|    explained_variance | -0.43191004 |\n",
      "|    learning_rate      | 0.0007      |\n",
      "|    n_updates          | 9299        |\n",
      "|    policy_loss        | 0.651       |\n",
      "|    value_loss         | 0.176       |\n",
      "---------------------------------------\n",
      "MoviePy - Building video /Users/bapa/Codes/KidsPuzzles/videos/DigitsPuzzle-10-step_f0.5_i0.2/training-episode-2000.mp4.\n",
      "MoviePy - Writing video /Users/bapa/Codes/KidsPuzzles/videos/DigitsPuzzle-10-step_f0.5_i0.2/training-episode-2000.mp4\n",
      "\n"
     ]
    },
    {
     "name": "stderr",
     "output_type": "stream",
     "text": [
      "                                                                          "
     ]
    },
    {
     "name": "stdout",
     "output_type": "stream",
     "text": [
      "MoviePy - Done !\n",
      "MoviePy - video ready /Users/bapa/Codes/KidsPuzzles/videos/DigitsPuzzle-10-step_f0.5_i0.2/training-episode-2000.mp4\n"
     ]
    },
    {
     "name": "stderr",
     "output_type": "stream",
     "text": [
      "\r"
     ]
    },
    {
     "name": "stdout",
     "output_type": "stream",
     "text": [
      "--------------------------------------\n",
      "| rollout/              |            |\n",
      "|    ep_len_mean        | 300        |\n",
      "|    ep_rew_mean        | -43.1      |\n",
      "| time/                 |            |\n",
      "|    fps                | 275        |\n",
      "|    iterations         | 9400       |\n",
      "|    time_elapsed       | 2183       |\n",
      "|    total_timesteps    | 601600     |\n",
      "| train/                |            |\n",
      "|    entropy_loss       | -2.28      |\n",
      "|    explained_variance | 0.91985476 |\n",
      "|    learning_rate      | 0.000231   |\n",
      "|    n_updates          | 9399       |\n",
      "|    policy_loss        | 1.85       |\n",
      "|    value_loss         | 0.933      |\n",
      "--------------------------------------\n",
      "---------------------------------------\n",
      "| rollout/              |             |\n",
      "|    ep_len_mean        | 300         |\n",
      "|    ep_rew_mean        | -53.5       |\n",
      "| time/                 |             |\n",
      "|    fps                | 276         |\n",
      "|    iterations         | 8700        |\n",
      "|    time_elapsed       | 2012        |\n",
      "|    total_timesteps    | 556800      |\n",
      "| train/                |             |\n",
      "|    entropy_loss       | -2.53       |\n",
      "|    explained_variance | 0.119600475 |\n",
      "|    learning_rate      | 0.0007      |\n",
      "|    n_updates          | 8699        |\n",
      "|    policy_loss        | -4.04       |\n",
      "|    value_loss         | 3.08        |\n",
      "---------------------------------------\n",
      "-------------------------------------\n",
      "| rollout/              |           |\n",
      "|    ep_len_mean        | 300       |\n",
      "|    ep_rew_mean        | -52.3     |\n",
      "| time/                 |           |\n",
      "|    fps                | 276       |\n",
      "|    iterations         | 8800      |\n",
      "|    time_elapsed       | 2035      |\n",
      "|    total_timesteps    | 563200    |\n",
      "| train/                |           |\n",
      "|    entropy_loss       | -2.54     |\n",
      "|    explained_variance | 0.6939995 |\n",
      "|    learning_rate      | 0.0007    |\n",
      "|    n_updates          | 8799      |\n",
      "|    policy_loss        | -0.392    |\n",
      "|    value_loss         | 0.231     |\n",
      "-------------------------------------\n",
      "--------------------------------------\n",
      "| rollout/              |            |\n",
      "|    ep_len_mean        | 300        |\n",
      "|    ep_rew_mean        | -42.3      |\n",
      "| time/                 |            |\n",
      "|    fps                | 275        |\n",
      "|    iterations         | 9500       |\n",
      "|    time_elapsed       | 2205       |\n",
      "|    total_timesteps    | 608000     |\n",
      "| train/                |            |\n",
      "|    entropy_loss       | -2.35      |\n",
      "|    explained_variance | -0.3173113 |\n",
      "|    learning_rate      | 0.000231   |\n",
      "|    n_updates          | 9499       |\n",
      "|    policy_loss        | 1.65       |\n",
      "|    value_loss         | 0.645      |\n",
      "--------------------------------------\n",
      "---------------------------------------\n",
      "| rollout/              |             |\n",
      "|    ep_len_mean        | 300         |\n",
      "|    ep_rew_mean        | -40.4       |\n",
      "| time/                 |             |\n",
      "|    fps                | 275         |\n",
      "|    iterations         | 9600        |\n",
      "|    time_elapsed       | 2228        |\n",
      "|    total_timesteps    | 614400      |\n",
      "| train/                |             |\n",
      "|    entropy_loss       | -2.29       |\n",
      "|    explained_variance | -0.13314426 |\n",
      "|    learning_rate      | 0.000231    |\n",
      "|    n_updates          | 9599        |\n",
      "|    policy_loss        | -3.03       |\n",
      "|    value_loss         | 1.53        |\n",
      "---------------------------------------\n",
      "-------------------------------------\n",
      "| rollout/              |           |\n",
      "|    ep_len_mean        | 300       |\n",
      "|    ep_rew_mean        | -37.4     |\n",
      "| time/                 |           |\n",
      "|    fps                | 275       |\n",
      "|    iterations         | 9700      |\n",
      "|    time_elapsed       | 2251      |\n",
      "|    total_timesteps    | 620800    |\n",
      "| train/                |           |\n",
      "|    entropy_loss       | -2.42     |\n",
      "|    explained_variance | 0.8583232 |\n",
      "|    learning_rate      | 0.000231  |\n",
      "|    n_updates          | 9699      |\n",
      "|    policy_loss        | -2        |\n",
      "|    value_loss         | 0.913     |\n",
      "-------------------------------------\n",
      "---------------------------------------\n",
      "| rollout/              |             |\n",
      "|    ep_len_mean        | 300         |\n",
      "|    ep_rew_mean        | -35.3       |\n",
      "| time/                 |             |\n",
      "|    fps                | 275         |\n",
      "|    iterations         | 9800        |\n",
      "|    time_elapsed       | 2274        |\n",
      "|    total_timesteps    | 627200      |\n",
      "| train/                |             |\n",
      "|    entropy_loss       | -2.52       |\n",
      "|    explained_variance | -0.14023829 |\n",
      "|    learning_rate      | 0.000231    |\n",
      "|    n_updates          | 9799        |\n",
      "|    policy_loss        | 1.38        |\n",
      "|    value_loss         | 0.424       |\n",
      "---------------------------------------\n",
      "---------------------------------------\n",
      "| rollout/              |             |\n",
      "|    ep_len_mean        | 300         |\n",
      "|    ep_rew_mean        | -31.3       |\n",
      "| time/                 |             |\n",
      "|    fps                | 275         |\n",
      "|    iterations         | 9900        |\n",
      "|    time_elapsed       | 2298        |\n",
      "|    total_timesteps    | 633600      |\n",
      "| train/                |             |\n",
      "|    entropy_loss       | -2.18       |\n",
      "|    explained_variance | 0.026314437 |\n",
      "|    learning_rate      | 0.000231    |\n",
      "|    n_updates          | 9899        |\n",
      "|    policy_loss        | -3.82       |\n",
      "|    value_loss         | 2.82        |\n",
      "---------------------------------------\n",
      "---------------------------------------\n",
      "| rollout/              |             |\n",
      "|    ep_len_mean        | 300         |\n",
      "|    ep_rew_mean        | -29.4       |\n",
      "| time/                 |             |\n",
      "|    fps                | 275         |\n",
      "|    iterations         | 10000       |\n",
      "|    time_elapsed       | 2321        |\n",
      "|    total_timesteps    | 640000      |\n",
      "| train/                |             |\n",
      "|    entropy_loss       | -2.4        |\n",
      "|    explained_variance | -0.26851642 |\n",
      "|    learning_rate      | 0.000231    |\n",
      "|    n_updates          | 9999        |\n",
      "|    policy_loss        | 1.86        |\n",
      "|    value_loss         | 4.51        |\n",
      "---------------------------------------\n",
      "----------------------------------------\n",
      "| rollout/              |              |\n",
      "|    ep_len_mean        | 300          |\n",
      "|    ep_rew_mean        | -27.9        |\n",
      "| time/                 |              |\n",
      "|    fps                | 275          |\n",
      "|    iterations         | 10100        |\n",
      "|    time_elapsed       | 2344         |\n",
      "|    total_timesteps    | 646400       |\n",
      "| train/                |              |\n",
      "|    entropy_loss       | -2.48        |\n",
      "|    explained_variance | -0.057626247 |\n",
      "|    learning_rate      | 0.000231     |\n",
      "|    n_updates          | 10099        |\n",
      "|    policy_loss        | 3.3          |\n",
      "|    value_loss         | 2.15         |\n",
      "----------------------------------------\n",
      "----------------------------------------\n",
      "| rollout/              |              |\n",
      "|    ep_len_mean        | 300          |\n",
      "|    ep_rew_mean        | -27.4        |\n",
      "| time/                 |              |\n",
      "|    fps                | 275          |\n",
      "|    iterations         | 10200        |\n",
      "|    time_elapsed       | 2367         |\n",
      "|    total_timesteps    | 652800       |\n",
      "| train/                |              |\n",
      "|    entropy_loss       | -2.24        |\n",
      "|    explained_variance | -0.048221946 |\n",
      "|    learning_rate      | 0.000231     |\n",
      "|    n_updates          | 10199        |\n",
      "|    policy_loss        | 1.68         |\n",
      "|    value_loss         | 1.12         |\n",
      "----------------------------------------\n",
      "--------------------------------------\n",
      "| rollout/              |            |\n",
      "|    ep_len_mean        | 300        |\n",
      "|    ep_rew_mean        | -26.9      |\n",
      "| time/                 |            |\n",
      "|    fps                | 275        |\n",
      "|    iterations         | 10300      |\n",
      "|    time_elapsed       | 2390       |\n",
      "|    total_timesteps    | 659200     |\n",
      "| train/                |            |\n",
      "|    entropy_loss       | -2.29      |\n",
      "|    explained_variance | 0.86475635 |\n",
      "|    learning_rate      | 0.000231   |\n",
      "|    n_updates          | 10299      |\n",
      "|    policy_loss        | 1.57       |\n",
      "|    value_loss         | 1.53       |\n",
      "--------------------------------------\n",
      "MoviePy - Building video /Users/bapa/Codes/KidsPuzzles/videos/DigitsPuzzle-10-step_f0.5_i0.2/training-episode-2200.mp4.\n",
      "MoviePy - Writing video /Users/bapa/Codes/KidsPuzzles/videos/DigitsPuzzle-10-step_f0.5_i0.2/training-episode-2200.mp4\n",
      "\n"
     ]
    },
    {
     "name": "stderr",
     "output_type": "stream",
     "text": [
      "                                                                          "
     ]
    },
    {
     "name": "stdout",
     "output_type": "stream",
     "text": [
      "MoviePy - Done !\n",
      "MoviePy - video ready /Users/bapa/Codes/KidsPuzzles/videos/DigitsPuzzle-10-step_f0.5_i0.2/training-episode-2200.mp4\n"
     ]
    },
    {
     "name": "stderr",
     "output_type": "stream",
     "text": [
      "\r"
     ]
    },
    {
     "name": "stdout",
     "output_type": "stream",
     "text": [
      "-------------------------------------\n",
      "| rollout/              |           |\n",
      "|    ep_len_mean        | 300       |\n",
      "|    ep_rew_mean        | -44.6     |\n",
      "| time/                 |           |\n",
      "|    fps                | 276       |\n",
      "|    iterations         | 9400      |\n",
      "|    time_elapsed       | 2175      |\n",
      "|    total_timesteps    | 601600    |\n",
      "| train/                |           |\n",
      "|    entropy_loss       | -2.35     |\n",
      "|    explained_variance | 0.9310123 |\n",
      "|    learning_rate      | 0.0007    |\n",
      "|    n_updates          | 9399      |\n",
      "|    policy_loss        | -0.373    |\n",
      "|    value_loss         | 0.332     |\n",
      "-------------------------------------\n",
      "--------------------------------------\n",
      "| rollout/              |            |\n",
      "|    ep_len_mean        | 300        |\n",
      "|    ep_rew_mean        | -27.2      |\n",
      "| time/                 |            |\n",
      "|    fps                | 275        |\n",
      "|    iterations         | 10400      |\n",
      "|    time_elapsed       | 2415       |\n",
      "|    total_timesteps    | 665600     |\n",
      "| train/                |            |\n",
      "|    entropy_loss       | -2.63      |\n",
      "|    explained_variance | -0.4708569 |\n",
      "|    learning_rate      | 0.000231   |\n",
      "|    n_updates          | 10399      |\n",
      "|    policy_loss        | -1.86      |\n",
      "|    value_loss         | 0.535      |\n",
      "--------------------------------------\n",
      "---------------------------------------\n",
      "| rollout/              |             |\n",
      "|    ep_len_mean        | 300         |\n",
      "|    ep_rew_mean        | -26.1       |\n",
      "| time/                 |             |\n",
      "|    fps                | 275         |\n",
      "|    iterations         | 10500       |\n",
      "|    time_elapsed       | 2438        |\n",
      "|    total_timesteps    | 672000      |\n",
      "| train/                |             |\n",
      "|    entropy_loss       | -2.35       |\n",
      "|    explained_variance | -0.36538768 |\n",
      "|    learning_rate      | 0.000231    |\n",
      "|    n_updates          | 10499       |\n",
      "|    policy_loss        | -1.39       |\n",
      "|    value_loss         | 0.423       |\n",
      "---------------------------------------\n",
      "--------------------------------------\n",
      "| rollout/              |            |\n",
      "|    ep_len_mean        | 300        |\n",
      "|    ep_rew_mean        | -24.9      |\n",
      "| time/                 |            |\n",
      "|    fps                | 275        |\n",
      "|    iterations         | 10600      |\n",
      "|    time_elapsed       | 2462       |\n",
      "|    total_timesteps    | 678400     |\n",
      "| train/                |            |\n",
      "|    entropy_loss       | -2.35      |\n",
      "|    explained_variance | 0.66530347 |\n",
      "|    learning_rate      | 0.000231   |\n",
      "|    n_updates          | 10599      |\n",
      "|    policy_loss        | 1.44       |\n",
      "|    value_loss         | 2.14       |\n",
      "--------------------------------------\n",
      "---------------------------------------\n",
      "| rollout/              |             |\n",
      "|    ep_len_mean        | 298         |\n",
      "|    ep_rew_mean        | -23.5       |\n",
      "| time/                 |             |\n",
      "|    fps                | 275         |\n",
      "|    iterations         | 10700       |\n",
      "|    time_elapsed       | 2485        |\n",
      "|    total_timesteps    | 684800      |\n",
      "| train/                |             |\n",
      "|    entropy_loss       | -1.9        |\n",
      "|    explained_variance | 0.034643233 |\n",
      "|    learning_rate      | 0.000231    |\n",
      "|    n_updates          | 10699       |\n",
      "|    policy_loss        | 2.96        |\n",
      "|    value_loss         | 3.81        |\n",
      "---------------------------------------\n",
      "--------------------------------------\n",
      "| rollout/              |            |\n",
      "|    ep_len_mean        | 298        |\n",
      "|    ep_rew_mean        | -21.6      |\n",
      "| time/                 |            |\n",
      "|    fps                | 275        |\n",
      "|    iterations         | 10800      |\n",
      "|    time_elapsed       | 2508       |\n",
      "|    total_timesteps    | 691200     |\n",
      "| train/                |            |\n",
      "|    entropy_loss       | -2.83      |\n",
      "|    explained_variance | 0.39728677 |\n",
      "|    learning_rate      | 0.000231   |\n",
      "|    n_updates          | 10799      |\n",
      "|    policy_loss        | -2.89      |\n",
      "|    value_loss         | 1.41       |\n",
      "--------------------------------------\n",
      "---------------------------------------\n",
      "| rollout/              |             |\n",
      "|    ep_len_mean        | 298         |\n",
      "|    ep_rew_mean        | -20.5       |\n",
      "| time/                 |             |\n",
      "|    fps                | 275         |\n",
      "|    iterations         | 10900       |\n",
      "|    time_elapsed       | 2531        |\n",
      "|    total_timesteps    | 697600      |\n",
      "| train/                |             |\n",
      "|    entropy_loss       | -2.64       |\n",
      "|    explained_variance | 0.015342951 |\n",
      "|    learning_rate      | 0.000231    |\n",
      "|    n_updates          | 10899       |\n",
      "|    policy_loss        | 1.28        |\n",
      "|    value_loss         | 0.4         |\n",
      "---------------------------------------\n",
      "---------------------------------------\n",
      "| rollout/              |             |\n",
      "|    ep_len_mean        | 298         |\n",
      "|    ep_rew_mean        | -20.5       |\n",
      "| time/                 |             |\n",
      "|    fps                | 275         |\n",
      "|    iterations         | 11000       |\n",
      "|    time_elapsed       | 2554        |\n",
      "|    total_timesteps    | 704000      |\n",
      "| train/                |             |\n",
      "|    entropy_loss       | -2.47       |\n",
      "|    explained_variance | -0.03343928 |\n",
      "|    learning_rate      | 0.000231    |\n",
      "|    n_updates          | 10999       |\n",
      "|    policy_loss        | 2.33        |\n",
      "|    value_loss         | 1.5         |\n",
      "---------------------------------------\n",
      "--------------------------------------\n",
      "| rollout/              |            |\n",
      "|    ep_len_mean        | 298        |\n",
      "|    ep_rew_mean        | -20.2      |\n",
      "| time/                 |            |\n",
      "|    fps                | 275        |\n",
      "|    iterations         | 11100      |\n",
      "|    time_elapsed       | 2577       |\n",
      "|    total_timesteps    | 710400     |\n",
      "| train/                |            |\n",
      "|    entropy_loss       | -2.51      |\n",
      "|    explained_variance | -0.4538927 |\n",
      "|    learning_rate      | 0.000231   |\n",
      "|    n_updates          | 11099      |\n",
      "|    policy_loss        | 4.47       |\n",
      "|    value_loss         | 4.12       |\n",
      "--------------------------------------\n",
      "---------------------------------------\n",
      "| rollout/              |             |\n",
      "|    ep_len_mean        | 300         |\n",
      "|    ep_rew_mean        | -20.5       |\n",
      "| time/                 |             |\n",
      "|    fps                | 275         |\n",
      "|    iterations         | 11200       |\n",
      "|    time_elapsed       | 2601        |\n",
      "|    total_timesteps    | 716800      |\n",
      "| train/                |             |\n",
      "|    entropy_loss       | -2.21       |\n",
      "|    explained_variance | 0.107821226 |\n",
      "|    learning_rate      | 0.000231    |\n",
      "|    n_updates          | 11199       |\n",
      "|    policy_loss        | 2.35        |\n",
      "|    value_loss         | 2.99        |\n",
      "---------------------------------------\n",
      "MoviePy - Building video /Users/bapa/Codes/KidsPuzzles/videos/DigitsPuzzle-10-step_f0.5_i0.2/training-episode-2400.mp4.\n",
      "MoviePy - Writing video /Users/bapa/Codes/KidsPuzzles/videos/DigitsPuzzle-10-step_f0.5_i0.2/training-episode-2400.mp4\n",
      "\n"
     ]
    },
    {
     "name": "stderr",
     "output_type": "stream",
     "text": [
      "                                                                          "
     ]
    },
    {
     "name": "stdout",
     "output_type": "stream",
     "text": [
      "MoviePy - Done !\n",
      "MoviePy - video ready /Users/bapa/Codes/KidsPuzzles/videos/DigitsPuzzle-10-step_f0.5_i0.2/training-episode-2400.mp4\n"
     ]
    },
    {
     "name": "stderr",
     "output_type": "stream",
     "text": [
      "\r"
     ]
    },
    {
     "name": "stdout",
     "output_type": "stream",
     "text": [
      "-------------------------------------\n",
      "| rollout/              |           |\n",
      "|    ep_len_mean        | 300       |\n",
      "|    ep_rew_mean        | -20.6     |\n",
      "| time/                 |           |\n",
      "|    fps                | 275       |\n",
      "|    iterations         | 11300     |\n",
      "|    time_elapsed       | 2625      |\n",
      "|    total_timesteps    | 723200    |\n",
      "| train/                |           |\n",
      "|    entropy_loss       | -2.47     |\n",
      "|    explained_variance | 0.9666362 |\n",
      "|    learning_rate      | 0.000231  |\n",
      "|    n_updates          | 11299     |\n",
      "|    policy_loss        | 1.53      |\n",
      "|    value_loss         | 0.845     |\n",
      "-------------------------------------\n",
      "-------------------------------------\n",
      "| rollout/              |           |\n",
      "|    ep_len_mean        | 300       |\n",
      "|    ep_rew_mean        | -20.3     |\n",
      "| time/                 |           |\n",
      "|    fps                | 275       |\n",
      "|    iterations         | 11400     |\n",
      "|    time_elapsed       | 2649      |\n",
      "|    total_timesteps    | 729600    |\n",
      "| train/                |           |\n",
      "|    entropy_loss       | -2.77     |\n",
      "|    explained_variance | 0.1846568 |\n",
      "|    learning_rate      | 0.000231  |\n",
      "|    n_updates          | 11399     |\n",
      "|    policy_loss        | -1.57     |\n",
      "|    value_loss         | 0.483     |\n",
      "-------------------------------------\n",
      "--------------------------------------\n",
      "| rollout/              |            |\n",
      "|    ep_len_mean        | 300        |\n",
      "|    ep_rew_mean        | -19.2      |\n",
      "| time/                 |            |\n",
      "|    fps                | 275        |\n",
      "|    iterations         | 11500      |\n",
      "|    time_elapsed       | 2672       |\n",
      "|    total_timesteps    | 736000     |\n",
      "| train/                |            |\n",
      "|    entropy_loss       | -2.58      |\n",
      "|    explained_variance | 0.20707601 |\n",
      "|    learning_rate      | 0.000231   |\n",
      "|    n_updates          | 11499      |\n",
      "|    policy_loss        | 2.99       |\n",
      "|    value_loss         | 2.11       |\n",
      "--------------------------------------\n",
      "--------------------------------------\n",
      "| rollout/              |            |\n",
      "|    ep_len_mean        | 300        |\n",
      "|    ep_rew_mean        | -18.9      |\n",
      "| time/                 |            |\n",
      "|    fps                | 275        |\n",
      "|    iterations         | 11600      |\n",
      "|    time_elapsed       | 2695       |\n",
      "|    total_timesteps    | 742400     |\n",
      "| train/                |            |\n",
      "|    entropy_loss       | -2.56      |\n",
      "|    explained_variance | 0.71206635 |\n",
      "|    learning_rate      | 0.000231   |\n",
      "|    n_updates          | 11599      |\n",
      "|    policy_loss        | -2.93      |\n",
      "|    value_loss         | 2.65       |\n",
      "--------------------------------------\n",
      "--------------------------------------\n",
      "| rollout/              |            |\n",
      "|    ep_len_mean        | 300        |\n",
      "|    ep_rew_mean        | -18.5      |\n",
      "| time/                 |            |\n",
      "|    fps                | 275        |\n",
      "|    iterations         | 11700      |\n",
      "|    time_elapsed       | 2718       |\n",
      "|    total_timesteps    | 748800     |\n",
      "| train/                |            |\n",
      "|    entropy_loss       | -2.51      |\n",
      "|    explained_variance | -0.7427074 |\n",
      "|    learning_rate      | 0.000231   |\n",
      "|    n_updates          | 11699      |\n",
      "|    policy_loss        | -0.885     |\n",
      "|    value_loss         | 0.267      |\n",
      "--------------------------------------\n",
      "--------------------------------------\n",
      "| rollout/              |            |\n",
      "|    ep_len_mean        | 300        |\n",
      "|    ep_rew_mean        | -17.4      |\n",
      "| time/                 |            |\n",
      "|    fps                | 275        |\n",
      "|    iterations         | 11800      |\n",
      "|    time_elapsed       | 2741       |\n",
      "|    total_timesteps    | 755200     |\n",
      "| train/                |            |\n",
      "|    entropy_loss       | -2.7       |\n",
      "|    explained_variance | 0.30097932 |\n",
      "|    learning_rate      | 0.000231   |\n",
      "|    n_updates          | 11799      |\n",
      "|    policy_loss        | 0.744      |\n",
      "|    value_loss         | 0.449      |\n",
      "--------------------------------------\n",
      "--------------------------------------\n",
      "| rollout/              |            |\n",
      "|    ep_len_mean        | 300        |\n",
      "|    ep_rew_mean        | -16.7      |\n",
      "| time/                 |            |\n",
      "|    fps                | 275        |\n",
      "|    iterations         | 11900      |\n",
      "|    time_elapsed       | 2764       |\n",
      "|    total_timesteps    | 761600     |\n",
      "| train/                |            |\n",
      "|    entropy_loss       | -2.19      |\n",
      "|    explained_variance | 0.22231084 |\n",
      "|    learning_rate      | 0.000231   |\n",
      "|    n_updates          | 11899      |\n",
      "|    policy_loss        | -1.03      |\n",
      "|    value_loss         | 1.5        |\n",
      "--------------------------------------\n",
      "----------------------------------------\n",
      "| rollout/              |              |\n",
      "|    ep_len_mean        | 300          |\n",
      "|    ep_rew_mean        | -16.4        |\n",
      "| time/                 |              |\n",
      "|    fps                | 275          |\n",
      "|    iterations         | 12000        |\n",
      "|    time_elapsed       | 2787         |\n",
      "|    total_timesteps    | 768000       |\n",
      "| train/                |              |\n",
      "|    entropy_loss       | -2.34        |\n",
      "|    explained_variance | -0.115784526 |\n",
      "|    learning_rate      | 0.000231     |\n",
      "|    n_updates          | 11999        |\n",
      "|    policy_loss        | 1.33         |\n",
      "|    value_loss         | 0.626        |\n",
      "----------------------------------------\n",
      "---------------------------------------\n",
      "| rollout/              |             |\n",
      "|    ep_len_mean        | 300         |\n",
      "|    ep_rew_mean        | -16.1       |\n",
      "| time/                 |             |\n",
      "|    fps                | 275         |\n",
      "|    iterations         | 12100       |\n",
      "|    time_elapsed       | 2810        |\n",
      "|    total_timesteps    | 774400      |\n",
      "| train/                |             |\n",
      "|    entropy_loss       | -2.23       |\n",
      "|    explained_variance | 0.075790524 |\n",
      "|    learning_rate      | 0.000231    |\n",
      "|    n_updates          | 12099       |\n",
      "|    policy_loss        | 0.239       |\n",
      "|    value_loss         | 0.249       |\n",
      "---------------------------------------\n",
      "MoviePy - Building video /Users/bapa/Codes/KidsPuzzles/videos/DigitsPuzzle-10-step_f0.5_i0.2/training-episode-2600.mp4.\n",
      "MoviePy - Writing video /Users/bapa/Codes/KidsPuzzles/videos/DigitsPuzzle-10-step_f0.5_i0.2/training-episode-2600.mp4\n",
      "\n"
     ]
    },
    {
     "name": "stderr",
     "output_type": "stream",
     "text": [
      "                                                                          "
     ]
    },
    {
     "name": "stdout",
     "output_type": "stream",
     "text": [
      "MoviePy - Done !\n",
      "MoviePy - video ready /Users/bapa/Codes/KidsPuzzles/videos/DigitsPuzzle-10-step_f0.5_i0.2/training-episode-2600.mp4\n"
     ]
    },
    {
     "name": "stderr",
     "output_type": "stream",
     "text": [
      "\r"
     ]
    },
    {
     "name": "stdout",
     "output_type": "stream",
     "text": [
      "-------------------------------------\n",
      "| rollout/              |           |\n",
      "|    ep_len_mean        | 300       |\n",
      "|    ep_rew_mean        | -16.2     |\n",
      "| time/                 |           |\n",
      "|    fps                | 275       |\n",
      "|    iterations         | 12200     |\n",
      "|    time_elapsed       | 2835      |\n",
      "|    total_timesteps    | 780800    |\n",
      "| train/                |           |\n",
      "|    entropy_loss       | -2.26     |\n",
      "|    explained_variance | 0.9447696 |\n",
      "|    learning_rate      | 0.000231  |\n",
      "|    n_updates          | 12199     |\n",
      "|    policy_loss        | 1.82      |\n",
      "|    value_loss         | 1.2       |\n",
      "-------------------------------------\n",
      "--------------------------------------\n",
      "| rollout/              |            |\n",
      "|    ep_len_mean        | 300        |\n",
      "|    ep_rew_mean        | -15.9      |\n",
      "| time/                 |            |\n",
      "|    fps                | 275        |\n",
      "|    iterations         | 12300      |\n",
      "|    time_elapsed       | 2858       |\n",
      "|    total_timesteps    | 787200     |\n",
      "| train/                |            |\n",
      "|    entropy_loss       | -2.64      |\n",
      "|    explained_variance | 0.04045552 |\n",
      "|    learning_rate      | 0.000231   |\n",
      "|    n_updates          | 12299      |\n",
      "|    policy_loss        | -2.24      |\n",
      "|    value_loss         | 0.804      |\n",
      "--------------------------------------\n",
      "---------------------------------------\n",
      "| rollout/              |             |\n",
      "|    ep_len_mean        | 300         |\n",
      "|    ep_rew_mean        | -16         |\n",
      "| time/                 |             |\n",
      "|    fps                | 275         |\n",
      "|    iterations         | 12400       |\n",
      "|    time_elapsed       | 2881        |\n",
      "|    total_timesteps    | 793600      |\n",
      "| train/                |             |\n",
      "|    entropy_loss       | -1.88       |\n",
      "|    explained_variance | -0.81317747 |\n",
      "|    learning_rate      | 0.000231    |\n",
      "|    n_updates          | 12399       |\n",
      "|    policy_loss        | 2.23        |\n",
      "|    value_loss         | 1.48        |\n",
      "---------------------------------------\n",
      "-------------------------------------\n",
      "| rollout/              |           |\n",
      "|    ep_len_mean        | 300       |\n",
      "|    ep_rew_mean        | -14.9     |\n",
      "| time/                 |           |\n",
      "|    fps                | 275       |\n",
      "|    iterations         | 12500     |\n",
      "|    time_elapsed       | 2904      |\n",
      "|    total_timesteps    | 800000    |\n",
      "| train/                |           |\n",
      "|    entropy_loss       | -2.14     |\n",
      "|    explained_variance | 0.6952596 |\n",
      "|    learning_rate      | 0.000231  |\n",
      "|    n_updates          | 12499     |\n",
      "|    policy_loss        | -1.63     |\n",
      "|    value_loss         | 2.49      |\n",
      "-------------------------------------\n",
      "--------------------------------------\n",
      "| rollout/              |            |\n",
      "|    ep_len_mean        | 300        |\n",
      "|    ep_rew_mean        | -13.7      |\n",
      "| time/                 |            |\n",
      "|    fps                | 275        |\n",
      "|    iterations         | 12600      |\n",
      "|    time_elapsed       | 2928       |\n",
      "|    total_timesteps    | 806400     |\n",
      "| train/                |            |\n",
      "|    entropy_loss       | -2.59      |\n",
      "|    explained_variance | -0.9589473 |\n",
      "|    learning_rate      | 0.000231   |\n",
      "|    n_updates          | 12599      |\n",
      "|    policy_loss        | 0.749      |\n",
      "|    value_loss         | 0.538      |\n",
      "--------------------------------------\n",
      "---------------------------------------\n",
      "| rollout/              |             |\n",
      "|    ep_len_mean        | 300         |\n",
      "|    ep_rew_mean        | -12.9       |\n",
      "| time/                 |             |\n",
      "|    fps                | 275         |\n",
      "|    iterations         | 12700       |\n",
      "|    time_elapsed       | 2951        |\n",
      "|    total_timesteps    | 812800      |\n",
      "| train/                |             |\n",
      "|    entropy_loss       | -2.22       |\n",
      "|    explained_variance | 0.018908381 |\n",
      "|    learning_rate      | 0.000231    |\n",
      "|    n_updates          | 12699       |\n",
      "|    policy_loss        | -1.31       |\n",
      "|    value_loss         | 0.718       |\n",
      "---------------------------------------\n",
      "-------------------------------------\n",
      "| rollout/              |           |\n",
      "|    ep_len_mean        | 300       |\n",
      "|    ep_rew_mean        | -11.9     |\n",
      "| time/                 |           |\n",
      "|    fps                | 275       |\n",
      "|    iterations         | 12800     |\n",
      "|    time_elapsed       | 2974      |\n",
      "|    total_timesteps    | 819200    |\n",
      "| train/                |           |\n",
      "|    entropy_loss       | -2.08     |\n",
      "|    explained_variance | 0.9768127 |\n",
      "|    learning_rate      | 0.000231  |\n",
      "|    n_updates          | 12799     |\n",
      "|    policy_loss        | -0.237    |\n",
      "|    value_loss         | 0.155     |\n",
      "-------------------------------------\n",
      "-----------------------------------------\n",
      "| rollout/              |               |\n",
      "|    ep_len_mean        | 300           |\n",
      "|    ep_rew_mean        | -11.6         |\n",
      "| time/                 |               |\n",
      "|    fps                | 275           |\n",
      "|    iterations         | 12900         |\n",
      "|    time_elapsed       | 2997          |\n",
      "|    total_timesteps    | 825600        |\n",
      "| train/                |               |\n",
      "|    entropy_loss       | -2.14         |\n",
      "|    explained_variance | -0.0063154697 |\n",
      "|    learning_rate      | 0.000231      |\n",
      "|    n_updates          | 12899         |\n",
      "|    policy_loss        | 1.68          |\n",
      "|    value_loss         | 1.14          |\n",
      "-----------------------------------------\n",
      "-----------------------------------------\n",
      "| rollout/              |               |\n",
      "|    ep_len_mean        | 300           |\n",
      "|    ep_rew_mean        | -11.4         |\n",
      "| time/                 |               |\n",
      "|    fps                | 275           |\n",
      "|    iterations         | 13000         |\n",
      "|    time_elapsed       | 3020          |\n",
      "|    total_timesteps    | 832000        |\n",
      "| train/                |               |\n",
      "|    entropy_loss       | -2.15         |\n",
      "|    explained_variance | -0.0129060745 |\n",
      "|    learning_rate      | 0.000231      |\n",
      "|    n_updates          | 12999         |\n",
      "|    policy_loss        | -0.116        |\n",
      "|    value_loss         | 0.268         |\n",
      "-----------------------------------------\n",
      "--------------------------------------\n",
      "| rollout/              |            |\n",
      "|    ep_len_mean        | 300        |\n",
      "|    ep_rew_mean        | -12.1      |\n",
      "| time/                 |            |\n",
      "|    fps                | 275        |\n",
      "|    iterations         | 13100      |\n",
      "|    time_elapsed       | 3043       |\n",
      "|    total_timesteps    | 838400     |\n",
      "| train/                |            |\n",
      "|    entropy_loss       | -2.24      |\n",
      "|    explained_variance | 0.97323537 |\n",
      "|    learning_rate      | 0.000231   |\n",
      "|    n_updates          | 13099      |\n",
      "|    policy_loss        | 0.399      |\n",
      "|    value_loss         | 0.323      |\n",
      "--------------------------------------\n",
      "MoviePy - Building video /Users/bapa/Codes/KidsPuzzles/videos/DigitsPuzzle-10-step_f0.5_i0.2/training-episode-2800.mp4.\n",
      "MoviePy - Writing video /Users/bapa/Codes/KidsPuzzles/videos/DigitsPuzzle-10-step_f0.5_i0.2/training-episode-2800.mp4\n",
      "\n"
     ]
    },
    {
     "name": "stderr",
     "output_type": "stream",
     "text": [
      "                                                                          "
     ]
    },
    {
     "name": "stdout",
     "output_type": "stream",
     "text": [
      "MoviePy - Done !\n",
      "MoviePy - video ready /Users/bapa/Codes/KidsPuzzles/videos/DigitsPuzzle-10-step_f0.5_i0.2/training-episode-2800.mp4\n"
     ]
    },
    {
     "name": "stderr",
     "output_type": "stream",
     "text": [
      "\r"
     ]
    },
    {
     "name": "stdout",
     "output_type": "stream",
     "text": [
      "-------------------------------------\n",
      "| rollout/              |           |\n",
      "|    ep_len_mean        | 300       |\n",
      "|    ep_rew_mean        | -11.9     |\n",
      "| time/                 |           |\n",
      "|    fps                | 275       |\n",
      "|    iterations         | 13200     |\n",
      "|    time_elapsed       | 3068      |\n",
      "|    total_timesteps    | 844800    |\n",
      "| train/                |           |\n",
      "|    entropy_loss       | -2.34     |\n",
      "|    explained_variance | -4.323954 |\n",
      "|    learning_rate      | 0.000231  |\n",
      "|    n_updates          | 13199     |\n",
      "|    policy_loss        | 1.48      |\n",
      "|    value_loss         | 0.678     |\n",
      "-------------------------------------\n",
      "----------------------------------------\n",
      "| rollout/              |              |\n",
      "|    ep_len_mean        | 300          |\n",
      "|    ep_rew_mean        | -11.7        |\n",
      "| time/                 |              |\n",
      "|    fps                | 275          |\n",
      "|    iterations         | 13300        |\n",
      "|    time_elapsed       | 3092         |\n",
      "|    total_timesteps    | 851200       |\n",
      "| train/                |              |\n",
      "|    entropy_loss       | -2.09        |\n",
      "|    explained_variance | -0.010844588 |\n",
      "|    learning_rate      | 0.000231     |\n",
      "|    n_updates          | 13299        |\n",
      "|    policy_loss        | -1.27        |\n",
      "|    value_loss         | 0.779        |\n",
      "----------------------------------------\n",
      "----------------------------------------\n",
      "| rollout/              |              |\n",
      "|    ep_len_mean        | 299          |\n",
      "|    ep_rew_mean        | -11.2        |\n",
      "| time/                 |              |\n",
      "|    fps                | 275          |\n",
      "|    iterations         | 13400        |\n",
      "|    time_elapsed       | 3115         |\n",
      "|    total_timesteps    | 857600       |\n",
      "| train/                |              |\n",
      "|    entropy_loss       | -2.55        |\n",
      "|    explained_variance | -0.010309935 |\n",
      "|    learning_rate      | 0.000231     |\n",
      "|    n_updates          | 13399        |\n",
      "|    policy_loss        | -3.56        |\n",
      "|    value_loss         | 2.13         |\n",
      "----------------------------------------\n",
      "--------------------------------------\n",
      "| rollout/              |            |\n",
      "|    ep_len_mean        | 297        |\n",
      "|    ep_rew_mean        | -10.3      |\n",
      "| time/                 |            |\n",
      "|    fps                | 275        |\n",
      "|    iterations         | 13500      |\n",
      "|    time_elapsed       | 3138       |\n",
      "|    total_timesteps    | 864000     |\n",
      "| train/                |            |\n",
      "|    entropy_loss       | -2.51      |\n",
      "|    explained_variance | 0.17956889 |\n",
      "|    learning_rate      | 0.000231   |\n",
      "|    n_updates          | 13499      |\n",
      "|    policy_loss        | 0.446      |\n",
      "|    value_loss         | 0.086      |\n",
      "--------------------------------------\n",
      "----------------------------------------\n",
      "| rollout/              |              |\n",
      "|    ep_len_mean        | 295          |\n",
      "|    ep_rew_mean        | -8.95        |\n",
      "| time/                 |              |\n",
      "|    fps                | 275          |\n",
      "|    iterations         | 13600        |\n",
      "|    time_elapsed       | 3161         |\n",
      "|    total_timesteps    | 870400       |\n",
      "| train/                |              |\n",
      "|    entropy_loss       | -2.3         |\n",
      "|    explained_variance | -0.013320446 |\n",
      "|    learning_rate      | 0.000231     |\n",
      "|    n_updates          | 13599        |\n",
      "|    policy_loss        | 0.0781       |\n",
      "|    value_loss         | 0.233        |\n",
      "----------------------------------------\n",
      "----------------------------------------\n",
      "| rollout/              |              |\n",
      "|    ep_len_mean        | 295          |\n",
      "|    ep_rew_mean        | -8.68        |\n",
      "| time/                 |              |\n",
      "|    fps                | 275          |\n",
      "|    iterations         | 13700        |\n",
      "|    time_elapsed       | 3184         |\n",
      "|    total_timesteps    | 876800       |\n",
      "| train/                |              |\n",
      "|    entropy_loss       | -2.33        |\n",
      "|    explained_variance | -0.016849756 |\n",
      "|    learning_rate      | 0.000231     |\n",
      "|    n_updates          | 13699        |\n",
      "|    policy_loss        | -0.31        |\n",
      "|    value_loss         | 0.333        |\n",
      "----------------------------------------\n",
      "-------------------------------------\n",
      "| rollout/              |           |\n",
      "|    ep_len_mean        | 292       |\n",
      "|    ep_rew_mean        | -7.78     |\n",
      "| time/                 |           |\n",
      "|    fps                | 275       |\n",
      "|    iterations         | 13800     |\n",
      "|    time_elapsed       | 3207      |\n",
      "|    total_timesteps    | 883200    |\n",
      "| train/                |           |\n",
      "|    entropy_loss       | -2.26     |\n",
      "|    explained_variance | 0.5586374 |\n",
      "|    learning_rate      | 0.000231  |\n",
      "|    n_updates          | 13799     |\n",
      "|    policy_loss        | 15.2      |\n",
      "|    value_loss         | 61.8      |\n",
      "-------------------------------------\n",
      "---------------------------------------\n",
      "| rollout/              |             |\n",
      "|    ep_len_mean        | 293         |\n",
      "|    ep_rew_mean        | -7.27       |\n",
      "| time/                 |             |\n",
      "|    fps                | 275         |\n",
      "|    iterations         | 13900       |\n",
      "|    time_elapsed       | 3231        |\n",
      "|    total_timesteps    | 889600      |\n",
      "| train/                |             |\n",
      "|    entropy_loss       | -2.68       |\n",
      "|    explained_variance | -0.66147494 |\n",
      "|    learning_rate      | 0.000231    |\n",
      "|    n_updates          | 13899       |\n",
      "|    policy_loss        | -6.15       |\n",
      "|    value_loss         | 5.67        |\n",
      "---------------------------------------\n",
      "---------------------------------------\n",
      "| rollout/              |             |\n",
      "|    ep_len_mean        | 297         |\n",
      "|    ep_rew_mean        | -7.45       |\n",
      "| time/                 |             |\n",
      "|    fps                | 275         |\n",
      "|    iterations         | 14000       |\n",
      "|    time_elapsed       | 3254        |\n",
      "|    total_timesteps    | 896000      |\n",
      "| train/                |             |\n",
      "|    entropy_loss       | -2.14       |\n",
      "|    explained_variance | 0.067904174 |\n",
      "|    learning_rate      | 0.000231    |\n",
      "|    n_updates          | 13999       |\n",
      "|    policy_loss        | -4.5        |\n",
      "|    value_loss         | 4.98        |\n",
      "---------------------------------------\n",
      "MoviePy - Building video /Users/bapa/Codes/KidsPuzzles/videos/DigitsPuzzle-10-step_f0.5_i0.2/training-episode-3000.mp4.\n",
      "MoviePy - Writing video /Users/bapa/Codes/KidsPuzzles/videos/DigitsPuzzle-10-step_f0.5_i0.2/training-episode-3000.mp4\n",
      "\n"
     ]
    },
    {
     "name": "stderr",
     "output_type": "stream",
     "text": [
      "                                                                          "
     ]
    },
    {
     "name": "stdout",
     "output_type": "stream",
     "text": [
      "MoviePy - Done !\n",
      "MoviePy - video ready /Users/bapa/Codes/KidsPuzzles/videos/DigitsPuzzle-10-step_f0.5_i0.2/training-episode-3000.mp4\n"
     ]
    },
    {
     "name": "stderr",
     "output_type": "stream",
     "text": [
      "\r"
     ]
    },
    {
     "name": "stdout",
     "output_type": "stream",
     "text": [
      "--------------------------------------\n",
      "| rollout/              |            |\n",
      "|    ep_len_mean        | 297        |\n",
      "|    ep_rew_mean        | -7.21      |\n",
      "| time/                 |            |\n",
      "|    fps                | 275        |\n",
      "|    iterations         | 14100      |\n",
      "|    time_elapsed       | 3279       |\n",
      "|    total_timesteps    | 902400     |\n",
      "| train/                |            |\n",
      "|    entropy_loss       | -2.04      |\n",
      "|    explained_variance | 0.91092074 |\n",
      "|    learning_rate      | 0.000231   |\n",
      "|    n_updates          | 14099      |\n",
      "|    policy_loss        | -2.18      |\n",
      "|    value_loss         | 1.52       |\n",
      "--------------------------------------\n",
      "---------------------------------------\n",
      "| rollout/              |             |\n",
      "|    ep_len_mean        | 297         |\n",
      "|    ep_rew_mean        | -6.79       |\n",
      "| time/                 |             |\n",
      "|    fps                | 275         |\n",
      "|    iterations         | 14200       |\n",
      "|    time_elapsed       | 3302        |\n",
      "|    total_timesteps    | 908800      |\n",
      "| train/                |             |\n",
      "|    entropy_loss       | -1.74       |\n",
      "|    explained_variance | -0.77425754 |\n",
      "|    learning_rate      | 0.000231    |\n",
      "|    n_updates          | 14199       |\n",
      "|    policy_loss        | 2.15        |\n",
      "|    value_loss         | 2.25        |\n",
      "---------------------------------------\n",
      "--------------------------------------\n",
      "| rollout/              |            |\n",
      "|    ep_len_mean        | 300        |\n",
      "|    ep_rew_mean        | -6.2       |\n",
      "| time/                 |            |\n",
      "|    fps                | 275        |\n",
      "|    iterations         | 14300      |\n",
      "|    time_elapsed       | 3325       |\n",
      "|    total_timesteps    | 915200     |\n",
      "| train/                |            |\n",
      "|    entropy_loss       | -2.1       |\n",
      "|    explained_variance | 0.14158195 |\n",
      "|    learning_rate      | 0.000231   |\n",
      "|    n_updates          | 14299      |\n",
      "|    policy_loss        | -4.14      |\n",
      "|    value_loss         | 4.25       |\n",
      "--------------------------------------\n",
      "--------------------------------------\n",
      "| rollout/              |            |\n",
      "|    ep_len_mean        | 300        |\n",
      "|    ep_rew_mean        | -7.08      |\n",
      "| time/                 |            |\n",
      "|    fps                | 275        |\n",
      "|    iterations         | 14400      |\n",
      "|    time_elapsed       | 3348       |\n",
      "|    total_timesteps    | 921600     |\n",
      "| train/                |            |\n",
      "|    entropy_loss       | -2.18      |\n",
      "|    explained_variance | 0.74126387 |\n",
      "|    learning_rate      | 0.000231   |\n",
      "|    n_updates          | 14399      |\n",
      "|    policy_loss        | -1.78      |\n",
      "|    value_loss         | 0.998      |\n",
      "--------------------------------------\n",
      "---------------------------------------\n",
      "| rollout/              |             |\n",
      "|    ep_len_mean        | 300         |\n",
      "|    ep_rew_mean        | -7.24       |\n",
      "| time/                 |             |\n",
      "|    fps                | 275         |\n",
      "|    iterations         | 14500       |\n",
      "|    time_elapsed       | 3371        |\n",
      "|    total_timesteps    | 928000      |\n",
      "| train/                |             |\n",
      "|    entropy_loss       | -2.36       |\n",
      "|    explained_variance | -0.53683007 |\n",
      "|    learning_rate      | 0.000231    |\n",
      "|    n_updates          | 14499       |\n",
      "|    policy_loss        | -2.06       |\n",
      "|    value_loss         | 0.957       |\n",
      "---------------------------------------\n",
      "------------------------------------\n",
      "| rollout/              |          |\n",
      "|    ep_len_mean        | 296      |\n",
      "|    ep_rew_mean        | -6.8     |\n",
      "| time/                 |          |\n",
      "|    fps                | 275      |\n",
      "|    iterations         | 14600    |\n",
      "|    time_elapsed       | 3393     |\n",
      "|    total_timesteps    | 934400   |\n",
      "| train/                |          |\n",
      "|    entropy_loss       | -2.65    |\n",
      "|    explained_variance | 0.913186 |\n",
      "|    learning_rate      | 0.000231 |\n",
      "|    n_updates          | 14599    |\n",
      "|    policy_loss        | 0.758    |\n",
      "|    value_loss         | 0.292    |\n",
      "------------------------------------\n",
      "---------------------------------------\n",
      "| rollout/              |             |\n",
      "|    ep_len_mean        | 294         |\n",
      "|    ep_rew_mean        | -6.47       |\n",
      "| time/                 |             |\n",
      "|    fps                | 275         |\n",
      "|    iterations         | 14700       |\n",
      "|    time_elapsed       | 3416        |\n",
      "|    total_timesteps    | 940800      |\n",
      "| train/                |             |\n",
      "|    entropy_loss       | -1.86       |\n",
      "|    explained_variance | -0.23822784 |\n",
      "|    learning_rate      | 0.000231    |\n",
      "|    n_updates          | 14699       |\n",
      "|    policy_loss        | 0.285       |\n",
      "|    value_loss         | 0.0768      |\n",
      "---------------------------------------\n",
      "-------------------------------------\n",
      "| rollout/              |           |\n",
      "|    ep_len_mean        | 289       |\n",
      "|    ep_rew_mean        | -6.02     |\n",
      "| time/                 |           |\n",
      "|    fps                | 275       |\n",
      "|    iterations         | 14800     |\n",
      "|    time_elapsed       | 3439      |\n",
      "|    total_timesteps    | 947200    |\n",
      "| train/                |           |\n",
      "|    entropy_loss       | -2.41     |\n",
      "|    explained_variance | 0.8286608 |\n",
      "|    learning_rate      | 0.000231  |\n",
      "|    n_updates          | 14799     |\n",
      "|    policy_loss        | 1.91      |\n",
      "|    value_loss         | 2.28      |\n",
      "-------------------------------------\n",
      "---------------------------------------\n",
      "| rollout/              |             |\n",
      "|    ep_len_mean        | 286         |\n",
      "|    ep_rew_mean        | -4.56       |\n",
      "| time/                 |             |\n",
      "|    fps                | 275         |\n",
      "|    iterations         | 14900       |\n",
      "|    time_elapsed       | 3462        |\n",
      "|    total_timesteps    | 953600      |\n",
      "| train/                |             |\n",
      "|    entropy_loss       | -2.2        |\n",
      "|    explained_variance | -0.19011259 |\n",
      "|    learning_rate      | 0.000231    |\n",
      "|    n_updates          | 14899       |\n",
      "|    policy_loss        | -0.167      |\n",
      "|    value_loss         | 0.0447      |\n",
      "---------------------------------------\n",
      "MoviePy - Building video /Users/bapa/Codes/KidsPuzzles/videos/DigitsPuzzle-10-step_f0.5_i0.2/training-episode-3200.mp4.\n",
      "MoviePy - Writing video /Users/bapa/Codes/KidsPuzzles/videos/DigitsPuzzle-10-step_f0.5_i0.2/training-episode-3200.mp4\n",
      "\n"
     ]
    },
    {
     "name": "stderr",
     "output_type": "stream",
     "text": [
      "                                                                        \r"
     ]
    },
    {
     "name": "stdout",
     "output_type": "stream",
     "text": [
      "MoviePy - Done !\n",
      "MoviePy - video ready /Users/bapa/Codes/KidsPuzzles/videos/DigitsPuzzle-10-step_f0.5_i0.2/training-episode-3200.mp4\n",
      "---------------------------------------\n",
      "| rollout/              |             |\n",
      "|    ep_len_mean        | 286         |\n",
      "|    ep_rew_mean        | -3.69       |\n",
      "| time/                 |             |\n",
      "|    fps                | 275         |\n",
      "|    iterations         | 15000       |\n",
      "|    time_elapsed       | 3487        |\n",
      "|    total_timesteps    | 960000      |\n",
      "| train/                |             |\n",
      "|    entropy_loss       | -2.04       |\n",
      "|    explained_variance | -0.67189384 |\n",
      "|    learning_rate      | 0.000231    |\n",
      "|    n_updates          | 14999       |\n",
      "|    policy_loss        | 0.837       |\n",
      "|    value_loss         | 0.289       |\n",
      "---------------------------------------\n",
      "-------------------------------------\n",
      "| rollout/              |           |\n",
      "|    ep_len_mean        | 292       |\n",
      "|    ep_rew_mean        | -3.99     |\n",
      "| time/                 |           |\n",
      "|    fps                | 275       |\n",
      "|    iterations         | 15100     |\n",
      "|    time_elapsed       | 3510      |\n",
      "|    total_timesteps    | 966400    |\n",
      "| train/                |           |\n",
      "|    entropy_loss       | -2.4      |\n",
      "|    explained_variance | -1.129672 |\n",
      "|    learning_rate      | 0.000231  |\n",
      "|    n_updates          | 15099     |\n",
      "|    policy_loss        | 1.47      |\n",
      "|    value_loss         | 0.786     |\n",
      "-------------------------------------\n",
      "---------------------------------------\n",
      "| rollout/              |             |\n",
      "|    ep_len_mean        | 294         |\n",
      "|    ep_rew_mean        | -3.68       |\n",
      "| time/                 |             |\n",
      "|    fps                | 275         |\n",
      "|    iterations         | 15200       |\n",
      "|    time_elapsed       | 3533        |\n",
      "|    total_timesteps    | 972800      |\n",
      "| train/                |             |\n",
      "|    entropy_loss       | -1.87       |\n",
      "|    explained_variance | -0.27200902 |\n",
      "|    learning_rate      | 0.000231    |\n",
      "|    n_updates          | 15199       |\n",
      "|    policy_loss        | 0.88        |\n",
      "|    value_loss         | 0.265       |\n",
      "---------------------------------------\n",
      "---------------------------------------\n",
      "| rollout/              |             |\n",
      "|    ep_len_mean        | 296         |\n",
      "|    ep_rew_mean        | -3.75       |\n",
      "| time/                 |             |\n",
      "|    fps                | 275         |\n",
      "|    iterations         | 15300       |\n",
      "|    time_elapsed       | 3557        |\n",
      "|    total_timesteps    | 979200      |\n",
      "| train/                |             |\n",
      "|    entropy_loss       | -1.97       |\n",
      "|    explained_variance | -0.04287529 |\n",
      "|    learning_rate      | 0.000231    |\n",
      "|    n_updates          | 15299       |\n",
      "|    policy_loss        | -0.388      |\n",
      "|    value_loss         | 0.182       |\n",
      "---------------------------------------\n",
      "--------------------------------------\n",
      "| rollout/              |            |\n",
      "|    ep_len_mean        | 295        |\n",
      "|    ep_rew_mean        | -3.81      |\n",
      "| time/                 |            |\n",
      "|    fps                | 275        |\n",
      "|    iterations         | 15400      |\n",
      "|    time_elapsed       | 3580       |\n",
      "|    total_timesteps    | 985600     |\n",
      "| train/                |            |\n",
      "|    entropy_loss       | -1.59      |\n",
      "|    explained_variance | -0.4522152 |\n",
      "|    learning_rate      | 0.000231   |\n",
      "|    n_updates          | 15399      |\n",
      "|    policy_loss        | 0.565      |\n",
      "|    value_loss         | 0.165      |\n",
      "--------------------------------------\n",
      "----------------------------------------\n",
      "| rollout/              |              |\n",
      "|    ep_len_mean        | 291          |\n",
      "|    ep_rew_mean        | -2.41        |\n",
      "| time/                 |              |\n",
      "|    fps                | 275          |\n",
      "|    iterations         | 15500        |\n",
      "|    time_elapsed       | 3603         |\n",
      "|    total_timesteps    | 992000       |\n",
      "| train/                |              |\n",
      "|    entropy_loss       | -1.69        |\n",
      "|    explained_variance | -0.017879605 |\n",
      "|    learning_rate      | 0.000231     |\n",
      "|    n_updates          | 15499        |\n",
      "|    policy_loss        | -0.57        |\n",
      "|    value_loss         | 0.0934       |\n",
      "----------------------------------------\n",
      "---------------------------------------\n",
      "| rollout/              |             |\n",
      "|    ep_len_mean        | 287         |\n",
      "|    ep_rew_mean        | -1.69       |\n",
      "| time/                 |             |\n",
      "|    fps                | 275         |\n",
      "|    iterations         | 15600       |\n",
      "|    time_elapsed       | 3626        |\n",
      "|    total_timesteps    | 998400      |\n",
      "| train/                |             |\n",
      "|    entropy_loss       | -2.35       |\n",
      "|    explained_variance | -0.23201716 |\n",
      "|    learning_rate      | 0.000231    |\n",
      "|    n_updates          | 15599       |\n",
      "|    policy_loss        | 0.521       |\n",
      "|    value_loss         | 0.165       |\n",
      "---------------------------------------\n",
      "----------------------------------------\n",
      "| rollout/              |              |\n",
      "|    ep_len_mean        | 281          |\n",
      "|    ep_rew_mean        | -1.05        |\n",
      "| time/                 |              |\n",
      "|    fps                | 275          |\n",
      "|    iterations         | 15700        |\n",
      "|    time_elapsed       | 3650         |\n",
      "|    total_timesteps    | 1004800      |\n",
      "| train/                |              |\n",
      "|    entropy_loss       | -1.81        |\n",
      "|    explained_variance | -0.003275752 |\n",
      "|    learning_rate      | 0.000231     |\n",
      "|    n_updates          | 15699        |\n",
      "|    policy_loss        | 1.44         |\n",
      "|    value_loss         | 1.02         |\n",
      "----------------------------------------\n",
      "---------------------------------------\n",
      "| rollout/              |             |\n",
      "|    ep_len_mean        | 269         |\n",
      "|    ep_rew_mean        | -0.17       |\n",
      "| time/                 |             |\n",
      "|    fps                | 275         |\n",
      "|    iterations         | 15800       |\n",
      "|    time_elapsed       | 3673        |\n",
      "|    total_timesteps    | 1011200     |\n",
      "| train/                |             |\n",
      "|    entropy_loss       | -2.34       |\n",
      "|    explained_variance | -0.17612159 |\n",
      "|    learning_rate      | 0.000231    |\n",
      "|    n_updates          | 15799       |\n",
      "|    policy_loss        | 0.526       |\n",
      "|    value_loss         | 0.118       |\n",
      "---------------------------------------\n",
      "MoviePy - Building video /Users/bapa/Codes/KidsPuzzles/videos/DigitsPuzzle-10-step_f0.5_i0.2/training-episode-3400.mp4.\n",
      "MoviePy - Writing video /Users/bapa/Codes/KidsPuzzles/videos/DigitsPuzzle-10-step_f0.5_i0.2/training-episode-3400.mp4\n",
      "\n"
     ]
    },
    {
     "name": "stderr",
     "output_type": "stream",
     "text": [
      "                                                                          \r"
     ]
    },
    {
     "name": "stdout",
     "output_type": "stream",
     "text": [
      "MoviePy - Done !\n",
      "MoviePy - video ready /Users/bapa/Codes/KidsPuzzles/videos/DigitsPuzzle-10-step_f0.5_i0.2/training-episode-3400.mp4\n"
     ]
    },
    {
     "name": "stderr",
     "output_type": "stream",
     "text": [
      "\r"
     ]
    },
    {
     "name": "stdout",
     "output_type": "stream",
     "text": [
      "-------------------------------------\n",
      "| rollout/              |           |\n",
      "|    ep_len_mean        | 269       |\n",
      "|    ep_rew_mean        | -1.26     |\n",
      "| time/                 |           |\n",
      "|    fps                | 275       |\n",
      "|    iterations         | 15900     |\n",
      "|    time_elapsed       | 3696      |\n",
      "|    total_timesteps    | 1017600   |\n",
      "| train/                |           |\n",
      "|    entropy_loss       | -1.95     |\n",
      "|    explained_variance | 0.1367318 |\n",
      "|    learning_rate      | 0.000231  |\n",
      "|    n_updates          | 15899     |\n",
      "|    policy_loss        | -0.347    |\n",
      "|    value_loss         | 0.0847    |\n",
      "-------------------------------------\n",
      "-------------------------------------\n",
      "| rollout/              |           |\n",
      "|    ep_len_mean        | 274       |\n",
      "|    ep_rew_mean        | -2.12     |\n",
      "| time/                 |           |\n",
      "|    fps                | 275       |\n",
      "|    iterations         | 16000     |\n",
      "|    time_elapsed       | 3719      |\n",
      "|    total_timesteps    | 1024000   |\n",
      "| train/                |           |\n",
      "|    entropy_loss       | -2.7      |\n",
      "|    explained_variance | 0.7344755 |\n",
      "|    learning_rate      | 0.000231  |\n",
      "|    n_updates          | 15999     |\n",
      "|    policy_loss        | -0.0628   |\n",
      "|    value_loss         | 0.136     |\n",
      "-------------------------------------\n",
      "--------------------------------------\n",
      "| rollout/              |            |\n",
      "|    ep_len_mean        | 276        |\n",
      "|    ep_rew_mean        | -1.55      |\n",
      "| time/                 |            |\n",
      "|    fps                | 275        |\n",
      "|    iterations         | 16100      |\n",
      "|    time_elapsed       | 3742       |\n",
      "|    total_timesteps    | 1030400    |\n",
      "| train/                |            |\n",
      "|    entropy_loss       | -2.37      |\n",
      "|    explained_variance | 0.11930156 |\n",
      "|    learning_rate      | 0.000231   |\n",
      "|    n_updates          | 16099      |\n",
      "|    policy_loss        | -5.01      |\n",
      "|    value_loss         | 5.14       |\n",
      "--------------------------------------\n",
      "---------------------------------------\n",
      "| rollout/              |             |\n",
      "|    ep_len_mean        | 278         |\n",
      "|    ep_rew_mean        | -1.02       |\n",
      "| time/                 |             |\n",
      "|    fps                | 275         |\n",
      "|    iterations         | 16200       |\n",
      "|    time_elapsed       | 3765        |\n",
      "|    total_timesteps    | 1036800     |\n",
      "| train/                |             |\n",
      "|    entropy_loss       | -2.1        |\n",
      "|    explained_variance | -0.11875391 |\n",
      "|    learning_rate      | 0.000231    |\n",
      "|    n_updates          | 16199       |\n",
      "|    policy_loss        | -2.83       |\n",
      "|    value_loss         | 2.19        |\n",
      "---------------------------------------\n",
      "-------------------------------------\n",
      "| rollout/              |           |\n",
      "|    ep_len_mean        | 272       |\n",
      "|    ep_rew_mean        | 0.608     |\n",
      "| time/                 |           |\n",
      "|    fps                | 275       |\n",
      "|    iterations         | 16300     |\n",
      "|    time_elapsed       | 3789      |\n",
      "|    total_timesteps    | 1043200   |\n",
      "| train/                |           |\n",
      "|    entropy_loss       | -2.37     |\n",
      "|    explained_variance | 0.7800384 |\n",
      "|    learning_rate      | 0.000231  |\n",
      "|    n_updates          | 16299     |\n",
      "|    policy_loss        | -2.13     |\n",
      "|    value_loss         | 1.23      |\n",
      "-------------------------------------\n",
      "--------------------------------------\n",
      "| rollout/              |            |\n",
      "|    ep_len_mean        | 269        |\n",
      "|    ep_rew_mean        | 2.14       |\n",
      "| time/                 |            |\n",
      "|    fps                | 275        |\n",
      "|    iterations         | 16400      |\n",
      "|    time_elapsed       | 3812       |\n",
      "|    total_timesteps    | 1049600    |\n",
      "| train/                |            |\n",
      "|    entropy_loss       | -2.29      |\n",
      "|    explained_variance | 0.34043068 |\n",
      "|    learning_rate      | 0.000231   |\n",
      "|    n_updates          | 16399      |\n",
      "|    policy_loss        | 8.38       |\n",
      "|    value_loss         | 25.1       |\n",
      "--------------------------------------\n",
      "--------------------------------------\n",
      "| rollout/              |            |\n",
      "|    ep_len_mean        | 254        |\n",
      "|    ep_rew_mean        | 3.19       |\n",
      "| time/                 |            |\n",
      "|    fps                | 275        |\n",
      "|    iterations         | 16500      |\n",
      "|    time_elapsed       | 3835       |\n",
      "|    total_timesteps    | 1056000    |\n",
      "| train/                |            |\n",
      "|    entropy_loss       | -2.03      |\n",
      "|    explained_variance | -0.4057622 |\n",
      "|    learning_rate      | 0.000231   |\n",
      "|    n_updates          | 16499      |\n",
      "|    policy_loss        | -0.243     |\n",
      "|    value_loss         | 0.0244     |\n",
      "--------------------------------------\n",
      "--------------------------------------\n",
      "| rollout/              |            |\n",
      "|    ep_len_mean        | 258        |\n",
      "|    ep_rew_mean        | 2.96       |\n",
      "| time/                 |            |\n",
      "|    fps                | 275        |\n",
      "|    iterations         | 16600      |\n",
      "|    time_elapsed       | 3858       |\n",
      "|    total_timesteps    | 1062400    |\n",
      "| train/                |            |\n",
      "|    entropy_loss       | -1.99      |\n",
      "|    explained_variance | 0.49322432 |\n",
      "|    learning_rate      | 0.000231   |\n",
      "|    n_updates          | 16599      |\n",
      "|    policy_loss        | -1.44      |\n",
      "|    value_loss         | 0.72       |\n",
      "--------------------------------------\n",
      "MoviePy - Building video /Users/bapa/Codes/KidsPuzzles/videos/DigitsPuzzle-10-step_f0.5_i0.2/training-episode-3600.mp4.\n",
      "MoviePy - Writing video /Users/bapa/Codes/KidsPuzzles/videos/DigitsPuzzle-10-step_f0.5_i0.2/training-episode-3600.mp4\n",
      "\n"
     ]
    },
    {
     "name": "stderr",
     "output_type": "stream",
     "text": [
      "                                                              "
     ]
    },
    {
     "name": "stdout",
     "output_type": "stream",
     "text": [
      "MoviePy - Done !\n",
      "MoviePy - video ready /Users/bapa/Codes/KidsPuzzles/videos/DigitsPuzzle-10-step_f0.5_i0.2/training-episode-3600.mp4\n"
     ]
    },
    {
     "name": "stderr",
     "output_type": "stream",
     "text": [
      "\r"
     ]
    },
    {
     "name": "stdout",
     "output_type": "stream",
     "text": [
      "---------------------------------------\n",
      "| rollout/              |             |\n",
      "|    ep_len_mean        | 264         |\n",
      "|    ep_rew_mean        | 2.92        |\n",
      "| time/                 |             |\n",
      "|    fps                | 275         |\n",
      "|    iterations         | 16700       |\n",
      "|    time_elapsed       | 3882        |\n",
      "|    total_timesteps    | 1068800     |\n",
      "| train/                |             |\n",
      "|    entropy_loss       | -2.07       |\n",
      "|    explained_variance | -0.14486086 |\n",
      "|    learning_rate      | 0.000231    |\n",
      "|    n_updates          | 16699       |\n",
      "|    policy_loss        | -1.97       |\n",
      "|    value_loss         | 0.937       |\n",
      "---------------------------------------\n",
      "-------------------------------------\n",
      "| rollout/              |           |\n",
      "|    ep_len_mean        | 261       |\n",
      "|    ep_rew_mean        | 2.63      |\n",
      "| time/                 |           |\n",
      "|    fps                | 275       |\n",
      "|    iterations         | 16800     |\n",
      "|    time_elapsed       | 3905      |\n",
      "|    total_timesteps    | 1075200   |\n",
      "| train/                |           |\n",
      "|    entropy_loss       | -2.58     |\n",
      "|    explained_variance | 0.8934785 |\n",
      "|    learning_rate      | 0.000231  |\n",
      "|    n_updates          | 16799     |\n",
      "|    policy_loss        | -2.01     |\n",
      "|    value_loss         | 1.52      |\n",
      "-------------------------------------\n",
      "--------------------------------------\n",
      "| rollout/              |            |\n",
      "|    ep_len_mean        | 262        |\n",
      "|    ep_rew_mean        | 2.25       |\n",
      "| time/                 |            |\n",
      "|    fps                | 275        |\n",
      "|    iterations         | 16900      |\n",
      "|    time_elapsed       | 3929       |\n",
      "|    total_timesteps    | 1081600    |\n",
      "| train/                |            |\n",
      "|    entropy_loss       | -2.18      |\n",
      "|    explained_variance | 0.66961706 |\n",
      "|    learning_rate      | 0.000231   |\n",
      "|    n_updates          | 16899      |\n",
      "|    policy_loss        | 7.46       |\n",
      "|    value_loss         | 20.6       |\n",
      "--------------------------------------\n",
      "--------------------------------------\n",
      "| rollout/              |            |\n",
      "|    ep_len_mean        | 255        |\n",
      "|    ep_rew_mean        | 2.47       |\n",
      "| time/                 |            |\n",
      "|    fps                | 275        |\n",
      "|    iterations         | 17000      |\n",
      "|    time_elapsed       | 3952       |\n",
      "|    total_timesteps    | 1088000    |\n",
      "| train/                |            |\n",
      "|    entropy_loss       | -2.26      |\n",
      "|    explained_variance | -0.6179137 |\n",
      "|    learning_rate      | 0.000231   |\n",
      "|    n_updates          | 16999      |\n",
      "|    policy_loss        | -0.771     |\n",
      "|    value_loss         | 0.175      |\n",
      "--------------------------------------\n",
      "-----------------------------------------\n",
      "| rollout/              |               |\n",
      "|    ep_len_mean        | 239           |\n",
      "|    ep_rew_mean        | 3.25          |\n",
      "| time/                 |               |\n",
      "|    fps                | 275           |\n",
      "|    iterations         | 17100         |\n",
      "|    time_elapsed       | 3975          |\n",
      "|    total_timesteps    | 1094400       |\n",
      "| train/                |               |\n",
      "|    entropy_loss       | -2.46         |\n",
      "|    explained_variance | -0.0037257671 |\n",
      "|    learning_rate      | 0.000231      |\n",
      "|    n_updates          | 17099         |\n",
      "|    policy_loss        | -0.185        |\n",
      "|    value_loss         | 0.0677        |\n",
      "-----------------------------------------\n",
      "---------------------------------------\n",
      "| rollout/              |             |\n",
      "|    ep_len_mean        | 225         |\n",
      "|    ep_rew_mean        | 3.79        |\n",
      "| time/                 |             |\n",
      "|    fps                | 275         |\n",
      "|    iterations         | 17200       |\n",
      "|    time_elapsed       | 3998        |\n",
      "|    total_timesteps    | 1100800     |\n",
      "| train/                |             |\n",
      "|    entropy_loss       | -2.49       |\n",
      "|    explained_variance | 0.023750782 |\n",
      "|    learning_rate      | 0.000231    |\n",
      "|    n_updates          | 17199       |\n",
      "|    policy_loss        | -0.658      |\n",
      "|    value_loss         | 0.331       |\n",
      "---------------------------------------\n",
      "------------------------------------\n",
      "| rollout/              |          |\n",
      "|    ep_len_mean        | 206      |\n",
      "|    ep_rew_mean        | 4.65     |\n",
      "| time/                 |          |\n",
      "|    fps                | 275      |\n",
      "|    iterations         | 17300    |\n",
      "|    time_elapsed       | 4021     |\n",
      "|    total_timesteps    | 1107200  |\n",
      "| train/                |          |\n",
      "|    entropy_loss       | -2.47    |\n",
      "|    explained_variance | 0.846915 |\n",
      "|    learning_rate      | 0.000231 |\n",
      "|    n_updates          | 17299    |\n",
      "|    policy_loss        | 5.12     |\n",
      "|    value_loss         | 7.49     |\n",
      "------------------------------------\n",
      "MoviePy - Building video /Users/bapa/Codes/KidsPuzzles/videos/DigitsPuzzle-10-step_f0.5_i0.2/training-episode-3800.mp4.\n",
      "MoviePy - Writing video /Users/bapa/Codes/KidsPuzzles/videos/DigitsPuzzle-10-step_f0.5_i0.2/training-episode-3800.mp4\n",
      "\n"
     ]
    },
    {
     "name": "stderr",
     "output_type": "stream",
     "text": [
      "                                                              "
     ]
    },
    {
     "name": "stdout",
     "output_type": "stream",
     "text": [
      "MoviePy - Done !\n",
      "MoviePy - video ready /Users/bapa/Codes/KidsPuzzles/videos/DigitsPuzzle-10-step_f0.5_i0.2/training-episode-3800.mp4\n"
     ]
    },
    {
     "name": "stderr",
     "output_type": "stream",
     "text": [
      "\r"
     ]
    },
    {
     "name": "stdout",
     "output_type": "stream",
     "text": [
      "-------------------------------------\n",
      "| rollout/              |           |\n",
      "|    ep_len_mean        | 200       |\n",
      "|    ep_rew_mean        | 5.63      |\n",
      "| time/                 |           |\n",
      "|    fps                | 275       |\n",
      "|    iterations         | 17400     |\n",
      "|    time_elapsed       | 4045      |\n",
      "|    total_timesteps    | 1113600   |\n",
      "| train/                |           |\n",
      "|    entropy_loss       | -2.47     |\n",
      "|    explained_variance | 0.7595287 |\n",
      "|    learning_rate      | 0.000231  |\n",
      "|    n_updates          | 17399     |\n",
      "|    policy_loss        | 1.05      |\n",
      "|    value_loss         | 0.369     |\n",
      "-------------------------------------\n",
      "--------------------------------------\n",
      "| rollout/              |            |\n",
      "|    ep_len_mean        | 187        |\n",
      "|    ep_rew_mean        | 6.25       |\n",
      "| time/                 |            |\n",
      "|    fps                | 275        |\n",
      "|    iterations         | 17500      |\n",
      "|    time_elapsed       | 4069       |\n",
      "|    total_timesteps    | 1120000    |\n",
      "| train/                |            |\n",
      "|    entropy_loss       | -2.46      |\n",
      "|    explained_variance | 0.49026948 |\n",
      "|    learning_rate      | 0.000231   |\n",
      "|    n_updates          | 17499      |\n",
      "|    policy_loss        | 10.8       |\n",
      "|    value_loss         | 17.6       |\n",
      "--------------------------------------\n",
      "-------------------------------------\n",
      "| rollout/              |           |\n",
      "|    ep_len_mean        | 169       |\n",
      "|    ep_rew_mean        | 5.77      |\n",
      "| time/                 |           |\n",
      "|    fps                | 275       |\n",
      "|    iterations         | 17600     |\n",
      "|    time_elapsed       | 4092      |\n",
      "|    total_timesteps    | 1126400   |\n",
      "| train/                |           |\n",
      "|    entropy_loss       | -2.39     |\n",
      "|    explained_variance | 0.7889335 |\n",
      "|    learning_rate      | 0.000231  |\n",
      "|    n_updates          | 17599     |\n",
      "|    policy_loss        | 1.86      |\n",
      "|    value_loss         | 8.16      |\n",
      "-------------------------------------\n",
      "------------------------------------\n",
      "| rollout/              |          |\n",
      "|    ep_len_mean        | 156      |\n",
      "|    ep_rew_mean        | 5.59     |\n",
      "| time/                 |          |\n",
      "|    fps                | 275      |\n",
      "|    iterations         | 17700    |\n",
      "|    time_elapsed       | 4115     |\n",
      "|    total_timesteps    | 1132800  |\n",
      "| train/                |          |\n",
      "|    entropy_loss       | -2.57    |\n",
      "|    explained_variance | 0.58824  |\n",
      "|    learning_rate      | 0.000231 |\n",
      "|    n_updates          | 17699    |\n",
      "|    policy_loss        | 2.86     |\n",
      "|    value_loss         | 11       |\n",
      "------------------------------------\n",
      "---------------------------------------\n",
      "| rollout/              |             |\n",
      "|    ep_len_mean        | 149         |\n",
      "|    ep_rew_mean        | 5.98        |\n",
      "| time/                 |             |\n",
      "|    fps                | 275         |\n",
      "|    iterations         | 17800       |\n",
      "|    time_elapsed       | 4138        |\n",
      "|    total_timesteps    | 1139200     |\n",
      "| train/                |             |\n",
      "|    entropy_loss       | -2.34       |\n",
      "|    explained_variance | -0.34177244 |\n",
      "|    learning_rate      | 0.000231    |\n",
      "|    n_updates          | 17799       |\n",
      "|    policy_loss        | 0.651       |\n",
      "|    value_loss         | 0.19        |\n",
      "---------------------------------------\n",
      "MoviePy - Building video /Users/bapa/Codes/KidsPuzzles/videos/DigitsPuzzle-10-step_f0.5_i0.2/training-episode-4000.mp4.\n",
      "MoviePy - Writing video /Users/bapa/Codes/KidsPuzzles/videos/DigitsPuzzle-10-step_f0.5_i0.2/training-episode-4000.mp4\n",
      "\n"
     ]
    },
    {
     "name": "stderr",
     "output_type": "stream",
     "text": [
      "                                                              "
     ]
    },
    {
     "name": "stdout",
     "output_type": "stream",
     "text": [
      "MoviePy - Done !\n",
      "MoviePy - video ready /Users/bapa/Codes/KidsPuzzles/videos/DigitsPuzzle-10-step_f0.5_i0.2/training-episode-4000.mp4\n"
     ]
    },
    {
     "name": "stderr",
     "output_type": "stream",
     "text": [
      "\r"
     ]
    },
    {
     "name": "stdout",
     "output_type": "stream",
     "text": [
      "--------------------------------------\n",
      "| rollout/              |            |\n",
      "|    ep_len_mean        | 145        |\n",
      "|    ep_rew_mean        | 5.97       |\n",
      "| time/                 |            |\n",
      "|    fps                | 275        |\n",
      "|    iterations         | 17900      |\n",
      "|    time_elapsed       | 4162       |\n",
      "|    total_timesteps    | 1145600    |\n",
      "| train/                |            |\n",
      "|    entropy_loss       | -2.6       |\n",
      "|    explained_variance | 0.11493784 |\n",
      "|    learning_rate      | 0.000231   |\n",
      "|    n_updates          | 17899      |\n",
      "|    policy_loss        | 5.03       |\n",
      "|    value_loss         | 13.5       |\n",
      "--------------------------------------\n",
      "---------------------------------------\n",
      "| rollout/              |             |\n",
      "|    ep_len_mean        | 128         |\n",
      "|    ep_rew_mean        | 5.55        |\n",
      "| time/                 |             |\n",
      "|    fps                | 275         |\n",
      "|    iterations         | 18000       |\n",
      "|    time_elapsed       | 4185        |\n",
      "|    total_timesteps    | 1152000     |\n",
      "| train/                |             |\n",
      "|    entropy_loss       | -2.27       |\n",
      "|    explained_variance | -0.07125127 |\n",
      "|    learning_rate      | 0.000231    |\n",
      "|    n_updates          | 17999       |\n",
      "|    policy_loss        | -3.2        |\n",
      "|    value_loss         | 2.67        |\n",
      "---------------------------------------\n",
      "--------------------------------------\n",
      "| rollout/              |            |\n",
      "|    ep_len_mean        | 128        |\n",
      "|    ep_rew_mean        | 5.6        |\n",
      "| time/                 |            |\n",
      "|    fps                | 275        |\n",
      "|    iterations         | 18100      |\n",
      "|    time_elapsed       | 4209       |\n",
      "|    total_timesteps    | 1158400    |\n",
      "| train/                |            |\n",
      "|    entropy_loss       | -2.46      |\n",
      "|    explained_variance | 0.81102985 |\n",
      "|    learning_rate      | 0.000231   |\n",
      "|    n_updates          | 18099      |\n",
      "|    policy_loss        | -1.14      |\n",
      "|    value_loss         | 0.185      |\n",
      "--------------------------------------\n",
      "-------------------------------------\n",
      "| rollout/              |           |\n",
      "|    ep_len_mean        | 121       |\n",
      "|    ep_rew_mean        | 5.15      |\n",
      "| time/                 |           |\n",
      "|    fps                | 275       |\n",
      "|    iterations         | 18200     |\n",
      "|    time_elapsed       | 4232      |\n",
      "|    total_timesteps    | 1164800   |\n",
      "| train/                |           |\n",
      "|    entropy_loss       | -2.47     |\n",
      "|    explained_variance | 0.8782081 |\n",
      "|    learning_rate      | 0.000231  |\n",
      "|    n_updates          | 18199     |\n",
      "|    policy_loss        | 4.28      |\n",
      "|    value_loss         | 6.06      |\n",
      "-------------------------------------\n",
      "MoviePy - Building video /Users/bapa/Codes/KidsPuzzles/videos/DigitsPuzzle-10-step_f0.5_i0.2/training-episode-4200.mp4.\n",
      "MoviePy - Writing video /Users/bapa/Codes/KidsPuzzles/videos/DigitsPuzzle-10-step_f0.5_i0.2/training-episode-4200.mp4\n",
      "\n"
     ]
    },
    {
     "name": "stderr",
     "output_type": "stream",
     "text": [
      "                                                              "
     ]
    },
    {
     "name": "stdout",
     "output_type": "stream",
     "text": [
      "MoviePy - Done !\n",
      "MoviePy - video ready /Users/bapa/Codes/KidsPuzzles/videos/DigitsPuzzle-10-step_f0.5_i0.2/training-episode-4200.mp4\n"
     ]
    },
    {
     "name": "stderr",
     "output_type": "stream",
     "text": [
      "\r"
     ]
    },
    {
     "name": "stdout",
     "output_type": "stream",
     "text": [
      "-------------------------------------\n",
      "| rollout/              |           |\n",
      "|    ep_len_mean        | 103       |\n",
      "|    ep_rew_mean        | 4.72      |\n",
      "| time/                 |           |\n",
      "|    fps                | 275       |\n",
      "|    iterations         | 18300     |\n",
      "|    time_elapsed       | 4256      |\n",
      "|    total_timesteps    | 1171200   |\n",
      "| train/                |           |\n",
      "|    entropy_loss       | -2.73     |\n",
      "|    explained_variance | 0.8251906 |\n",
      "|    learning_rate      | 0.000231  |\n",
      "|    n_updates          | 18299     |\n",
      "|    policy_loss        | -1.46     |\n",
      "|    value_loss         | 0.583     |\n",
      "-------------------------------------\n",
      "--------------------------------------\n",
      "| rollout/              |            |\n",
      "|    ep_len_mean        | 90.9       |\n",
      "|    ep_rew_mean        | 4.88       |\n",
      "| time/                 |            |\n",
      "|    fps                | 275        |\n",
      "|    iterations         | 18400      |\n",
      "|    time_elapsed       | 4279       |\n",
      "|    total_timesteps    | 1177600    |\n",
      "| train/                |            |\n",
      "|    entropy_loss       | -2.2       |\n",
      "|    explained_variance | 0.87001836 |\n",
      "|    learning_rate      | 0.000231   |\n",
      "|    n_updates          | 18399      |\n",
      "|    policy_loss        | 3.42       |\n",
      "|    value_loss         | 3.47       |\n",
      "--------------------------------------\n",
      "-------------------------------------\n",
      "| rollout/              |           |\n",
      "|    ep_len_mean        | 94.3      |\n",
      "|    ep_rew_mean        | 5.17      |\n",
      "| time/                 |           |\n",
      "|    fps                | 275       |\n",
      "|    iterations         | 18500     |\n",
      "|    time_elapsed       | 4302      |\n",
      "|    total_timesteps    | 1184000   |\n",
      "| train/                |           |\n",
      "|    entropy_loss       | -2.58     |\n",
      "|    explained_variance | 0.7173759 |\n",
      "|    learning_rate      | 0.000231  |\n",
      "|    n_updates          | 18499     |\n",
      "|    policy_loss        | 2.71      |\n",
      "|    value_loss         | 3.83      |\n",
      "-------------------------------------\n",
      "MoviePy - Building video /Users/bapa/Codes/KidsPuzzles/videos/DigitsPuzzle-10-step_f0.5_i0.2/training-episode-4400.mp4.\n",
      "MoviePy - Writing video /Users/bapa/Codes/KidsPuzzles/videos/DigitsPuzzle-10-step_f0.5_i0.2/training-episode-4400.mp4\n",
      "\n"
     ]
    },
    {
     "name": "stderr",
     "output_type": "stream",
     "text": [
      "                                                             "
     ]
    },
    {
     "name": "stdout",
     "output_type": "stream",
     "text": [
      "MoviePy - Done !\n",
      "MoviePy - video ready /Users/bapa/Codes/KidsPuzzles/videos/DigitsPuzzle-10-step_f0.5_i0.2/training-episode-4400.mp4\n"
     ]
    },
    {
     "name": "stderr",
     "output_type": "stream",
     "text": [
      "\r"
     ]
    },
    {
     "name": "stdout",
     "output_type": "stream",
     "text": [
      "--------------------------------------\n",
      "| rollout/              |            |\n",
      "|    ep_len_mean        | 94.4       |\n",
      "|    ep_rew_mean        | 5.03       |\n",
      "| time/                 |            |\n",
      "|    fps                | 275        |\n",
      "|    iterations         | 18600      |\n",
      "|    time_elapsed       | 4326       |\n",
      "|    total_timesteps    | 1190400    |\n",
      "| train/                |            |\n",
      "|    entropy_loss       | -2.48      |\n",
      "|    explained_variance | 0.96892744 |\n",
      "|    learning_rate      | 0.000231   |\n",
      "|    n_updates          | 18599      |\n",
      "|    policy_loss        | 3.72       |\n",
      "|    value_loss         | 3.05       |\n",
      "--------------------------------------\n",
      "--------------------------------------\n",
      "| rollout/              |            |\n",
      "|    ep_len_mean        | 86.6       |\n",
      "|    ep_rew_mean        | 4.59       |\n",
      "| time/                 |            |\n",
      "|    fps                | 275        |\n",
      "|    iterations         | 18700      |\n",
      "|    time_elapsed       | 4349       |\n",
      "|    total_timesteps    | 1196800    |\n",
      "| train/                |            |\n",
      "|    entropy_loss       | -2.51      |\n",
      "|    explained_variance | 0.90776753 |\n",
      "|    learning_rate      | 0.000231   |\n",
      "|    n_updates          | 18699      |\n",
      "|    policy_loss        | -1.2       |\n",
      "|    value_loss         | 1.55       |\n",
      "--------------------------------------\n",
      "-------------------------------------\n",
      "| rollout/              |           |\n",
      "|    ep_len_mean        | 85.5      |\n",
      "|    ep_rew_mean        | 4.7       |\n",
      "| time/                 |           |\n",
      "|    fps                | 275       |\n",
      "|    iterations         | 18800     |\n",
      "|    time_elapsed       | 4372      |\n",
      "|    total_timesteps    | 1203200   |\n",
      "| train/                |           |\n",
      "|    entropy_loss       | -2.56     |\n",
      "|    explained_variance | 0.9698819 |\n",
      "|    learning_rate      | 7.62e-05  |\n",
      "|    n_updates          | 18799     |\n",
      "|    policy_loss        | 2.78      |\n",
      "|    value_loss         | 1.89      |\n",
      "-------------------------------------\n",
      "MoviePy - Building video /Users/bapa/Codes/KidsPuzzles/videos/DigitsPuzzle-10-step_f0.5_i0.2/training-episode-4600.mp4.\n",
      "MoviePy - Writing video /Users/bapa/Codes/KidsPuzzles/videos/DigitsPuzzle-10-step_f0.5_i0.2/training-episode-4600.mp4\n",
      "\n"
     ]
    },
    {
     "name": "stderr",
     "output_type": "stream",
     "text": [
      "                                                             "
     ]
    },
    {
     "name": "stdout",
     "output_type": "stream",
     "text": [
      "MoviePy - Done !\n",
      "MoviePy - video ready /Users/bapa/Codes/KidsPuzzles/videos/DigitsPuzzle-10-step_f0.5_i0.2/training-episode-4600.mp4\n"
     ]
    },
    {
     "name": "stderr",
     "output_type": "stream",
     "text": [
      "\r"
     ]
    },
    {
     "name": "stdout",
     "output_type": "stream",
     "text": [
      "-------------------------------------\n",
      "| rollout/              |           |\n",
      "|    ep_len_mean        | 73.3      |\n",
      "|    ep_rew_mean        | 4.9       |\n",
      "| time/                 |           |\n",
      "|    fps                | 275       |\n",
      "|    iterations         | 18900     |\n",
      "|    time_elapsed       | 4396      |\n",
      "|    total_timesteps    | 1209600   |\n",
      "| train/                |           |\n",
      "|    entropy_loss       | -2.51     |\n",
      "|    explained_variance | 0.9781503 |\n",
      "|    learning_rate      | 7.62e-05  |\n",
      "|    n_updates          | 18899     |\n",
      "|    policy_loss        | 0.823     |\n",
      "|    value_loss         | 0.439     |\n",
      "-------------------------------------\n",
      "--------------------------------------\n",
      "| rollout/              |            |\n",
      "|    ep_len_mean        | 74         |\n",
      "|    ep_rew_mean        | 5.25       |\n",
      "| time/                 |            |\n",
      "|    fps                | 275        |\n",
      "|    iterations         | 19000      |\n",
      "|    time_elapsed       | 4419       |\n",
      "|    total_timesteps    | 1216000    |\n",
      "| train/                |            |\n",
      "|    entropy_loss       | -2.62      |\n",
      "|    explained_variance | 0.84816164 |\n",
      "|    learning_rate      | 7.62e-05   |\n",
      "|    n_updates          | 18999      |\n",
      "|    policy_loss        | -1.7       |\n",
      "|    value_loss         | 1.56       |\n",
      "--------------------------------------\n",
      "MoviePy - Building video /Users/bapa/Codes/KidsPuzzles/videos/DigitsPuzzle-10-step_f0.5_i0.2/training-episode-4800.mp4.\n",
      "MoviePy - Writing video /Users/bapa/Codes/KidsPuzzles/videos/DigitsPuzzle-10-step_f0.5_i0.2/training-episode-4800.mp4\n",
      "\n"
     ]
    },
    {
     "name": "stderr",
     "output_type": "stream",
     "text": [
      "                                                             "
     ]
    },
    {
     "name": "stdout",
     "output_type": "stream",
     "text": [
      "MoviePy - Done !\n",
      "MoviePy - video ready /Users/bapa/Codes/KidsPuzzles/videos/DigitsPuzzle-10-step_f0.5_i0.2/training-episode-4800.mp4\n"
     ]
    },
    {
     "name": "stderr",
     "output_type": "stream",
     "text": [
      "\r"
     ]
    },
    {
     "name": "stdout",
     "output_type": "stream",
     "text": [
      "--------------------------------------\n",
      "| rollout/              |            |\n",
      "|    ep_len_mean        | 74.1       |\n",
      "|    ep_rew_mean        | 4.56       |\n",
      "| time/                 |            |\n",
      "|    fps                | 275        |\n",
      "|    iterations         | 19100      |\n",
      "|    time_elapsed       | 4442       |\n",
      "|    total_timesteps    | 1222400    |\n",
      "| train/                |            |\n",
      "|    entropy_loss       | -2.68      |\n",
      "|    explained_variance | 0.96440077 |\n",
      "|    learning_rate      | 7.62e-05   |\n",
      "|    n_updates          | 19099      |\n",
      "|    policy_loss        | 0.896      |\n",
      "|    value_loss         | 0.733      |\n",
      "--------------------------------------\n",
      "-------------------------------------\n",
      "| rollout/              |           |\n",
      "|    ep_len_mean        | 77.4      |\n",
      "|    ep_rew_mean        | 4.49      |\n",
      "| time/                 |           |\n",
      "|    fps                | 275       |\n",
      "|    iterations         | 19200     |\n",
      "|    time_elapsed       | 4465      |\n",
      "|    total_timesteps    | 1228800   |\n",
      "| train/                |           |\n",
      "|    entropy_loss       | -2.73     |\n",
      "|    explained_variance | 0.8988703 |\n",
      "|    learning_rate      | 7.62e-05  |\n",
      "|    n_updates          | 19199     |\n",
      "|    policy_loss        | -2.9      |\n",
      "|    value_loss         | 2.34      |\n",
      "-------------------------------------\n",
      "MoviePy - Building video /Users/bapa/Codes/KidsPuzzles/videos/DigitsPuzzle-10-step_f0.5_i0.2/training-episode-5000.mp4.\n",
      "MoviePy - Writing video /Users/bapa/Codes/KidsPuzzles/videos/DigitsPuzzle-10-step_f0.5_i0.2/training-episode-5000.mp4\n",
      "\n"
     ]
    },
    {
     "name": "stderr",
     "output_type": "stream",
     "text": [
      "                                                              "
     ]
    },
    {
     "name": "stdout",
     "output_type": "stream",
     "text": [
      "MoviePy - Done !\n",
      "MoviePy - video ready /Users/bapa/Codes/KidsPuzzles/videos/DigitsPuzzle-10-step_f0.5_i0.2/training-episode-5000.mp4\n"
     ]
    },
    {
     "name": "stderr",
     "output_type": "stream",
     "text": [
      "\r"
     ]
    },
    {
     "name": "stdout",
     "output_type": "stream",
     "text": [
      "-------------------------------------\n",
      "| rollout/              |           |\n",
      "|    ep_len_mean        | 73.3      |\n",
      "|    ep_rew_mean        | 4.15      |\n",
      "| time/                 |           |\n",
      "|    fps                | 275       |\n",
      "|    iterations         | 19300     |\n",
      "|    time_elapsed       | 4489      |\n",
      "|    total_timesteps    | 1235200   |\n",
      "| train/                |           |\n",
      "|    entropy_loss       | -2.48     |\n",
      "|    explained_variance | 0.5212847 |\n",
      "|    learning_rate      | 7.62e-05  |\n",
      "|    n_updates          | 19299     |\n",
      "|    policy_loss        | -0.987    |\n",
      "|    value_loss         | 0.592     |\n",
      "-------------------------------------\n",
      "-------------------------------------\n",
      "| rollout/              |           |\n",
      "|    ep_len_mean        | 71.8      |\n",
      "|    ep_rew_mean        | 4.45      |\n",
      "| time/                 |           |\n",
      "|    fps                | 275       |\n",
      "|    iterations         | 19400     |\n",
      "|    time_elapsed       | 4513      |\n",
      "|    total_timesteps    | 1241600   |\n",
      "| train/                |           |\n",
      "|    entropy_loss       | -2.51     |\n",
      "|    explained_variance | 0.9558537 |\n",
      "|    learning_rate      | 7.62e-05  |\n",
      "|    n_updates          | 19399     |\n",
      "|    policy_loss        | 0.3       |\n",
      "|    value_loss         | 1.26      |\n",
      "-------------------------------------\n",
      "MoviePy - Building video /Users/bapa/Codes/KidsPuzzles/videos/DigitsPuzzle-10-step_f0.5_i0.2/training-episode-5200.mp4.\n",
      "MoviePy - Writing video /Users/bapa/Codes/KidsPuzzles/videos/DigitsPuzzle-10-step_f0.5_i0.2/training-episode-5200.mp4\n",
      "\n"
     ]
    },
    {
     "name": "stderr",
     "output_type": "stream",
     "text": [
      "                                                             "
     ]
    },
    {
     "name": "stdout",
     "output_type": "stream",
     "text": [
      "MoviePy - Done !\n",
      "MoviePy - video ready /Users/bapa/Codes/KidsPuzzles/videos/DigitsPuzzle-10-step_f0.5_i0.2/training-episode-5200.mp4\n"
     ]
    },
    {
     "name": "stderr",
     "output_type": "stream",
     "text": [
      "\r"
     ]
    },
    {
     "name": "stdout",
     "output_type": "stream",
     "text": [
      "--------------------------------------\n",
      "| rollout/              |            |\n",
      "|    ep_len_mean        | 70.9       |\n",
      "|    ep_rew_mean        | 4.15       |\n",
      "| time/                 |            |\n",
      "|    fps                | 275        |\n",
      "|    iterations         | 19500      |\n",
      "|    time_elapsed       | 4536       |\n",
      "|    total_timesteps    | 1248000    |\n",
      "| train/                |            |\n",
      "|    entropy_loss       | -2.76      |\n",
      "|    explained_variance | 0.52432394 |\n",
      "|    learning_rate      | 7.62e-05   |\n",
      "|    n_updates          | 19499      |\n",
      "|    policy_loss        | -6.98      |\n",
      "|    value_loss         | 15.2       |\n",
      "--------------------------------------\n",
      "------------------------------------\n",
      "| rollout/              |          |\n",
      "|    ep_len_mean        | 73.5     |\n",
      "|    ep_rew_mean        | 4.46     |\n",
      "| time/                 |          |\n",
      "|    fps                | 275      |\n",
      "|    iterations         | 19600    |\n",
      "|    time_elapsed       | 4559     |\n",
      "|    total_timesteps    | 1254400  |\n",
      "| train/                |          |\n",
      "|    entropy_loss       | -2.22    |\n",
      "|    explained_variance | 0.95176  |\n",
      "|    learning_rate      | 7.62e-05 |\n",
      "|    n_updates          | 19599    |\n",
      "|    policy_loss        | 0.767    |\n",
      "|    value_loss         | 0.637    |\n",
      "------------------------------------\n",
      "--------------------------------------\n",
      "| rollout/              |            |\n",
      "|    ep_len_mean        | 70.7       |\n",
      "|    ep_rew_mean        | 4.6        |\n",
      "| time/                 |            |\n",
      "|    fps                | 275        |\n",
      "|    iterations         | 19700      |\n",
      "|    time_elapsed       | 4582       |\n",
      "|    total_timesteps    | 1260800    |\n",
      "| train/                |            |\n",
      "|    entropy_loss       | -2.43      |\n",
      "|    explained_variance | 0.72015405 |\n",
      "|    learning_rate      | 7.62e-05   |\n",
      "|    n_updates          | 19699      |\n",
      "|    policy_loss        | 0.881      |\n",
      "|    value_loss         | 5.26       |\n",
      "--------------------------------------\n",
      "MoviePy - Building video /Users/bapa/Codes/KidsPuzzles/videos/DigitsPuzzle-10-step_f0.5_i0.2/training-episode-5400.mp4.\n",
      "MoviePy - Writing video /Users/bapa/Codes/KidsPuzzles/videos/DigitsPuzzle-10-step_f0.5_i0.2/training-episode-5400.mp4\n",
      "\n"
     ]
    },
    {
     "name": "stderr",
     "output_type": "stream",
     "text": [
      "                                                              "
     ]
    },
    {
     "name": "stdout",
     "output_type": "stream",
     "text": [
      "MoviePy - Done !\n",
      "MoviePy - video ready /Users/bapa/Codes/KidsPuzzles/videos/DigitsPuzzle-10-step_f0.5_i0.2/training-episode-5400.mp4\n"
     ]
    },
    {
     "name": "stderr",
     "output_type": "stream",
     "text": [
      "\r"
     ]
    },
    {
     "name": "stdout",
     "output_type": "stream",
     "text": [
      "--------------------------------------\n",
      "| rollout/              |            |\n",
      "|    ep_len_mean        | 67.2       |\n",
      "|    ep_rew_mean        | 4.38       |\n",
      "| time/                 |            |\n",
      "|    fps                | 275        |\n",
      "|    iterations         | 19800      |\n",
      "|    time_elapsed       | 4606       |\n",
      "|    total_timesteps    | 1267200    |\n",
      "| train/                |            |\n",
      "|    entropy_loss       | -2.59      |\n",
      "|    explained_variance | 0.89683455 |\n",
      "|    learning_rate      | 7.62e-05   |\n",
      "|    n_updates          | 19799      |\n",
      "|    policy_loss        | -2.58      |\n",
      "|    value_loss         | 2.21       |\n",
      "--------------------------------------\n",
      "--------------------------------------\n",
      "| rollout/              |            |\n",
      "|    ep_len_mean        | 63.5       |\n",
      "|    ep_rew_mean        | 4.48       |\n",
      "| time/                 |            |\n",
      "|    fps                | 275        |\n",
      "|    iterations         | 19900      |\n",
      "|    time_elapsed       | 4630       |\n",
      "|    total_timesteps    | 1273600    |\n",
      "| train/                |            |\n",
      "|    entropy_loss       | -2.64      |\n",
      "|    explained_variance | 0.92064124 |\n",
      "|    learning_rate      | 7.62e-05   |\n",
      "|    n_updates          | 19899      |\n",
      "|    policy_loss        | -1.68      |\n",
      "|    value_loss         | 2.08       |\n",
      "--------------------------------------\n",
      "MoviePy - Building video /Users/bapa/Codes/KidsPuzzles/videos/DigitsPuzzle-10-step_f0.5_i0.2/training-episode-5600.mp4.\n",
      "MoviePy - Writing video /Users/bapa/Codes/KidsPuzzles/videos/DigitsPuzzle-10-step_f0.5_i0.2/training-episode-5600.mp4\n",
      "\n"
     ]
    },
    {
     "name": "stderr",
     "output_type": "stream",
     "text": [
      "                                                             "
     ]
    },
    {
     "name": "stdout",
     "output_type": "stream",
     "text": [
      "MoviePy - Done !\n",
      "MoviePy - video ready /Users/bapa/Codes/KidsPuzzles/videos/DigitsPuzzle-10-step_f0.5_i0.2/training-episode-5600.mp4\n"
     ]
    },
    {
     "name": "stderr",
     "output_type": "stream",
     "text": [
      "\r"
     ]
    },
    {
     "name": "stdout",
     "output_type": "stream",
     "text": [
      "-------------------------------------\n",
      "| rollout/              |           |\n",
      "|    ep_len_mean        | 65.5      |\n",
      "|    ep_rew_mean        | 4.49      |\n",
      "| time/                 |           |\n",
      "|    fps                | 275       |\n",
      "|    iterations         | 20000     |\n",
      "|    time_elapsed       | 4653      |\n",
      "|    total_timesteps    | 1280000   |\n",
      "| train/                |           |\n",
      "|    entropy_loss       | -2.4      |\n",
      "|    explained_variance | 0.9701024 |\n",
      "|    learning_rate      | 7.62e-05  |\n",
      "|    n_updates          | 19999     |\n",
      "|    policy_loss        | 2.09      |\n",
      "|    value_loss         | 1.15      |\n",
      "-------------------------------------\n",
      "-------------------------------------\n",
      "| rollout/              |           |\n",
      "|    ep_len_mean        | 66.6      |\n",
      "|    ep_rew_mean        | 4.39      |\n",
      "| time/                 |           |\n",
      "|    fps                | 275       |\n",
      "|    iterations         | 20100     |\n",
      "|    time_elapsed       | 4676      |\n",
      "|    total_timesteps    | 1286400   |\n",
      "| train/                |           |\n",
      "|    entropy_loss       | -2.5      |\n",
      "|    explained_variance | 0.9044868 |\n",
      "|    learning_rate      | 7.62e-05  |\n",
      "|    n_updates          | 20099     |\n",
      "|    policy_loss        | 2.62      |\n",
      "|    value_loss         | 2.47      |\n",
      "-------------------------------------\n",
      "MoviePy - Building video /Users/bapa/Codes/KidsPuzzles/videos/DigitsPuzzle-10-step_f0.5_i0.2/training-episode-5800.mp4.\n",
      "MoviePy - Writing video /Users/bapa/Codes/KidsPuzzles/videos/DigitsPuzzle-10-step_f0.5_i0.2/training-episode-5800.mp4\n",
      "\n"
     ]
    },
    {
     "name": "stderr",
     "output_type": "stream",
     "text": [
      "                                                             "
     ]
    },
    {
     "name": "stdout",
     "output_type": "stream",
     "text": [
      "MoviePy - Done !\n",
      "MoviePy - video ready /Users/bapa/Codes/KidsPuzzles/videos/DigitsPuzzle-10-step_f0.5_i0.2/training-episode-5800.mp4\n"
     ]
    },
    {
     "name": "stderr",
     "output_type": "stream",
     "text": [
      "\r"
     ]
    },
    {
     "name": "stdout",
     "output_type": "stream",
     "text": [
      "-------------------------------------\n",
      "| rollout/              |           |\n",
      "|    ep_len_mean        | 65.1      |\n",
      "|    ep_rew_mean        | 4.23      |\n",
      "| time/                 |           |\n",
      "|    fps                | 275       |\n",
      "|    iterations         | 20200     |\n",
      "|    time_elapsed       | 4700      |\n",
      "|    total_timesteps    | 1292800   |\n",
      "| train/                |           |\n",
      "|    entropy_loss       | -2.47     |\n",
      "|    explained_variance | 0.9700268 |\n",
      "|    learning_rate      | 7.62e-05  |\n",
      "|    n_updates          | 20199     |\n",
      "|    policy_loss        | -0.726    |\n",
      "|    value_loss         | 0.254     |\n",
      "-------------------------------------\n",
      "-------------------------------------\n",
      "| rollout/              |           |\n",
      "|    ep_len_mean        | 63.2      |\n",
      "|    ep_rew_mean        | 3.8       |\n",
      "| time/                 |           |\n",
      "|    fps                | 275       |\n",
      "|    iterations         | 20300     |\n",
      "|    time_elapsed       | 4724      |\n",
      "|    total_timesteps    | 1299200   |\n",
      "| train/                |           |\n",
      "|    entropy_loss       | -2.49     |\n",
      "|    explained_variance | 0.7148754 |\n",
      "|    learning_rate      | 7.62e-05  |\n",
      "|    n_updates          | 20299     |\n",
      "|    policy_loss        | -2.47     |\n",
      "|    value_loss         | 3.54      |\n",
      "-------------------------------------\n",
      "MoviePy - Building video /Users/bapa/Codes/KidsPuzzles/videos/DigitsPuzzle-10-step_f0.5_i0.2/training-episode-6000.mp4.\n",
      "MoviePy - Writing video /Users/bapa/Codes/KidsPuzzles/videos/DigitsPuzzle-10-step_f0.5_i0.2/training-episode-6000.mp4\n",
      "\n"
     ]
    },
    {
     "name": "stderr",
     "output_type": "stream",
     "text": [
      "                                                             "
     ]
    },
    {
     "name": "stdout",
     "output_type": "stream",
     "text": [
      "MoviePy - Done !\n",
      "MoviePy - video ready /Users/bapa/Codes/KidsPuzzles/videos/DigitsPuzzle-10-step_f0.5_i0.2/training-episode-6000.mp4\n"
     ]
    },
    {
     "name": "stderr",
     "output_type": "stream",
     "text": [
      "\r"
     ]
    },
    {
     "name": "stdout",
     "output_type": "stream",
     "text": [
      "--------------------------------------\n",
      "| rollout/              |            |\n",
      "|    ep_len_mean        | 65.4       |\n",
      "|    ep_rew_mean        | 4.35       |\n",
      "| time/                 |            |\n",
      "|    fps                | 274        |\n",
      "|    iterations         | 20400      |\n",
      "|    time_elapsed       | 4747       |\n",
      "|    total_timesteps    | 1305600    |\n",
      "| train/                |            |\n",
      "|    entropy_loss       | -2.21      |\n",
      "|    explained_variance | 0.87897635 |\n",
      "|    learning_rate      | 7.62e-05   |\n",
      "|    n_updates          | 20399      |\n",
      "|    policy_loss        | 1.29       |\n",
      "|    value_loss         | 1.01       |\n",
      "--------------------------------------\n",
      "-------------------------------------\n",
      "| rollout/              |           |\n",
      "|    ep_len_mean        | 66.4      |\n",
      "|    ep_rew_mean        | 4.33      |\n",
      "| time/                 |           |\n",
      "|    fps                | 274       |\n",
      "|    iterations         | 20500     |\n",
      "|    time_elapsed       | 4771      |\n",
      "|    total_timesteps    | 1312000   |\n",
      "| train/                |           |\n",
      "|    entropy_loss       | -2.28     |\n",
      "|    explained_variance | 0.9207776 |\n",
      "|    learning_rate      | 7.62e-05  |\n",
      "|    n_updates          | 20499     |\n",
      "|    policy_loss        | 3.6       |\n",
      "|    value_loss         | 3.6       |\n",
      "-------------------------------------\n",
      "MoviePy - Building video /Users/bapa/Codes/KidsPuzzles/videos/DigitsPuzzle-10-step_f0.5_i0.2/training-episode-6200.mp4.\n",
      "MoviePy - Writing video /Users/bapa/Codes/KidsPuzzles/videos/DigitsPuzzle-10-step_f0.5_i0.2/training-episode-6200.mp4\n",
      "\n"
     ]
    },
    {
     "name": "stderr",
     "output_type": "stream",
     "text": [
      "                                                                        "
     ]
    },
    {
     "name": "stdout",
     "output_type": "stream",
     "text": [
      "MoviePy - Done !\n",
      "MoviePy - video ready /Users/bapa/Codes/KidsPuzzles/videos/DigitsPuzzle-10-step_f0.5_i0.2/training-episode-6200.mp4\n"
     ]
    },
    {
     "name": "stderr",
     "output_type": "stream",
     "text": [
      "\r"
     ]
    },
    {
     "name": "stdout",
     "output_type": "stream",
     "text": [
      "--------------------------------------\n",
      "| rollout/              |            |\n",
      "|    ep_len_mean        | 65.4       |\n",
      "|    ep_rew_mean        | 4.4        |\n",
      "| time/                 |            |\n",
      "|    fps                | 274        |\n",
      "|    iterations         | 20600      |\n",
      "|    time_elapsed       | 4794       |\n",
      "|    total_timesteps    | 1318400    |\n",
      "| train/                |            |\n",
      "|    entropy_loss       | -2.42      |\n",
      "|    explained_variance | 0.92915964 |\n",
      "|    learning_rate      | 7.62e-05   |\n",
      "|    n_updates          | 20599      |\n",
      "|    policy_loss        | -1.56      |\n",
      "|    value_loss         | 1.31       |\n",
      "--------------------------------------\n",
      "------------------------------------\n",
      "| rollout/              |          |\n",
      "|    ep_len_mean        | 63.9     |\n",
      "|    ep_rew_mean        | 4.52     |\n",
      "| time/                 |          |\n",
      "|    fps                | 274      |\n",
      "|    iterations         | 20700    |\n",
      "|    time_elapsed       | 4818     |\n",
      "|    total_timesteps    | 1324800  |\n",
      "| train/                |          |\n",
      "|    entropy_loss       | -2.69    |\n",
      "|    explained_variance | 0.853178 |\n",
      "|    learning_rate      | 7.62e-05 |\n",
      "|    n_updates          | 20699    |\n",
      "|    policy_loss        | -3.07    |\n",
      "|    value_loss         | 2.24     |\n",
      "------------------------------------\n",
      "MoviePy - Building video /Users/bapa/Codes/KidsPuzzles/videos/DigitsPuzzle-10-step_f0.5_i0.2/training-episode-6400.mp4.\n",
      "MoviePy - Writing video /Users/bapa/Codes/KidsPuzzles/videos/DigitsPuzzle-10-step_f0.5_i0.2/training-episode-6400.mp4\n",
      "\n"
     ]
    },
    {
     "name": "stderr",
     "output_type": "stream",
     "text": [
      "                                                             "
     ]
    },
    {
     "name": "stdout",
     "output_type": "stream",
     "text": [
      "MoviePy - Done !\n",
      "MoviePy - video ready /Users/bapa/Codes/KidsPuzzles/videos/DigitsPuzzle-10-step_f0.5_i0.2/training-episode-6400.mp4\n"
     ]
    },
    {
     "name": "stderr",
     "output_type": "stream",
     "text": [
      "\r"
     ]
    },
    {
     "name": "stdout",
     "output_type": "stream",
     "text": [
      "--------------------------------------\n",
      "| rollout/              |            |\n",
      "|    ep_len_mean        | 64.2       |\n",
      "|    ep_rew_mean        | 4.06       |\n",
      "| time/                 |            |\n",
      "|    fps                | 274        |\n",
      "|    iterations         | 20800      |\n",
      "|    time_elapsed       | 4841       |\n",
      "|    total_timesteps    | 1331200    |\n",
      "| train/                |            |\n",
      "|    entropy_loss       | -2.47      |\n",
      "|    explained_variance | 0.90305537 |\n",
      "|    learning_rate      | 7.62e-05   |\n",
      "|    n_updates          | 20799      |\n",
      "|    policy_loss        | -0.2       |\n",
      "|    value_loss         | 0.234      |\n",
      "--------------------------------------\n",
      "--------------------------------------\n",
      "| rollout/              |            |\n",
      "|    ep_len_mean        | 64.4       |\n",
      "|    ep_rew_mean        | 3.95       |\n",
      "| time/                 |            |\n",
      "|    fps                | 274        |\n",
      "|    iterations         | 20900      |\n",
      "|    time_elapsed       | 4865       |\n",
      "|    total_timesteps    | 1337600    |\n",
      "| train/                |            |\n",
      "|    entropy_loss       | -2.29      |\n",
      "|    explained_variance | 0.96761817 |\n",
      "|    learning_rate      | 7.62e-05   |\n",
      "|    n_updates          | 20899      |\n",
      "|    policy_loss        | 0.308      |\n",
      "|    value_loss         | 0.557      |\n",
      "--------------------------------------\n",
      "MoviePy - Building video /Users/bapa/Codes/KidsPuzzles/videos/DigitsPuzzle-10-step_f0.5_i0.2/training-episode-6600.mp4.\n",
      "MoviePy - Writing video /Users/bapa/Codes/KidsPuzzles/videos/DigitsPuzzle-10-step_f0.5_i0.2/training-episode-6600.mp4\n",
      "\n"
     ]
    },
    {
     "name": "stderr",
     "output_type": "stream",
     "text": [
      "                                                             "
     ]
    },
    {
     "name": "stdout",
     "output_type": "stream",
     "text": [
      "MoviePy - Done !\n",
      "MoviePy - video ready /Users/bapa/Codes/KidsPuzzles/videos/DigitsPuzzle-10-step_f0.5_i0.2/training-episode-6600.mp4\n"
     ]
    },
    {
     "name": "stderr",
     "output_type": "stream",
     "text": [
      "\r"
     ]
    },
    {
     "name": "stdout",
     "output_type": "stream",
     "text": [
      "-------------------------------------\n",
      "| rollout/              |           |\n",
      "|    ep_len_mean        | 64.3      |\n",
      "|    ep_rew_mean        | 4.22      |\n",
      "| time/                 |           |\n",
      "|    fps                | 274       |\n",
      "|    iterations         | 21000     |\n",
      "|    time_elapsed       | 4888      |\n",
      "|    total_timesteps    | 1344000   |\n",
      "| train/                |           |\n",
      "|    entropy_loss       | -2.34     |\n",
      "|    explained_variance | 0.9777118 |\n",
      "|    learning_rate      | 7.62e-05  |\n",
      "|    n_updates          | 20999     |\n",
      "|    policy_loss        | 0.442     |\n",
      "|    value_loss         | 0.517     |\n",
      "-------------------------------------\n",
      "-------------------------------------\n",
      "| rollout/              |           |\n",
      "|    ep_len_mean        | 67.3      |\n",
      "|    ep_rew_mean        | 4.05      |\n",
      "| time/                 |           |\n",
      "|    fps                | 274       |\n",
      "|    iterations         | 21100     |\n",
      "|    time_elapsed       | 4911      |\n",
      "|    total_timesteps    | 1350400   |\n",
      "| train/                |           |\n",
      "|    entropy_loss       | -2.46     |\n",
      "|    explained_variance | 0.7416948 |\n",
      "|    learning_rate      | 7.62e-05  |\n",
      "|    n_updates          | 21099     |\n",
      "|    policy_loss        | -3.15     |\n",
      "|    value_loss         | 3.92      |\n",
      "-------------------------------------\n",
      "MoviePy - Building video /Users/bapa/Codes/KidsPuzzles/videos/DigitsPuzzle-10-step_f0.5_i0.2/training-episode-6800.mp4.\n",
      "MoviePy - Writing video /Users/bapa/Codes/KidsPuzzles/videos/DigitsPuzzle-10-step_f0.5_i0.2/training-episode-6800.mp4\n",
      "\n"
     ]
    },
    {
     "name": "stderr",
     "output_type": "stream",
     "text": [
      "                                                             "
     ]
    },
    {
     "name": "stdout",
     "output_type": "stream",
     "text": [
      "MoviePy - Done !\n",
      "MoviePy - video ready /Users/bapa/Codes/KidsPuzzles/videos/DigitsPuzzle-10-step_f0.5_i0.2/training-episode-6800.mp4\n"
     ]
    },
    {
     "name": "stderr",
     "output_type": "stream",
     "text": [
      "\r"
     ]
    },
    {
     "name": "stdout",
     "output_type": "stream",
     "text": [
      "--------------------------------------\n",
      "| rollout/              |            |\n",
      "|    ep_len_mean        | 60.9       |\n",
      "|    ep_rew_mean        | 4.06       |\n",
      "| time/                 |            |\n",
      "|    fps                | 274        |\n",
      "|    iterations         | 21200      |\n",
      "|    time_elapsed       | 4935       |\n",
      "|    total_timesteps    | 1356800    |\n",
      "| train/                |            |\n",
      "|    entropy_loss       | -2.45      |\n",
      "|    explained_variance | 0.93348664 |\n",
      "|    learning_rate      | 7.62e-05   |\n",
      "|    n_updates          | 21199      |\n",
      "|    policy_loss        | -0.524     |\n",
      "|    value_loss         | 0.467      |\n",
      "--------------------------------------\n",
      "-------------------------------------\n",
      "| rollout/              |           |\n",
      "|    ep_len_mean        | 63.3      |\n",
      "|    ep_rew_mean        | 4.89      |\n",
      "| time/                 |           |\n",
      "|    fps                | 274       |\n",
      "|    iterations         | 21300     |\n",
      "|    time_elapsed       | 4958      |\n",
      "|    total_timesteps    | 1363200   |\n",
      "| train/                |           |\n",
      "|    entropy_loss       | -2.44     |\n",
      "|    explained_variance | 0.9403816 |\n",
      "|    learning_rate      | 7.62e-05  |\n",
      "|    n_updates          | 21299     |\n",
      "|    policy_loss        | 0.0403    |\n",
      "|    value_loss         | 0.658     |\n",
      "-------------------------------------\n",
      "MoviePy - Building video /Users/bapa/Codes/KidsPuzzles/videos/DigitsPuzzle-10-step_f0.5_i0.2/training-episode-7000.mp4.\n",
      "MoviePy - Writing video /Users/bapa/Codes/KidsPuzzles/videos/DigitsPuzzle-10-step_f0.5_i0.2/training-episode-7000.mp4\n",
      "\n"
     ]
    },
    {
     "name": "stderr",
     "output_type": "stream",
     "text": [
      "                                                             "
     ]
    },
    {
     "name": "stdout",
     "output_type": "stream",
     "text": [
      "MoviePy - Done !\n",
      "MoviePy - video ready /Users/bapa/Codes/KidsPuzzles/videos/DigitsPuzzle-10-step_f0.5_i0.2/training-episode-7000.mp4\n"
     ]
    },
    {
     "name": "stderr",
     "output_type": "stream",
     "text": [
      "\r"
     ]
    },
    {
     "name": "stdout",
     "output_type": "stream",
     "text": [
      "------------------------------------\n",
      "| rollout/              |          |\n",
      "|    ep_len_mean        | 62.5     |\n",
      "|    ep_rew_mean        | 4.32     |\n",
      "| time/                 |          |\n",
      "|    fps                | 274      |\n",
      "|    iterations         | 21400    |\n",
      "|    time_elapsed       | 4982     |\n",
      "|    total_timesteps    | 1369600  |\n",
      "| train/                |          |\n",
      "|    entropy_loss       | -2.5     |\n",
      "|    explained_variance | 0.972129 |\n",
      "|    learning_rate      | 7.62e-05 |\n",
      "|    n_updates          | 21399    |\n",
      "|    policy_loss        | 0.101    |\n",
      "|    value_loss         | 0.226    |\n",
      "------------------------------------\n",
      "--------------------------------------\n",
      "| rollout/              |            |\n",
      "|    ep_len_mean        | 62.3       |\n",
      "|    ep_rew_mean        | 4.37       |\n",
      "| time/                 |            |\n",
      "|    fps                | 274        |\n",
      "|    iterations         | 21500      |\n",
      "|    time_elapsed       | 5005       |\n",
      "|    total_timesteps    | 1376000    |\n",
      "| train/                |            |\n",
      "|    entropy_loss       | -2.48      |\n",
      "|    explained_variance | 0.92346007 |\n",
      "|    learning_rate      | 7.62e-05   |\n",
      "|    n_updates          | 21499      |\n",
      "|    policy_loss        | -3.31      |\n",
      "|    value_loss         | 2.9        |\n",
      "--------------------------------------\n",
      "MoviePy - Building video /Users/bapa/Codes/KidsPuzzles/videos/DigitsPuzzle-10-step_f0.5_i0.2/training-episode-7200.mp4.\n",
      "MoviePy - Writing video /Users/bapa/Codes/KidsPuzzles/videos/DigitsPuzzle-10-step_f0.5_i0.2/training-episode-7200.mp4\n",
      "\n"
     ]
    },
    {
     "name": "stderr",
     "output_type": "stream",
     "text": [
      "                                                             "
     ]
    },
    {
     "name": "stdout",
     "output_type": "stream",
     "text": [
      "MoviePy - Done !\n",
      "MoviePy - video ready /Users/bapa/Codes/KidsPuzzles/videos/DigitsPuzzle-10-step_f0.5_i0.2/training-episode-7200.mp4\n"
     ]
    },
    {
     "name": "stderr",
     "output_type": "stream",
     "text": [
      "\r"
     ]
    },
    {
     "name": "stdout",
     "output_type": "stream",
     "text": [
      "-------------------------------------\n",
      "| rollout/              |           |\n",
      "|    ep_len_mean        | 62.3      |\n",
      "|    ep_rew_mean        | 4.83      |\n",
      "| time/                 |           |\n",
      "|    fps                | 274       |\n",
      "|    iterations         | 21600     |\n",
      "|    time_elapsed       | 5029      |\n",
      "|    total_timesteps    | 1382400   |\n",
      "| train/                |           |\n",
      "|    entropy_loss       | -2.46     |\n",
      "|    explained_variance | 0.9558716 |\n",
      "|    learning_rate      | 7.62e-05  |\n",
      "|    n_updates          | 21599     |\n",
      "|    policy_loss        | 1.23      |\n",
      "|    value_loss         | 0.698     |\n",
      "-------------------------------------\n",
      "-------------------------------------\n",
      "| rollout/              |           |\n",
      "|    ep_len_mean        | 62        |\n",
      "|    ep_rew_mean        | 4.34      |\n",
      "| time/                 |           |\n",
      "|    fps                | 274       |\n",
      "|    iterations         | 21700     |\n",
      "|    time_elapsed       | 5052      |\n",
      "|    total_timesteps    | 1388800   |\n",
      "| train/                |           |\n",
      "|    entropy_loss       | -2.4      |\n",
      "|    explained_variance | 0.9711799 |\n",
      "|    learning_rate      | 7.62e-05  |\n",
      "|    n_updates          | 21699     |\n",
      "|    policy_loss        | 0.254     |\n",
      "|    value_loss         | 0.405     |\n",
      "-------------------------------------\n",
      "MoviePy - Building video /Users/bapa/Codes/KidsPuzzles/videos/DigitsPuzzle-10-step_f0.5_i0.2/training-episode-7400.mp4.\n",
      "MoviePy - Writing video /Users/bapa/Codes/KidsPuzzles/videos/DigitsPuzzle-10-step_f0.5_i0.2/training-episode-7400.mp4\n",
      "\n"
     ]
    },
    {
     "name": "stderr",
     "output_type": "stream",
     "text": [
      "                                                             "
     ]
    },
    {
     "name": "stdout",
     "output_type": "stream",
     "text": [
      "MoviePy - Done !\n",
      "MoviePy - video ready /Users/bapa/Codes/KidsPuzzles/videos/DigitsPuzzle-10-step_f0.5_i0.2/training-episode-7400.mp4\n"
     ]
    },
    {
     "name": "stderr",
     "output_type": "stream",
     "text": [
      "\r"
     ]
    },
    {
     "name": "stdout",
     "output_type": "stream",
     "text": [
      "--------------------------------------\n",
      "| rollout/              |            |\n",
      "|    ep_len_mean        | 59.9       |\n",
      "|    ep_rew_mean        | 4.12       |\n",
      "| time/                 |            |\n",
      "|    fps                | 274        |\n",
      "|    iterations         | 21800      |\n",
      "|    time_elapsed       | 5076       |\n",
      "|    total_timesteps    | 1395200    |\n",
      "| train/                |            |\n",
      "|    entropy_loss       | -2.51      |\n",
      "|    explained_variance | 0.90485567 |\n",
      "|    learning_rate      | 7.62e-05   |\n",
      "|    n_updates          | 21799      |\n",
      "|    policy_loss        | 1.23       |\n",
      "|    value_loss         | 1.04       |\n",
      "--------------------------------------\n",
      "--------------------------------------\n",
      "| rollout/              |            |\n",
      "|    ep_len_mean        | 60.7       |\n",
      "|    ep_rew_mean        | 4.53       |\n",
      "| time/                 |            |\n",
      "|    fps                | 274        |\n",
      "|    iterations         | 21900      |\n",
      "|    time_elapsed       | 5099       |\n",
      "|    total_timesteps    | 1401600    |\n",
      "| train/                |            |\n",
      "|    entropy_loss       | -2.25      |\n",
      "|    explained_variance | 0.96546555 |\n",
      "|    learning_rate      | 7.62e-05   |\n",
      "|    n_updates          | 21899      |\n",
      "|    policy_loss        | 0.382      |\n",
      "|    value_loss         | 0.416      |\n",
      "--------------------------------------\n",
      "MoviePy - Building video /Users/bapa/Codes/KidsPuzzles/videos/DigitsPuzzle-10-step_f0.5_i0.2/training-episode-7600.mp4.\n",
      "MoviePy - Writing video /Users/bapa/Codes/KidsPuzzles/videos/DigitsPuzzle-10-step_f0.5_i0.2/training-episode-7600.mp4\n",
      "\n"
     ]
    },
    {
     "name": "stderr",
     "output_type": "stream",
     "text": [
      "                                                             "
     ]
    },
    {
     "name": "stdout",
     "output_type": "stream",
     "text": [
      "MoviePy - Done !\n",
      "MoviePy - video ready /Users/bapa/Codes/KidsPuzzles/videos/DigitsPuzzle-10-step_f0.5_i0.2/training-episode-7600.mp4\n"
     ]
    },
    {
     "name": "stderr",
     "output_type": "stream",
     "text": [
      "\r"
     ]
    },
    {
     "name": "stdout",
     "output_type": "stream",
     "text": [
      "--------------------------------------\n",
      "| rollout/              |            |\n",
      "|    ep_len_mean        | 59.8       |\n",
      "|    ep_rew_mean        | 4.82       |\n",
      "| time/                 |            |\n",
      "|    fps                | 274        |\n",
      "|    iterations         | 22000      |\n",
      "|    time_elapsed       | 5122       |\n",
      "|    total_timesteps    | 1408000    |\n",
      "| train/                |            |\n",
      "|    entropy_loss       | -2.43      |\n",
      "|    explained_variance | 0.85209966 |\n",
      "|    learning_rate      | 7.62e-05   |\n",
      "|    n_updates          | 21999      |\n",
      "|    policy_loss        | 1.47       |\n",
      "|    value_loss         | 1.56       |\n",
      "--------------------------------------\n",
      "--------------------------------------\n",
      "| rollout/              |            |\n",
      "|    ep_len_mean        | 65.3       |\n",
      "|    ep_rew_mean        | 4.08       |\n",
      "| time/                 |            |\n",
      "|    fps                | 274        |\n",
      "|    iterations         | 22100      |\n",
      "|    time_elapsed       | 5146       |\n",
      "|    total_timesteps    | 1414400    |\n",
      "| train/                |            |\n",
      "|    entropy_loss       | -2.41      |\n",
      "|    explained_variance | 0.95612437 |\n",
      "|    learning_rate      | 7.62e-05   |\n",
      "|    n_updates          | 22099      |\n",
      "|    policy_loss        | 0.755      |\n",
      "|    value_loss         | 0.531      |\n",
      "--------------------------------------\n",
      "MoviePy - Building video /Users/bapa/Codes/KidsPuzzles/videos/DigitsPuzzle-10-step_f0.5_i0.2/training-episode-7800.mp4.\n",
      "MoviePy - Writing video /Users/bapa/Codes/KidsPuzzles/videos/DigitsPuzzle-10-step_f0.5_i0.2/training-episode-7800.mp4\n",
      "\n"
     ]
    },
    {
     "name": "stderr",
     "output_type": "stream",
     "text": [
      "                                                             "
     ]
    },
    {
     "name": "stdout",
     "output_type": "stream",
     "text": [
      "MoviePy - Done !\n",
      "MoviePy - video ready /Users/bapa/Codes/KidsPuzzles/videos/DigitsPuzzle-10-step_f0.5_i0.2/training-episode-7800.mp4\n"
     ]
    },
    {
     "name": "stderr",
     "output_type": "stream",
     "text": [
      "\r"
     ]
    },
    {
     "name": "stdout",
     "output_type": "stream",
     "text": [
      "-------------------------------------\n",
      "| rollout/              |           |\n",
      "|    ep_len_mean        | 60.1      |\n",
      "|    ep_rew_mean        | 4.34      |\n",
      "| time/                 |           |\n",
      "|    fps                | 274       |\n",
      "|    iterations         | 22200     |\n",
      "|    time_elapsed       | 5170      |\n",
      "|    total_timesteps    | 1420800   |\n",
      "| train/                |           |\n",
      "|    entropy_loss       | -2.53     |\n",
      "|    explained_variance | 0.9343591 |\n",
      "|    learning_rate      | 7.62e-05  |\n",
      "|    n_updates          | 22199     |\n",
      "|    policy_loss        | -1.18     |\n",
      "|    value_loss         | 0.713     |\n",
      "-------------------------------------\n",
      "MoviePy - Building video /Users/bapa/Codes/KidsPuzzles/videos/DigitsPuzzle-10-step_f0.5_i0.2/training-episode-8000.mp4.\n",
      "MoviePy - Writing video /Users/bapa/Codes/KidsPuzzles/videos/DigitsPuzzle-10-step_f0.5_i0.2/training-episode-8000.mp4\n",
      "\n"
     ]
    },
    {
     "name": "stderr",
     "output_type": "stream",
     "text": [
      "                                                             "
     ]
    },
    {
     "name": "stdout",
     "output_type": "stream",
     "text": [
      "MoviePy - Done !\n",
      "MoviePy - video ready /Users/bapa/Codes/KidsPuzzles/videos/DigitsPuzzle-10-step_f0.5_i0.2/training-episode-8000.mp4\n"
     ]
    },
    {
     "name": "stderr",
     "output_type": "stream",
     "text": [
      "\r"
     ]
    },
    {
     "name": "stdout",
     "output_type": "stream",
     "text": [
      "-------------------------------------\n",
      "| rollout/              |           |\n",
      "|    ep_len_mean        | 59.7      |\n",
      "|    ep_rew_mean        | 4.22      |\n",
      "| time/                 |           |\n",
      "|    fps                | 274       |\n",
      "|    iterations         | 22300     |\n",
      "|    time_elapsed       | 5193      |\n",
      "|    total_timesteps    | 1427200   |\n",
      "| train/                |           |\n",
      "|    entropy_loss       | -2.4      |\n",
      "|    explained_variance | 0.9353992 |\n",
      "|    learning_rate      | 7.62e-05  |\n",
      "|    n_updates          | 22299     |\n",
      "|    policy_loss        | 0.157     |\n",
      "|    value_loss         | 0.431     |\n",
      "-------------------------------------\n",
      "-------------------------------------\n",
      "| rollout/              |           |\n",
      "|    ep_len_mean        | 63        |\n",
      "|    ep_rew_mean        | 4.22      |\n",
      "| time/                 |           |\n",
      "|    fps                | 274       |\n",
      "|    iterations         | 22400     |\n",
      "|    time_elapsed       | 5216      |\n",
      "|    total_timesteps    | 1433600   |\n",
      "| train/                |           |\n",
      "|    entropy_loss       | -2.46     |\n",
      "|    explained_variance | 0.8626561 |\n",
      "|    learning_rate      | 7.62e-05  |\n",
      "|    n_updates          | 22399     |\n",
      "|    policy_loss        | 0.556     |\n",
      "|    value_loss         | 1.4       |\n",
      "-------------------------------------\n",
      "MoviePy - Building video /Users/bapa/Codes/KidsPuzzles/videos/DigitsPuzzle-10-step_f0.5_i0.2/training-episode-8200.mp4.\n",
      "MoviePy - Writing video /Users/bapa/Codes/KidsPuzzles/videos/DigitsPuzzle-10-step_f0.5_i0.2/training-episode-8200.mp4\n",
      "\n"
     ]
    },
    {
     "name": "stderr",
     "output_type": "stream",
     "text": [
      "                                                             "
     ]
    },
    {
     "name": "stdout",
     "output_type": "stream",
     "text": [
      "MoviePy - Done !\n",
      "MoviePy - video ready /Users/bapa/Codes/KidsPuzzles/videos/DigitsPuzzle-10-step_f0.5_i0.2/training-episode-8200.mp4\n"
     ]
    },
    {
     "name": "stderr",
     "output_type": "stream",
     "text": [
      "\r"
     ]
    },
    {
     "name": "stdout",
     "output_type": "stream",
     "text": [
      "--------------------------------------\n",
      "| rollout/              |            |\n",
      "|    ep_len_mean        | 66.2       |\n",
      "|    ep_rew_mean        | 4.38       |\n",
      "| time/                 |            |\n",
      "|    fps                | 274        |\n",
      "|    iterations         | 22500      |\n",
      "|    time_elapsed       | 5240       |\n",
      "|    total_timesteps    | 1440000    |\n",
      "| train/                |            |\n",
      "|    entropy_loss       | -2.47      |\n",
      "|    explained_variance | 0.71216947 |\n",
      "|    learning_rate      | 7.62e-05   |\n",
      "|    n_updates          | 22499      |\n",
      "|    policy_loss        | -8.21      |\n",
      "|    value_loss         | 12.4       |\n",
      "--------------------------------------\n",
      "--------------------------------------\n",
      "| rollout/              |            |\n",
      "|    ep_len_mean        | 60.1       |\n",
      "|    ep_rew_mean        | 3.83       |\n",
      "| time/                 |            |\n",
      "|    fps                | 274        |\n",
      "|    iterations         | 22600      |\n",
      "|    time_elapsed       | 5263       |\n",
      "|    total_timesteps    | 1446400    |\n",
      "| train/                |            |\n",
      "|    entropy_loss       | -2.51      |\n",
      "|    explained_variance | 0.86327696 |\n",
      "|    learning_rate      | 7.62e-05   |\n",
      "|    n_updates          | 22599      |\n",
      "|    policy_loss        | -2.68      |\n",
      "|    value_loss         | 2.05       |\n",
      "--------------------------------------\n",
      "MoviePy - Building video /Users/bapa/Codes/KidsPuzzles/videos/DigitsPuzzle-10-step_f0.5_i0.2/training-episode-8400.mp4.\n",
      "MoviePy - Writing video /Users/bapa/Codes/KidsPuzzles/videos/DigitsPuzzle-10-step_f0.5_i0.2/training-episode-8400.mp4\n",
      "\n"
     ]
    },
    {
     "name": "stderr",
     "output_type": "stream",
     "text": [
      "                                                             "
     ]
    },
    {
     "name": "stdout",
     "output_type": "stream",
     "text": [
      "MoviePy - Done !\n",
      "MoviePy - video ready /Users/bapa/Codes/KidsPuzzles/videos/DigitsPuzzle-10-step_f0.5_i0.2/training-episode-8400.mp4\n"
     ]
    },
    {
     "name": "stderr",
     "output_type": "stream",
     "text": [
      "\r"
     ]
    },
    {
     "name": "stdout",
     "output_type": "stream",
     "text": [
      "------------------------------------\n",
      "| rollout/              |          |\n",
      "|    ep_len_mean        | 58.4     |\n",
      "|    ep_rew_mean        | 4.61     |\n",
      "| time/                 |          |\n",
      "|    fps                | 274      |\n",
      "|    iterations         | 22700    |\n",
      "|    time_elapsed       | 5287     |\n",
      "|    total_timesteps    | 1452800  |\n",
      "| train/                |          |\n",
      "|    entropy_loss       | -2.17    |\n",
      "|    explained_variance | 0.984657 |\n",
      "|    learning_rate      | 7.62e-05 |\n",
      "|    n_updates          | 22699    |\n",
      "|    policy_loss        | -0.735   |\n",
      "|    value_loss         | 0.228    |\n",
      "------------------------------------\n",
      "-------------------------------------\n",
      "| rollout/              |           |\n",
      "|    ep_len_mean        | 58.5      |\n",
      "|    ep_rew_mean        | 4.28      |\n",
      "| time/                 |           |\n",
      "|    fps                | 274       |\n",
      "|    iterations         | 22800     |\n",
      "|    time_elapsed       | 5310      |\n",
      "|    total_timesteps    | 1459200   |\n",
      "| train/                |           |\n",
      "|    entropy_loss       | -2.5      |\n",
      "|    explained_variance | 0.9401416 |\n",
      "|    learning_rate      | 7.62e-05  |\n",
      "|    n_updates          | 22799     |\n",
      "|    policy_loss        | -0.532    |\n",
      "|    value_loss         | 0.58      |\n",
      "-------------------------------------\n",
      "MoviePy - Building video /Users/bapa/Codes/KidsPuzzles/videos/DigitsPuzzle-10-step_f0.5_i0.2/training-episode-8600.mp4.\n",
      "MoviePy - Writing video /Users/bapa/Codes/KidsPuzzles/videos/DigitsPuzzle-10-step_f0.5_i0.2/training-episode-8600.mp4\n",
      "\n"
     ]
    },
    {
     "name": "stderr",
     "output_type": "stream",
     "text": [
      "                                                             "
     ]
    },
    {
     "name": "stdout",
     "output_type": "stream",
     "text": [
      "MoviePy - Done !\n",
      "MoviePy - video ready /Users/bapa/Codes/KidsPuzzles/videos/DigitsPuzzle-10-step_f0.5_i0.2/training-episode-8600.mp4\n"
     ]
    },
    {
     "name": "stderr",
     "output_type": "stream",
     "text": [
      "\r"
     ]
    },
    {
     "name": "stdout",
     "output_type": "stream",
     "text": [
      "-------------------------------------\n",
      "| rollout/              |           |\n",
      "|    ep_len_mean        | 58.4      |\n",
      "|    ep_rew_mean        | 4.51      |\n",
      "| time/                 |           |\n",
      "|    fps                | 274       |\n",
      "|    iterations         | 22900     |\n",
      "|    time_elapsed       | 5334      |\n",
      "|    total_timesteps    | 1465600   |\n",
      "| train/                |           |\n",
      "|    entropy_loss       | -2.41     |\n",
      "|    explained_variance | 0.9674488 |\n",
      "|    learning_rate      | 7.62e-05  |\n",
      "|    n_updates          | 22899     |\n",
      "|    policy_loss        | 0.125     |\n",
      "|    value_loss         | 0.303     |\n",
      "-------------------------------------\n",
      "-------------------------------------\n",
      "| rollout/              |           |\n",
      "|    ep_len_mean        | 59.1      |\n",
      "|    ep_rew_mean        | 4.23      |\n",
      "| time/                 |           |\n",
      "|    fps                | 274       |\n",
      "|    iterations         | 23000     |\n",
      "|    time_elapsed       | 5357      |\n",
      "|    total_timesteps    | 1472000   |\n",
      "| train/                |           |\n",
      "|    entropy_loss       | -2.31     |\n",
      "|    explained_variance | 0.8165335 |\n",
      "|    learning_rate      | 7.62e-05  |\n",
      "|    n_updates          | 22999     |\n",
      "|    policy_loss        | -3.82     |\n",
      "|    value_loss         | 3.89      |\n",
      "-------------------------------------\n",
      "MoviePy - Building video /Users/bapa/Codes/KidsPuzzles/videos/DigitsPuzzle-10-step_f0.5_i0.2/training-episode-8800.mp4.\n",
      "MoviePy - Writing video /Users/bapa/Codes/KidsPuzzles/videos/DigitsPuzzle-10-step_f0.5_i0.2/training-episode-8800.mp4\n",
      "\n"
     ]
    },
    {
     "name": "stderr",
     "output_type": "stream",
     "text": [
      "                                                             "
     ]
    },
    {
     "name": "stdout",
     "output_type": "stream",
     "text": [
      "MoviePy - Done !\n",
      "MoviePy - video ready /Users/bapa/Codes/KidsPuzzles/videos/DigitsPuzzle-10-step_f0.5_i0.2/training-episode-8800.mp4\n"
     ]
    },
    {
     "name": "stderr",
     "output_type": "stream",
     "text": [
      "\r"
     ]
    },
    {
     "name": "stdout",
     "output_type": "stream",
     "text": [
      "-------------------------------------\n",
      "| rollout/              |           |\n",
      "|    ep_len_mean        | 58.4      |\n",
      "|    ep_rew_mean        | 4.43      |\n",
      "| time/                 |           |\n",
      "|    fps                | 274       |\n",
      "|    iterations         | 23100     |\n",
      "|    time_elapsed       | 5380      |\n",
      "|    total_timesteps    | 1478400   |\n",
      "| train/                |           |\n",
      "|    entropy_loss       | -2.34     |\n",
      "|    explained_variance | 0.9090114 |\n",
      "|    learning_rate      | 7.62e-05  |\n",
      "|    n_updates          | 23099     |\n",
      "|    policy_loss        | -0.969    |\n",
      "|    value_loss         | 0.869     |\n",
      "-------------------------------------\n",
      "--------------------------------------\n",
      "| rollout/              |            |\n",
      "|    ep_len_mean        | 57         |\n",
      "|    ep_rew_mean        | 4.3        |\n",
      "| time/                 |            |\n",
      "|    fps                | 274        |\n",
      "|    iterations         | 23200      |\n",
      "|    time_elapsed       | 5403       |\n",
      "|    total_timesteps    | 1484800    |\n",
      "| train/                |            |\n",
      "|    entropy_loss       | -2.44      |\n",
      "|    explained_variance | 0.91640776 |\n",
      "|    learning_rate      | 7.62e-05   |\n",
      "|    n_updates          | 23199      |\n",
      "|    policy_loss        | 0.315      |\n",
      "|    value_loss         | 0.234      |\n",
      "--------------------------------------\n",
      "MoviePy - Building video /Users/bapa/Codes/KidsPuzzles/videos/DigitsPuzzle-10-step_f0.5_i0.2/training-episode-9000.mp4.\n",
      "MoviePy - Writing video /Users/bapa/Codes/KidsPuzzles/videos/DigitsPuzzle-10-step_f0.5_i0.2/training-episode-9000.mp4\n",
      "\n"
     ]
    },
    {
     "name": "stderr",
     "output_type": "stream",
     "text": [
      "                                                             "
     ]
    },
    {
     "name": "stdout",
     "output_type": "stream",
     "text": [
      "MoviePy - Done !\n",
      "MoviePy - video ready /Users/bapa/Codes/KidsPuzzles/videos/DigitsPuzzle-10-step_f0.5_i0.2/training-episode-9000.mp4\n"
     ]
    },
    {
     "name": "stderr",
     "output_type": "stream",
     "text": [
      "\r"
     ]
    },
    {
     "name": "stdout",
     "output_type": "stream",
     "text": [
      "-------------------------------------\n",
      "| rollout/              |           |\n",
      "|    ep_len_mean        | 56.7      |\n",
      "|    ep_rew_mean        | 4.3       |\n",
      "| time/                 |           |\n",
      "|    fps                | 274       |\n",
      "|    iterations         | 23300     |\n",
      "|    time_elapsed       | 5427      |\n",
      "|    total_timesteps    | 1491200   |\n",
      "| train/                |           |\n",
      "|    entropy_loss       | -2.41     |\n",
      "|    explained_variance | 0.8970145 |\n",
      "|    learning_rate      | 7.62e-05  |\n",
      "|    n_updates          | 23299     |\n",
      "|    policy_loss        | -0.351    |\n",
      "|    value_loss         | 0.241     |\n",
      "-------------------------------------\n",
      "--------------------------------------\n",
      "| rollout/              |            |\n",
      "|    ep_len_mean        | 56.2       |\n",
      "|    ep_rew_mean        | 4.3        |\n",
      "| time/                 |            |\n",
      "|    fps                | 274        |\n",
      "|    iterations         | 23400      |\n",
      "|    time_elapsed       | 5450       |\n",
      "|    total_timesteps    | 1497600    |\n",
      "| train/                |            |\n",
      "|    entropy_loss       | -2.26      |\n",
      "|    explained_variance | 0.95126987 |\n",
      "|    learning_rate      | 7.62e-05   |\n",
      "|    n_updates          | 23399      |\n",
      "|    policy_loss        | -0.0228    |\n",
      "|    value_loss         | 0.753      |\n",
      "--------------------------------------\n",
      "MoviePy - Building video /Users/bapa/Codes/KidsPuzzles/videos/DigitsPuzzle-10-step_f0.5_i0.2/training-episode-9200.mp4.\n",
      "MoviePy - Writing video /Users/bapa/Codes/KidsPuzzles/videos/DigitsPuzzle-10-step_f0.5_i0.2/training-episode-9200.mp4\n",
      "\n"
     ]
    },
    {
     "name": "stderr",
     "output_type": "stream",
     "text": [
      "                                                             "
     ]
    },
    {
     "name": "stdout",
     "output_type": "stream",
     "text": [
      "MoviePy - Done !\n",
      "MoviePy - video ready /Users/bapa/Codes/KidsPuzzles/videos/DigitsPuzzle-10-step_f0.5_i0.2/training-episode-9200.mp4\n"
     ]
    },
    {
     "name": "stderr",
     "output_type": "stream",
     "text": [
      "\r"
     ]
    },
    {
     "name": "stdout",
     "output_type": "stream",
     "text": [
      "-------------------------------------\n",
      "| rollout/              |           |\n",
      "|    ep_len_mean        | 59.1      |\n",
      "|    ep_rew_mean        | 4.39      |\n",
      "| time/                 |           |\n",
      "|    fps                | 274       |\n",
      "|    iterations         | 23500     |\n",
      "|    time_elapsed       | 5473      |\n",
      "|    total_timesteps    | 1504000   |\n",
      "| train/                |           |\n",
      "|    entropy_loss       | -2.47     |\n",
      "|    explained_variance | 0.8368419 |\n",
      "|    learning_rate      | 7.62e-05  |\n",
      "|    n_updates          | 23499     |\n",
      "|    policy_loss        | -0.291    |\n",
      "|    value_loss         | 0.975     |\n",
      "-------------------------------------\n",
      "MoviePy - Building video /Users/bapa/Codes/KidsPuzzles/videos/DigitsPuzzle-10-step_f0.5_i0.2/training-episode-9400.mp4.\n",
      "MoviePy - Writing video /Users/bapa/Codes/KidsPuzzles/videos/DigitsPuzzle-10-step_f0.5_i0.2/training-episode-9400.mp4\n",
      "\n"
     ]
    },
    {
     "name": "stderr",
     "output_type": "stream",
     "text": [
      "                                                             "
     ]
    },
    {
     "name": "stdout",
     "output_type": "stream",
     "text": [
      "MoviePy - Done !\n",
      "MoviePy - video ready /Users/bapa/Codes/KidsPuzzles/videos/DigitsPuzzle-10-step_f0.5_i0.2/training-episode-9400.mp4\n"
     ]
    },
    {
     "name": "stderr",
     "output_type": "stream",
     "text": [
      "\r"
     ]
    },
    {
     "name": "stdout",
     "output_type": "stream",
     "text": [
      "--------------------------------------\n",
      "| rollout/              |            |\n",
      "|    ep_len_mean        | 58.1       |\n",
      "|    ep_rew_mean        | 4.51       |\n",
      "| time/                 |            |\n",
      "|    fps                | 274        |\n",
      "|    iterations         | 23600      |\n",
      "|    time_elapsed       | 5497       |\n",
      "|    total_timesteps    | 1510400    |\n",
      "| train/                |            |\n",
      "|    entropy_loss       | -2.42      |\n",
      "|    explained_variance | 0.96048415 |\n",
      "|    learning_rate      | 7.62e-05   |\n",
      "|    n_updates          | 23599      |\n",
      "|    policy_loss        | -0.974     |\n",
      "|    value_loss         | 0.43       |\n",
      "--------------------------------------\n",
      "-------------------------------------\n",
      "| rollout/              |           |\n",
      "|    ep_len_mean        | 57.8      |\n",
      "|    ep_rew_mean        | 4.24      |\n",
      "| time/                 |           |\n",
      "|    fps                | 274       |\n",
      "|    iterations         | 23700     |\n",
      "|    time_elapsed       | 5520      |\n",
      "|    total_timesteps    | 1516800   |\n",
      "| train/                |           |\n",
      "|    entropy_loss       | -2.45     |\n",
      "|    explained_variance | 0.7406132 |\n",
      "|    learning_rate      | 7.62e-05  |\n",
      "|    n_updates          | 23699     |\n",
      "|    policy_loss        | -0.918    |\n",
      "|    value_loss         | 1.19      |\n",
      "-------------------------------------\n",
      "MoviePy - Building video /Users/bapa/Codes/KidsPuzzles/videos/DigitsPuzzle-10-step_f0.5_i0.2/training-episode-9600.mp4.\n",
      "MoviePy - Writing video /Users/bapa/Codes/KidsPuzzles/videos/DigitsPuzzle-10-step_f0.5_i0.2/training-episode-9600.mp4\n",
      "\n"
     ]
    },
    {
     "name": "stderr",
     "output_type": "stream",
     "text": [
      "                                                             "
     ]
    },
    {
     "name": "stdout",
     "output_type": "stream",
     "text": [
      "MoviePy - Done !\n",
      "MoviePy - video ready /Users/bapa/Codes/KidsPuzzles/videos/DigitsPuzzle-10-step_f0.5_i0.2/training-episode-9600.mp4\n"
     ]
    },
    {
     "name": "stderr",
     "output_type": "stream",
     "text": [
      "\r"
     ]
    },
    {
     "name": "stdout",
     "output_type": "stream",
     "text": [
      "--------------------------------------\n",
      "| rollout/              |            |\n",
      "|    ep_len_mean        | 57.4       |\n",
      "|    ep_rew_mean        | 4.26       |\n",
      "| time/                 |            |\n",
      "|    fps                | 274        |\n",
      "|    iterations         | 23800      |\n",
      "|    time_elapsed       | 5543       |\n",
      "|    total_timesteps    | 1523200    |\n",
      "| train/                |            |\n",
      "|    entropy_loss       | -2.28      |\n",
      "|    explained_variance | 0.99025136 |\n",
      "|    learning_rate      | 7.62e-05   |\n",
      "|    n_updates          | 23799      |\n",
      "|    policy_loss        | 0.831      |\n",
      "|    value_loss         | 0.237      |\n",
      "--------------------------------------\n",
      "-------------------------------------\n",
      "| rollout/              |           |\n",
      "|    ep_len_mean        | 56        |\n",
      "|    ep_rew_mean        | 4.2       |\n",
      "| time/                 |           |\n",
      "|    fps                | 274       |\n",
      "|    iterations         | 23900     |\n",
      "|    time_elapsed       | 5566      |\n",
      "|    total_timesteps    | 1529600   |\n",
      "| train/                |           |\n",
      "|    entropy_loss       | -2.36     |\n",
      "|    explained_variance | 0.9549039 |\n",
      "|    learning_rate      | 7.62e-05  |\n",
      "|    n_updates          | 23899     |\n",
      "|    policy_loss        | -0.343    |\n",
      "|    value_loss         | 0.362     |\n",
      "-------------------------------------\n",
      "MoviePy - Building video /Users/bapa/Codes/KidsPuzzles/videos/DigitsPuzzle-10-step_f0.5_i0.2/training-episode-9800.mp4.\n",
      "MoviePy - Writing video /Users/bapa/Codes/KidsPuzzles/videos/DigitsPuzzle-10-step_f0.5_i0.2/training-episode-9800.mp4\n",
      "\n"
     ]
    },
    {
     "name": "stderr",
     "output_type": "stream",
     "text": [
      "                                                             "
     ]
    },
    {
     "name": "stdout",
     "output_type": "stream",
     "text": [
      "MoviePy - Done !\n",
      "MoviePy - video ready /Users/bapa/Codes/KidsPuzzles/videos/DigitsPuzzle-10-step_f0.5_i0.2/training-episode-9800.mp4\n"
     ]
    },
    {
     "name": "stderr",
     "output_type": "stream",
     "text": [
      "\r"
     ]
    },
    {
     "name": "stdout",
     "output_type": "stream",
     "text": [
      "-------------------------------------\n",
      "| rollout/              |           |\n",
      "|    ep_len_mean        | 57        |\n",
      "|    ep_rew_mean        | 3.98      |\n",
      "| time/                 |           |\n",
      "|    fps                | 274       |\n",
      "|    iterations         | 24000     |\n",
      "|    time_elapsed       | 5589      |\n",
      "|    total_timesteps    | 1536000   |\n",
      "| train/                |           |\n",
      "|    entropy_loss       | -2.46     |\n",
      "|    explained_variance | 0.9358916 |\n",
      "|    learning_rate      | 7.62e-05  |\n",
      "|    n_updates          | 23999     |\n",
      "|    policy_loss        | -1.78     |\n",
      "|    value_loss         | 1.42      |\n",
      "-------------------------------------\n",
      "-------------------------------------\n",
      "| rollout/              |           |\n",
      "|    ep_len_mean        | 55.5      |\n",
      "|    ep_rew_mean        | 3.83      |\n",
      "| time/                 |           |\n",
      "|    fps                | 274       |\n",
      "|    iterations         | 24100     |\n",
      "|    time_elapsed       | 5612      |\n",
      "|    total_timesteps    | 1542400   |\n",
      "| train/                |           |\n",
      "|    entropy_loss       | -2.53     |\n",
      "|    explained_variance | 0.9583684 |\n",
      "|    learning_rate      | 7.62e-05  |\n",
      "|    n_updates          | 24099     |\n",
      "|    policy_loss        | 2.25      |\n",
      "|    value_loss         | 1.61      |\n",
      "-------------------------------------\n",
      "MoviePy - Building video /Users/bapa/Codes/KidsPuzzles/videos/DigitsPuzzle-10-step_f0.5_i0.2/training-episode-10000.mp4.\n",
      "MoviePy - Writing video /Users/bapa/Codes/KidsPuzzles/videos/DigitsPuzzle-10-step_f0.5_i0.2/training-episode-10000.mp4\n",
      "\n"
     ]
    },
    {
     "name": "stderr",
     "output_type": "stream",
     "text": [
      "                                                             "
     ]
    },
    {
     "name": "stdout",
     "output_type": "stream",
     "text": [
      "MoviePy - Done !\n",
      "MoviePy - video ready /Users/bapa/Codes/KidsPuzzles/videos/DigitsPuzzle-10-step_f0.5_i0.2/training-episode-10000.mp4\n"
     ]
    },
    {
     "name": "stderr",
     "output_type": "stream",
     "text": [
      "\r"
     ]
    },
    {
     "name": "stdout",
     "output_type": "stream",
     "text": [
      "--------------------------------------\n",
      "| rollout/              |            |\n",
      "|    ep_len_mean        | 58.3       |\n",
      "|    ep_rew_mean        | 3.92       |\n",
      "| time/                 |            |\n",
      "|    fps                | 274        |\n",
      "|    iterations         | 24200      |\n",
      "|    time_elapsed       | 5636       |\n",
      "|    total_timesteps    | 1548800    |\n",
      "| train/                |            |\n",
      "|    entropy_loss       | -2.47      |\n",
      "|    explained_variance | 0.91987234 |\n",
      "|    learning_rate      | 7.62e-05   |\n",
      "|    n_updates          | 24199      |\n",
      "|    policy_loss        | 0.868      |\n",
      "|    value_loss         | 0.613      |\n",
      "--------------------------------------\n",
      "--------------------------------------\n",
      "| rollout/              |            |\n",
      "|    ep_len_mean        | 58.1       |\n",
      "|    ep_rew_mean        | 3.65       |\n",
      "| time/                 |            |\n",
      "|    fps                | 274        |\n",
      "|    iterations         | 24300      |\n",
      "|    time_elapsed       | 5659       |\n",
      "|    total_timesteps    | 1555200    |\n",
      "| train/                |            |\n",
      "|    entropy_loss       | -2.49      |\n",
      "|    explained_variance | 0.53985554 |\n",
      "|    learning_rate      | 7.62e-05   |\n",
      "|    n_updates          | 24299      |\n",
      "|    policy_loss        | -2.79      |\n",
      "|    value_loss         | 2.2        |\n",
      "--------------------------------------\n",
      "MoviePy - Building video /Users/bapa/Codes/KidsPuzzles/videos/DigitsPuzzle-10-step_f0.5_i0.2/training-episode-10200.mp4.\n",
      "MoviePy - Writing video /Users/bapa/Codes/KidsPuzzles/videos/DigitsPuzzle-10-step_f0.5_i0.2/training-episode-10200.mp4\n",
      "\n"
     ]
    },
    {
     "name": "stderr",
     "output_type": "stream",
     "text": [
      "                                                             "
     ]
    },
    {
     "name": "stdout",
     "output_type": "stream",
     "text": [
      "MoviePy - Done !\n",
      "MoviePy - video ready /Users/bapa/Codes/KidsPuzzles/videos/DigitsPuzzle-10-step_f0.5_i0.2/training-episode-10200.mp4\n"
     ]
    },
    {
     "name": "stderr",
     "output_type": "stream",
     "text": [
      "\r"
     ]
    },
    {
     "name": "stdout",
     "output_type": "stream",
     "text": [
      "--------------------------------------\n",
      "| rollout/              |            |\n",
      "|    ep_len_mean        | 54.5       |\n",
      "|    ep_rew_mean        | 4.07       |\n",
      "| time/                 |            |\n",
      "|    fps                | 274        |\n",
      "|    iterations         | 24400      |\n",
      "|    time_elapsed       | 5683       |\n",
      "|    total_timesteps    | 1561600    |\n",
      "| train/                |            |\n",
      "|    entropy_loss       | -2.29      |\n",
      "|    explained_variance | 0.95348597 |\n",
      "|    learning_rate      | 7.62e-05   |\n",
      "|    n_updates          | 24399      |\n",
      "|    policy_loss        | 1.53       |\n",
      "|    value_loss         | 1.19       |\n",
      "--------------------------------------\n",
      "MoviePy - Building video /Users/bapa/Codes/KidsPuzzles/videos/DigitsPuzzle-10-step_f0.5_i0.2/training-episode-10400.mp4.\n",
      "MoviePy - Writing video /Users/bapa/Codes/KidsPuzzles/videos/DigitsPuzzle-10-step_f0.5_i0.2/training-episode-10400.mp4\n",
      "\n"
     ]
    },
    {
     "name": "stderr",
     "output_type": "stream",
     "text": [
      "                                                             "
     ]
    },
    {
     "name": "stdout",
     "output_type": "stream",
     "text": [
      "MoviePy - Done !\n",
      "MoviePy - video ready /Users/bapa/Codes/KidsPuzzles/videos/DigitsPuzzle-10-step_f0.5_i0.2/training-episode-10400.mp4\n"
     ]
    },
    {
     "name": "stderr",
     "output_type": "stream",
     "text": [
      "\r"
     ]
    },
    {
     "name": "stdout",
     "output_type": "stream",
     "text": [
      "-------------------------------------\n",
      "| rollout/              |           |\n",
      "|    ep_len_mean        | 54.1      |\n",
      "|    ep_rew_mean        | 4.24      |\n",
      "| time/                 |           |\n",
      "|    fps                | 274       |\n",
      "|    iterations         | 24500     |\n",
      "|    time_elapsed       | 5706      |\n",
      "|    total_timesteps    | 1568000   |\n",
      "| train/                |           |\n",
      "|    entropy_loss       | -2.39     |\n",
      "|    explained_variance | 0.9089299 |\n",
      "|    learning_rate      | 7.62e-05  |\n",
      "|    n_updates          | 24499     |\n",
      "|    policy_loss        | -0.317    |\n",
      "|    value_loss         | 0.675     |\n",
      "-------------------------------------\n",
      "-------------------------------------\n",
      "| rollout/              |           |\n",
      "|    ep_len_mean        | 53.8      |\n",
      "|    ep_rew_mean        | 4.73      |\n",
      "| time/                 |           |\n",
      "|    fps                | 274       |\n",
      "|    iterations         | 24600     |\n",
      "|    time_elapsed       | 5730      |\n",
      "|    total_timesteps    | 1574400   |\n",
      "| train/                |           |\n",
      "|    entropy_loss       | -2.4      |\n",
      "|    explained_variance | 0.9210769 |\n",
      "|    learning_rate      | 7.62e-05  |\n",
      "|    n_updates          | 24599     |\n",
      "|    policy_loss        | -0.675    |\n",
      "|    value_loss         | 0.421     |\n",
      "-------------------------------------\n",
      "MoviePy - Building video /Users/bapa/Codes/KidsPuzzles/videos/DigitsPuzzle-10-step_f0.5_i0.2/training-episode-10600.mp4.\n",
      "MoviePy - Writing video /Users/bapa/Codes/KidsPuzzles/videos/DigitsPuzzle-10-step_f0.5_i0.2/training-episode-10600.mp4\n",
      "\n"
     ]
    },
    {
     "name": "stderr",
     "output_type": "stream",
     "text": [
      "                                                             "
     ]
    },
    {
     "name": "stdout",
     "output_type": "stream",
     "text": [
      "MoviePy - Done !\n",
      "MoviePy - video ready /Users/bapa/Codes/KidsPuzzles/videos/DigitsPuzzle-10-step_f0.5_i0.2/training-episode-10600.mp4\n"
     ]
    },
    {
     "name": "stderr",
     "output_type": "stream",
     "text": [
      "\r"
     ]
    },
    {
     "name": "stdout",
     "output_type": "stream",
     "text": [
      "--------------------------------------\n",
      "| rollout/              |            |\n",
      "|    ep_len_mean        | 54.7       |\n",
      "|    ep_rew_mean        | 4.1        |\n",
      "| time/                 |            |\n",
      "|    fps                | 274        |\n",
      "|    iterations         | 24700      |\n",
      "|    time_elapsed       | 5753       |\n",
      "|    total_timesteps    | 1580800    |\n",
      "| train/                |            |\n",
      "|    entropy_loss       | -2.24      |\n",
      "|    explained_variance | 0.83520496 |\n",
      "|    learning_rate      | 7.62e-05   |\n",
      "|    n_updates          | 24699      |\n",
      "|    policy_loss        | -2.63      |\n",
      "|    value_loss         | 2.54       |\n",
      "--------------------------------------\n",
      "--------------------------------------\n",
      "| rollout/              |            |\n",
      "|    ep_len_mean        | 54.9       |\n",
      "|    ep_rew_mean        | 4.37       |\n",
      "| time/                 |            |\n",
      "|    fps                | 274        |\n",
      "|    iterations         | 24800      |\n",
      "|    time_elapsed       | 5777       |\n",
      "|    total_timesteps    | 1587200    |\n",
      "| train/                |            |\n",
      "|    entropy_loss       | -2.44      |\n",
      "|    explained_variance | 0.95473623 |\n",
      "|    learning_rate      | 7.62e-05   |\n",
      "|    n_updates          | 24799      |\n",
      "|    policy_loss        | -0.152     |\n",
      "|    value_loss         | 0.524      |\n",
      "--------------------------------------\n",
      "MoviePy - Building video /Users/bapa/Codes/KidsPuzzles/videos/DigitsPuzzle-10-step_f0.5_i0.2/training-episode-10800.mp4.\n",
      "MoviePy - Writing video /Users/bapa/Codes/KidsPuzzles/videos/DigitsPuzzle-10-step_f0.5_i0.2/training-episode-10800.mp4\n",
      "\n"
     ]
    },
    {
     "name": "stderr",
     "output_type": "stream",
     "text": [
      "                                                             "
     ]
    },
    {
     "name": "stdout",
     "output_type": "stream",
     "text": [
      "MoviePy - Done !\n",
      "MoviePy - video ready /Users/bapa/Codes/KidsPuzzles/videos/DigitsPuzzle-10-step_f0.5_i0.2/training-episode-10800.mp4\n"
     ]
    },
    {
     "name": "stderr",
     "output_type": "stream",
     "text": [
      "\r"
     ]
    },
    {
     "name": "stdout",
     "output_type": "stream",
     "text": [
      "--------------------------------------\n",
      "| rollout/              |            |\n",
      "|    ep_len_mean        | 55.1       |\n",
      "|    ep_rew_mean        | 4.06       |\n",
      "| time/                 |            |\n",
      "|    fps                | 274        |\n",
      "|    iterations         | 24900      |\n",
      "|    time_elapsed       | 5800       |\n",
      "|    total_timesteps    | 1593600    |\n",
      "| train/                |            |\n",
      "|    entropy_loss       | -2.34      |\n",
      "|    explained_variance | 0.91253144 |\n",
      "|    learning_rate      | 7.62e-05   |\n",
      "|    n_updates          | 24899      |\n",
      "|    policy_loss        | 0.297      |\n",
      "|    value_loss         | 0.763      |\n",
      "--------------------------------------\n",
      "MoviePy - Building video /Users/bapa/Codes/KidsPuzzles/videos/DigitsPuzzle-10-step_f0.5_i0.2/training-episode-11000.mp4.\n",
      "MoviePy - Writing video /Users/bapa/Codes/KidsPuzzles/videos/DigitsPuzzle-10-step_f0.5_i0.2/training-episode-11000.mp4\n",
      "\n"
     ]
    },
    {
     "name": "stderr",
     "output_type": "stream",
     "text": [
      "                                                             "
     ]
    },
    {
     "name": "stdout",
     "output_type": "stream",
     "text": [
      "MoviePy - Done !\n",
      "MoviePy - video ready /Users/bapa/Codes/KidsPuzzles/videos/DigitsPuzzle-10-step_f0.5_i0.2/training-episode-11000.mp4\n"
     ]
    },
    {
     "name": "stderr",
     "output_type": "stream",
     "text": [
      "\r"
     ]
    },
    {
     "name": "stdout",
     "output_type": "stream",
     "text": [
      "------------------------------------\n",
      "| rollout/              |          |\n",
      "|    ep_len_mean        | 52.4     |\n",
      "|    ep_rew_mean        | 4.94     |\n",
      "| time/                 |          |\n",
      "|    fps                | 274      |\n",
      "|    iterations         | 25000    |\n",
      "|    time_elapsed       | 5824     |\n",
      "|    total_timesteps    | 1600000  |\n",
      "| train/                |          |\n",
      "|    entropy_loss       | -2.44    |\n",
      "|    explained_variance | 0.945118 |\n",
      "|    learning_rate      | 7.62e-05 |\n",
      "|    n_updates          | 24999    |\n",
      "|    policy_loss        | -2.52    |\n",
      "|    value_loss         | 1.5      |\n",
      "------------------------------------\n",
      "--------------------------------------\n",
      "| rollout/              |            |\n",
      "|    ep_len_mean        | 52.7       |\n",
      "|    ep_rew_mean        | 4.21       |\n",
      "| time/                 |            |\n",
      "|    fps                | 274        |\n",
      "|    iterations         | 25100      |\n",
      "|    time_elapsed       | 5847       |\n",
      "|    total_timesteps    | 1606400    |\n",
      "| train/                |            |\n",
      "|    entropy_loss       | -2.38      |\n",
      "|    explained_variance | 0.89202213 |\n",
      "|    learning_rate      | 7.62e-05   |\n",
      "|    n_updates          | 25099      |\n",
      "|    policy_loss        | -2.54      |\n",
      "|    value_loss         | 3.76       |\n",
      "--------------------------------------\n",
      "MoviePy - Building video /Users/bapa/Codes/KidsPuzzles/videos/DigitsPuzzle-10-step_f0.5_i0.2/training-episode-11200.mp4.\n",
      "MoviePy - Writing video /Users/bapa/Codes/KidsPuzzles/videos/DigitsPuzzle-10-step_f0.5_i0.2/training-episode-11200.mp4\n",
      "\n"
     ]
    },
    {
     "name": "stderr",
     "output_type": "stream",
     "text": [
      "                                                             "
     ]
    },
    {
     "name": "stdout",
     "output_type": "stream",
     "text": [
      "MoviePy - Done !\n",
      "MoviePy - video ready /Users/bapa/Codes/KidsPuzzles/videos/DigitsPuzzle-10-step_f0.5_i0.2/training-episode-11200.mp4\n"
     ]
    },
    {
     "name": "stderr",
     "output_type": "stream",
     "text": [
      "\r"
     ]
    },
    {
     "name": "stdout",
     "output_type": "stream",
     "text": [
      "-------------------------------------\n",
      "| rollout/              |           |\n",
      "|    ep_len_mean        | 52.6      |\n",
      "|    ep_rew_mean        | 4.35      |\n",
      "| time/                 |           |\n",
      "|    fps                | 274       |\n",
      "|    iterations         | 25200     |\n",
      "|    time_elapsed       | 5871      |\n",
      "|    total_timesteps    | 1612800   |\n",
      "| train/                |           |\n",
      "|    entropy_loss       | -2.42     |\n",
      "|    explained_variance | 0.7332069 |\n",
      "|    learning_rate      | 7.62e-05  |\n",
      "|    n_updates          | 25199     |\n",
      "|    policy_loss        | -2.25     |\n",
      "|    value_loss         | 2.48      |\n",
      "-------------------------------------\n",
      "-------------------------------------\n",
      "| rollout/              |           |\n",
      "|    ep_len_mean        | 54.8      |\n",
      "|    ep_rew_mean        | 4.18      |\n",
      "| time/                 |           |\n",
      "|    fps                | 274       |\n",
      "|    iterations         | 25300     |\n",
      "|    time_elapsed       | 5894      |\n",
      "|    total_timesteps    | 1619200   |\n",
      "| train/                |           |\n",
      "|    entropy_loss       | -2.34     |\n",
      "|    explained_variance | 0.9466909 |\n",
      "|    learning_rate      | 7.62e-05  |\n",
      "|    n_updates          | 25299     |\n",
      "|    policy_loss        | -0.541    |\n",
      "|    value_loss         | 0.355     |\n",
      "-------------------------------------\n",
      "MoviePy - Building video /Users/bapa/Codes/KidsPuzzles/videos/DigitsPuzzle-10-step_f0.5_i0.2/training-episode-11400.mp4.\n",
      "MoviePy - Writing video /Users/bapa/Codes/KidsPuzzles/videos/DigitsPuzzle-10-step_f0.5_i0.2/training-episode-11400.mp4\n",
      "\n"
     ]
    },
    {
     "name": "stderr",
     "output_type": "stream",
     "text": [
      "                                                             "
     ]
    },
    {
     "name": "stdout",
     "output_type": "stream",
     "text": [
      "MoviePy - Done !\n",
      "MoviePy - video ready /Users/bapa/Codes/KidsPuzzles/videos/DigitsPuzzle-10-step_f0.5_i0.2/training-episode-11400.mp4\n"
     ]
    },
    {
     "name": "stderr",
     "output_type": "stream",
     "text": [
      "\r"
     ]
    },
    {
     "name": "stdout",
     "output_type": "stream",
     "text": [
      "-------------------------------------\n",
      "| rollout/              |           |\n",
      "|    ep_len_mean        | 54.5      |\n",
      "|    ep_rew_mean        | 4.31      |\n",
      "| time/                 |           |\n",
      "|    fps                | 274       |\n",
      "|    iterations         | 25400     |\n",
      "|    time_elapsed       | 5918      |\n",
      "|    total_timesteps    | 1625600   |\n",
      "| train/                |           |\n",
      "|    entropy_loss       | -2.21     |\n",
      "|    explained_variance | 0.9530516 |\n",
      "|    learning_rate      | 7.62e-05  |\n",
      "|    n_updates          | 25399     |\n",
      "|    policy_loss        | -0.579    |\n",
      "|    value_loss         | 0.296     |\n",
      "-------------------------------------\n",
      "MoviePy - Building video /Users/bapa/Codes/KidsPuzzles/videos/DigitsPuzzle-10-step_f0.5_i0.2/training-episode-11600.mp4.\n",
      "MoviePy - Writing video /Users/bapa/Codes/KidsPuzzles/videos/DigitsPuzzle-10-step_f0.5_i0.2/training-episode-11600.mp4\n",
      "\n"
     ]
    },
    {
     "name": "stderr",
     "output_type": "stream",
     "text": [
      "                                                             "
     ]
    },
    {
     "name": "stdout",
     "output_type": "stream",
     "text": [
      "MoviePy - Done !\n",
      "MoviePy - video ready /Users/bapa/Codes/KidsPuzzles/videos/DigitsPuzzle-10-step_f0.5_i0.2/training-episode-11600.mp4\n"
     ]
    },
    {
     "name": "stderr",
     "output_type": "stream",
     "text": [
      "\r"
     ]
    },
    {
     "name": "stdout",
     "output_type": "stream",
     "text": [
      "-------------------------------------\n",
      "| rollout/              |           |\n",
      "|    ep_len_mean        | 53.3      |\n",
      "|    ep_rew_mean        | 4.28      |\n",
      "| time/                 |           |\n",
      "|    fps                | 274       |\n",
      "|    iterations         | 25500     |\n",
      "|    time_elapsed       | 5942      |\n",
      "|    total_timesteps    | 1632000   |\n",
      "| train/                |           |\n",
      "|    entropy_loss       | -2.47     |\n",
      "|    explained_variance | 0.9063533 |\n",
      "|    learning_rate      | 7.62e-05  |\n",
      "|    n_updates          | 25499     |\n",
      "|    policy_loss        | -0.972    |\n",
      "|    value_loss         | 1.4       |\n",
      "-------------------------------------\n",
      "--------------------------------------\n",
      "| rollout/              |            |\n",
      "|    ep_len_mean        | 53.9       |\n",
      "|    ep_rew_mean        | 4.2        |\n",
      "| time/                 |            |\n",
      "|    fps                | 274        |\n",
      "|    iterations         | 25600      |\n",
      "|    time_elapsed       | 5965       |\n",
      "|    total_timesteps    | 1638400    |\n",
      "| train/                |            |\n",
      "|    entropy_loss       | -2.28      |\n",
      "|    explained_variance | 0.80248237 |\n",
      "|    learning_rate      | 7.62e-05   |\n",
      "|    n_updates          | 25599      |\n",
      "|    policy_loss        | 0.648      |\n",
      "|    value_loss         | 2.31       |\n",
      "--------------------------------------\n",
      "MoviePy - Building video /Users/bapa/Codes/KidsPuzzles/videos/DigitsPuzzle-10-step_f0.5_i0.2/training-episode-11800.mp4.\n",
      "MoviePy - Writing video /Users/bapa/Codes/KidsPuzzles/videos/DigitsPuzzle-10-step_f0.5_i0.2/training-episode-11800.mp4\n",
      "\n"
     ]
    },
    {
     "name": "stderr",
     "output_type": "stream",
     "text": [
      "                                                             "
     ]
    },
    {
     "name": "stdout",
     "output_type": "stream",
     "text": [
      "MoviePy - Done !\n",
      "MoviePy - video ready /Users/bapa/Codes/KidsPuzzles/videos/DigitsPuzzle-10-step_f0.5_i0.2/training-episode-11800.mp4\n"
     ]
    },
    {
     "name": "stderr",
     "output_type": "stream",
     "text": [
      "\r"
     ]
    },
    {
     "name": "stdout",
     "output_type": "stream",
     "text": [
      "-------------------------------------\n",
      "| rollout/              |           |\n",
      "|    ep_len_mean        | 53.8      |\n",
      "|    ep_rew_mean        | 3.96      |\n",
      "| time/                 |           |\n",
      "|    fps                | 274       |\n",
      "|    iterations         | 25700     |\n",
      "|    time_elapsed       | 5988      |\n",
      "|    total_timesteps    | 1644800   |\n",
      "| train/                |           |\n",
      "|    entropy_loss       | -2.25     |\n",
      "|    explained_variance | 0.9487499 |\n",
      "|    learning_rate      | 7.62e-05  |\n",
      "|    n_updates          | 25699     |\n",
      "|    policy_loss        | 2.69      |\n",
      "|    value_loss         | 2.07      |\n",
      "-------------------------------------\n",
      "--------------------------------------\n",
      "| rollout/              |            |\n",
      "|    ep_len_mean        | 53.6       |\n",
      "|    ep_rew_mean        | 4.29       |\n",
      "| time/                 |            |\n",
      "|    fps                | 274        |\n",
      "|    iterations         | 25800      |\n",
      "|    time_elapsed       | 6012       |\n",
      "|    total_timesteps    | 1651200    |\n",
      "| train/                |            |\n",
      "|    entropy_loss       | -2.36      |\n",
      "|    explained_variance | 0.90477437 |\n",
      "|    learning_rate      | 7.62e-05   |\n",
      "|    n_updates          | 25799      |\n",
      "|    policy_loss        | -3.48      |\n",
      "|    value_loss         | 3.01       |\n",
      "--------------------------------------\n",
      "MoviePy - Building video /Users/bapa/Codes/KidsPuzzles/videos/DigitsPuzzle-10-step_f0.5_i0.2/training-episode-12000.mp4.\n",
      "MoviePy - Writing video /Users/bapa/Codes/KidsPuzzles/videos/DigitsPuzzle-10-step_f0.5_i0.2/training-episode-12000.mp4\n",
      "\n"
     ]
    },
    {
     "name": "stderr",
     "output_type": "stream",
     "text": [
      "                                                             "
     ]
    },
    {
     "name": "stdout",
     "output_type": "stream",
     "text": [
      "MoviePy - Done !\n",
      "MoviePy - video ready /Users/bapa/Codes/KidsPuzzles/videos/DigitsPuzzle-10-step_f0.5_i0.2/training-episode-12000.mp4\n"
     ]
    },
    {
     "name": "stderr",
     "output_type": "stream",
     "text": [
      "\r"
     ]
    },
    {
     "name": "stdout",
     "output_type": "stream",
     "text": [
      "-------------------------------------\n",
      "| rollout/              |           |\n",
      "|    ep_len_mean        | 53.2      |\n",
      "|    ep_rew_mean        | 4.24      |\n",
      "| time/                 |           |\n",
      "|    fps                | 274       |\n",
      "|    iterations         | 25900     |\n",
      "|    time_elapsed       | 6035      |\n",
      "|    total_timesteps    | 1657600   |\n",
      "| train/                |           |\n",
      "|    entropy_loss       | -2.23     |\n",
      "|    explained_variance | 0.9775641 |\n",
      "|    learning_rate      | 7.62e-05  |\n",
      "|    n_updates          | 25899     |\n",
      "|    policy_loss        | 0.0699    |\n",
      "|    value_loss         | 0.321     |\n",
      "-------------------------------------\n",
      "MoviePy - Building video /Users/bapa/Codes/KidsPuzzles/videos/DigitsPuzzle-10-step_f0.5_i0.2/training-episode-12200.mp4.\n",
      "MoviePy - Writing video /Users/bapa/Codes/KidsPuzzles/videos/DigitsPuzzle-10-step_f0.5_i0.2/training-episode-12200.mp4\n",
      "\n"
     ]
    },
    {
     "name": "stderr",
     "output_type": "stream",
     "text": [
      "                                                             "
     ]
    },
    {
     "name": "stdout",
     "output_type": "stream",
     "text": [
      "MoviePy - Done !\n",
      "MoviePy - video ready /Users/bapa/Codes/KidsPuzzles/videos/DigitsPuzzle-10-step_f0.5_i0.2/training-episode-12200.mp4\n"
     ]
    },
    {
     "name": "stderr",
     "output_type": "stream",
     "text": [
      "\r"
     ]
    },
    {
     "name": "stdout",
     "output_type": "stream",
     "text": [
      "-------------------------------------\n",
      "| rollout/              |           |\n",
      "|    ep_len_mean        | 54.2      |\n",
      "|    ep_rew_mean        | 4.15      |\n",
      "| time/                 |           |\n",
      "|    fps                | 274       |\n",
      "|    iterations         | 26000     |\n",
      "|    time_elapsed       | 6059      |\n",
      "|    total_timesteps    | 1664000   |\n",
      "| train/                |           |\n",
      "|    entropy_loss       | -2.05     |\n",
      "|    explained_variance | 0.7970431 |\n",
      "|    learning_rate      | 7.62e-05  |\n",
      "|    n_updates          | 25999     |\n",
      "|    policy_loss        | -0.00637  |\n",
      "|    value_loss         | 4.75      |\n",
      "-------------------------------------\n",
      "-------------------------------------\n",
      "| rollout/              |           |\n",
      "|    ep_len_mean        | 53.3      |\n",
      "|    ep_rew_mean        | 4.33      |\n",
      "| time/                 |           |\n",
      "|    fps                | 274       |\n",
      "|    iterations         | 26100     |\n",
      "|    time_elapsed       | 6082      |\n",
      "|    total_timesteps    | 1670400   |\n",
      "| train/                |           |\n",
      "|    entropy_loss       | -2.37     |\n",
      "|    explained_variance | 0.9032856 |\n",
      "|    learning_rate      | 7.62e-05  |\n",
      "|    n_updates          | 26099     |\n",
      "|    policy_loss        | 1.59      |\n",
      "|    value_loss         | 1.29      |\n",
      "-------------------------------------\n",
      "MoviePy - Building video /Users/bapa/Codes/KidsPuzzles/videos/DigitsPuzzle-10-step_f0.5_i0.2/training-episode-12400.mp4.\n",
      "MoviePy - Writing video /Users/bapa/Codes/KidsPuzzles/videos/DigitsPuzzle-10-step_f0.5_i0.2/training-episode-12400.mp4\n",
      "\n"
     ]
    },
    {
     "name": "stderr",
     "output_type": "stream",
     "text": [
      "                                                             "
     ]
    },
    {
     "name": "stdout",
     "output_type": "stream",
     "text": [
      "MoviePy - Done !\n",
      "MoviePy - video ready /Users/bapa/Codes/KidsPuzzles/videos/DigitsPuzzle-10-step_f0.5_i0.2/training-episode-12400.mp4\n"
     ]
    },
    {
     "name": "stderr",
     "output_type": "stream",
     "text": [
      "\r"
     ]
    },
    {
     "name": "stdout",
     "output_type": "stream",
     "text": [
      "------------------------------------\n",
      "| rollout/              |          |\n",
      "|    ep_len_mean        | 55.3     |\n",
      "|    ep_rew_mean        | 3.84     |\n",
      "| time/                 |          |\n",
      "|    fps                | 274      |\n",
      "|    iterations         | 26200    |\n",
      "|    time_elapsed       | 6106     |\n",
      "|    total_timesteps    | 1676800  |\n",
      "| train/                |          |\n",
      "|    entropy_loss       | -2.51    |\n",
      "|    explained_variance | 0.649704 |\n",
      "|    learning_rate      | 7.62e-05 |\n",
      "|    n_updates          | 26199    |\n",
      "|    policy_loss        | -4.16    |\n",
      "|    value_loss         | 4.91     |\n",
      "------------------------------------\n",
      "--------------------------------------\n",
      "| rollout/              |            |\n",
      "|    ep_len_mean        | 51.1       |\n",
      "|    ep_rew_mean        | 4.02       |\n",
      "| time/                 |            |\n",
      "|    fps                | 274        |\n",
      "|    iterations         | 26300      |\n",
      "|    time_elapsed       | 6129       |\n",
      "|    total_timesteps    | 1683200    |\n",
      "| train/                |            |\n",
      "|    entropy_loss       | -2.39      |\n",
      "|    explained_variance | 0.97814316 |\n",
      "|    learning_rate      | 7.62e-05   |\n",
      "|    n_updates          | 26299      |\n",
      "|    policy_loss        | 0.43       |\n",
      "|    value_loss         | 0.333      |\n",
      "--------------------------------------\n",
      "MoviePy - Building video /Users/bapa/Codes/KidsPuzzles/videos/DigitsPuzzle-10-step_f0.5_i0.2/training-episode-12600.mp4.\n",
      "MoviePy - Writing video /Users/bapa/Codes/KidsPuzzles/videos/DigitsPuzzle-10-step_f0.5_i0.2/training-episode-12600.mp4\n",
      "\n"
     ]
    },
    {
     "name": "stderr",
     "output_type": "stream",
     "text": [
      "                                                             "
     ]
    },
    {
     "name": "stdout",
     "output_type": "stream",
     "text": [
      "MoviePy - Done !\n",
      "MoviePy - video ready /Users/bapa/Codes/KidsPuzzles/videos/DigitsPuzzle-10-step_f0.5_i0.2/training-episode-12600.mp4\n"
     ]
    },
    {
     "name": "stderr",
     "output_type": "stream",
     "text": [
      "\r"
     ]
    },
    {
     "name": "stdout",
     "output_type": "stream",
     "text": [
      "--------------------------------------\n",
      "| rollout/              |            |\n",
      "|    ep_len_mean        | 51.7       |\n",
      "|    ep_rew_mean        | 4.26       |\n",
      "| time/                 |            |\n",
      "|    fps                | 274        |\n",
      "|    iterations         | 26400      |\n",
      "|    time_elapsed       | 6153       |\n",
      "|    total_timesteps    | 1689600    |\n",
      "| train/                |            |\n",
      "|    entropy_loss       | -2.25      |\n",
      "|    explained_variance | 0.98140734 |\n",
      "|    learning_rate      | 7.62e-05   |\n",
      "|    n_updates          | 26399      |\n",
      "|    policy_loss        | 0.258      |\n",
      "|    value_loss         | 0.222      |\n",
      "--------------------------------------\n",
      "MoviePy - Building video /Users/bapa/Codes/KidsPuzzles/videos/DigitsPuzzle-10-step_f0.5_i0.2/training-episode-12800.mp4.\n",
      "MoviePy - Writing video /Users/bapa/Codes/KidsPuzzles/videos/DigitsPuzzle-10-step_f0.5_i0.2/training-episode-12800.mp4\n",
      "\n"
     ]
    },
    {
     "name": "stderr",
     "output_type": "stream",
     "text": [
      "                                                             "
     ]
    },
    {
     "name": "stdout",
     "output_type": "stream",
     "text": [
      "MoviePy - Done !\n",
      "MoviePy - video ready /Users/bapa/Codes/KidsPuzzles/videos/DigitsPuzzle-10-step_f0.5_i0.2/training-episode-12800.mp4\n"
     ]
    },
    {
     "name": "stderr",
     "output_type": "stream",
     "text": [
      "\r"
     ]
    },
    {
     "name": "stdout",
     "output_type": "stream",
     "text": [
      "--------------------------------------\n",
      "| rollout/              |            |\n",
      "|    ep_len_mean        | 53.5       |\n",
      "|    ep_rew_mean        | 4.5        |\n",
      "| time/                 |            |\n",
      "|    fps                | 274        |\n",
      "|    iterations         | 26500      |\n",
      "|    time_elapsed       | 6176       |\n",
      "|    total_timesteps    | 1696000    |\n",
      "| train/                |            |\n",
      "|    entropy_loss       | -2.37      |\n",
      "|    explained_variance | 0.97636384 |\n",
      "|    learning_rate      | 7.62e-05   |\n",
      "|    n_updates          | 26499      |\n",
      "|    policy_loss        | 0.251      |\n",
      "|    value_loss         | 0.249      |\n",
      "--------------------------------------\n",
      "--------------------------------------\n",
      "| rollout/              |            |\n",
      "|    ep_len_mean        | 51.7       |\n",
      "|    ep_rew_mean        | 4.7        |\n",
      "| time/                 |            |\n",
      "|    fps                | 274        |\n",
      "|    iterations         | 26600      |\n",
      "|    time_elapsed       | 6200       |\n",
      "|    total_timesteps    | 1702400    |\n",
      "| train/                |            |\n",
      "|    entropy_loss       | -2.28      |\n",
      "|    explained_variance | 0.80932814 |\n",
      "|    learning_rate      | 7.62e-05   |\n",
      "|    n_updates          | 26599      |\n",
      "|    policy_loss        | -3.84      |\n",
      "|    value_loss         | 5.09       |\n",
      "--------------------------------------\n",
      "MoviePy - Building video /Users/bapa/Codes/KidsPuzzles/videos/DigitsPuzzle-10-step_f0.5_i0.2/training-episode-13000.mp4.\n",
      "MoviePy - Writing video /Users/bapa/Codes/KidsPuzzles/videos/DigitsPuzzle-10-step_f0.5_i0.2/training-episode-13000.mp4\n",
      "\n"
     ]
    },
    {
     "name": "stderr",
     "output_type": "stream",
     "text": [
      "                                                             "
     ]
    },
    {
     "name": "stdout",
     "output_type": "stream",
     "text": [
      "MoviePy - Done !\n",
      "MoviePy - video ready /Users/bapa/Codes/KidsPuzzles/videos/DigitsPuzzle-10-step_f0.5_i0.2/training-episode-13000.mp4\n"
     ]
    },
    {
     "name": "stderr",
     "output_type": "stream",
     "text": [
      "\r"
     ]
    },
    {
     "name": "stdout",
     "output_type": "stream",
     "text": [
      "--------------------------------------\n",
      "| rollout/              |            |\n",
      "|    ep_len_mean        | 53.3       |\n",
      "|    ep_rew_mean        | 4.37       |\n",
      "| time/                 |            |\n",
      "|    fps                | 274        |\n",
      "|    iterations         | 26700      |\n",
      "|    time_elapsed       | 6223       |\n",
      "|    total_timesteps    | 1708800    |\n",
      "| train/                |            |\n",
      "|    entropy_loss       | -2.38      |\n",
      "|    explained_variance | 0.87656623 |\n",
      "|    learning_rate      | 7.62e-05   |\n",
      "|    n_updates          | 26699      |\n",
      "|    policy_loss        | 1.77       |\n",
      "|    value_loss         | 1.86       |\n",
      "--------------------------------------\n",
      "-------------------------------------\n",
      "| rollout/              |           |\n",
      "|    ep_len_mean        | 52.2      |\n",
      "|    ep_rew_mean        | 4.4       |\n",
      "| time/                 |           |\n",
      "|    fps                | 274       |\n",
      "|    iterations         | 26800     |\n",
      "|    time_elapsed       | 6247      |\n",
      "|    total_timesteps    | 1715200   |\n",
      "| train/                |           |\n",
      "|    entropy_loss       | -2.06     |\n",
      "|    explained_variance | 0.8672832 |\n",
      "|    learning_rate      | 7.62e-05  |\n",
      "|    n_updates          | 26799     |\n",
      "|    policy_loss        | 2.34      |\n",
      "|    value_loss         | 2.59      |\n",
      "-------------------------------------\n",
      "MoviePy - Building video /Users/bapa/Codes/KidsPuzzles/videos/DigitsPuzzle-10-step_f0.5_i0.2/training-episode-13200.mp4.\n",
      "MoviePy - Writing video /Users/bapa/Codes/KidsPuzzles/videos/DigitsPuzzle-10-step_f0.5_i0.2/training-episode-13200.mp4\n",
      "\n"
     ]
    },
    {
     "name": "stderr",
     "output_type": "stream",
     "text": [
      "                                                             "
     ]
    },
    {
     "name": "stdout",
     "output_type": "stream",
     "text": [
      "MoviePy - Done !\n",
      "MoviePy - video ready /Users/bapa/Codes/KidsPuzzles/videos/DigitsPuzzle-10-step_f0.5_i0.2/training-episode-13200.mp4\n"
     ]
    },
    {
     "name": "stderr",
     "output_type": "stream",
     "text": [
      "\r"
     ]
    },
    {
     "name": "stdout",
     "output_type": "stream",
     "text": [
      "--------------------------------------\n",
      "| rollout/              |            |\n",
      "|    ep_len_mean        | 52.4       |\n",
      "|    ep_rew_mean        | 4.4        |\n",
      "| time/                 |            |\n",
      "|    fps                | 274        |\n",
      "|    iterations         | 26900      |\n",
      "|    time_elapsed       | 6270       |\n",
      "|    total_timesteps    | 1721600    |\n",
      "| train/                |            |\n",
      "|    entropy_loss       | -2.15      |\n",
      "|    explained_variance | 0.97462356 |\n",
      "|    learning_rate      | 7.62e-05   |\n",
      "|    n_updates          | 26899      |\n",
      "|    policy_loss        | 0.372      |\n",
      "|    value_loss         | 0.206      |\n",
      "--------------------------------------\n",
      "MoviePy - Building video /Users/bapa/Codes/KidsPuzzles/videos/DigitsPuzzle-10-step_f0.5_i0.2/training-episode-13400.mp4.\n",
      "MoviePy - Writing video /Users/bapa/Codes/KidsPuzzles/videos/DigitsPuzzle-10-step_f0.5_i0.2/training-episode-13400.mp4\n",
      "\n"
     ]
    },
    {
     "name": "stderr",
     "output_type": "stream",
     "text": [
      "                                                             "
     ]
    },
    {
     "name": "stdout",
     "output_type": "stream",
     "text": [
      "MoviePy - Done !\n",
      "MoviePy - video ready /Users/bapa/Codes/KidsPuzzles/videos/DigitsPuzzle-10-step_f0.5_i0.2/training-episode-13400.mp4\n"
     ]
    },
    {
     "name": "stderr",
     "output_type": "stream",
     "text": [
      "\r"
     ]
    },
    {
     "name": "stdout",
     "output_type": "stream",
     "text": [
      "-------------------------------------\n",
      "| rollout/              |           |\n",
      "|    ep_len_mean        | 52        |\n",
      "|    ep_rew_mean        | 4.37      |\n",
      "| time/                 |           |\n",
      "|    fps                | 274       |\n",
      "|    iterations         | 27000     |\n",
      "|    time_elapsed       | 6294      |\n",
      "|    total_timesteps    | 1728000   |\n",
      "| train/                |           |\n",
      "|    entropy_loss       | -2.35     |\n",
      "|    explained_variance | 0.9243824 |\n",
      "|    learning_rate      | 7.62e-05  |\n",
      "|    n_updates          | 26999     |\n",
      "|    policy_loss        | -1.48     |\n",
      "|    value_loss         | 1.12      |\n",
      "-------------------------------------\n",
      "--------------------------------------\n",
      "| rollout/              |            |\n",
      "|    ep_len_mean        | 52         |\n",
      "|    ep_rew_mean        | 4.14       |\n",
      "| time/                 |            |\n",
      "|    fps                | 274        |\n",
      "|    iterations         | 27100      |\n",
      "|    time_elapsed       | 6317       |\n",
      "|    total_timesteps    | 1734400    |\n",
      "| train/                |            |\n",
      "|    entropy_loss       | -2.3       |\n",
      "|    explained_variance | 0.97713256 |\n",
      "|    learning_rate      | 7.62e-05   |\n",
      "|    n_updates          | 27099      |\n",
      "|    policy_loss        | -0.105     |\n",
      "|    value_loss         | 0.246      |\n",
      "--------------------------------------\n",
      "MoviePy - Building video /Users/bapa/Codes/KidsPuzzles/videos/DigitsPuzzle-10-step_f0.5_i0.2/training-episode-13600.mp4.\n",
      "MoviePy - Writing video /Users/bapa/Codes/KidsPuzzles/videos/DigitsPuzzle-10-step_f0.5_i0.2/training-episode-13600.mp4\n",
      "\n"
     ]
    },
    {
     "name": "stderr",
     "output_type": "stream",
     "text": [
      "                                                             "
     ]
    },
    {
     "name": "stdout",
     "output_type": "stream",
     "text": [
      "MoviePy - Done !\n",
      "MoviePy - video ready /Users/bapa/Codes/KidsPuzzles/videos/DigitsPuzzle-10-step_f0.5_i0.2/training-episode-13600.mp4\n"
     ]
    },
    {
     "name": "stderr",
     "output_type": "stream",
     "text": [
      "\r"
     ]
    },
    {
     "name": "stdout",
     "output_type": "stream",
     "text": [
      "-------------------------------------\n",
      "| rollout/              |           |\n",
      "|    ep_len_mean        | 51.5      |\n",
      "|    ep_rew_mean        | 4.3       |\n",
      "| time/                 |           |\n",
      "|    fps                | 274       |\n",
      "|    iterations         | 27200     |\n",
      "|    time_elapsed       | 6341      |\n",
      "|    total_timesteps    | 1740800   |\n",
      "| train/                |           |\n",
      "|    entropy_loss       | -2.25     |\n",
      "|    explained_variance | 0.9661198 |\n",
      "|    learning_rate      | 7.62e-05  |\n",
      "|    n_updates          | 27199     |\n",
      "|    policy_loss        | -0.939    |\n",
      "|    value_loss         | 0.465     |\n",
      "-------------------------------------\n",
      "-------------------------------------\n",
      "| rollout/              |           |\n",
      "|    ep_len_mean        | 51.5      |\n",
      "|    ep_rew_mean        | 4.26      |\n",
      "| time/                 |           |\n",
      "|    fps                | 274       |\n",
      "|    iterations         | 27300     |\n",
      "|    time_elapsed       | 6364      |\n",
      "|    total_timesteps    | 1747200   |\n",
      "| train/                |           |\n",
      "|    entropy_loss       | -2.2      |\n",
      "|    explained_variance | 0.8054488 |\n",
      "|    learning_rate      | 7.62e-05  |\n",
      "|    n_updates          | 27299     |\n",
      "|    policy_loss        | -2.49     |\n",
      "|    value_loss         | 2.66      |\n",
      "-------------------------------------\n",
      "MoviePy - Building video /Users/bapa/Codes/KidsPuzzles/videos/DigitsPuzzle-10-step_f0.5_i0.2/training-episode-13800.mp4.\n",
      "MoviePy - Writing video /Users/bapa/Codes/KidsPuzzles/videos/DigitsPuzzle-10-step_f0.5_i0.2/training-episode-13800.mp4\n",
      "\n"
     ]
    },
    {
     "name": "stderr",
     "output_type": "stream",
     "text": [
      "                                                             "
     ]
    },
    {
     "name": "stdout",
     "output_type": "stream",
     "text": [
      "MoviePy - Done !\n",
      "MoviePy - video ready /Users/bapa/Codes/KidsPuzzles/videos/DigitsPuzzle-10-step_f0.5_i0.2/training-episode-13800.mp4\n"
     ]
    },
    {
     "name": "stderr",
     "output_type": "stream",
     "text": [
      "\r"
     ]
    },
    {
     "name": "stdout",
     "output_type": "stream",
     "text": [
      "-------------------------------------\n",
      "| rollout/              |           |\n",
      "|    ep_len_mean        | 51        |\n",
      "|    ep_rew_mean        | 4.54      |\n",
      "| time/                 |           |\n",
      "|    fps                | 274       |\n",
      "|    iterations         | 27400     |\n",
      "|    time_elapsed       | 6387      |\n",
      "|    total_timesteps    | 1753600   |\n",
      "| train/                |           |\n",
      "|    entropy_loss       | -2.48     |\n",
      "|    explained_variance | 0.8862492 |\n",
      "|    learning_rate      | 7.62e-05  |\n",
      "|    n_updates          | 27399     |\n",
      "|    policy_loss        | 0.712     |\n",
      "|    value_loss         | 0.408     |\n",
      "-------------------------------------\n",
      "MoviePy - Building video /Users/bapa/Codes/KidsPuzzles/videos/DigitsPuzzle-10-step_f0.5_i0.2/training-episode-14000.mp4.\n",
      "MoviePy - Writing video /Users/bapa/Codes/KidsPuzzles/videos/DigitsPuzzle-10-step_f0.5_i0.2/training-episode-14000.mp4\n",
      "\n"
     ]
    },
    {
     "name": "stderr",
     "output_type": "stream",
     "text": [
      "                                                             "
     ]
    },
    {
     "name": "stdout",
     "output_type": "stream",
     "text": [
      "MoviePy - Done !\n",
      "MoviePy - video ready /Users/bapa/Codes/KidsPuzzles/videos/DigitsPuzzle-10-step_f0.5_i0.2/training-episode-14000.mp4\n"
     ]
    },
    {
     "name": "stderr",
     "output_type": "stream",
     "text": [
      "\r"
     ]
    },
    {
     "name": "stdout",
     "output_type": "stream",
     "text": [
      "-------------------------------------\n",
      "| rollout/              |           |\n",
      "|    ep_len_mean        | 51        |\n",
      "|    ep_rew_mean        | 4.63      |\n",
      "| time/                 |           |\n",
      "|    fps                | 274       |\n",
      "|    iterations         | 27500     |\n",
      "|    time_elapsed       | 6411      |\n",
      "|    total_timesteps    | 1760000   |\n",
      "| train/                |           |\n",
      "|    entropy_loss       | -2.2      |\n",
      "|    explained_variance | 0.8974984 |\n",
      "|    learning_rate      | 7.62e-05  |\n",
      "|    n_updates          | 27499     |\n",
      "|    policy_loss        | 0.87      |\n",
      "|    value_loss         | 0.702     |\n",
      "-------------------------------------\n",
      "-------------------------------------\n",
      "| rollout/              |           |\n",
      "|    ep_len_mean        | 52.5      |\n",
      "|    ep_rew_mean        | 4.18      |\n",
      "| time/                 |           |\n",
      "|    fps                | 274       |\n",
      "|    iterations         | 27600     |\n",
      "|    time_elapsed       | 6434      |\n",
      "|    total_timesteps    | 1766400   |\n",
      "| train/                |           |\n",
      "|    entropy_loss       | -2.24     |\n",
      "|    explained_variance | 0.9504239 |\n",
      "|    learning_rate      | 7.62e-05  |\n",
      "|    n_updates          | 27599     |\n",
      "|    policy_loss        | 1.23      |\n",
      "|    value_loss         | 1.11      |\n",
      "-------------------------------------\n",
      "MoviePy - Building video /Users/bapa/Codes/KidsPuzzles/videos/DigitsPuzzle-10-step_f0.5_i0.2/training-episode-14200.mp4.\n",
      "MoviePy - Writing video /Users/bapa/Codes/KidsPuzzles/videos/DigitsPuzzle-10-step_f0.5_i0.2/training-episode-14200.mp4\n",
      "\n"
     ]
    },
    {
     "name": "stderr",
     "output_type": "stream",
     "text": [
      "                                                             "
     ]
    },
    {
     "name": "stdout",
     "output_type": "stream",
     "text": [
      "MoviePy - Done !\n",
      "MoviePy - video ready /Users/bapa/Codes/KidsPuzzles/videos/DigitsPuzzle-10-step_f0.5_i0.2/training-episode-14200.mp4\n"
     ]
    },
    {
     "name": "stderr",
     "output_type": "stream",
     "text": [
      "\r"
     ]
    },
    {
     "name": "stdout",
     "output_type": "stream",
     "text": [
      "-------------------------------------\n",
      "| rollout/              |           |\n",
      "|    ep_len_mean        | 53.9      |\n",
      "|    ep_rew_mean        | 4.22      |\n",
      "| time/                 |           |\n",
      "|    fps                | 274       |\n",
      "|    iterations         | 27700     |\n",
      "|    time_elapsed       | 6458      |\n",
      "|    total_timesteps    | 1772800   |\n",
      "| train/                |           |\n",
      "|    entropy_loss       | -2.43     |\n",
      "|    explained_variance | 0.7129863 |\n",
      "|    learning_rate      | 7.62e-05  |\n",
      "|    n_updates          | 27699     |\n",
      "|    policy_loss        | -1.24     |\n",
      "|    value_loss         | 1.79      |\n",
      "-------------------------------------\n",
      "MoviePy - Building video /Users/bapa/Codes/KidsPuzzles/videos/DigitsPuzzle-10-step_f0.5_i0.2/training-episode-14400.mp4.\n",
      "MoviePy - Writing video /Users/bapa/Codes/KidsPuzzles/videos/DigitsPuzzle-10-step_f0.5_i0.2/training-episode-14400.mp4\n",
      "\n"
     ]
    },
    {
     "name": "stderr",
     "output_type": "stream",
     "text": [
      "                                                                       "
     ]
    },
    {
     "name": "stdout",
     "output_type": "stream",
     "text": [
      "MoviePy - Done !\n",
      "MoviePy - video ready /Users/bapa/Codes/KidsPuzzles/videos/DigitsPuzzle-10-step_f0.5_i0.2/training-episode-14400.mp4\n"
     ]
    },
    {
     "name": "stderr",
     "output_type": "stream",
     "text": [
      "\r"
     ]
    },
    {
     "name": "stdout",
     "output_type": "stream",
     "text": [
      "------------------------------------\n",
      "| rollout/              |          |\n",
      "|    ep_len_mean        | 51.8     |\n",
      "|    ep_rew_mean        | 4.35     |\n",
      "| time/                 |          |\n",
      "|    fps                | 274      |\n",
      "|    iterations         | 27800    |\n",
      "|    time_elapsed       | 6482     |\n",
      "|    total_timesteps    | 1779200  |\n",
      "| train/                |          |\n",
      "|    entropy_loss       | -2.27    |\n",
      "|    explained_variance | 0.945375 |\n",
      "|    learning_rate      | 7.62e-05 |\n",
      "|    n_updates          | 27799    |\n",
      "|    policy_loss        | -0.122   |\n",
      "|    value_loss         | 0.771    |\n",
      "------------------------------------\n",
      "-------------------------------------\n",
      "| rollout/              |           |\n",
      "|    ep_len_mean        | 48.7      |\n",
      "|    ep_rew_mean        | 4.39      |\n",
      "| time/                 |           |\n",
      "|    fps                | 274       |\n",
      "|    iterations         | 27900     |\n",
      "|    time_elapsed       | 6505      |\n",
      "|    total_timesteps    | 1785600   |\n",
      "| train/                |           |\n",
      "|    entropy_loss       | -2.33     |\n",
      "|    explained_variance | 0.8948739 |\n",
      "|    learning_rate      | 7.62e-05  |\n",
      "|    n_updates          | 27899     |\n",
      "|    policy_loss        | -1.85     |\n",
      "|    value_loss         | 0.946     |\n",
      "-------------------------------------\n",
      "MoviePy - Building video /Users/bapa/Codes/KidsPuzzles/videos/DigitsPuzzle-10-step_f0.5_i0.2/training-episode-14600.mp4.\n",
      "MoviePy - Writing video /Users/bapa/Codes/KidsPuzzles/videos/DigitsPuzzle-10-step_f0.5_i0.2/training-episode-14600.mp4\n",
      "\n"
     ]
    },
    {
     "name": "stderr",
     "output_type": "stream",
     "text": [
      "                                                             "
     ]
    },
    {
     "name": "stdout",
     "output_type": "stream",
     "text": [
      "MoviePy - Done !\n",
      "MoviePy - video ready /Users/bapa/Codes/KidsPuzzles/videos/DigitsPuzzle-10-step_f0.5_i0.2/training-episode-14600.mp4\n"
     ]
    },
    {
     "name": "stderr",
     "output_type": "stream",
     "text": [
      "\r"
     ]
    },
    {
     "name": "stdout",
     "output_type": "stream",
     "text": [
      "-------------------------------------\n",
      "| rollout/              |           |\n",
      "|    ep_len_mean        | 49.4      |\n",
      "|    ep_rew_mean        | 4.55      |\n",
      "| time/                 |           |\n",
      "|    fps                | 274       |\n",
      "|    iterations         | 28000     |\n",
      "|    time_elapsed       | 6528      |\n",
      "|    total_timesteps    | 1792000   |\n",
      "| train/                |           |\n",
      "|    entropy_loss       | -2.08     |\n",
      "|    explained_variance | 0.9611363 |\n",
      "|    learning_rate      | 7.62e-05  |\n",
      "|    n_updates          | 27999     |\n",
      "|    policy_loss        | -0.372    |\n",
      "|    value_loss         | 0.297     |\n",
      "-------------------------------------\n",
      "-------------------------------------\n",
      "| rollout/              |           |\n",
      "|    ep_len_mean        | 51        |\n",
      "|    ep_rew_mean        | 4.05      |\n",
      "| time/                 |           |\n",
      "|    fps                | 274       |\n",
      "|    iterations         | 28100     |\n",
      "|    time_elapsed       | 6552      |\n",
      "|    total_timesteps    | 1798400   |\n",
      "| train/                |           |\n",
      "|    entropy_loss       | -2.21     |\n",
      "|    explained_variance | 0.8712785 |\n",
      "|    learning_rate      | 7.62e-05  |\n",
      "|    n_updates          | 28099     |\n",
      "|    policy_loss        | -1.49     |\n",
      "|    value_loss         | 0.968     |\n",
      "-------------------------------------\n",
      "MoviePy - Building video /Users/bapa/Codes/KidsPuzzles/videos/DigitsPuzzle-10-step_f0.5_i0.2/training-episode-14800.mp4.\n",
      "MoviePy - Writing video /Users/bapa/Codes/KidsPuzzles/videos/DigitsPuzzle-10-step_f0.5_i0.2/training-episode-14800.mp4\n",
      "\n"
     ]
    },
    {
     "name": "stderr",
     "output_type": "stream",
     "text": [
      "                                                             "
     ]
    },
    {
     "name": "stdout",
     "output_type": "stream",
     "text": [
      "MoviePy - Done !\n",
      "MoviePy - video ready /Users/bapa/Codes/KidsPuzzles/videos/DigitsPuzzle-10-step_f0.5_i0.2/training-episode-14800.mp4\n"
     ]
    },
    {
     "name": "stderr",
     "output_type": "stream",
     "text": [
      "\r"
     ]
    },
    {
     "name": "stdout",
     "output_type": "stream",
     "text": [
      "--------------------------------------\n",
      "| rollout/              |            |\n",
      "|    ep_len_mean        | 50.8       |\n",
      "|    ep_rew_mean        | 4.26       |\n",
      "| time/                 |            |\n",
      "|    fps                | 274        |\n",
      "|    iterations         | 28200      |\n",
      "|    time_elapsed       | 6575       |\n",
      "|    total_timesteps    | 1804800    |\n",
      "| train/                |            |\n",
      "|    entropy_loss       | -2.33      |\n",
      "|    explained_variance | 0.84261835 |\n",
      "|    learning_rate      | 2.52e-05   |\n",
      "|    n_updates          | 28199      |\n",
      "|    policy_loss        | -3.02      |\n",
      "|    value_loss         | 3.55       |\n",
      "--------------------------------------\n",
      "MoviePy - Building video /Users/bapa/Codes/KidsPuzzles/videos/DigitsPuzzle-10-step_f0.5_i0.2/training-episode-15000.mp4.\n",
      "MoviePy - Writing video /Users/bapa/Codes/KidsPuzzles/videos/DigitsPuzzle-10-step_f0.5_i0.2/training-episode-15000.mp4\n",
      "\n"
     ]
    },
    {
     "name": "stderr",
     "output_type": "stream",
     "text": [
      "                                                             "
     ]
    },
    {
     "name": "stdout",
     "output_type": "stream",
     "text": [
      "MoviePy - Done !\n",
      "MoviePy - video ready /Users/bapa/Codes/KidsPuzzles/videos/DigitsPuzzle-10-step_f0.5_i0.2/training-episode-15000.mp4\n"
     ]
    },
    {
     "name": "stderr",
     "output_type": "stream",
     "text": [
      "\r"
     ]
    },
    {
     "name": "stdout",
     "output_type": "stream",
     "text": [
      "-------------------------------------\n",
      "| rollout/              |           |\n",
      "|    ep_len_mean        | 51.1      |\n",
      "|    ep_rew_mean        | 4.42      |\n",
      "| time/                 |           |\n",
      "|    fps                | 274       |\n",
      "|    iterations         | 28300     |\n",
      "|    time_elapsed       | 6599      |\n",
      "|    total_timesteps    | 1811200   |\n",
      "| train/                |           |\n",
      "|    entropy_loss       | -2.35     |\n",
      "|    explained_variance | 0.9193283 |\n",
      "|    learning_rate      | 2.52e-05  |\n",
      "|    n_updates          | 28299     |\n",
      "|    policy_loss        | -1.31     |\n",
      "|    value_loss         | 0.935     |\n",
      "-------------------------------------\n",
      "--------------------------------------\n",
      "| rollout/              |            |\n",
      "|    ep_len_mean        | 49.7       |\n",
      "|    ep_rew_mean        | 4.32       |\n",
      "| time/                 |            |\n",
      "|    fps                | 274        |\n",
      "|    iterations         | 28400      |\n",
      "|    time_elapsed       | 6622       |\n",
      "|    total_timesteps    | 1817600    |\n",
      "| train/                |            |\n",
      "|    entropy_loss       | -2.05      |\n",
      "|    explained_variance | 0.90351343 |\n",
      "|    learning_rate      | 2.52e-05   |\n",
      "|    n_updates          | 28399      |\n",
      "|    policy_loss        | 1.96       |\n",
      "|    value_loss         | 2.04       |\n",
      "--------------------------------------\n",
      "MoviePy - Building video /Users/bapa/Codes/KidsPuzzles/videos/DigitsPuzzle-10-step_f0.5_i0.2/training-episode-15200.mp4.\n",
      "MoviePy - Writing video /Users/bapa/Codes/KidsPuzzles/videos/DigitsPuzzle-10-step_f0.5_i0.2/training-episode-15200.mp4\n",
      "\n"
     ]
    },
    {
     "name": "stderr",
     "output_type": "stream",
     "text": [
      "                                                             "
     ]
    },
    {
     "name": "stdout",
     "output_type": "stream",
     "text": [
      "MoviePy - Done !\n",
      "MoviePy - video ready /Users/bapa/Codes/KidsPuzzles/videos/DigitsPuzzle-10-step_f0.5_i0.2/training-episode-15200.mp4\n"
     ]
    },
    {
     "name": "stderr",
     "output_type": "stream",
     "text": [
      "\r"
     ]
    },
    {
     "name": "stdout",
     "output_type": "stream",
     "text": [
      "-------------------------------------\n",
      "| rollout/              |           |\n",
      "|    ep_len_mean        | 49        |\n",
      "|    ep_rew_mean        | 4.33      |\n",
      "| time/                 |           |\n",
      "|    fps                | 274       |\n",
      "|    iterations         | 28500     |\n",
      "|    time_elapsed       | 6646      |\n",
      "|    total_timesteps    | 1824000   |\n",
      "| train/                |           |\n",
      "|    entropy_loss       | -2.27     |\n",
      "|    explained_variance | 0.9389851 |\n",
      "|    learning_rate      | 2.52e-05  |\n",
      "|    n_updates          | 28499     |\n",
      "|    policy_loss        | -0.0366   |\n",
      "|    value_loss         | 0.616     |\n",
      "-------------------------------------\n",
      "MoviePy - Building video /Users/bapa/Codes/KidsPuzzles/videos/DigitsPuzzle-10-step_f0.5_i0.2/training-episode-15400.mp4.\n",
      "MoviePy - Writing video /Users/bapa/Codes/KidsPuzzles/videos/DigitsPuzzle-10-step_f0.5_i0.2/training-episode-15400.mp4\n",
      "\n"
     ]
    },
    {
     "name": "stderr",
     "output_type": "stream",
     "text": [
      "                                                             "
     ]
    },
    {
     "name": "stdout",
     "output_type": "stream",
     "text": [
      "MoviePy - Done !\n",
      "MoviePy - video ready /Users/bapa/Codes/KidsPuzzles/videos/DigitsPuzzle-10-step_f0.5_i0.2/training-episode-15400.mp4\n"
     ]
    },
    {
     "name": "stderr",
     "output_type": "stream",
     "text": [
      "\r"
     ]
    },
    {
     "name": "stdout",
     "output_type": "stream",
     "text": [
      "--------------------------------------\n",
      "| rollout/              |            |\n",
      "|    ep_len_mean        | 49.8       |\n",
      "|    ep_rew_mean        | 4.23       |\n",
      "| time/                 |            |\n",
      "|    fps                | 274        |\n",
      "|    iterations         | 28600      |\n",
      "|    time_elapsed       | 6669       |\n",
      "|    total_timesteps    | 1830400    |\n",
      "| train/                |            |\n",
      "|    entropy_loss       | -2.2       |\n",
      "|    explained_variance | 0.96916556 |\n",
      "|    learning_rate      | 2.52e-05   |\n",
      "|    n_updates          | 28599      |\n",
      "|    policy_loss        | 0.98       |\n",
      "|    value_loss         | 0.514      |\n",
      "--------------------------------------\n",
      "-------------------------------------\n",
      "| rollout/              |           |\n",
      "|    ep_len_mean        | 51.2      |\n",
      "|    ep_rew_mean        | 4.32      |\n",
      "| time/                 |           |\n",
      "|    fps                | 274       |\n",
      "|    iterations         | 28700     |\n",
      "|    time_elapsed       | 6692      |\n",
      "|    total_timesteps    | 1836800   |\n",
      "| train/                |           |\n",
      "|    entropy_loss       | -2.36     |\n",
      "|    explained_variance | 0.8784622 |\n",
      "|    learning_rate      | 2.52e-05  |\n",
      "|    n_updates          | 28699     |\n",
      "|    policy_loss        | 0.542     |\n",
      "|    value_loss         | 1.18      |\n",
      "-------------------------------------\n",
      "MoviePy - Building video /Users/bapa/Codes/KidsPuzzles/videos/DigitsPuzzle-10-step_f0.5_i0.2/training-episode-15600.mp4.\n",
      "MoviePy - Writing video /Users/bapa/Codes/KidsPuzzles/videos/DigitsPuzzle-10-step_f0.5_i0.2/training-episode-15600.mp4\n",
      "\n"
     ]
    },
    {
     "name": "stderr",
     "output_type": "stream",
     "text": [
      "                                                             "
     ]
    },
    {
     "name": "stdout",
     "output_type": "stream",
     "text": [
      "MoviePy - Done !\n",
      "MoviePy - video ready /Users/bapa/Codes/KidsPuzzles/videos/DigitsPuzzle-10-step_f0.5_i0.2/training-episode-15600.mp4\n"
     ]
    },
    {
     "name": "stderr",
     "output_type": "stream",
     "text": [
      "\r"
     ]
    },
    {
     "name": "stdout",
     "output_type": "stream",
     "text": [
      "-------------------------------------\n",
      "| rollout/              |           |\n",
      "|    ep_len_mean        | 52.3      |\n",
      "|    ep_rew_mean        | 3.91      |\n",
      "| time/                 |           |\n",
      "|    fps                | 274       |\n",
      "|    iterations         | 28800     |\n",
      "|    time_elapsed       | 6716      |\n",
      "|    total_timesteps    | 1843200   |\n",
      "| train/                |           |\n",
      "|    entropy_loss       | -2.4      |\n",
      "|    explained_variance | 0.9109254 |\n",
      "|    learning_rate      | 2.52e-05  |\n",
      "|    n_updates          | 28799     |\n",
      "|    policy_loss        | -1.04     |\n",
      "|    value_loss         | 0.67      |\n",
      "-------------------------------------\n",
      "MoviePy - Building video /Users/bapa/Codes/KidsPuzzles/videos/DigitsPuzzle-10-step_f0.5_i0.2/training-episode-15800.mp4.\n",
      "MoviePy - Writing video /Users/bapa/Codes/KidsPuzzles/videos/DigitsPuzzle-10-step_f0.5_i0.2/training-episode-15800.mp4\n",
      "\n"
     ]
    },
    {
     "name": "stderr",
     "output_type": "stream",
     "text": [
      "                                                             "
     ]
    },
    {
     "name": "stdout",
     "output_type": "stream",
     "text": [
      "MoviePy - Done !\n",
      "MoviePy - video ready /Users/bapa/Codes/KidsPuzzles/videos/DigitsPuzzle-10-step_f0.5_i0.2/training-episode-15800.mp4\n"
     ]
    },
    {
     "name": "stderr",
     "output_type": "stream",
     "text": [
      "\r"
     ]
    },
    {
     "name": "stdout",
     "output_type": "stream",
     "text": [
      "--------------------------------------\n",
      "| rollout/              |            |\n",
      "|    ep_len_mean        | 51.3       |\n",
      "|    ep_rew_mean        | 4.02       |\n",
      "| time/                 |            |\n",
      "|    fps                | 274        |\n",
      "|    iterations         | 28900      |\n",
      "|    time_elapsed       | 6740       |\n",
      "|    total_timesteps    | 1849600    |\n",
      "| train/                |            |\n",
      "|    entropy_loss       | -2.26      |\n",
      "|    explained_variance | 0.94522476 |\n",
      "|    learning_rate      | 2.52e-05   |\n",
      "|    n_updates          | 28899      |\n",
      "|    policy_loss        | -2.2       |\n",
      "|    value_loss         | 1.27       |\n",
      "--------------------------------------\n",
      "------------------------------------\n",
      "| rollout/              |          |\n",
      "|    ep_len_mean        | 49.9     |\n",
      "|    ep_rew_mean        | 4.59     |\n",
      "| time/                 |          |\n",
      "|    fps                | 274      |\n",
      "|    iterations         | 29000    |\n",
      "|    time_elapsed       | 6763     |\n",
      "|    total_timesteps    | 1856000  |\n",
      "| train/                |          |\n",
      "|    entropy_loss       | -2.51    |\n",
      "|    explained_variance | 0.899328 |\n",
      "|    learning_rate      | 2.52e-05 |\n",
      "|    n_updates          | 28999    |\n",
      "|    policy_loss        | -2.02    |\n",
      "|    value_loss         | 1.23     |\n",
      "------------------------------------\n",
      "MoviePy - Building video /Users/bapa/Codes/KidsPuzzles/videos/DigitsPuzzle-10-step_f0.5_i0.2/training-episode-16000.mp4.\n",
      "MoviePy - Writing video /Users/bapa/Codes/KidsPuzzles/videos/DigitsPuzzle-10-step_f0.5_i0.2/training-episode-16000.mp4\n",
      "\n"
     ]
    },
    {
     "name": "stderr",
     "output_type": "stream",
     "text": [
      "                                                             "
     ]
    },
    {
     "name": "stdout",
     "output_type": "stream",
     "text": [
      "MoviePy - Done !\n",
      "MoviePy - video ready /Users/bapa/Codes/KidsPuzzles/videos/DigitsPuzzle-10-step_f0.5_i0.2/training-episode-16000.mp4\n"
     ]
    },
    {
     "name": "stderr",
     "output_type": "stream",
     "text": [
      "\r"
     ]
    },
    {
     "name": "stdout",
     "output_type": "stream",
     "text": [
      "------------------------------------\n",
      "| rollout/              |          |\n",
      "|    ep_len_mean        | 49.1     |\n",
      "|    ep_rew_mean        | 4.67     |\n",
      "| time/                 |          |\n",
      "|    fps                | 274      |\n",
      "|    iterations         | 29100    |\n",
      "|    time_elapsed       | 6787     |\n",
      "|    total_timesteps    | 1862400  |\n",
      "| train/                |          |\n",
      "|    entropy_loss       | -2.2     |\n",
      "|    explained_variance | 0.979642 |\n",
      "|    learning_rate      | 2.52e-05 |\n",
      "|    n_updates          | 29099    |\n",
      "|    policy_loss        | 0.659    |\n",
      "|    value_loss         | 0.329    |\n",
      "------------------------------------\n",
      "MoviePy - Building video /Users/bapa/Codes/KidsPuzzles/videos/DigitsPuzzle-10-step_f0.5_i0.2/training-episode-16200.mp4.\n",
      "MoviePy - Writing video /Users/bapa/Codes/KidsPuzzles/videos/DigitsPuzzle-10-step_f0.5_i0.2/training-episode-16200.mp4\n",
      "\n"
     ]
    },
    {
     "name": "stderr",
     "output_type": "stream",
     "text": [
      "                                                             "
     ]
    },
    {
     "name": "stdout",
     "output_type": "stream",
     "text": [
      "MoviePy - Done !\n",
      "MoviePy - video ready /Users/bapa/Codes/KidsPuzzles/videos/DigitsPuzzle-10-step_f0.5_i0.2/training-episode-16200.mp4\n"
     ]
    },
    {
     "name": "stderr",
     "output_type": "stream",
     "text": [
      "\r"
     ]
    },
    {
     "name": "stdout",
     "output_type": "stream",
     "text": [
      "--------------------------------------\n",
      "| rollout/              |            |\n",
      "|    ep_len_mean        | 49.1       |\n",
      "|    ep_rew_mean        | 4.14       |\n",
      "| time/                 |            |\n",
      "|    fps                | 274        |\n",
      "|    iterations         | 29200      |\n",
      "|    time_elapsed       | 6811       |\n",
      "|    total_timesteps    | 1868800    |\n",
      "| train/                |            |\n",
      "|    entropy_loss       | -2.11      |\n",
      "|    explained_variance | 0.94325197 |\n",
      "|    learning_rate      | 2.52e-05   |\n",
      "|    n_updates          | 29199      |\n",
      "|    policy_loss        | 1.07       |\n",
      "|    value_loss         | 0.689      |\n",
      "--------------------------------------\n",
      "-------------------------------------\n",
      "| rollout/              |           |\n",
      "|    ep_len_mean        | 49.8      |\n",
      "|    ep_rew_mean        | 4.31      |\n",
      "| time/                 |           |\n",
      "|    fps                | 274       |\n",
      "|    iterations         | 29300     |\n",
      "|    time_elapsed       | 6834      |\n",
      "|    total_timesteps    | 1875200   |\n",
      "| train/                |           |\n",
      "|    entropy_loss       | -2.29     |\n",
      "|    explained_variance | 0.9704726 |\n",
      "|    learning_rate      | 2.52e-05  |\n",
      "|    n_updates          | 29299     |\n",
      "|    policy_loss        | 0.92      |\n",
      "|    value_loss         | 0.543     |\n",
      "-------------------------------------\n",
      "MoviePy - Building video /Users/bapa/Codes/KidsPuzzles/videos/DigitsPuzzle-10-step_f0.5_i0.2/training-episode-16400.mp4.\n",
      "MoviePy - Writing video /Users/bapa/Codes/KidsPuzzles/videos/DigitsPuzzle-10-step_f0.5_i0.2/training-episode-16400.mp4\n",
      "\n"
     ]
    },
    {
     "name": "stderr",
     "output_type": "stream",
     "text": [
      "                                                             "
     ]
    },
    {
     "name": "stdout",
     "output_type": "stream",
     "text": [
      "MoviePy - Done !\n",
      "MoviePy - video ready /Users/bapa/Codes/KidsPuzzles/videos/DigitsPuzzle-10-step_f0.5_i0.2/training-episode-16400.mp4\n"
     ]
    },
    {
     "name": "stderr",
     "output_type": "stream",
     "text": [
      "\r"
     ]
    },
    {
     "name": "stdout",
     "output_type": "stream",
     "text": [
      "--------------------------------------\n",
      "| rollout/              |            |\n",
      "|    ep_len_mean        | 49         |\n",
      "|    ep_rew_mean        | 4.46       |\n",
      "| time/                 |            |\n",
      "|    fps                | 274        |\n",
      "|    iterations         | 29400      |\n",
      "|    time_elapsed       | 6857       |\n",
      "|    total_timesteps    | 1881600    |\n",
      "| train/                |            |\n",
      "|    entropy_loss       | -2.34      |\n",
      "|    explained_variance | 0.98092514 |\n",
      "|    learning_rate      | 2.52e-05   |\n",
      "|    n_updates          | 29399      |\n",
      "|    policy_loss        | -0.0562    |\n",
      "|    value_loss         | 0.354      |\n",
      "--------------------------------------\n",
      "-------------------------------------\n",
      "| rollout/              |           |\n",
      "|    ep_len_mean        | 48.8      |\n",
      "|    ep_rew_mean        | 4.1       |\n",
      "| time/                 |           |\n",
      "|    fps                | 274       |\n",
      "|    iterations         | 29500     |\n",
      "|    time_elapsed       | 6881      |\n",
      "|    total_timesteps    | 1888000   |\n",
      "| train/                |           |\n",
      "|    entropy_loss       | -2.16     |\n",
      "|    explained_variance | 0.9492648 |\n",
      "|    learning_rate      | 2.52e-05  |\n",
      "|    n_updates          | 29499     |\n",
      "|    policy_loss        | -0.567    |\n",
      "|    value_loss         | 0.42      |\n",
      "-------------------------------------\n",
      "MoviePy - Building video /Users/bapa/Codes/KidsPuzzles/videos/DigitsPuzzle-10-step_f0.5_i0.2/training-episode-16600.mp4.\n",
      "MoviePy - Writing video /Users/bapa/Codes/KidsPuzzles/videos/DigitsPuzzle-10-step_f0.5_i0.2/training-episode-16600.mp4\n",
      "\n"
     ]
    },
    {
     "name": "stderr",
     "output_type": "stream",
     "text": [
      "                                                             "
     ]
    },
    {
     "name": "stdout",
     "output_type": "stream",
     "text": [
      "MoviePy - Done !\n",
      "MoviePy - video ready /Users/bapa/Codes/KidsPuzzles/videos/DigitsPuzzle-10-step_f0.5_i0.2/training-episode-16600.mp4\n"
     ]
    },
    {
     "name": "stderr",
     "output_type": "stream",
     "text": [
      "\r"
     ]
    },
    {
     "name": "stdout",
     "output_type": "stream",
     "text": [
      "--------------------------------------\n",
      "| rollout/              |            |\n",
      "|    ep_len_mean        | 47.8       |\n",
      "|    ep_rew_mean        | 4.65       |\n",
      "| time/                 |            |\n",
      "|    fps                | 274        |\n",
      "|    iterations         | 29600      |\n",
      "|    time_elapsed       | 6904       |\n",
      "|    total_timesteps    | 1894400    |\n",
      "| train/                |            |\n",
      "|    entropy_loss       | -2.3       |\n",
      "|    explained_variance | 0.97763413 |\n",
      "|    learning_rate      | 2.52e-05   |\n",
      "|    n_updates          | 29599      |\n",
      "|    policy_loss        | 1.09       |\n",
      "|    value_loss         | 0.509      |\n",
      "--------------------------------------\n",
      "MoviePy - Building video /Users/bapa/Codes/KidsPuzzles/videos/DigitsPuzzle-10-step_f0.5_i0.2/training-episode-16800.mp4.\n",
      "MoviePy - Writing video /Users/bapa/Codes/KidsPuzzles/videos/DigitsPuzzle-10-step_f0.5_i0.2/training-episode-16800.mp4\n",
      "\n"
     ]
    },
    {
     "name": "stderr",
     "output_type": "stream",
     "text": [
      "                                                             "
     ]
    },
    {
     "name": "stdout",
     "output_type": "stream",
     "text": [
      "MoviePy - Done !\n",
      "MoviePy - video ready /Users/bapa/Codes/KidsPuzzles/videos/DigitsPuzzle-10-step_f0.5_i0.2/training-episode-16800.mp4\n"
     ]
    },
    {
     "name": "stderr",
     "output_type": "stream",
     "text": [
      "\r"
     ]
    },
    {
     "name": "stdout",
     "output_type": "stream",
     "text": [
      "--------------------------------------\n",
      "| rollout/              |            |\n",
      "|    ep_len_mean        | 51         |\n",
      "|    ep_rew_mean        | 3.9        |\n",
      "| time/                 |            |\n",
      "|    fps                | 274        |\n",
      "|    iterations         | 29700      |\n",
      "|    time_elapsed       | 6928       |\n",
      "|    total_timesteps    | 1900800    |\n",
      "| train/                |            |\n",
      "|    entropy_loss       | -2.42      |\n",
      "|    explained_variance | 0.95887583 |\n",
      "|    learning_rate      | 2.52e-05   |\n",
      "|    n_updates          | 29699      |\n",
      "|    policy_loss        | -0.134     |\n",
      "|    value_loss         | 0.533      |\n",
      "--------------------------------------\n",
      "--------------------------------------\n",
      "| rollout/              |            |\n",
      "|    ep_len_mean        | 48.3       |\n",
      "|    ep_rew_mean        | 4.5        |\n",
      "| time/                 |            |\n",
      "|    fps                | 274        |\n",
      "|    iterations         | 29800      |\n",
      "|    time_elapsed       | 6951       |\n",
      "|    total_timesteps    | 1907200    |\n",
      "| train/                |            |\n",
      "|    entropy_loss       | -2.35      |\n",
      "|    explained_variance | 0.98679185 |\n",
      "|    learning_rate      | 2.52e-05   |\n",
      "|    n_updates          | 29799      |\n",
      "|    policy_loss        | 0.223      |\n",
      "|    value_loss         | 0.198      |\n",
      "--------------------------------------\n",
      "MoviePy - Building video /Users/bapa/Codes/KidsPuzzles/videos/DigitsPuzzle-10-step_f0.5_i0.2/training-episode-17000.mp4.\n",
      "MoviePy - Writing video /Users/bapa/Codes/KidsPuzzles/videos/DigitsPuzzle-10-step_f0.5_i0.2/training-episode-17000.mp4\n",
      "\n"
     ]
    },
    {
     "name": "stderr",
     "output_type": "stream",
     "text": [
      "                                                             "
     ]
    },
    {
     "name": "stdout",
     "output_type": "stream",
     "text": [
      "MoviePy - Done !\n",
      "MoviePy - video ready /Users/bapa/Codes/KidsPuzzles/videos/DigitsPuzzle-10-step_f0.5_i0.2/training-episode-17000.mp4\n"
     ]
    },
    {
     "name": "stderr",
     "output_type": "stream",
     "text": [
      "\r"
     ]
    },
    {
     "name": "stdout",
     "output_type": "stream",
     "text": [
      "-------------------------------------\n",
      "| rollout/              |           |\n",
      "|    ep_len_mean        | 48        |\n",
      "|    ep_rew_mean        | 4.38      |\n",
      "| time/                 |           |\n",
      "|    fps                | 274       |\n",
      "|    iterations         | 29900     |\n",
      "|    time_elapsed       | 6974      |\n",
      "|    total_timesteps    | 1913600   |\n",
      "| train/                |           |\n",
      "|    entropy_loss       | -2.28     |\n",
      "|    explained_variance | 0.9587633 |\n",
      "|    learning_rate      | 2.52e-05  |\n",
      "|    n_updates          | 29899     |\n",
      "|    policy_loss        | 0.447     |\n",
      "|    value_loss         | 0.407     |\n",
      "-------------------------------------\n",
      "MoviePy - Building video /Users/bapa/Codes/KidsPuzzles/videos/DigitsPuzzle-10-step_f0.5_i0.2/training-episode-17200.mp4.\n",
      "MoviePy - Writing video /Users/bapa/Codes/KidsPuzzles/videos/DigitsPuzzle-10-step_f0.5_i0.2/training-episode-17200.mp4\n",
      "\n"
     ]
    },
    {
     "name": "stderr",
     "output_type": "stream",
     "text": [
      "                                                             "
     ]
    },
    {
     "name": "stdout",
     "output_type": "stream",
     "text": [
      "MoviePy - Done !\n",
      "MoviePy - video ready /Users/bapa/Codes/KidsPuzzles/videos/DigitsPuzzle-10-step_f0.5_i0.2/training-episode-17200.mp4\n"
     ]
    },
    {
     "name": "stderr",
     "output_type": "stream",
     "text": [
      "\r"
     ]
    },
    {
     "name": "stdout",
     "output_type": "stream",
     "text": [
      "--------------------------------------\n",
      "| rollout/              |            |\n",
      "|    ep_len_mean        | 48.3       |\n",
      "|    ep_rew_mean        | 4.49       |\n",
      "| time/                 |            |\n",
      "|    fps                | 274        |\n",
      "|    iterations         | 30000      |\n",
      "|    time_elapsed       | 6998       |\n",
      "|    total_timesteps    | 1920000    |\n",
      "| train/                |            |\n",
      "|    entropy_loss       | -2.24      |\n",
      "|    explained_variance | 0.98337275 |\n",
      "|    learning_rate      | 2.52e-05   |\n",
      "|    n_updates          | 29999      |\n",
      "|    policy_loss        | 0.246      |\n",
      "|    value_loss         | 0.261      |\n",
      "--------------------------------------\n",
      "--------------------------------------\n",
      "| rollout/              |            |\n",
      "|    ep_len_mean        | 48.1       |\n",
      "|    ep_rew_mean        | 4.02       |\n",
      "| time/                 |            |\n",
      "|    fps                | 274        |\n",
      "|    iterations         | 30100      |\n",
      "|    time_elapsed       | 7021       |\n",
      "|    total_timesteps    | 1926400    |\n",
      "| train/                |            |\n",
      "|    entropy_loss       | -2.18      |\n",
      "|    explained_variance | 0.97703046 |\n",
      "|    learning_rate      | 2.52e-05   |\n",
      "|    n_updates          | 30099      |\n",
      "|    policy_loss        | 0.121      |\n",
      "|    value_loss         | 0.216      |\n",
      "--------------------------------------\n",
      "MoviePy - Building video /Users/bapa/Codes/KidsPuzzles/videos/DigitsPuzzle-10-step_f0.5_i0.2/training-episode-17400.mp4.\n",
      "MoviePy - Writing video /Users/bapa/Codes/KidsPuzzles/videos/DigitsPuzzle-10-step_f0.5_i0.2/training-episode-17400.mp4\n",
      "\n"
     ]
    },
    {
     "name": "stderr",
     "output_type": "stream",
     "text": [
      "                                                             "
     ]
    },
    {
     "name": "stdout",
     "output_type": "stream",
     "text": [
      "MoviePy - Done !\n",
      "MoviePy - video ready /Users/bapa/Codes/KidsPuzzles/videos/DigitsPuzzle-10-step_f0.5_i0.2/training-episode-17400.mp4\n"
     ]
    },
    {
     "name": "stderr",
     "output_type": "stream",
     "text": [
      "\r"
     ]
    },
    {
     "name": "stdout",
     "output_type": "stream",
     "text": [
      "--------------------------------------\n",
      "| rollout/              |            |\n",
      "|    ep_len_mean        | 48.4       |\n",
      "|    ep_rew_mean        | 4.18       |\n",
      "| time/                 |            |\n",
      "|    fps                | 274        |\n",
      "|    iterations         | 30200      |\n",
      "|    time_elapsed       | 7045       |\n",
      "|    total_timesteps    | 1932800    |\n",
      "| train/                |            |\n",
      "|    entropy_loss       | -2.44      |\n",
      "|    explained_variance | 0.88440144 |\n",
      "|    learning_rate      | 2.52e-05   |\n",
      "|    n_updates          | 30199      |\n",
      "|    policy_loss        | -1.18      |\n",
      "|    value_loss         | 0.551      |\n",
      "--------------------------------------\n",
      "MoviePy - Building video /Users/bapa/Codes/KidsPuzzles/videos/DigitsPuzzle-10-step_f0.5_i0.2/training-episode-17600.mp4.\n",
      "MoviePy - Writing video /Users/bapa/Codes/KidsPuzzles/videos/DigitsPuzzle-10-step_f0.5_i0.2/training-episode-17600.mp4\n",
      "\n"
     ]
    },
    {
     "name": "stderr",
     "output_type": "stream",
     "text": [
      "                                                             "
     ]
    },
    {
     "name": "stdout",
     "output_type": "stream",
     "text": [
      "MoviePy - Done !\n",
      "MoviePy - video ready /Users/bapa/Codes/KidsPuzzles/videos/DigitsPuzzle-10-step_f0.5_i0.2/training-episode-17600.mp4\n"
     ]
    },
    {
     "name": "stderr",
     "output_type": "stream",
     "text": [
      "\r"
     ]
    },
    {
     "name": "stdout",
     "output_type": "stream",
     "text": [
      "--------------------------------------\n",
      "| rollout/              |            |\n",
      "|    ep_len_mean        | 48.4       |\n",
      "|    ep_rew_mean        | 4.8        |\n",
      "| time/                 |            |\n",
      "|    fps                | 274        |\n",
      "|    iterations         | 30300      |\n",
      "|    time_elapsed       | 7069       |\n",
      "|    total_timesteps    | 1939200    |\n",
      "| train/                |            |\n",
      "|    entropy_loss       | -2.29      |\n",
      "|    explained_variance | 0.95874196 |\n",
      "|    learning_rate      | 2.52e-05   |\n",
      "|    n_updates          | 30299      |\n",
      "|    policy_loss        | -0.202     |\n",
      "|    value_loss         | 0.443      |\n",
      "--------------------------------------\n",
      "-------------------------------------\n",
      "| rollout/              |           |\n",
      "|    ep_len_mean        | 48.4      |\n",
      "|    ep_rew_mean        | 4.75      |\n",
      "| time/                 |           |\n",
      "|    fps                | 274       |\n",
      "|    iterations         | 30400     |\n",
      "|    time_elapsed       | 7092      |\n",
      "|    total_timesteps    | 1945600   |\n",
      "| train/                |           |\n",
      "|    entropy_loss       | -2.41     |\n",
      "|    explained_variance | 0.9552967 |\n",
      "|    learning_rate      | 2.52e-05  |\n",
      "|    n_updates          | 30399     |\n",
      "|    policy_loss        | -0.44     |\n",
      "|    value_loss         | 0.405     |\n",
      "-------------------------------------\n",
      "MoviePy - Building video /Users/bapa/Codes/KidsPuzzles/videos/DigitsPuzzle-10-step_f0.5_i0.2/training-episode-17800.mp4.\n",
      "MoviePy - Writing video /Users/bapa/Codes/KidsPuzzles/videos/DigitsPuzzle-10-step_f0.5_i0.2/training-episode-17800.mp4\n",
      "\n"
     ]
    },
    {
     "name": "stderr",
     "output_type": "stream",
     "text": [
      "                                                             "
     ]
    },
    {
     "name": "stdout",
     "output_type": "stream",
     "text": [
      "MoviePy - Done !\n",
      "MoviePy - video ready /Users/bapa/Codes/KidsPuzzles/videos/DigitsPuzzle-10-step_f0.5_i0.2/training-episode-17800.mp4\n"
     ]
    },
    {
     "name": "stderr",
     "output_type": "stream",
     "text": [
      "\r"
     ]
    },
    {
     "name": "stdout",
     "output_type": "stream",
     "text": [
      "-------------------------------------\n",
      "| rollout/              |           |\n",
      "|    ep_len_mean        | 48.5      |\n",
      "|    ep_rew_mean        | 4.38      |\n",
      "| time/                 |           |\n",
      "|    fps                | 274       |\n",
      "|    iterations         | 30500     |\n",
      "|    time_elapsed       | 7116      |\n",
      "|    total_timesteps    | 1952000   |\n",
      "| train/                |           |\n",
      "|    entropy_loss       | -2.47     |\n",
      "|    explained_variance | 0.7389422 |\n",
      "|    learning_rate      | 2.52e-05  |\n",
      "|    n_updates          | 30499     |\n",
      "|    policy_loss        | 0.0343    |\n",
      "|    value_loss         | 1.59      |\n",
      "-------------------------------------\n",
      "MoviePy - Building video /Users/bapa/Codes/KidsPuzzles/videos/DigitsPuzzle-10-step_f0.5_i0.2/training-episode-18000.mp4.\n",
      "MoviePy - Writing video /Users/bapa/Codes/KidsPuzzles/videos/DigitsPuzzle-10-step_f0.5_i0.2/training-episode-18000.mp4\n",
      "\n"
     ]
    },
    {
     "name": "stderr",
     "output_type": "stream",
     "text": [
      "                                                             "
     ]
    },
    {
     "name": "stdout",
     "output_type": "stream",
     "text": [
      "MoviePy - Done !\n",
      "MoviePy - video ready /Users/bapa/Codes/KidsPuzzles/videos/DigitsPuzzle-10-step_f0.5_i0.2/training-episode-18000.mp4\n"
     ]
    },
    {
     "name": "stderr",
     "output_type": "stream",
     "text": [
      "\r"
     ]
    },
    {
     "name": "stdout",
     "output_type": "stream",
     "text": [
      "--------------------------------------\n",
      "| rollout/              |            |\n",
      "|    ep_len_mean        | 49.7       |\n",
      "|    ep_rew_mean        | 4.26       |\n",
      "| time/                 |            |\n",
      "|    fps                | 274        |\n",
      "|    iterations         | 30600      |\n",
      "|    time_elapsed       | 7139       |\n",
      "|    total_timesteps    | 1958400    |\n",
      "| train/                |            |\n",
      "|    entropy_loss       | -2.18      |\n",
      "|    explained_variance | 0.94970393 |\n",
      "|    learning_rate      | 2.52e-05   |\n",
      "|    n_updates          | 30599      |\n",
      "|    policy_loss        | -0.534     |\n",
      "|    value_loss         | 0.533      |\n",
      "--------------------------------------\n",
      "-------------------------------------\n",
      "| rollout/              |           |\n",
      "|    ep_len_mean        | 47.3      |\n",
      "|    ep_rew_mean        | 4.31      |\n",
      "| time/                 |           |\n",
      "|    fps                | 274       |\n",
      "|    iterations         | 30700     |\n",
      "|    time_elapsed       | 7162      |\n",
      "|    total_timesteps    | 1964800   |\n",
      "| train/                |           |\n",
      "|    entropy_loss       | -2.24     |\n",
      "|    explained_variance | 0.9601933 |\n",
      "|    learning_rate      | 2.52e-05  |\n",
      "|    n_updates          | 30699     |\n",
      "|    policy_loss        | 1.11      |\n",
      "|    value_loss         | 0.933     |\n",
      "-------------------------------------\n",
      "MoviePy - Building video /Users/bapa/Codes/KidsPuzzles/videos/DigitsPuzzle-10-step_f0.5_i0.2/training-episode-18200.mp4.\n",
      "MoviePy - Writing video /Users/bapa/Codes/KidsPuzzles/videos/DigitsPuzzle-10-step_f0.5_i0.2/training-episode-18200.mp4\n",
      "\n"
     ]
    },
    {
     "name": "stderr",
     "output_type": "stream",
     "text": [
      "                                                             "
     ]
    },
    {
     "name": "stdout",
     "output_type": "stream",
     "text": [
      "MoviePy - Done !\n",
      "MoviePy - video ready /Users/bapa/Codes/KidsPuzzles/videos/DigitsPuzzle-10-step_f0.5_i0.2/training-episode-18200.mp4\n"
     ]
    },
    {
     "name": "stderr",
     "output_type": "stream",
     "text": [
      "\r"
     ]
    },
    {
     "name": "stdout",
     "output_type": "stream",
     "text": [
      "--------------------------------------\n",
      "| rollout/              |            |\n",
      "|    ep_len_mean        | 49.7       |\n",
      "|    ep_rew_mean        | 4.37       |\n",
      "| time/                 |            |\n",
      "|    fps                | 274        |\n",
      "|    iterations         | 30800      |\n",
      "|    time_elapsed       | 7186       |\n",
      "|    total_timesteps    | 1971200    |\n",
      "| train/                |            |\n",
      "|    entropy_loss       | -2.27      |\n",
      "|    explained_variance | 0.97465676 |\n",
      "|    learning_rate      | 2.52e-05   |\n",
      "|    n_updates          | 30799      |\n",
      "|    policy_loss        | -1.07      |\n",
      "|    value_loss         | 0.452      |\n",
      "--------------------------------------\n",
      "MoviePy - Building video /Users/bapa/Codes/KidsPuzzles/videos/DigitsPuzzle-10-step_f0.5_i0.2/training-episode-18400.mp4.\n",
      "MoviePy - Writing video /Users/bapa/Codes/KidsPuzzles/videos/DigitsPuzzle-10-step_f0.5_i0.2/training-episode-18400.mp4\n",
      "\n"
     ]
    },
    {
     "name": "stderr",
     "output_type": "stream",
     "text": [
      "                                                             "
     ]
    },
    {
     "name": "stdout",
     "output_type": "stream",
     "text": [
      "MoviePy - Done !\n",
      "MoviePy - video ready /Users/bapa/Codes/KidsPuzzles/videos/DigitsPuzzle-10-step_f0.5_i0.2/training-episode-18400.mp4\n"
     ]
    },
    {
     "name": "stderr",
     "output_type": "stream",
     "text": [
      "\r"
     ]
    },
    {
     "name": "stdout",
     "output_type": "stream",
     "text": [
      "-------------------------------------\n",
      "| rollout/              |           |\n",
      "|    ep_len_mean        | 48        |\n",
      "|    ep_rew_mean        | 4.36      |\n",
      "| time/                 |           |\n",
      "|    fps                | 274       |\n",
      "|    iterations         | 30900     |\n",
      "|    time_elapsed       | 7210      |\n",
      "|    total_timesteps    | 1977600   |\n",
      "| train/                |           |\n",
      "|    entropy_loss       | -2.25     |\n",
      "|    explained_variance | 0.8427027 |\n",
      "|    learning_rate      | 2.52e-05  |\n",
      "|    n_updates          | 30899     |\n",
      "|    policy_loss        | 2.26      |\n",
      "|    value_loss         | 1.54      |\n",
      "-------------------------------------\n",
      "------------------------------------\n",
      "| rollout/              |          |\n",
      "|    ep_len_mean        | 48.2     |\n",
      "|    ep_rew_mean        | 4.75     |\n",
      "| time/                 |          |\n",
      "|    fps                | 274      |\n",
      "|    iterations         | 31000    |\n",
      "|    time_elapsed       | 7232     |\n",
      "|    total_timesteps    | 1984000  |\n",
      "| train/                |          |\n",
      "|    entropy_loss       | -2.49    |\n",
      "|    explained_variance | 0.702123 |\n",
      "|    learning_rate      | 2.52e-05 |\n",
      "|    n_updates          | 30999    |\n",
      "|    policy_loss        | -1.43    |\n",
      "|    value_loss         | 1.7      |\n",
      "------------------------------------\n",
      "MoviePy - Building video /Users/bapa/Codes/KidsPuzzles/videos/DigitsPuzzle-10-step_f0.5_i0.2/training-episode-18600.mp4.\n",
      "MoviePy - Writing video /Users/bapa/Codes/KidsPuzzles/videos/DigitsPuzzle-10-step_f0.5_i0.2/training-episode-18600.mp4\n",
      "\n"
     ]
    },
    {
     "name": "stderr",
     "output_type": "stream",
     "text": [
      "                                                             "
     ]
    },
    {
     "name": "stdout",
     "output_type": "stream",
     "text": [
      "MoviePy - Done !\n",
      "MoviePy - video ready /Users/bapa/Codes/KidsPuzzles/videos/DigitsPuzzle-10-step_f0.5_i0.2/training-episode-18600.mp4\n"
     ]
    },
    {
     "name": "stderr",
     "output_type": "stream",
     "text": [
      "\r"
     ]
    },
    {
     "name": "stdout",
     "output_type": "stream",
     "text": [
      "-------------------------------------\n",
      "| rollout/              |           |\n",
      "|    ep_len_mean        | 49.5      |\n",
      "|    ep_rew_mean        | 4.04      |\n",
      "| time/                 |           |\n",
      "|    fps                | 274       |\n",
      "|    iterations         | 31100     |\n",
      "|    time_elapsed       | 7255      |\n",
      "|    total_timesteps    | 1990400   |\n",
      "| train/                |           |\n",
      "|    entropy_loss       | -2.37     |\n",
      "|    explained_variance | 0.6021301 |\n",
      "|    learning_rate      | 2.52e-05  |\n",
      "|    n_updates          | 31099     |\n",
      "|    policy_loss        | -2.17     |\n",
      "|    value_loss         | 2.64      |\n",
      "-------------------------------------\n",
      "MoviePy - Building video /Users/bapa/Codes/KidsPuzzles/videos/DigitsPuzzle-10-step_f0.5_i0.2/training-episode-18800.mp4.\n",
      "MoviePy - Writing video /Users/bapa/Codes/KidsPuzzles/videos/DigitsPuzzle-10-step_f0.5_i0.2/training-episode-18800.mp4\n",
      "\n"
     ]
    },
    {
     "name": "stderr",
     "output_type": "stream",
     "text": [
      "                                                             "
     ]
    },
    {
     "name": "stdout",
     "output_type": "stream",
     "text": [
      "MoviePy - Done !\n",
      "MoviePy - video ready /Users/bapa/Codes/KidsPuzzles/videos/DigitsPuzzle-10-step_f0.5_i0.2/training-episode-18800.mp4\n"
     ]
    },
    {
     "name": "stderr",
     "output_type": "stream",
     "text": [
      "\r"
     ]
    },
    {
     "name": "stdout",
     "output_type": "stream",
     "text": [
      "-------------------------------------\n",
      "| rollout/              |           |\n",
      "|    ep_len_mean        | 48.8      |\n",
      "|    ep_rew_mean        | 4.35      |\n",
      "| time/                 |           |\n",
      "|    fps                | 274       |\n",
      "|    iterations         | 31200     |\n",
      "|    time_elapsed       | 7279      |\n",
      "|    total_timesteps    | 1996800   |\n",
      "| train/                |           |\n",
      "|    entropy_loss       | -2.24     |\n",
      "|    explained_variance | 0.9675346 |\n",
      "|    learning_rate      | 2.52e-05  |\n",
      "|    n_updates          | 31199     |\n",
      "|    policy_loss        | -0.28     |\n",
      "|    value_loss         | 0.243     |\n",
      "-------------------------------------\n",
      "--------------------------------------\n",
      "| rollout/              |            |\n",
      "|    ep_len_mean        | 48.7       |\n",
      "|    ep_rew_mean        | 4.23       |\n",
      "| time/                 |            |\n",
      "|    fps                | 274        |\n",
      "|    iterations         | 31300      |\n",
      "|    time_elapsed       | 7302       |\n",
      "|    total_timesteps    | 2003200    |\n",
      "| train/                |            |\n",
      "|    entropy_loss       | -2.21      |\n",
      "|    explained_variance | 0.90016544 |\n",
      "|    learning_rate      | 2.52e-05   |\n",
      "|    n_updates          | 31299      |\n",
      "|    policy_loss        | -0.985     |\n",
      "|    value_loss         | 0.83       |\n",
      "--------------------------------------\n",
      "MoviePy - Building video /Users/bapa/Codes/KidsPuzzles/videos/DigitsPuzzle-10-step_f0.5_i0.2/training-episode-19000.mp4.\n",
      "MoviePy - Writing video /Users/bapa/Codes/KidsPuzzles/videos/DigitsPuzzle-10-step_f0.5_i0.2/training-episode-19000.mp4\n",
      "\n"
     ]
    },
    {
     "name": "stderr",
     "output_type": "stream",
     "text": [
      "                                                             "
     ]
    },
    {
     "name": "stdout",
     "output_type": "stream",
     "text": [
      "MoviePy - Done !\n",
      "MoviePy - video ready /Users/bapa/Codes/KidsPuzzles/videos/DigitsPuzzle-10-step_f0.5_i0.2/training-episode-19000.mp4\n"
     ]
    },
    {
     "name": "stderr",
     "output_type": "stream",
     "text": [
      "\r"
     ]
    },
    {
     "name": "stdout",
     "output_type": "stream",
     "text": [
      "-------------------------------------\n",
      "| rollout/              |           |\n",
      "|    ep_len_mean        | 49.7      |\n",
      "|    ep_rew_mean        | 4.46      |\n",
      "| time/                 |           |\n",
      "|    fps                | 274       |\n",
      "|    iterations         | 31400     |\n",
      "|    time_elapsed       | 7326      |\n",
      "|    total_timesteps    | 2009600   |\n",
      "| train/                |           |\n",
      "|    entropy_loss       | -2.21     |\n",
      "|    explained_variance | 0.8571611 |\n",
      "|    learning_rate      | 2.52e-05  |\n",
      "|    n_updates          | 31399     |\n",
      "|    policy_loss        | -1.1      |\n",
      "|    value_loss         | 1.8       |\n",
      "-------------------------------------\n",
      "MoviePy - Building video /Users/bapa/Codes/KidsPuzzles/videos/DigitsPuzzle-10-step_f0.5_i0.2/training-episode-19200.mp4.\n",
      "MoviePy - Writing video /Users/bapa/Codes/KidsPuzzles/videos/DigitsPuzzle-10-step_f0.5_i0.2/training-episode-19200.mp4\n",
      "\n"
     ]
    },
    {
     "name": "stderr",
     "output_type": "stream",
     "text": [
      "                                                             "
     ]
    },
    {
     "name": "stdout",
     "output_type": "stream",
     "text": [
      "MoviePy - Done !\n",
      "MoviePy - video ready /Users/bapa/Codes/KidsPuzzles/videos/DigitsPuzzle-10-step_f0.5_i0.2/training-episode-19200.mp4\n"
     ]
    },
    {
     "name": "stderr",
     "output_type": "stream",
     "text": [
      "\r"
     ]
    },
    {
     "name": "stdout",
     "output_type": "stream",
     "text": [
      "-------------------------------------\n",
      "| rollout/              |           |\n",
      "|    ep_len_mean        | 47.8      |\n",
      "|    ep_rew_mean        | 4.39      |\n",
      "| time/                 |           |\n",
      "|    fps                | 274       |\n",
      "|    iterations         | 31500     |\n",
      "|    time_elapsed       | 7349      |\n",
      "|    total_timesteps    | 2016000   |\n",
      "| train/                |           |\n",
      "|    entropy_loss       | -2.46     |\n",
      "|    explained_variance | 0.9541294 |\n",
      "|    learning_rate      | 2.52e-05  |\n",
      "|    n_updates          | 31499     |\n",
      "|    policy_loss        | -0.516    |\n",
      "|    value_loss         | 0.425     |\n",
      "-------------------------------------\n",
      "--------------------------------------\n",
      "| rollout/              |            |\n",
      "|    ep_len_mean        | 49.6       |\n",
      "|    ep_rew_mean        | 4.65       |\n",
      "| time/                 |            |\n",
      "|    fps                | 274        |\n",
      "|    iterations         | 31600      |\n",
      "|    time_elapsed       | 7373       |\n",
      "|    total_timesteps    | 2022400    |\n",
      "| train/                |            |\n",
      "|    entropy_loss       | -2.44      |\n",
      "|    explained_variance | 0.95264906 |\n",
      "|    learning_rate      | 2.52e-05   |\n",
      "|    n_updates          | 31599      |\n",
      "|    policy_loss        | -0.235     |\n",
      "|    value_loss         | 0.381      |\n",
      "--------------------------------------\n",
      "MoviePy - Building video /Users/bapa/Codes/KidsPuzzles/videos/DigitsPuzzle-10-step_f0.5_i0.2/training-episode-19400.mp4.\n",
      "MoviePy - Writing video /Users/bapa/Codes/KidsPuzzles/videos/DigitsPuzzle-10-step_f0.5_i0.2/training-episode-19400.mp4\n",
      "\n"
     ]
    },
    {
     "name": "stderr",
     "output_type": "stream",
     "text": [
      "                                                             "
     ]
    },
    {
     "name": "stdout",
     "output_type": "stream",
     "text": [
      "MoviePy - Done !\n",
      "MoviePy - video ready /Users/bapa/Codes/KidsPuzzles/videos/DigitsPuzzle-10-step_f0.5_i0.2/training-episode-19400.mp4\n"
     ]
    },
    {
     "name": "stderr",
     "output_type": "stream",
     "text": [
      "\r"
     ]
    },
    {
     "name": "stdout",
     "output_type": "stream",
     "text": [
      "-------------------------------------\n",
      "| rollout/              |           |\n",
      "|    ep_len_mean        | 47.7      |\n",
      "|    ep_rew_mean        | 4.85      |\n",
      "| time/                 |           |\n",
      "|    fps                | 274       |\n",
      "|    iterations         | 31700     |\n",
      "|    time_elapsed       | 7396      |\n",
      "|    total_timesteps    | 2028800   |\n",
      "| train/                |           |\n",
      "|    entropy_loss       | -2.41     |\n",
      "|    explained_variance | 0.9307495 |\n",
      "|    learning_rate      | 2.52e-05  |\n",
      "|    n_updates          | 31699     |\n",
      "|    policy_loss        | 1.6       |\n",
      "|    value_loss         | 1.1       |\n",
      "-------------------------------------\n",
      "MoviePy - Building video /Users/bapa/Codes/KidsPuzzles/videos/DigitsPuzzle-10-step_f0.5_i0.2/training-episode-19600.mp4.\n",
      "MoviePy - Writing video /Users/bapa/Codes/KidsPuzzles/videos/DigitsPuzzle-10-step_f0.5_i0.2/training-episode-19600.mp4\n",
      "\n"
     ]
    },
    {
     "name": "stderr",
     "output_type": "stream",
     "text": [
      "                                                             "
     ]
    },
    {
     "name": "stdout",
     "output_type": "stream",
     "text": [
      "MoviePy - Done !\n",
      "MoviePy - video ready /Users/bapa/Codes/KidsPuzzles/videos/DigitsPuzzle-10-step_f0.5_i0.2/training-episode-19600.mp4\n"
     ]
    },
    {
     "name": "stderr",
     "output_type": "stream",
     "text": [
      "\r"
     ]
    },
    {
     "name": "stdout",
     "output_type": "stream",
     "text": [
      "-------------------------------------\n",
      "| rollout/              |           |\n",
      "|    ep_len_mean        | 47.5      |\n",
      "|    ep_rew_mean        | 4.39      |\n",
      "| time/                 |           |\n",
      "|    fps                | 274       |\n",
      "|    iterations         | 31800     |\n",
      "|    time_elapsed       | 7420      |\n",
      "|    total_timesteps    | 2035200   |\n",
      "| train/                |           |\n",
      "|    entropy_loss       | -2.23     |\n",
      "|    explained_variance | 0.9684498 |\n",
      "|    learning_rate      | 2.52e-05  |\n",
      "|    n_updates          | 31799     |\n",
      "|    policy_loss        | 0.123     |\n",
      "|    value_loss         | 0.458     |\n",
      "-------------------------------------\n",
      "--------------------------------------\n",
      "| rollout/              |            |\n",
      "|    ep_len_mean        | 47         |\n",
      "|    ep_rew_mean        | 4.29       |\n",
      "| time/                 |            |\n",
      "|    fps                | 274        |\n",
      "|    iterations         | 31900      |\n",
      "|    time_elapsed       | 7443       |\n",
      "|    total_timesteps    | 2041600    |\n",
      "| train/                |            |\n",
      "|    entropy_loss       | -2.3       |\n",
      "|    explained_variance | 0.95101535 |\n",
      "|    learning_rate      | 2.52e-05   |\n",
      "|    n_updates          | 31899      |\n",
      "|    policy_loss        | 1.73       |\n",
      "|    value_loss         | 1.24       |\n",
      "--------------------------------------\n",
      "MoviePy - Building video /Users/bapa/Codes/KidsPuzzles/videos/DigitsPuzzle-10-step_f0.5_i0.2/training-episode-19800.mp4.\n",
      "MoviePy - Writing video /Users/bapa/Codes/KidsPuzzles/videos/DigitsPuzzle-10-step_f0.5_i0.2/training-episode-19800.mp4\n",
      "\n"
     ]
    },
    {
     "name": "stderr",
     "output_type": "stream",
     "text": [
      "                                                             "
     ]
    },
    {
     "name": "stdout",
     "output_type": "stream",
     "text": [
      "MoviePy - Done !\n",
      "MoviePy - video ready /Users/bapa/Codes/KidsPuzzles/videos/DigitsPuzzle-10-step_f0.5_i0.2/training-episode-19800.mp4\n"
     ]
    },
    {
     "name": "stderr",
     "output_type": "stream",
     "text": [
      "\r"
     ]
    },
    {
     "name": "stdout",
     "output_type": "stream",
     "text": [
      "--------------------------------------\n",
      "| rollout/              |            |\n",
      "|    ep_len_mean        | 47.4       |\n",
      "|    ep_rew_mean        | 4.56       |\n",
      "| time/                 |            |\n",
      "|    fps                | 274        |\n",
      "|    iterations         | 32000      |\n",
      "|    time_elapsed       | 7467       |\n",
      "|    total_timesteps    | 2048000    |\n",
      "| train/                |            |\n",
      "|    entropy_loss       | -2.26      |\n",
      "|    explained_variance | 0.93966997 |\n",
      "|    learning_rate      | 2.52e-05   |\n",
      "|    n_updates          | 31999      |\n",
      "|    policy_loss        | 0.937      |\n",
      "|    value_loss         | 0.895      |\n",
      "--------------------------------------\n",
      "MoviePy - Building video /Users/bapa/Codes/KidsPuzzles/videos/DigitsPuzzle-10-step_f0.5_i0.2/training-episode-20000.mp4.\n",
      "MoviePy - Writing video /Users/bapa/Codes/KidsPuzzles/videos/DigitsPuzzle-10-step_f0.5_i0.2/training-episode-20000.mp4\n",
      "\n"
     ]
    },
    {
     "name": "stderr",
     "output_type": "stream",
     "text": [
      "                                                             "
     ]
    },
    {
     "name": "stdout",
     "output_type": "stream",
     "text": [
      "MoviePy - Done !\n",
      "MoviePy - video ready /Users/bapa/Codes/KidsPuzzles/videos/DigitsPuzzle-10-step_f0.5_i0.2/training-episode-20000.mp4\n"
     ]
    },
    {
     "name": "stderr",
     "output_type": "stream",
     "text": [
      "\r"
     ]
    },
    {
     "name": "stdout",
     "output_type": "stream",
     "text": [
      "-------------------------------------\n",
      "| rollout/              |           |\n",
      "|    ep_len_mean        | 48.9      |\n",
      "|    ep_rew_mean        | 4.57      |\n",
      "| time/                 |           |\n",
      "|    fps                | 274       |\n",
      "|    iterations         | 32100     |\n",
      "|    time_elapsed       | 7491      |\n",
      "|    total_timesteps    | 2054400   |\n",
      "| train/                |           |\n",
      "|    entropy_loss       | -2.41     |\n",
      "|    explained_variance | 0.9697224 |\n",
      "|    learning_rate      | 2.52e-05  |\n",
      "|    n_updates          | 32099     |\n",
      "|    policy_loss        | -0.678    |\n",
      "|    value_loss         | 0.356     |\n",
      "-------------------------------------\n",
      "-------------------------------------\n",
      "| rollout/              |           |\n",
      "|    ep_len_mean        | 48.2      |\n",
      "|    ep_rew_mean        | 4.36      |\n",
      "| time/                 |           |\n",
      "|    fps                | 274       |\n",
      "|    iterations         | 32200     |\n",
      "|    time_elapsed       | 7514      |\n",
      "|    total_timesteps    | 2060800   |\n",
      "| train/                |           |\n",
      "|    entropy_loss       | -2.32     |\n",
      "|    explained_variance | 0.9627962 |\n",
      "|    learning_rate      | 2.52e-05  |\n",
      "|    n_updates          | 32199     |\n",
      "|    policy_loss        | -1.2      |\n",
      "|    value_loss         | 0.383     |\n",
      "-------------------------------------\n",
      "MoviePy - Building video /Users/bapa/Codes/KidsPuzzles/videos/DigitsPuzzle-10-step_f0.5_i0.2/training-episode-20200.mp4.\n",
      "MoviePy - Writing video /Users/bapa/Codes/KidsPuzzles/videos/DigitsPuzzle-10-step_f0.5_i0.2/training-episode-20200.mp4\n",
      "\n"
     ]
    },
    {
     "name": "stderr",
     "output_type": "stream",
     "text": [
      "                                                             "
     ]
    },
    {
     "name": "stdout",
     "output_type": "stream",
     "text": [
      "MoviePy - Done !\n",
      "MoviePy - video ready /Users/bapa/Codes/KidsPuzzles/videos/DigitsPuzzle-10-step_f0.5_i0.2/training-episode-20200.mp4\n"
     ]
    },
    {
     "name": "stderr",
     "output_type": "stream",
     "text": [
      "\r"
     ]
    },
    {
     "name": "stdout",
     "output_type": "stream",
     "text": [
      "-------------------------------------\n",
      "| rollout/              |           |\n",
      "|    ep_len_mean        | 48.9      |\n",
      "|    ep_rew_mean        | 4.03      |\n",
      "| time/                 |           |\n",
      "|    fps                | 274       |\n",
      "|    iterations         | 32300     |\n",
      "|    time_elapsed       | 7537      |\n",
      "|    total_timesteps    | 2067200   |\n",
      "| train/                |           |\n",
      "|    entropy_loss       | -2.22     |\n",
      "|    explained_variance | 0.9770866 |\n",
      "|    learning_rate      | 2.52e-05  |\n",
      "|    n_updates          | 32299     |\n",
      "|    policy_loss        | 0.924     |\n",
      "|    value_loss         | 0.38      |\n",
      "-------------------------------------\n",
      "MoviePy - Building video /Users/bapa/Codes/KidsPuzzles/videos/DigitsPuzzle-10-step_f0.5_i0.2/training-episode-20400.mp4.\n",
      "MoviePy - Writing video /Users/bapa/Codes/KidsPuzzles/videos/DigitsPuzzle-10-step_f0.5_i0.2/training-episode-20400.mp4\n",
      "\n"
     ]
    },
    {
     "name": "stderr",
     "output_type": "stream",
     "text": [
      "                                                             "
     ]
    },
    {
     "name": "stdout",
     "output_type": "stream",
     "text": [
      "MoviePy - Done !\n",
      "MoviePy - video ready /Users/bapa/Codes/KidsPuzzles/videos/DigitsPuzzle-10-step_f0.5_i0.2/training-episode-20400.mp4\n"
     ]
    },
    {
     "name": "stderr",
     "output_type": "stream",
     "text": [
      "\r"
     ]
    },
    {
     "name": "stdout",
     "output_type": "stream",
     "text": [
      "--------------------------------------\n",
      "| rollout/              |            |\n",
      "|    ep_len_mean        | 48.8       |\n",
      "|    ep_rew_mean        | 4.16       |\n",
      "| time/                 |            |\n",
      "|    fps                | 274        |\n",
      "|    iterations         | 32400      |\n",
      "|    time_elapsed       | 7561       |\n",
      "|    total_timesteps    | 2073600    |\n",
      "| train/                |            |\n",
      "|    entropy_loss       | -2.34      |\n",
      "|    explained_variance | 0.95199025 |\n",
      "|    learning_rate      | 2.52e-05   |\n",
      "|    n_updates          | 32399      |\n",
      "|    policy_loss        | 0.513      |\n",
      "|    value_loss         | 0.273      |\n",
      "--------------------------------------\n",
      "--------------------------------------\n",
      "| rollout/              |            |\n",
      "|    ep_len_mean        | 49.2       |\n",
      "|    ep_rew_mean        | 4.36       |\n",
      "| time/                 |            |\n",
      "|    fps                | 274        |\n",
      "|    iterations         | 32500      |\n",
      "|    time_elapsed       | 7584       |\n",
      "|    total_timesteps    | 2080000    |\n",
      "| train/                |            |\n",
      "|    entropy_loss       | -2.2       |\n",
      "|    explained_variance | 0.96970934 |\n",
      "|    learning_rate      | 2.52e-05   |\n",
      "|    n_updates          | 32499      |\n",
      "|    policy_loss        | 1.19       |\n",
      "|    value_loss         | 0.713      |\n",
      "--------------------------------------\n",
      "MoviePy - Building video /Users/bapa/Codes/KidsPuzzles/videos/DigitsPuzzle-10-step_f0.5_i0.2/training-episode-20600.mp4.\n",
      "MoviePy - Writing video /Users/bapa/Codes/KidsPuzzles/videos/DigitsPuzzle-10-step_f0.5_i0.2/training-episode-20600.mp4\n",
      "\n"
     ]
    },
    {
     "name": "stderr",
     "output_type": "stream",
     "text": [
      "                                                             "
     ]
    },
    {
     "name": "stdout",
     "output_type": "stream",
     "text": [
      "MoviePy - Done !\n",
      "MoviePy - video ready /Users/bapa/Codes/KidsPuzzles/videos/DigitsPuzzle-10-step_f0.5_i0.2/training-episode-20600.mp4\n"
     ]
    },
    {
     "name": "stderr",
     "output_type": "stream",
     "text": [
      "\r"
     ]
    },
    {
     "name": "stdout",
     "output_type": "stream",
     "text": [
      "--------------------------------------\n",
      "| rollout/              |            |\n",
      "|    ep_len_mean        | 50.1       |\n",
      "|    ep_rew_mean        | 4.05       |\n",
      "| time/                 |            |\n",
      "|    fps                | 274        |\n",
      "|    iterations         | 32600      |\n",
      "|    time_elapsed       | 7608       |\n",
      "|    total_timesteps    | 2086400    |\n",
      "| train/                |            |\n",
      "|    entropy_loss       | -2.27      |\n",
      "|    explained_variance | 0.93061846 |\n",
      "|    learning_rate      | 2.52e-05   |\n",
      "|    n_updates          | 32599      |\n",
      "|    policy_loss        | 1.38       |\n",
      "|    value_loss         | 0.729      |\n",
      "--------------------------------------\n",
      "MoviePy - Building video /Users/bapa/Codes/KidsPuzzles/videos/DigitsPuzzle-10-step_f0.5_i0.2/training-episode-20800.mp4.\n",
      "MoviePy - Writing video /Users/bapa/Codes/KidsPuzzles/videos/DigitsPuzzle-10-step_f0.5_i0.2/training-episode-20800.mp4\n",
      "\n"
     ]
    },
    {
     "name": "stderr",
     "output_type": "stream",
     "text": [
      "                                                             "
     ]
    },
    {
     "name": "stdout",
     "output_type": "stream",
     "text": [
      "MoviePy - Done !\n",
      "MoviePy - video ready /Users/bapa/Codes/KidsPuzzles/videos/DigitsPuzzle-10-step_f0.5_i0.2/training-episode-20800.mp4\n"
     ]
    },
    {
     "name": "stderr",
     "output_type": "stream",
     "text": [
      "\r"
     ]
    },
    {
     "name": "stdout",
     "output_type": "stream",
     "text": [
      "-------------------------------------\n",
      "| rollout/              |           |\n",
      "|    ep_len_mean        | 49.8      |\n",
      "|    ep_rew_mean        | 3.9       |\n",
      "| time/                 |           |\n",
      "|    fps                | 274       |\n",
      "|    iterations         | 32700     |\n",
      "|    time_elapsed       | 7631      |\n",
      "|    total_timesteps    | 2092800   |\n",
      "| train/                |           |\n",
      "|    entropy_loss       | -2.2      |\n",
      "|    explained_variance | 0.9495896 |\n",
      "|    learning_rate      | 2.52e-05  |\n",
      "|    n_updates          | 32699     |\n",
      "|    policy_loss        | 0.0678    |\n",
      "|    value_loss         | 0.486     |\n",
      "-------------------------------------\n",
      "-------------------------------------\n",
      "| rollout/              |           |\n",
      "|    ep_len_mean        | 48.9      |\n",
      "|    ep_rew_mean        | 4.26      |\n",
      "| time/                 |           |\n",
      "|    fps                | 274       |\n",
      "|    iterations         | 32800     |\n",
      "|    time_elapsed       | 7655      |\n",
      "|    total_timesteps    | 2099200   |\n",
      "| train/                |           |\n",
      "|    entropy_loss       | -2.32     |\n",
      "|    explained_variance | 0.9842501 |\n",
      "|    learning_rate      | 2.52e-05  |\n",
      "|    n_updates          | 32799     |\n",
      "|    policy_loss        | -0.24     |\n",
      "|    value_loss         | 0.242     |\n",
      "-------------------------------------\n",
      "MoviePy - Building video /Users/bapa/Codes/KidsPuzzles/videos/DigitsPuzzle-10-step_f0.5_i0.2/training-episode-21000.mp4.\n",
      "MoviePy - Writing video /Users/bapa/Codes/KidsPuzzles/videos/DigitsPuzzle-10-step_f0.5_i0.2/training-episode-21000.mp4\n",
      "\n"
     ]
    },
    {
     "name": "stderr",
     "output_type": "stream",
     "text": [
      "                                                             "
     ]
    },
    {
     "name": "stdout",
     "output_type": "stream",
     "text": [
      "MoviePy - Done !\n",
      "MoviePy - video ready /Users/bapa/Codes/KidsPuzzles/videos/DigitsPuzzle-10-step_f0.5_i0.2/training-episode-21000.mp4\n"
     ]
    },
    {
     "name": "stderr",
     "output_type": "stream",
     "text": [
      "\r"
     ]
    },
    {
     "name": "stdout",
     "output_type": "stream",
     "text": [
      "-------------------------------------\n",
      "| rollout/              |           |\n",
      "|    ep_len_mean        | 46.7      |\n",
      "|    ep_rew_mean        | 4.69      |\n",
      "| time/                 |           |\n",
      "|    fps                | 274       |\n",
      "|    iterations         | 32900     |\n",
      "|    time_elapsed       | 7678      |\n",
      "|    total_timesteps    | 2105600   |\n",
      "| train/                |           |\n",
      "|    entropy_loss       | -2.24     |\n",
      "|    explained_variance | 0.9563165 |\n",
      "|    learning_rate      | 2.52e-05  |\n",
      "|    n_updates          | 32899     |\n",
      "|    policy_loss        | 0.299     |\n",
      "|    value_loss         | 0.392     |\n",
      "-------------------------------------\n",
      "MoviePy - Building video /Users/bapa/Codes/KidsPuzzles/videos/DigitsPuzzle-10-step_f0.5_i0.2/training-episode-21200.mp4.\n",
      "MoviePy - Writing video /Users/bapa/Codes/KidsPuzzles/videos/DigitsPuzzle-10-step_f0.5_i0.2/training-episode-21200.mp4\n",
      "\n"
     ]
    },
    {
     "name": "stderr",
     "output_type": "stream",
     "text": [
      "                                                             "
     ]
    },
    {
     "name": "stdout",
     "output_type": "stream",
     "text": [
      "MoviePy - Done !\n",
      "MoviePy - video ready /Users/bapa/Codes/KidsPuzzles/videos/DigitsPuzzle-10-step_f0.5_i0.2/training-episode-21200.mp4\n"
     ]
    },
    {
     "name": "stderr",
     "output_type": "stream",
     "text": [
      "\r"
     ]
    },
    {
     "name": "stdout",
     "output_type": "stream",
     "text": [
      "--------------------------------------\n",
      "| rollout/              |            |\n",
      "|    ep_len_mean        | 48.2       |\n",
      "|    ep_rew_mean        | 4.06       |\n",
      "| time/                 |            |\n",
      "|    fps                | 274        |\n",
      "|    iterations         | 33000      |\n",
      "|    time_elapsed       | 7702       |\n",
      "|    total_timesteps    | 2112000    |\n",
      "| train/                |            |\n",
      "|    entropy_loss       | -2.06      |\n",
      "|    explained_variance | 0.97419804 |\n",
      "|    learning_rate      | 2.52e-05   |\n",
      "|    n_updates          | 32999      |\n",
      "|    policy_loss        | -0.475     |\n",
      "|    value_loss         | 0.262      |\n",
      "--------------------------------------\n",
      "-------------------------------------\n",
      "| rollout/              |           |\n",
      "|    ep_len_mean        | 47.7      |\n",
      "|    ep_rew_mean        | 3.83      |\n",
      "| time/                 |           |\n",
      "|    fps                | 274       |\n",
      "|    iterations         | 33100     |\n",
      "|    time_elapsed       | 7725      |\n",
      "|    total_timesteps    | 2118400   |\n",
      "| train/                |           |\n",
      "|    entropy_loss       | -2.45     |\n",
      "|    explained_variance | 0.9216219 |\n",
      "|    learning_rate      | 2.52e-05  |\n",
      "|    n_updates          | 33099     |\n",
      "|    policy_loss        | -0.119    |\n",
      "|    value_loss         | 0.247     |\n",
      "-------------------------------------\n",
      "MoviePy - Building video /Users/bapa/Codes/KidsPuzzles/videos/DigitsPuzzle-10-step_f0.5_i0.2/training-episode-21400.mp4.\n",
      "MoviePy - Writing video /Users/bapa/Codes/KidsPuzzles/videos/DigitsPuzzle-10-step_f0.5_i0.2/training-episode-21400.mp4\n",
      "\n"
     ]
    },
    {
     "name": "stderr",
     "output_type": "stream",
     "text": [
      "                                                             "
     ]
    },
    {
     "name": "stdout",
     "output_type": "stream",
     "text": [
      "MoviePy - Done !\n",
      "MoviePy - video ready /Users/bapa/Codes/KidsPuzzles/videos/DigitsPuzzle-10-step_f0.5_i0.2/training-episode-21400.mp4\n"
     ]
    },
    {
     "name": "stderr",
     "output_type": "stream",
     "text": [
      "\r"
     ]
    },
    {
     "name": "stdout",
     "output_type": "stream",
     "text": [
      "------------------------------------\n",
      "| rollout/              |          |\n",
      "|    ep_len_mean        | 47.4     |\n",
      "|    ep_rew_mean        | 4.56     |\n",
      "| time/                 |          |\n",
      "|    fps                | 274      |\n",
      "|    iterations         | 33200    |\n",
      "|    time_elapsed       | 7749     |\n",
      "|    total_timesteps    | 2124800  |\n",
      "| train/                |          |\n",
      "|    entropy_loss       | -2.37    |\n",
      "|    explained_variance | 0.911367 |\n",
      "|    learning_rate      | 2.52e-05 |\n",
      "|    n_updates          | 33199    |\n",
      "|    policy_loss        | -3.15    |\n",
      "|    value_loss         | 2.01     |\n",
      "------------------------------------\n",
      "MoviePy - Building video /Users/bapa/Codes/KidsPuzzles/videos/DigitsPuzzle-10-step_f0.5_i0.2/training-episode-21600.mp4.\n",
      "MoviePy - Writing video /Users/bapa/Codes/KidsPuzzles/videos/DigitsPuzzle-10-step_f0.5_i0.2/training-episode-21600.mp4\n",
      "\n"
     ]
    },
    {
     "name": "stderr",
     "output_type": "stream",
     "text": [
      "                                                             "
     ]
    },
    {
     "name": "stdout",
     "output_type": "stream",
     "text": [
      "MoviePy - Done !\n",
      "MoviePy - video ready /Users/bapa/Codes/KidsPuzzles/videos/DigitsPuzzle-10-step_f0.5_i0.2/training-episode-21600.mp4\n"
     ]
    },
    {
     "name": "stderr",
     "output_type": "stream",
     "text": [
      "\r"
     ]
    },
    {
     "name": "stdout",
     "output_type": "stream",
     "text": [
      "--------------------------------------\n",
      "| rollout/              |            |\n",
      "|    ep_len_mean        | 48.6       |\n",
      "|    ep_rew_mean        | 4.43       |\n",
      "| time/                 |            |\n",
      "|    fps                | 274        |\n",
      "|    iterations         | 33300      |\n",
      "|    time_elapsed       | 7772       |\n",
      "|    total_timesteps    | 2131200    |\n",
      "| train/                |            |\n",
      "|    entropy_loss       | -2.08      |\n",
      "|    explained_variance | 0.97409153 |\n",
      "|    learning_rate      | 2.52e-05   |\n",
      "|    n_updates          | 33299      |\n",
      "|    policy_loss        | 0.539      |\n",
      "|    value_loss         | 0.467      |\n",
      "--------------------------------------\n",
      "--------------------------------------\n",
      "| rollout/              |            |\n",
      "|    ep_len_mean        | 48.6       |\n",
      "|    ep_rew_mean        | 4.4        |\n",
      "| time/                 |            |\n",
      "|    fps                | 274        |\n",
      "|    iterations         | 33400      |\n",
      "|    time_elapsed       | 7796       |\n",
      "|    total_timesteps    | 2137600    |\n",
      "| train/                |            |\n",
      "|    entropy_loss       | -2.16      |\n",
      "|    explained_variance | 0.96089315 |\n",
      "|    learning_rate      | 2.52e-05   |\n",
      "|    n_updates          | 33399      |\n",
      "|    policy_loss        | 0.00263    |\n",
      "|    value_loss         | 0.413      |\n",
      "--------------------------------------\n",
      "MoviePy - Building video /Users/bapa/Codes/KidsPuzzles/videos/DigitsPuzzle-10-step_f0.5_i0.2/training-episode-21800.mp4.\n",
      "MoviePy - Writing video /Users/bapa/Codes/KidsPuzzles/videos/DigitsPuzzle-10-step_f0.5_i0.2/training-episode-21800.mp4\n",
      "\n"
     ]
    },
    {
     "name": "stderr",
     "output_type": "stream",
     "text": [
      "                                                             "
     ]
    },
    {
     "name": "stdout",
     "output_type": "stream",
     "text": [
      "MoviePy - Done !\n",
      "MoviePy - video ready /Users/bapa/Codes/KidsPuzzles/videos/DigitsPuzzle-10-step_f0.5_i0.2/training-episode-21800.mp4\n"
     ]
    },
    {
     "name": "stderr",
     "output_type": "stream",
     "text": [
      "\r"
     ]
    },
    {
     "name": "stdout",
     "output_type": "stream",
     "text": [
      "-------------------------------------\n",
      "| rollout/              |           |\n",
      "|    ep_len_mean        | 49.1      |\n",
      "|    ep_rew_mean        | 4.19      |\n",
      "| time/                 |           |\n",
      "|    fps                | 274       |\n",
      "|    iterations         | 33500     |\n",
      "|    time_elapsed       | 7819      |\n",
      "|    total_timesteps    | 2144000   |\n",
      "| train/                |           |\n",
      "|    entropy_loss       | -2.31     |\n",
      "|    explained_variance | 0.9812666 |\n",
      "|    learning_rate      | 2.52e-05  |\n",
      "|    n_updates          | 33499     |\n",
      "|    policy_loss        | 1.08      |\n",
      "|    value_loss         | 0.462     |\n",
      "-------------------------------------\n",
      "MoviePy - Building video /Users/bapa/Codes/KidsPuzzles/videos/DigitsPuzzle-10-step_f0.5_i0.2/training-episode-22000.mp4.\n",
      "MoviePy - Writing video /Users/bapa/Codes/KidsPuzzles/videos/DigitsPuzzle-10-step_f0.5_i0.2/training-episode-22000.mp4\n",
      "\n"
     ]
    },
    {
     "name": "stderr",
     "output_type": "stream",
     "text": [
      "                                                             "
     ]
    },
    {
     "name": "stdout",
     "output_type": "stream",
     "text": [
      "MoviePy - Done !\n",
      "MoviePy - video ready /Users/bapa/Codes/KidsPuzzles/videos/DigitsPuzzle-10-step_f0.5_i0.2/training-episode-22000.mp4\n"
     ]
    },
    {
     "name": "stderr",
     "output_type": "stream",
     "text": [
      "\r"
     ]
    },
    {
     "name": "stdout",
     "output_type": "stream",
     "text": [
      "--------------------------------------\n",
      "| rollout/              |            |\n",
      "|    ep_len_mean        | 47.7       |\n",
      "|    ep_rew_mean        | 4.56       |\n",
      "| time/                 |            |\n",
      "|    fps                | 274        |\n",
      "|    iterations         | 33600      |\n",
      "|    time_elapsed       | 7843       |\n",
      "|    total_timesteps    | 2150400    |\n",
      "| train/                |            |\n",
      "|    entropy_loss       | -2.35      |\n",
      "|    explained_variance | 0.93687487 |\n",
      "|    learning_rate      | 2.52e-05   |\n",
      "|    n_updates          | 33599      |\n",
      "|    policy_loss        | -2.05      |\n",
      "|    value_loss         | 1.06       |\n",
      "--------------------------------------\n",
      "-------------------------------------\n",
      "| rollout/              |           |\n",
      "|    ep_len_mean        | 47.8      |\n",
      "|    ep_rew_mean        | 4.42      |\n",
      "| time/                 |           |\n",
      "|    fps                | 274       |\n",
      "|    iterations         | 33700     |\n",
      "|    time_elapsed       | 7866      |\n",
      "|    total_timesteps    | 2156800   |\n",
      "| train/                |           |\n",
      "|    entropy_loss       | -2.09     |\n",
      "|    explained_variance | 0.9302533 |\n",
      "|    learning_rate      | 2.52e-05  |\n",
      "|    n_updates          | 33699     |\n",
      "|    policy_loss        | -1.46     |\n",
      "|    value_loss         | 0.559     |\n",
      "-------------------------------------\n",
      "MoviePy - Building video /Users/bapa/Codes/KidsPuzzles/videos/DigitsPuzzle-10-step_f0.5_i0.2/training-episode-22200.mp4.\n",
      "MoviePy - Writing video /Users/bapa/Codes/KidsPuzzles/videos/DigitsPuzzle-10-step_f0.5_i0.2/training-episode-22200.mp4\n",
      "\n"
     ]
    },
    {
     "name": "stderr",
     "output_type": "stream",
     "text": [
      "                                                             "
     ]
    },
    {
     "name": "stdout",
     "output_type": "stream",
     "text": [
      "MoviePy - Done !\n",
      "MoviePy - video ready /Users/bapa/Codes/KidsPuzzles/videos/DigitsPuzzle-10-step_f0.5_i0.2/training-episode-22200.mp4\n"
     ]
    },
    {
     "name": "stderr",
     "output_type": "stream",
     "text": [
      "\r"
     ]
    },
    {
     "name": "stdout",
     "output_type": "stream",
     "text": [
      "-------------------------------------\n",
      "| rollout/              |           |\n",
      "|    ep_len_mean        | 47.7      |\n",
      "|    ep_rew_mean        | 4.72      |\n",
      "| time/                 |           |\n",
      "|    fps                | 274       |\n",
      "|    iterations         | 33800     |\n",
      "|    time_elapsed       | 7890      |\n",
      "|    total_timesteps    | 2163200   |\n",
      "| train/                |           |\n",
      "|    entropy_loss       | -2.21     |\n",
      "|    explained_variance | 0.9461458 |\n",
      "|    learning_rate      | 2.52e-05  |\n",
      "|    n_updates          | 33799     |\n",
      "|    policy_loss        | -0.957    |\n",
      "|    value_loss         | 0.323     |\n",
      "-------------------------------------\n",
      "MoviePy - Building video /Users/bapa/Codes/KidsPuzzles/videos/DigitsPuzzle-10-step_f0.5_i0.2/training-episode-22400.mp4.\n",
      "MoviePy - Writing video /Users/bapa/Codes/KidsPuzzles/videos/DigitsPuzzle-10-step_f0.5_i0.2/training-episode-22400.mp4\n",
      "\n"
     ]
    },
    {
     "name": "stderr",
     "output_type": "stream",
     "text": [
      "                                                             "
     ]
    },
    {
     "name": "stdout",
     "output_type": "stream",
     "text": [
      "MoviePy - Done !\n",
      "MoviePy - video ready /Users/bapa/Codes/KidsPuzzles/videos/DigitsPuzzle-10-step_f0.5_i0.2/training-episode-22400.mp4\n"
     ]
    },
    {
     "name": "stderr",
     "output_type": "stream",
     "text": [
      "\r"
     ]
    },
    {
     "name": "stdout",
     "output_type": "stream",
     "text": [
      "------------------------------------\n",
      "| rollout/              |          |\n",
      "|    ep_len_mean        | 47.6     |\n",
      "|    ep_rew_mean        | 4.41     |\n",
      "| time/                 |          |\n",
      "|    fps                | 274      |\n",
      "|    iterations         | 33900    |\n",
      "|    time_elapsed       | 7913     |\n",
      "|    total_timesteps    | 2169600  |\n",
      "| train/                |          |\n",
      "|    entropy_loss       | -2.14    |\n",
      "|    explained_variance | 0.938054 |\n",
      "|    learning_rate      | 2.52e-05 |\n",
      "|    n_updates          | 33899    |\n",
      "|    policy_loss        | 0.276    |\n",
      "|    value_loss         | 0.636    |\n",
      "------------------------------------\n",
      "--------------------------------------\n",
      "| rollout/              |            |\n",
      "|    ep_len_mean        | 48         |\n",
      "|    ep_rew_mean        | 4.15       |\n",
      "| time/                 |            |\n",
      "|    fps                | 274        |\n",
      "|    iterations         | 34000      |\n",
      "|    time_elapsed       | 7937       |\n",
      "|    total_timesteps    | 2176000    |\n",
      "| train/                |            |\n",
      "|    entropy_loss       | -2.21      |\n",
      "|    explained_variance | 0.97411233 |\n",
      "|    learning_rate      | 2.52e-05   |\n",
      "|    n_updates          | 33999      |\n",
      "|    policy_loss        | -1.24      |\n",
      "|    value_loss         | 0.547      |\n",
      "--------------------------------------\n",
      "MoviePy - Building video /Users/bapa/Codes/KidsPuzzles/videos/DigitsPuzzle-10-step_f0.5_i0.2/training-episode-22600.mp4.\n",
      "MoviePy - Writing video /Users/bapa/Codes/KidsPuzzles/videos/DigitsPuzzle-10-step_f0.5_i0.2/training-episode-22600.mp4\n",
      "\n"
     ]
    },
    {
     "name": "stderr",
     "output_type": "stream",
     "text": [
      "                                                             "
     ]
    },
    {
     "name": "stdout",
     "output_type": "stream",
     "text": [
      "MoviePy - Done !\n",
      "MoviePy - video ready /Users/bapa/Codes/KidsPuzzles/videos/DigitsPuzzle-10-step_f0.5_i0.2/training-episode-22600.mp4\n"
     ]
    },
    {
     "name": "stderr",
     "output_type": "stream",
     "text": [
      "\r"
     ]
    },
    {
     "name": "stdout",
     "output_type": "stream",
     "text": [
      "-------------------------------------\n",
      "| rollout/              |           |\n",
      "|    ep_len_mean        | 49        |\n",
      "|    ep_rew_mean        | 4.45      |\n",
      "| time/                 |           |\n",
      "|    fps                | 274       |\n",
      "|    iterations         | 34100     |\n",
      "|    time_elapsed       | 7960      |\n",
      "|    total_timesteps    | 2182400   |\n",
      "| train/                |           |\n",
      "|    entropy_loss       | -2.11     |\n",
      "|    explained_variance | 0.9627928 |\n",
      "|    learning_rate      | 2.52e-05  |\n",
      "|    n_updates          | 34099     |\n",
      "|    policy_loss        | -0.898    |\n",
      "|    value_loss         | 0.39      |\n",
      "-------------------------------------\n",
      "MoviePy - Building video /Users/bapa/Codes/KidsPuzzles/videos/DigitsPuzzle-10-step_f0.5_i0.2/training-episode-22800.mp4.\n",
      "MoviePy - Writing video /Users/bapa/Codes/KidsPuzzles/videos/DigitsPuzzle-10-step_f0.5_i0.2/training-episode-22800.mp4\n",
      "\n"
     ]
    },
    {
     "name": "stderr",
     "output_type": "stream",
     "text": [
      "                                                             "
     ]
    },
    {
     "name": "stdout",
     "output_type": "stream",
     "text": [
      "MoviePy - Done !\n",
      "MoviePy - video ready /Users/bapa/Codes/KidsPuzzles/videos/DigitsPuzzle-10-step_f0.5_i0.2/training-episode-22800.mp4\n"
     ]
    },
    {
     "name": "stderr",
     "output_type": "stream",
     "text": [
      "\r"
     ]
    },
    {
     "name": "stdout",
     "output_type": "stream",
     "text": [
      "-------------------------------------\n",
      "| rollout/              |           |\n",
      "|    ep_len_mean        | 48.6      |\n",
      "|    ep_rew_mean        | 4.44      |\n",
      "| time/                 |           |\n",
      "|    fps                | 274       |\n",
      "|    iterations         | 34200     |\n",
      "|    time_elapsed       | 7984      |\n",
      "|    total_timesteps    | 2188800   |\n",
      "| train/                |           |\n",
      "|    entropy_loss       | -2.21     |\n",
      "|    explained_variance | 0.9743468 |\n",
      "|    learning_rate      | 2.52e-05  |\n",
      "|    n_updates          | 34199     |\n",
      "|    policy_loss        | -0.356    |\n",
      "|    value_loss         | 0.156     |\n",
      "-------------------------------------\n",
      "--------------------------------------\n",
      "| rollout/              |            |\n",
      "|    ep_len_mean        | 48.3       |\n",
      "|    ep_rew_mean        | 4.41       |\n",
      "| time/                 |            |\n",
      "|    fps                | 274        |\n",
      "|    iterations         | 34300      |\n",
      "|    time_elapsed       | 8007       |\n",
      "|    total_timesteps    | 2195200    |\n",
      "| train/                |            |\n",
      "|    entropy_loss       | -2.49      |\n",
      "|    explained_variance | 0.93923503 |\n",
      "|    learning_rate      | 2.52e-05   |\n",
      "|    n_updates          | 34299      |\n",
      "|    policy_loss        | -1.39      |\n",
      "|    value_loss         | 0.588      |\n",
      "--------------------------------------\n",
      "MoviePy - Building video /Users/bapa/Codes/KidsPuzzles/videos/DigitsPuzzle-10-step_f0.5_i0.2/training-episode-23000.mp4.\n",
      "MoviePy - Writing video /Users/bapa/Codes/KidsPuzzles/videos/DigitsPuzzle-10-step_f0.5_i0.2/training-episode-23000.mp4\n",
      "\n"
     ]
    },
    {
     "name": "stderr",
     "output_type": "stream",
     "text": [
      "                                                             "
     ]
    },
    {
     "name": "stdout",
     "output_type": "stream",
     "text": [
      "MoviePy - Done !\n",
      "MoviePy - video ready /Users/bapa/Codes/KidsPuzzles/videos/DigitsPuzzle-10-step_f0.5_i0.2/training-episode-23000.mp4\n"
     ]
    },
    {
     "name": "stderr",
     "output_type": "stream",
     "text": [
      "\r"
     ]
    },
    {
     "name": "stdout",
     "output_type": "stream",
     "text": [
      "--------------------------------------\n",
      "| rollout/              |            |\n",
      "|    ep_len_mean        | 47.9       |\n",
      "|    ep_rew_mean        | 4.21       |\n",
      "| time/                 |            |\n",
      "|    fps                | 274        |\n",
      "|    iterations         | 34400      |\n",
      "|    time_elapsed       | 8031       |\n",
      "|    total_timesteps    | 2201600    |\n",
      "| train/                |            |\n",
      "|    entropy_loss       | -2.1       |\n",
      "|    explained_variance | 0.85465145 |\n",
      "|    learning_rate      | 2.52e-05   |\n",
      "|    n_updates          | 34399      |\n",
      "|    policy_loss        | -0.421     |\n",
      "|    value_loss         | 1.27       |\n",
      "--------------------------------------\n",
      "MoviePy - Building video /Users/bapa/Codes/KidsPuzzles/videos/DigitsPuzzle-10-step_f0.5_i0.2/training-episode-23200.mp4.\n",
      "MoviePy - Writing video /Users/bapa/Codes/KidsPuzzles/videos/DigitsPuzzle-10-step_f0.5_i0.2/training-episode-23200.mp4\n",
      "\n"
     ]
    },
    {
     "name": "stderr",
     "output_type": "stream",
     "text": [
      "                                                             "
     ]
    },
    {
     "name": "stdout",
     "output_type": "stream",
     "text": [
      "MoviePy - Done !\n",
      "MoviePy - video ready /Users/bapa/Codes/KidsPuzzles/videos/DigitsPuzzle-10-step_f0.5_i0.2/training-episode-23200.mp4\n"
     ]
    },
    {
     "name": "stderr",
     "output_type": "stream",
     "text": [
      "\r"
     ]
    },
    {
     "name": "stdout",
     "output_type": "stream",
     "text": [
      "-------------------------------------\n",
      "| rollout/              |           |\n",
      "|    ep_len_mean        | 47.3      |\n",
      "|    ep_rew_mean        | 4.25      |\n",
      "| time/                 |           |\n",
      "|    fps                | 274       |\n",
      "|    iterations         | 34500     |\n",
      "|    time_elapsed       | 8055      |\n",
      "|    total_timesteps    | 2208000   |\n",
      "| train/                |           |\n",
      "|    entropy_loss       | -2        |\n",
      "|    explained_variance | 0.9656892 |\n",
      "|    learning_rate      | 2.52e-05  |\n",
      "|    n_updates          | 34499     |\n",
      "|    policy_loss        | 0.495     |\n",
      "|    value_loss         | 0.588     |\n",
      "-------------------------------------\n",
      "-------------------------------------\n",
      "| rollout/              |           |\n",
      "|    ep_len_mean        | 46.9      |\n",
      "|    ep_rew_mean        | 4.2       |\n",
      "| time/                 |           |\n",
      "|    fps                | 274       |\n",
      "|    iterations         | 34600     |\n",
      "|    time_elapsed       | 8078      |\n",
      "|    total_timesteps    | 2214400   |\n",
      "| train/                |           |\n",
      "|    entropy_loss       | -2.18     |\n",
      "|    explained_variance | 0.9293337 |\n",
      "|    learning_rate      | 2.52e-05  |\n",
      "|    n_updates          | 34599     |\n",
      "|    policy_loss        | -1.33     |\n",
      "|    value_loss         | 0.964     |\n",
      "-------------------------------------\n",
      "MoviePy - Building video /Users/bapa/Codes/KidsPuzzles/videos/DigitsPuzzle-10-step_f0.5_i0.2/training-episode-23400.mp4.\n",
      "MoviePy - Writing video /Users/bapa/Codes/KidsPuzzles/videos/DigitsPuzzle-10-step_f0.5_i0.2/training-episode-23400.mp4\n",
      "\n"
     ]
    },
    {
     "name": "stderr",
     "output_type": "stream",
     "text": [
      "                                                             "
     ]
    },
    {
     "name": "stdout",
     "output_type": "stream",
     "text": [
      "MoviePy - Done !\n",
      "MoviePy - video ready /Users/bapa/Codes/KidsPuzzles/videos/DigitsPuzzle-10-step_f0.5_i0.2/training-episode-23400.mp4\n"
     ]
    },
    {
     "name": "stderr",
     "output_type": "stream",
     "text": [
      "\r"
     ]
    },
    {
     "name": "stdout",
     "output_type": "stream",
     "text": [
      "--------------------------------------\n",
      "| rollout/              |            |\n",
      "|    ep_len_mean        | 48.7       |\n",
      "|    ep_rew_mean        | 4.17       |\n",
      "| time/                 |            |\n",
      "|    fps                | 274        |\n",
      "|    iterations         | 34700      |\n",
      "|    time_elapsed       | 8101       |\n",
      "|    total_timesteps    | 2220800    |\n",
      "| train/                |            |\n",
      "|    entropy_loss       | -2.4       |\n",
      "|    explained_variance | 0.78640413 |\n",
      "|    learning_rate      | 2.52e-05   |\n",
      "|    n_updates          | 34699      |\n",
      "|    policy_loss        | -0.949     |\n",
      "|    value_loss         | 1.93       |\n",
      "--------------------------------------\n",
      "MoviePy - Building video /Users/bapa/Codes/KidsPuzzles/videos/DigitsPuzzle-10-step_f0.5_i0.2/training-episode-23600.mp4.\n",
      "MoviePy - Writing video /Users/bapa/Codes/KidsPuzzles/videos/DigitsPuzzle-10-step_f0.5_i0.2/training-episode-23600.mp4\n",
      "\n"
     ]
    },
    {
     "name": "stderr",
     "output_type": "stream",
     "text": [
      "                                                             "
     ]
    },
    {
     "name": "stdout",
     "output_type": "stream",
     "text": [
      "MoviePy - Done !\n",
      "MoviePy - video ready /Users/bapa/Codes/KidsPuzzles/videos/DigitsPuzzle-10-step_f0.5_i0.2/training-episode-23600.mp4\n"
     ]
    },
    {
     "name": "stderr",
     "output_type": "stream",
     "text": [
      "\r"
     ]
    },
    {
     "name": "stdout",
     "output_type": "stream",
     "text": [
      "-------------------------------------\n",
      "| rollout/              |           |\n",
      "|    ep_len_mean        | 48        |\n",
      "|    ep_rew_mean        | 4.44      |\n",
      "| time/                 |           |\n",
      "|    fps                | 274       |\n",
      "|    iterations         | 34800     |\n",
      "|    time_elapsed       | 8125      |\n",
      "|    total_timesteps    | 2227200   |\n",
      "| train/                |           |\n",
      "|    entropy_loss       | -2.23     |\n",
      "|    explained_variance | 0.8975426 |\n",
      "|    learning_rate      | 2.52e-05  |\n",
      "|    n_updates          | 34799     |\n",
      "|    policy_loss        | 1.1       |\n",
      "|    value_loss         | 0.724     |\n",
      "-------------------------------------\n",
      "--------------------------------------\n",
      "| rollout/              |            |\n",
      "|    ep_len_mean        | 48.4       |\n",
      "|    ep_rew_mean        | 4.09       |\n",
      "| time/                 |            |\n",
      "|    fps                | 274        |\n",
      "|    iterations         | 34900      |\n",
      "|    time_elapsed       | 8148       |\n",
      "|    total_timesteps    | 2233600    |\n",
      "| train/                |            |\n",
      "|    entropy_loss       | -2.31      |\n",
      "|    explained_variance | 0.92512774 |\n",
      "|    learning_rate      | 2.52e-05   |\n",
      "|    n_updates          | 34899      |\n",
      "|    policy_loss        | 2.21       |\n",
      "|    value_loss         | 1.92       |\n",
      "--------------------------------------\n",
      "MoviePy - Building video /Users/bapa/Codes/KidsPuzzles/videos/DigitsPuzzle-10-step_f0.5_i0.2/training-episode-23800.mp4.\n",
      "MoviePy - Writing video /Users/bapa/Codes/KidsPuzzles/videos/DigitsPuzzle-10-step_f0.5_i0.2/training-episode-23800.mp4\n",
      "\n"
     ]
    },
    {
     "name": "stderr",
     "output_type": "stream",
     "text": [
      "                                                             "
     ]
    },
    {
     "name": "stdout",
     "output_type": "stream",
     "text": [
      "MoviePy - Done !\n",
      "MoviePy - video ready /Users/bapa/Codes/KidsPuzzles/videos/DigitsPuzzle-10-step_f0.5_i0.2/training-episode-23800.mp4\n"
     ]
    },
    {
     "name": "stderr",
     "output_type": "stream",
     "text": [
      "\r"
     ]
    },
    {
     "name": "stdout",
     "output_type": "stream",
     "text": [
      "-------------------------------------\n",
      "| rollout/              |           |\n",
      "|    ep_len_mean        | 47.5      |\n",
      "|    ep_rew_mean        | 4.07      |\n",
      "| time/                 |           |\n",
      "|    fps                | 274       |\n",
      "|    iterations         | 35000     |\n",
      "|    time_elapsed       | 8172      |\n",
      "|    total_timesteps    | 2240000   |\n",
      "| train/                |           |\n",
      "|    entropy_loss       | -2.3      |\n",
      "|    explained_variance | 0.9780015 |\n",
      "|    learning_rate      | 2.52e-05  |\n",
      "|    n_updates          | 34999     |\n",
      "|    policy_loss        | 0.331     |\n",
      "|    value_loss         | 0.191     |\n",
      "-------------------------------------\n",
      "MoviePy - Building video /Users/bapa/Codes/KidsPuzzles/videos/DigitsPuzzle-10-step_f0.5_i0.2/training-episode-24000.mp4.\n",
      "MoviePy - Writing video /Users/bapa/Codes/KidsPuzzles/videos/DigitsPuzzle-10-step_f0.5_i0.2/training-episode-24000.mp4\n",
      "\n"
     ]
    },
    {
     "name": "stderr",
     "output_type": "stream",
     "text": [
      "                                                             "
     ]
    },
    {
     "name": "stdout",
     "output_type": "stream",
     "text": [
      "MoviePy - Done !\n",
      "MoviePy - video ready /Users/bapa/Codes/KidsPuzzles/videos/DigitsPuzzle-10-step_f0.5_i0.2/training-episode-24000.mp4\n"
     ]
    },
    {
     "name": "stderr",
     "output_type": "stream",
     "text": [
      "\r"
     ]
    },
    {
     "name": "stdout",
     "output_type": "stream",
     "text": [
      "--------------------------------------\n",
      "| rollout/              |            |\n",
      "|    ep_len_mean        | 48.1       |\n",
      "|    ep_rew_mean        | 4.38       |\n",
      "| time/                 |            |\n",
      "|    fps                | 274        |\n",
      "|    iterations         | 35100      |\n",
      "|    time_elapsed       | 8196       |\n",
      "|    total_timesteps    | 2246400    |\n",
      "| train/                |            |\n",
      "|    entropy_loss       | -2.33      |\n",
      "|    explained_variance | 0.94341296 |\n",
      "|    learning_rate      | 2.52e-05   |\n",
      "|    n_updates          | 35099      |\n",
      "|    policy_loss        | -0.277     |\n",
      "|    value_loss         | 1.02       |\n",
      "--------------------------------------\n",
      "-------------------------------------\n",
      "| rollout/              |           |\n",
      "|    ep_len_mean        | 48.5      |\n",
      "|    ep_rew_mean        | 4.41      |\n",
      "| time/                 |           |\n",
      "|    fps                | 274       |\n",
      "|    iterations         | 35200     |\n",
      "|    time_elapsed       | 8219      |\n",
      "|    total_timesteps    | 2252800   |\n",
      "| train/                |           |\n",
      "|    entropy_loss       | -2.28     |\n",
      "|    explained_variance | 0.9660449 |\n",
      "|    learning_rate      | 2.52e-05  |\n",
      "|    n_updates          | 35199     |\n",
      "|    policy_loss        | -0.798    |\n",
      "|    value_loss         | 0.458     |\n",
      "-------------------------------------\n",
      "MoviePy - Building video /Users/bapa/Codes/KidsPuzzles/videos/DigitsPuzzle-10-step_f0.5_i0.2/training-episode-24200.mp4.\n",
      "MoviePy - Writing video /Users/bapa/Codes/KidsPuzzles/videos/DigitsPuzzle-10-step_f0.5_i0.2/training-episode-24200.mp4\n",
      "\n"
     ]
    },
    {
     "name": "stderr",
     "output_type": "stream",
     "text": [
      "                                                             "
     ]
    },
    {
     "name": "stdout",
     "output_type": "stream",
     "text": [
      "MoviePy - Done !\n",
      "MoviePy - video ready /Users/bapa/Codes/KidsPuzzles/videos/DigitsPuzzle-10-step_f0.5_i0.2/training-episode-24200.mp4\n"
     ]
    },
    {
     "name": "stderr",
     "output_type": "stream",
     "text": [
      "\r"
     ]
    },
    {
     "name": "stdout",
     "output_type": "stream",
     "text": [
      "------------------------------------\n",
      "| rollout/              |          |\n",
      "|    ep_len_mean        | 47.1     |\n",
      "|    ep_rew_mean        | 4.7      |\n",
      "| time/                 |          |\n",
      "|    fps                | 274      |\n",
      "|    iterations         | 35300    |\n",
      "|    time_elapsed       | 8242     |\n",
      "|    total_timesteps    | 2259200  |\n",
      "| train/                |          |\n",
      "|    entropy_loss       | -2.21    |\n",
      "|    explained_variance | 0.984611 |\n",
      "|    learning_rate      | 2.52e-05 |\n",
      "|    n_updates          | 35299    |\n",
      "|    policy_loss        | -0.0794  |\n",
      "|    value_loss         | 0.154    |\n",
      "------------------------------------\n",
      "MoviePy - Building video /Users/bapa/Codes/KidsPuzzles/videos/DigitsPuzzle-10-step_f0.5_i0.2/training-episode-24400.mp4.\n",
      "MoviePy - Writing video /Users/bapa/Codes/KidsPuzzles/videos/DigitsPuzzle-10-step_f0.5_i0.2/training-episode-24400.mp4\n",
      "\n"
     ]
    },
    {
     "name": "stderr",
     "output_type": "stream",
     "text": [
      "                                                             "
     ]
    },
    {
     "name": "stdout",
     "output_type": "stream",
     "text": [
      "MoviePy - Done !\n",
      "MoviePy - video ready /Users/bapa/Codes/KidsPuzzles/videos/DigitsPuzzle-10-step_f0.5_i0.2/training-episode-24400.mp4\n"
     ]
    },
    {
     "name": "stderr",
     "output_type": "stream",
     "text": [
      "\r"
     ]
    },
    {
     "name": "stdout",
     "output_type": "stream",
     "text": [
      "--------------------------------------\n",
      "| rollout/              |            |\n",
      "|    ep_len_mean        | 49.3       |\n",
      "|    ep_rew_mean        | 4.66       |\n",
      "| time/                 |            |\n",
      "|    fps                | 274        |\n",
      "|    iterations         | 35400      |\n",
      "|    time_elapsed       | 8266       |\n",
      "|    total_timesteps    | 2265600    |\n",
      "| train/                |            |\n",
      "|    entropy_loss       | -2.2       |\n",
      "|    explained_variance | 0.91006523 |\n",
      "|    learning_rate      | 2.52e-05   |\n",
      "|    n_updates          | 35399      |\n",
      "|    policy_loss        | 0.357      |\n",
      "|    value_loss         | 1.23       |\n",
      "--------------------------------------\n",
      "-------------------------------------\n",
      "| rollout/              |           |\n",
      "|    ep_len_mean        | 49.7      |\n",
      "|    ep_rew_mean        | 4.47      |\n",
      "| time/                 |           |\n",
      "|    fps                | 274       |\n",
      "|    iterations         | 35500     |\n",
      "|    time_elapsed       | 8289      |\n",
      "|    total_timesteps    | 2272000   |\n",
      "| train/                |           |\n",
      "|    entropy_loss       | -2.19     |\n",
      "|    explained_variance | 0.9728122 |\n",
      "|    learning_rate      | 2.52e-05  |\n",
      "|    n_updates          | 35499     |\n",
      "|    policy_loss        | 0.654     |\n",
      "|    value_loss         | 0.499     |\n",
      "-------------------------------------\n",
      "MoviePy - Building video /Users/bapa/Codes/KidsPuzzles/videos/DigitsPuzzle-10-step_f0.5_i0.2/training-episode-24600.mp4.\n",
      "MoviePy - Writing video /Users/bapa/Codes/KidsPuzzles/videos/DigitsPuzzle-10-step_f0.5_i0.2/training-episode-24600.mp4\n",
      "\n"
     ]
    },
    {
     "name": "stderr",
     "output_type": "stream",
     "text": [
      "                                                             "
     ]
    },
    {
     "name": "stdout",
     "output_type": "stream",
     "text": [
      "MoviePy - Done !\n",
      "MoviePy - video ready /Users/bapa/Codes/KidsPuzzles/videos/DigitsPuzzle-10-step_f0.5_i0.2/training-episode-24600.mp4\n"
     ]
    },
    {
     "name": "stderr",
     "output_type": "stream",
     "text": [
      "\r"
     ]
    },
    {
     "name": "stdout",
     "output_type": "stream",
     "text": [
      "--------------------------------------\n",
      "| rollout/              |            |\n",
      "|    ep_len_mean        | 47.4       |\n",
      "|    ep_rew_mean        | 4.51       |\n",
      "| time/                 |            |\n",
      "|    fps                | 274        |\n",
      "|    iterations         | 35600      |\n",
      "|    time_elapsed       | 8313       |\n",
      "|    total_timesteps    | 2278400    |\n",
      "| train/                |            |\n",
      "|    entropy_loss       | -2.04      |\n",
      "|    explained_variance | 0.84712124 |\n",
      "|    learning_rate      | 2.52e-05   |\n",
      "|    n_updates          | 35599      |\n",
      "|    policy_loss        | 1.55       |\n",
      "|    value_loss         | 1.64       |\n",
      "--------------------------------------\n",
      "MoviePy - Building video /Users/bapa/Codes/KidsPuzzles/videos/DigitsPuzzle-10-step_f0.5_i0.2/training-episode-24800.mp4.\n",
      "MoviePy - Writing video /Users/bapa/Codes/KidsPuzzles/videos/DigitsPuzzle-10-step_f0.5_i0.2/training-episode-24800.mp4\n",
      "\n"
     ]
    },
    {
     "name": "stderr",
     "output_type": "stream",
     "text": [
      "                                                             "
     ]
    },
    {
     "name": "stdout",
     "output_type": "stream",
     "text": [
      "MoviePy - Done !\n",
      "MoviePy - video ready /Users/bapa/Codes/KidsPuzzles/videos/DigitsPuzzle-10-step_f0.5_i0.2/training-episode-24800.mp4\n"
     ]
    },
    {
     "name": "stderr",
     "output_type": "stream",
     "text": [
      "\r"
     ]
    },
    {
     "name": "stdout",
     "output_type": "stream",
     "text": [
      "-------------------------------------\n",
      "| rollout/              |           |\n",
      "|    ep_len_mean        | 48.4      |\n",
      "|    ep_rew_mean        | 4.2       |\n",
      "| time/                 |           |\n",
      "|    fps                | 274       |\n",
      "|    iterations         | 35700     |\n",
      "|    time_elapsed       | 8337      |\n",
      "|    total_timesteps    | 2284800   |\n",
      "| train/                |           |\n",
      "|    entropy_loss       | -2.34     |\n",
      "|    explained_variance | 0.9858684 |\n",
      "|    learning_rate      | 2.52e-05  |\n",
      "|    n_updates          | 35699     |\n",
      "|    policy_loss        | 0.0685    |\n",
      "|    value_loss         | 0.105     |\n",
      "-------------------------------------\n",
      "-------------------------------------\n",
      "| rollout/              |           |\n",
      "|    ep_len_mean        | 47.3      |\n",
      "|    ep_rew_mean        | 4.42      |\n",
      "| time/                 |           |\n",
      "|    fps                | 274       |\n",
      "|    iterations         | 35800     |\n",
      "|    time_elapsed       | 8360      |\n",
      "|    total_timesteps    | 2291200   |\n",
      "| train/                |           |\n",
      "|    entropy_loss       | -2.26     |\n",
      "|    explained_variance | 0.9953413 |\n",
      "|    learning_rate      | 2.52e-05  |\n",
      "|    n_updates          | 35799     |\n",
      "|    policy_loss        | 0.247     |\n",
      "|    value_loss         | 0.0792    |\n",
      "-------------------------------------\n",
      "MoviePy - Building video /Users/bapa/Codes/KidsPuzzles/videos/DigitsPuzzle-10-step_f0.5_i0.2/training-episode-25000.mp4.\n",
      "MoviePy - Writing video /Users/bapa/Codes/KidsPuzzles/videos/DigitsPuzzle-10-step_f0.5_i0.2/training-episode-25000.mp4\n",
      "\n"
     ]
    },
    {
     "name": "stderr",
     "output_type": "stream",
     "text": [
      "                                                             "
     ]
    },
    {
     "name": "stdout",
     "output_type": "stream",
     "text": [
      "MoviePy - Done !\n",
      "MoviePy - video ready /Users/bapa/Codes/KidsPuzzles/videos/DigitsPuzzle-10-step_f0.5_i0.2/training-episode-25000.mp4\n"
     ]
    },
    {
     "name": "stderr",
     "output_type": "stream",
     "text": [
      "\r"
     ]
    },
    {
     "name": "stdout",
     "output_type": "stream",
     "text": [
      "-------------------------------------\n",
      "| rollout/              |           |\n",
      "|    ep_len_mean        | 47.2      |\n",
      "|    ep_rew_mean        | 4.52      |\n",
      "| time/                 |           |\n",
      "|    fps                | 274       |\n",
      "|    iterations         | 35900     |\n",
      "|    time_elapsed       | 8384      |\n",
      "|    total_timesteps    | 2297600   |\n",
      "| train/                |           |\n",
      "|    entropy_loss       | -2.25     |\n",
      "|    explained_variance | 0.9692105 |\n",
      "|    learning_rate      | 2.52e-05  |\n",
      "|    n_updates          | 35899     |\n",
      "|    policy_loss        | 0.817     |\n",
      "|    value_loss         | 0.356     |\n",
      "-------------------------------------\n",
      "MoviePy - Building video /Users/bapa/Codes/KidsPuzzles/videos/DigitsPuzzle-10-step_f0.5_i0.2/training-episode-25200.mp4.\n",
      "MoviePy - Writing video /Users/bapa/Codes/KidsPuzzles/videos/DigitsPuzzle-10-step_f0.5_i0.2/training-episode-25200.mp4\n",
      "\n"
     ]
    },
    {
     "name": "stderr",
     "output_type": "stream",
     "text": [
      "                                                             "
     ]
    },
    {
     "name": "stdout",
     "output_type": "stream",
     "text": [
      "MoviePy - Done !\n",
      "MoviePy - video ready /Users/bapa/Codes/KidsPuzzles/videos/DigitsPuzzle-10-step_f0.5_i0.2/training-episode-25200.mp4\n"
     ]
    },
    {
     "name": "stderr",
     "output_type": "stream",
     "text": [
      "\r"
     ]
    },
    {
     "name": "stdout",
     "output_type": "stream",
     "text": [
      "-------------------------------------\n",
      "| rollout/              |           |\n",
      "|    ep_len_mean        | 48.5      |\n",
      "|    ep_rew_mean        | 4.49      |\n",
      "| time/                 |           |\n",
      "|    fps                | 274       |\n",
      "|    iterations         | 36000     |\n",
      "|    time_elapsed       | 8407      |\n",
      "|    total_timesteps    | 2304000   |\n",
      "| train/                |           |\n",
      "|    entropy_loss       | -2.3      |\n",
      "|    explained_variance | 0.9815032 |\n",
      "|    learning_rate      | 2.52e-05  |\n",
      "|    n_updates          | 35999     |\n",
      "|    policy_loss        | 0.563     |\n",
      "|    value_loss         | 0.204     |\n",
      "-------------------------------------\n",
      "-------------------------------------\n",
      "| rollout/              |           |\n",
      "|    ep_len_mean        | 45        |\n",
      "|    ep_rew_mean        | 4.55      |\n",
      "| time/                 |           |\n",
      "|    fps                | 274       |\n",
      "|    iterations         | 36100     |\n",
      "|    time_elapsed       | 8430      |\n",
      "|    total_timesteps    | 2310400   |\n",
      "| train/                |           |\n",
      "|    entropy_loss       | -2.39     |\n",
      "|    explained_variance | 0.9911286 |\n",
      "|    learning_rate      | 2.52e-05  |\n",
      "|    n_updates          | 36099     |\n",
      "|    policy_loss        | 0.667     |\n",
      "|    value_loss         | 0.198     |\n",
      "-------------------------------------\n",
      "MoviePy - Building video /Users/bapa/Codes/KidsPuzzles/videos/DigitsPuzzle-10-step_f0.5_i0.2/training-episode-25400.mp4.\n",
      "MoviePy - Writing video /Users/bapa/Codes/KidsPuzzles/videos/DigitsPuzzle-10-step_f0.5_i0.2/training-episode-25400.mp4\n",
      "\n"
     ]
    },
    {
     "name": "stderr",
     "output_type": "stream",
     "text": [
      "                                                             "
     ]
    },
    {
     "name": "stdout",
     "output_type": "stream",
     "text": [
      "MoviePy - Done !\n",
      "MoviePy - video ready /Users/bapa/Codes/KidsPuzzles/videos/DigitsPuzzle-10-step_f0.5_i0.2/training-episode-25400.mp4\n"
     ]
    },
    {
     "name": "stderr",
     "output_type": "stream",
     "text": [
      "\r"
     ]
    },
    {
     "name": "stdout",
     "output_type": "stream",
     "text": [
      "--------------------------------------\n",
      "| rollout/              |            |\n",
      "|    ep_len_mean        | 47.6       |\n",
      "|    ep_rew_mean        | 4.22       |\n",
      "| time/                 |            |\n",
      "|    fps                | 274        |\n",
      "|    iterations         | 36200      |\n",
      "|    time_elapsed       | 8454       |\n",
      "|    total_timesteps    | 2316800    |\n",
      "| train/                |            |\n",
      "|    entropy_loss       | -2.24      |\n",
      "|    explained_variance | 0.96902823 |\n",
      "|    learning_rate      | 2.52e-05   |\n",
      "|    n_updates          | 36199      |\n",
      "|    policy_loss        | -2.14      |\n",
      "|    value_loss         | 0.908      |\n",
      "--------------------------------------\n",
      "MoviePy - Building video /Users/bapa/Codes/KidsPuzzles/videos/DigitsPuzzle-10-step_f0.5_i0.2/training-episode-25600.mp4.\n",
      "MoviePy - Writing video /Users/bapa/Codes/KidsPuzzles/videos/DigitsPuzzle-10-step_f0.5_i0.2/training-episode-25600.mp4\n",
      "\n"
     ]
    },
    {
     "name": "stderr",
     "output_type": "stream",
     "text": [
      "                                                             "
     ]
    },
    {
     "name": "stdout",
     "output_type": "stream",
     "text": [
      "MoviePy - Done !\n",
      "MoviePy - video ready /Users/bapa/Codes/KidsPuzzles/videos/DigitsPuzzle-10-step_f0.5_i0.2/training-episode-25600.mp4\n"
     ]
    },
    {
     "name": "stderr",
     "output_type": "stream",
     "text": [
      "\r"
     ]
    },
    {
     "name": "stdout",
     "output_type": "stream",
     "text": [
      "-------------------------------------\n",
      "| rollout/              |           |\n",
      "|    ep_len_mean        | 48.7      |\n",
      "|    ep_rew_mean        | 4.15      |\n",
      "| time/                 |           |\n",
      "|    fps                | 274       |\n",
      "|    iterations         | 36300     |\n",
      "|    time_elapsed       | 8478      |\n",
      "|    total_timesteps    | 2323200   |\n",
      "| train/                |           |\n",
      "|    entropy_loss       | -2.43     |\n",
      "|    explained_variance | 0.9545243 |\n",
      "|    learning_rate      | 2.52e-05  |\n",
      "|    n_updates          | 36299     |\n",
      "|    policy_loss        | 1.98      |\n",
      "|    value_loss         | 1.34      |\n",
      "-------------------------------------\n",
      "--------------------------------------\n",
      "| rollout/              |            |\n",
      "|    ep_len_mean        | 47.7       |\n",
      "|    ep_rew_mean        | 4.43       |\n",
      "| time/                 |            |\n",
      "|    fps                | 274        |\n",
      "|    iterations         | 36400      |\n",
      "|    time_elapsed       | 8501       |\n",
      "|    total_timesteps    | 2329600    |\n",
      "| train/                |            |\n",
      "|    entropy_loss       | -2.36      |\n",
      "|    explained_variance | 0.93156743 |\n",
      "|    learning_rate      | 2.52e-05   |\n",
      "|    n_updates          | 36399      |\n",
      "|    policy_loss        | -1.32      |\n",
      "|    value_loss         | 0.517      |\n",
      "--------------------------------------\n",
      "MoviePy - Building video /Users/bapa/Codes/KidsPuzzles/videos/DigitsPuzzle-10-step_f0.5_i0.2/training-episode-25800.mp4.\n",
      "MoviePy - Writing video /Users/bapa/Codes/KidsPuzzles/videos/DigitsPuzzle-10-step_f0.5_i0.2/training-episode-25800.mp4\n",
      "\n"
     ]
    },
    {
     "name": "stderr",
     "output_type": "stream",
     "text": [
      "                                                             "
     ]
    },
    {
     "name": "stdout",
     "output_type": "stream",
     "text": [
      "MoviePy - Done !\n",
      "MoviePy - video ready /Users/bapa/Codes/KidsPuzzles/videos/DigitsPuzzle-10-step_f0.5_i0.2/training-episode-25800.mp4\n"
     ]
    },
    {
     "name": "stderr",
     "output_type": "stream",
     "text": [
      "\r"
     ]
    },
    {
     "name": "stdout",
     "output_type": "stream",
     "text": [
      "-------------------------------------\n",
      "| rollout/              |           |\n",
      "|    ep_len_mean        | 48.3      |\n",
      "|    ep_rew_mean        | 4.15      |\n",
      "| time/                 |           |\n",
      "|    fps                | 274       |\n",
      "|    iterations         | 36500     |\n",
      "|    time_elapsed       | 8524      |\n",
      "|    total_timesteps    | 2336000   |\n",
      "| train/                |           |\n",
      "|    entropy_loss       | -2.18     |\n",
      "|    explained_variance | 0.9888803 |\n",
      "|    learning_rate      | 2.52e-05  |\n",
      "|    n_updates          | 36499     |\n",
      "|    policy_loss        | 0.153     |\n",
      "|    value_loss         | 0.165     |\n",
      "-------------------------------------\n",
      "MoviePy - Building video /Users/bapa/Codes/KidsPuzzles/videos/DigitsPuzzle-10-step_f0.5_i0.2/training-episode-26000.mp4.\n",
      "MoviePy - Writing video /Users/bapa/Codes/KidsPuzzles/videos/DigitsPuzzle-10-step_f0.5_i0.2/training-episode-26000.mp4\n",
      "\n"
     ]
    },
    {
     "name": "stderr",
     "output_type": "stream",
     "text": [
      "                                                             "
     ]
    },
    {
     "name": "stdout",
     "output_type": "stream",
     "text": [
      "MoviePy - Done !\n",
      "MoviePy - video ready /Users/bapa/Codes/KidsPuzzles/videos/DigitsPuzzle-10-step_f0.5_i0.2/training-episode-26000.mp4\n"
     ]
    },
    {
     "name": "stderr",
     "output_type": "stream",
     "text": [
      "\r"
     ]
    },
    {
     "name": "stdout",
     "output_type": "stream",
     "text": [
      "-------------------------------------\n",
      "| rollout/              |           |\n",
      "|    ep_len_mean        | 48.6      |\n",
      "|    ep_rew_mean        | 4.24      |\n",
      "| time/                 |           |\n",
      "|    fps                | 274       |\n",
      "|    iterations         | 36600     |\n",
      "|    time_elapsed       | 8548      |\n",
      "|    total_timesteps    | 2342400   |\n",
      "| train/                |           |\n",
      "|    entropy_loss       | -2.22     |\n",
      "|    explained_variance | 0.9389264 |\n",
      "|    learning_rate      | 2.52e-05  |\n",
      "|    n_updates          | 36599     |\n",
      "|    policy_loss        | -0.0174   |\n",
      "|    value_loss         | 0.403     |\n",
      "-------------------------------------\n",
      "-------------------------------------\n",
      "| rollout/              |           |\n",
      "|    ep_len_mean        | 48.2      |\n",
      "|    ep_rew_mean        | 4.32      |\n",
      "| time/                 |           |\n",
      "|    fps                | 274       |\n",
      "|    iterations         | 36700     |\n",
      "|    time_elapsed       | 8571      |\n",
      "|    total_timesteps    | 2348800   |\n",
      "| train/                |           |\n",
      "|    entropy_loss       | -2.34     |\n",
      "|    explained_variance | 0.9754895 |\n",
      "|    learning_rate      | 2.52e-05  |\n",
      "|    n_updates          | 36699     |\n",
      "|    policy_loss        | -0.0678   |\n",
      "|    value_loss         | 0.139     |\n",
      "-------------------------------------\n",
      "MoviePy - Building video /Users/bapa/Codes/KidsPuzzles/videos/DigitsPuzzle-10-step_f0.5_i0.2/training-episode-26200.mp4.\n",
      "MoviePy - Writing video /Users/bapa/Codes/KidsPuzzles/videos/DigitsPuzzle-10-step_f0.5_i0.2/training-episode-26200.mp4\n",
      "\n"
     ]
    },
    {
     "name": "stderr",
     "output_type": "stream",
     "text": [
      "                                                             "
     ]
    },
    {
     "name": "stdout",
     "output_type": "stream",
     "text": [
      "MoviePy - Done !\n",
      "MoviePy - video ready /Users/bapa/Codes/KidsPuzzles/videos/DigitsPuzzle-10-step_f0.5_i0.2/training-episode-26200.mp4\n"
     ]
    },
    {
     "name": "stderr",
     "output_type": "stream",
     "text": [
      "\r"
     ]
    },
    {
     "name": "stdout",
     "output_type": "stream",
     "text": [
      "--------------------------------------\n",
      "| rollout/              |            |\n",
      "|    ep_len_mean        | 47.4       |\n",
      "|    ep_rew_mean        | 4.26       |\n",
      "| time/                 |            |\n",
      "|    fps                | 274        |\n",
      "|    iterations         | 36800      |\n",
      "|    time_elapsed       | 8595       |\n",
      "|    total_timesteps    | 2355200    |\n",
      "| train/                |            |\n",
      "|    entropy_loss       | -2.21      |\n",
      "|    explained_variance | 0.96830165 |\n",
      "|    learning_rate      | 2.52e-05   |\n",
      "|    n_updates          | 36799      |\n",
      "|    policy_loss        | -0.401     |\n",
      "|    value_loss         | 0.637      |\n",
      "--------------------------------------\n",
      "MoviePy - Building video /Users/bapa/Codes/KidsPuzzles/videos/DigitsPuzzle-10-step_f0.5_i0.2/training-episode-26400.mp4.\n",
      "MoviePy - Writing video /Users/bapa/Codes/KidsPuzzles/videos/DigitsPuzzle-10-step_f0.5_i0.2/training-episode-26400.mp4\n",
      "\n"
     ]
    },
    {
     "name": "stderr",
     "output_type": "stream",
     "text": [
      "                                                             "
     ]
    },
    {
     "name": "stdout",
     "output_type": "stream",
     "text": [
      "MoviePy - Done !\n",
      "MoviePy - video ready /Users/bapa/Codes/KidsPuzzles/videos/DigitsPuzzle-10-step_f0.5_i0.2/training-episode-26400.mp4\n"
     ]
    },
    {
     "name": "stderr",
     "output_type": "stream",
     "text": [
      "\r"
     ]
    },
    {
     "name": "stdout",
     "output_type": "stream",
     "text": [
      "--------------------------------------\n",
      "| rollout/              |            |\n",
      "|    ep_len_mean        | 48.4       |\n",
      "|    ep_rew_mean        | 4.18       |\n",
      "| time/                 |            |\n",
      "|    fps                | 274        |\n",
      "|    iterations         | 36900      |\n",
      "|    time_elapsed       | 8618       |\n",
      "|    total_timesteps    | 2361600    |\n",
      "| train/                |            |\n",
      "|    entropy_loss       | -2.24      |\n",
      "|    explained_variance | 0.95496863 |\n",
      "|    learning_rate      | 2.52e-05   |\n",
      "|    n_updates          | 36899      |\n",
      "|    policy_loss        | 0.809      |\n",
      "|    value_loss         | 0.562      |\n",
      "--------------------------------------\n",
      "-------------------------------------\n",
      "| rollout/              |           |\n",
      "|    ep_len_mean        | 47        |\n",
      "|    ep_rew_mean        | 4.63      |\n",
      "| time/                 |           |\n",
      "|    fps                | 274       |\n",
      "|    iterations         | 37000     |\n",
      "|    time_elapsed       | 8641      |\n",
      "|    total_timesteps    | 2368000   |\n",
      "| train/                |           |\n",
      "|    entropy_loss       | -2.39     |\n",
      "|    explained_variance | 0.9897171 |\n",
      "|    learning_rate      | 2.52e-05  |\n",
      "|    n_updates          | 36999     |\n",
      "|    policy_loss        | -0.679    |\n",
      "|    value_loss         | 0.134     |\n",
      "-------------------------------------\n",
      "MoviePy - Building video /Users/bapa/Codes/KidsPuzzles/videos/DigitsPuzzle-10-step_f0.5_i0.2/training-episode-26600.mp4.\n",
      "MoviePy - Writing video /Users/bapa/Codes/KidsPuzzles/videos/DigitsPuzzle-10-step_f0.5_i0.2/training-episode-26600.mp4\n",
      "\n"
     ]
    },
    {
     "name": "stderr",
     "output_type": "stream",
     "text": [
      "                                                             "
     ]
    },
    {
     "name": "stdout",
     "output_type": "stream",
     "text": [
      "MoviePy - Done !\n",
      "MoviePy - video ready /Users/bapa/Codes/KidsPuzzles/videos/DigitsPuzzle-10-step_f0.5_i0.2/training-episode-26600.mp4\n"
     ]
    },
    {
     "name": "stderr",
     "output_type": "stream",
     "text": [
      "\r"
     ]
    },
    {
     "name": "stdout",
     "output_type": "stream",
     "text": [
      "-------------------------------------\n",
      "| rollout/              |           |\n",
      "|    ep_len_mean        | 47.6      |\n",
      "|    ep_rew_mean        | 4.21      |\n",
      "| time/                 |           |\n",
      "|    fps                | 274       |\n",
      "|    iterations         | 37100     |\n",
      "|    time_elapsed       | 8665      |\n",
      "|    total_timesteps    | 2374400   |\n",
      "| train/                |           |\n",
      "|    entropy_loss       | -2.29     |\n",
      "|    explained_variance | 0.9664927 |\n",
      "|    learning_rate      | 2.52e-05  |\n",
      "|    n_updates          | 37099     |\n",
      "|    policy_loss        | 0.433     |\n",
      "|    value_loss         | 0.35      |\n",
      "-------------------------------------\n",
      "MoviePy - Building video /Users/bapa/Codes/KidsPuzzles/videos/DigitsPuzzle-10-step_f0.5_i0.2/training-episode-26800.mp4.\n",
      "MoviePy - Writing video /Users/bapa/Codes/KidsPuzzles/videos/DigitsPuzzle-10-step_f0.5_i0.2/training-episode-26800.mp4\n",
      "\n"
     ]
    },
    {
     "name": "stderr",
     "output_type": "stream",
     "text": [
      "                                                             "
     ]
    },
    {
     "name": "stdout",
     "output_type": "stream",
     "text": [
      "MoviePy - Done !\n",
      "MoviePy - video ready /Users/bapa/Codes/KidsPuzzles/videos/DigitsPuzzle-10-step_f0.5_i0.2/training-episode-26800.mp4\n"
     ]
    },
    {
     "name": "stderr",
     "output_type": "stream",
     "text": [
      "\r"
     ]
    },
    {
     "name": "stdout",
     "output_type": "stream",
     "text": [
      "-------------------------------------\n",
      "| rollout/              |           |\n",
      "|    ep_len_mean        | 46.1      |\n",
      "|    ep_rew_mean        | 4.65      |\n",
      "| time/                 |           |\n",
      "|    fps                | 274       |\n",
      "|    iterations         | 37200     |\n",
      "|    time_elapsed       | 8688      |\n",
      "|    total_timesteps    | 2380800   |\n",
      "| train/                |           |\n",
      "|    entropy_loss       | -2.29     |\n",
      "|    explained_variance | 0.9756436 |\n",
      "|    learning_rate      | 2.52e-05  |\n",
      "|    n_updates          | 37199     |\n",
      "|    policy_loss        | 0.442     |\n",
      "|    value_loss         | 0.224     |\n",
      "-------------------------------------\n",
      "--------------------------------------\n",
      "| rollout/              |            |\n",
      "|    ep_len_mean        | 46.4       |\n",
      "|    ep_rew_mean        | 4.63       |\n",
      "| time/                 |            |\n",
      "|    fps                | 274        |\n",
      "|    iterations         | 37300      |\n",
      "|    time_elapsed       | 8712       |\n",
      "|    total_timesteps    | 2387200    |\n",
      "| train/                |            |\n",
      "|    entropy_loss       | -2.23      |\n",
      "|    explained_variance | 0.94810605 |\n",
      "|    learning_rate      | 2.52e-05   |\n",
      "|    n_updates          | 37299      |\n",
      "|    policy_loss        | 0.459      |\n",
      "|    value_loss         | 0.511      |\n",
      "--------------------------------------\n",
      "MoviePy - Building video /Users/bapa/Codes/KidsPuzzles/videos/DigitsPuzzle-10-step_f0.5_i0.2/training-episode-27000.mp4.\n",
      "MoviePy - Writing video /Users/bapa/Codes/KidsPuzzles/videos/DigitsPuzzle-10-step_f0.5_i0.2/training-episode-27000.mp4\n",
      "\n"
     ]
    },
    {
     "name": "stderr",
     "output_type": "stream",
     "text": [
      "                                                             "
     ]
    },
    {
     "name": "stdout",
     "output_type": "stream",
     "text": [
      "MoviePy - Done !\n",
      "MoviePy - video ready /Users/bapa/Codes/KidsPuzzles/videos/DigitsPuzzle-10-step_f0.5_i0.2/training-episode-27000.mp4\n"
     ]
    },
    {
     "name": "stderr",
     "output_type": "stream",
     "text": [
      "\r"
     ]
    },
    {
     "name": "stdout",
     "output_type": "stream",
     "text": [
      "--------------------------------------\n",
      "| rollout/              |            |\n",
      "|    ep_len_mean        | 47.8       |\n",
      "|    ep_rew_mean        | 4.16       |\n",
      "| time/                 |            |\n",
      "|    fps                | 273        |\n",
      "|    iterations         | 37400      |\n",
      "|    time_elapsed       | 8735       |\n",
      "|    total_timesteps    | 2393600    |\n",
      "| train/                |            |\n",
      "|    entropy_loss       | -2.19      |\n",
      "|    explained_variance | 0.95423174 |\n",
      "|    learning_rate      | 2.52e-05   |\n",
      "|    n_updates          | 37399      |\n",
      "|    policy_loss        | -3.02      |\n",
      "|    value_loss         | 2.33       |\n",
      "--------------------------------------\n",
      "MoviePy - Building video /Users/bapa/Codes/KidsPuzzles/videos/DigitsPuzzle-10-step_f0.5_i0.2/training-episode-27200.mp4.\n",
      "MoviePy - Writing video /Users/bapa/Codes/KidsPuzzles/videos/DigitsPuzzle-10-step_f0.5_i0.2/training-episode-27200.mp4\n",
      "\n"
     ]
    },
    {
     "name": "stderr",
     "output_type": "stream",
     "text": [
      "                                                             "
     ]
    },
    {
     "name": "stdout",
     "output_type": "stream",
     "text": [
      "MoviePy - Done !\n",
      "MoviePy - video ready /Users/bapa/Codes/KidsPuzzles/videos/DigitsPuzzle-10-step_f0.5_i0.2/training-episode-27200.mp4\n"
     ]
    },
    {
     "name": "stderr",
     "output_type": "stream",
     "text": [
      "\r"
     ]
    },
    {
     "name": "stdout",
     "output_type": "stream",
     "text": [
      "--------------------------------------\n",
      "| rollout/              |            |\n",
      "|    ep_len_mean        | 46.7       |\n",
      "|    ep_rew_mean        | 4.31       |\n",
      "| time/                 |            |\n",
      "|    fps                | 273        |\n",
      "|    iterations         | 37500      |\n",
      "|    time_elapsed       | 8759       |\n",
      "|    total_timesteps    | 2400000    |\n",
      "| train/                |            |\n",
      "|    entropy_loss       | -2.17      |\n",
      "|    explained_variance | 0.98959684 |\n",
      "|    learning_rate      | 2.52e-05   |\n",
      "|    n_updates          | 37499      |\n",
      "|    policy_loss        | 0.654      |\n",
      "|    value_loss         | 0.229      |\n",
      "--------------------------------------\n",
      "-------------------------------------\n",
      "| rollout/              |           |\n",
      "|    ep_len_mean        | 47        |\n",
      "|    ep_rew_mean        | 4.35      |\n",
      "| time/                 |           |\n",
      "|    fps                | 274       |\n",
      "|    iterations         | 37600     |\n",
      "|    time_elapsed       | 8782      |\n",
      "|    total_timesteps    | 2406400   |\n",
      "| train/                |           |\n",
      "|    entropy_loss       | -2.42     |\n",
      "|    explained_variance | 0.9271364 |\n",
      "|    learning_rate      | 8.3e-06   |\n",
      "|    n_updates          | 37599     |\n",
      "|    policy_loss        | -0.224    |\n",
      "|    value_loss         | 0.293     |\n",
      "-------------------------------------\n",
      "MoviePy - Building video /Users/bapa/Codes/KidsPuzzles/videos/DigitsPuzzle-10-step_f0.5_i0.2/training-episode-27400.mp4.\n",
      "MoviePy - Writing video /Users/bapa/Codes/KidsPuzzles/videos/DigitsPuzzle-10-step_f0.5_i0.2/training-episode-27400.mp4\n",
      "\n"
     ]
    },
    {
     "name": "stderr",
     "output_type": "stream",
     "text": [
      "                                                             "
     ]
    },
    {
     "name": "stdout",
     "output_type": "stream",
     "text": [
      "MoviePy - Done !\n",
      "MoviePy - video ready /Users/bapa/Codes/KidsPuzzles/videos/DigitsPuzzle-10-step_f0.5_i0.2/training-episode-27400.mp4\n"
     ]
    },
    {
     "name": "stderr",
     "output_type": "stream",
     "text": [
      "\r"
     ]
    },
    {
     "name": "stdout",
     "output_type": "stream",
     "text": [
      "-------------------------------------\n",
      "| rollout/              |           |\n",
      "|    ep_len_mean        | 48.7      |\n",
      "|    ep_rew_mean        | 4.56      |\n",
      "| time/                 |           |\n",
      "|    fps                | 273       |\n",
      "|    iterations         | 37700     |\n",
      "|    time_elapsed       | 8806      |\n",
      "|    total_timesteps    | 2412800   |\n",
      "| train/                |           |\n",
      "|    entropy_loss       | -2.27     |\n",
      "|    explained_variance | 0.9662682 |\n",
      "|    learning_rate      | 8.3e-06   |\n",
      "|    n_updates          | 37699     |\n",
      "|    policy_loss        | -0.55     |\n",
      "|    value_loss         | 0.244     |\n",
      "-------------------------------------\n",
      "MoviePy - Building video /Users/bapa/Codes/KidsPuzzles/videos/DigitsPuzzle-10-step_f0.5_i0.2/training-episode-27600.mp4.\n",
      "MoviePy - Writing video /Users/bapa/Codes/KidsPuzzles/videos/DigitsPuzzle-10-step_f0.5_i0.2/training-episode-27600.mp4\n",
      "\n"
     ]
    },
    {
     "name": "stderr",
     "output_type": "stream",
     "text": [
      "                                                             "
     ]
    },
    {
     "name": "stdout",
     "output_type": "stream",
     "text": [
      "MoviePy - Done !\n",
      "MoviePy - video ready /Users/bapa/Codes/KidsPuzzles/videos/DigitsPuzzle-10-step_f0.5_i0.2/training-episode-27600.mp4\n"
     ]
    },
    {
     "name": "stderr",
     "output_type": "stream",
     "text": [
      "\r"
     ]
    },
    {
     "name": "stdout",
     "output_type": "stream",
     "text": [
      "--------------------------------------\n",
      "| rollout/              |            |\n",
      "|    ep_len_mean        | 47.9       |\n",
      "|    ep_rew_mean        | 4.33       |\n",
      "| time/                 |            |\n",
      "|    fps                | 273        |\n",
      "|    iterations         | 37800      |\n",
      "|    time_elapsed       | 8829       |\n",
      "|    total_timesteps    | 2419200    |\n",
      "| train/                |            |\n",
      "|    entropy_loss       | -2.24      |\n",
      "|    explained_variance | 0.37636203 |\n",
      "|    learning_rate      | 8.3e-06    |\n",
      "|    n_updates          | 37799      |\n",
      "|    policy_loss        | -0.277     |\n",
      "|    value_loss         | 2.4        |\n",
      "--------------------------------------\n",
      "-------------------------------------\n",
      "| rollout/              |           |\n",
      "|    ep_len_mean        | 47.5      |\n",
      "|    ep_rew_mean        | 4.43      |\n",
      "| time/                 |           |\n",
      "|    fps                | 273       |\n",
      "|    iterations         | 37900     |\n",
      "|    time_elapsed       | 8852      |\n",
      "|    total_timesteps    | 2425600   |\n",
      "| train/                |           |\n",
      "|    entropy_loss       | -2.26     |\n",
      "|    explained_variance | 0.9773902 |\n",
      "|    learning_rate      | 8.3e-06   |\n",
      "|    n_updates          | 37899     |\n",
      "|    policy_loss        | 0.22      |\n",
      "|    value_loss         | 0.196     |\n",
      "-------------------------------------\n",
      "MoviePy - Building video /Users/bapa/Codes/KidsPuzzles/videos/DigitsPuzzle-10-step_f0.5_i0.2/training-episode-27800.mp4.\n",
      "MoviePy - Writing video /Users/bapa/Codes/KidsPuzzles/videos/DigitsPuzzle-10-step_f0.5_i0.2/training-episode-27800.mp4\n",
      "\n"
     ]
    },
    {
     "name": "stderr",
     "output_type": "stream",
     "text": [
      "                                                             "
     ]
    },
    {
     "name": "stdout",
     "output_type": "stream",
     "text": [
      "MoviePy - Done !\n",
      "MoviePy - video ready /Users/bapa/Codes/KidsPuzzles/videos/DigitsPuzzle-10-step_f0.5_i0.2/training-episode-27800.mp4\n"
     ]
    },
    {
     "name": "stderr",
     "output_type": "stream",
     "text": [
      "\r"
     ]
    },
    {
     "name": "stdout",
     "output_type": "stream",
     "text": [
      "-------------------------------------\n",
      "| rollout/              |           |\n",
      "|    ep_len_mean        | 45.7      |\n",
      "|    ep_rew_mean        | 4.68      |\n",
      "| time/                 |           |\n",
      "|    fps                | 273       |\n",
      "|    iterations         | 38000     |\n",
      "|    time_elapsed       | 8876      |\n",
      "|    total_timesteps    | 2432000   |\n",
      "| train/                |           |\n",
      "|    entropy_loss       | -2.14     |\n",
      "|    explained_variance | 0.8719928 |\n",
      "|    learning_rate      | 8.3e-06   |\n",
      "|    n_updates          | 37999     |\n",
      "|    policy_loss        | -1.01     |\n",
      "|    value_loss         | 1.59      |\n",
      "-------------------------------------\n",
      "MoviePy - Building video /Users/bapa/Codes/KidsPuzzles/videos/DigitsPuzzle-10-step_f0.5_i0.2/training-episode-28000.mp4.\n",
      "MoviePy - Writing video /Users/bapa/Codes/KidsPuzzles/videos/DigitsPuzzle-10-step_f0.5_i0.2/training-episode-28000.mp4\n",
      "\n"
     ]
    },
    {
     "name": "stderr",
     "output_type": "stream",
     "text": [
      "                                                             "
     ]
    },
    {
     "name": "stdout",
     "output_type": "stream",
     "text": [
      "MoviePy - Done !\n",
      "MoviePy - video ready /Users/bapa/Codes/KidsPuzzles/videos/DigitsPuzzle-10-step_f0.5_i0.2/training-episode-28000.mp4\n"
     ]
    },
    {
     "name": "stderr",
     "output_type": "stream",
     "text": [
      "\r"
     ]
    },
    {
     "name": "stdout",
     "output_type": "stream",
     "text": [
      "-------------------------------------\n",
      "| rollout/              |           |\n",
      "|    ep_len_mean        | 47        |\n",
      "|    ep_rew_mean        | 4.31      |\n",
      "| time/                 |           |\n",
      "|    fps                | 273       |\n",
      "|    iterations         | 38100     |\n",
      "|    time_elapsed       | 8899      |\n",
      "|    total_timesteps    | 2438400   |\n",
      "| train/                |           |\n",
      "|    entropy_loss       | -2.17     |\n",
      "|    explained_variance | 0.9307422 |\n",
      "|    learning_rate      | 8.3e-06   |\n",
      "|    n_updates          | 38099     |\n",
      "|    policy_loss        | -1.66     |\n",
      "|    value_loss         | 0.951     |\n",
      "-------------------------------------\n",
      "-------------------------------------\n",
      "| rollout/              |           |\n",
      "|    ep_len_mean        | 48.1      |\n",
      "|    ep_rew_mean        | 4.35      |\n",
      "| time/                 |           |\n",
      "|    fps                | 273       |\n",
      "|    iterations         | 38200     |\n",
      "|    time_elapsed       | 8923      |\n",
      "|    total_timesteps    | 2444800   |\n",
      "| train/                |           |\n",
      "|    entropy_loss       | -2.24     |\n",
      "|    explained_variance | 0.9867529 |\n",
      "|    learning_rate      | 8.3e-06   |\n",
      "|    n_updates          | 38199     |\n",
      "|    policy_loss        | 0.0553    |\n",
      "|    value_loss         | 0.141     |\n",
      "-------------------------------------\n",
      "MoviePy - Building video /Users/bapa/Codes/KidsPuzzles/videos/DigitsPuzzle-10-step_f0.5_i0.2/training-episode-28200.mp4.\n",
      "MoviePy - Writing video /Users/bapa/Codes/KidsPuzzles/videos/DigitsPuzzle-10-step_f0.5_i0.2/training-episode-28200.mp4\n",
      "\n"
     ]
    },
    {
     "name": "stderr",
     "output_type": "stream",
     "text": [
      "                                                             "
     ]
    },
    {
     "name": "stdout",
     "output_type": "stream",
     "text": [
      "MoviePy - Done !\n",
      "MoviePy - video ready /Users/bapa/Codes/KidsPuzzles/videos/DigitsPuzzle-10-step_f0.5_i0.2/training-episode-28200.mp4\n"
     ]
    },
    {
     "name": "stderr",
     "output_type": "stream",
     "text": [
      "\r"
     ]
    },
    {
     "name": "stdout",
     "output_type": "stream",
     "text": [
      "--------------------------------------\n",
      "| rollout/              |            |\n",
      "|    ep_len_mean        | 48.1       |\n",
      "|    ep_rew_mean        | 4.09       |\n",
      "| time/                 |            |\n",
      "|    fps                | 273        |\n",
      "|    iterations         | 38300      |\n",
      "|    time_elapsed       | 8946       |\n",
      "|    total_timesteps    | 2451200    |\n",
      "| train/                |            |\n",
      "|    entropy_loss       | -2.25      |\n",
      "|    explained_variance | 0.99484295 |\n",
      "|    learning_rate      | 8.3e-06    |\n",
      "|    n_updates          | 38299      |\n",
      "|    policy_loss        | 0.285      |\n",
      "|    value_loss         | 0.0858     |\n",
      "--------------------------------------\n",
      "MoviePy - Building video /Users/bapa/Codes/KidsPuzzles/videos/DigitsPuzzle-10-step_f0.5_i0.2/training-episode-28400.mp4.\n",
      "MoviePy - Writing video /Users/bapa/Codes/KidsPuzzles/videos/DigitsPuzzle-10-step_f0.5_i0.2/training-episode-28400.mp4\n",
      "\n"
     ]
    },
    {
     "name": "stderr",
     "output_type": "stream",
     "text": [
      "                                                             "
     ]
    },
    {
     "name": "stdout",
     "output_type": "stream",
     "text": [
      "MoviePy - Done !\n",
      "MoviePy - video ready /Users/bapa/Codes/KidsPuzzles/videos/DigitsPuzzle-10-step_f0.5_i0.2/training-episode-28400.mp4\n"
     ]
    },
    {
     "name": "stderr",
     "output_type": "stream",
     "text": [
      "\r"
     ]
    },
    {
     "name": "stdout",
     "output_type": "stream",
     "text": [
      "--------------------------------------\n",
      "| rollout/              |            |\n",
      "|    ep_len_mean        | 47.9       |\n",
      "|    ep_rew_mean        | 4.26       |\n",
      "| time/                 |            |\n",
      "|    fps                | 273        |\n",
      "|    iterations         | 38400      |\n",
      "|    time_elapsed       | 8970       |\n",
      "|    total_timesteps    | 2457600    |\n",
      "| train/                |            |\n",
      "|    entropy_loss       | -2.35      |\n",
      "|    explained_variance | 0.87589794 |\n",
      "|    learning_rate      | 8.3e-06    |\n",
      "|    n_updates          | 38399      |\n",
      "|    policy_loss        | -2.16      |\n",
      "|    value_loss         | 1.77       |\n",
      "--------------------------------------\n",
      "-------------------------------------\n",
      "| rollout/              |           |\n",
      "|    ep_len_mean        | 48.1      |\n",
      "|    ep_rew_mean        | 4.67      |\n",
      "| time/                 |           |\n",
      "|    fps                | 273       |\n",
      "|    iterations         | 38500     |\n",
      "|    time_elapsed       | 8993      |\n",
      "|    total_timesteps    | 2464000   |\n",
      "| train/                |           |\n",
      "|    entropy_loss       | -2.13     |\n",
      "|    explained_variance | 0.9275045 |\n",
      "|    learning_rate      | 8.3e-06   |\n",
      "|    n_updates          | 38499     |\n",
      "|    policy_loss        | -1.21     |\n",
      "|    value_loss         | 0.614     |\n",
      "-------------------------------------\n",
      "MoviePy - Building video /Users/bapa/Codes/KidsPuzzles/videos/DigitsPuzzle-10-step_f0.5_i0.2/training-episode-28600.mp4.\n",
      "MoviePy - Writing video /Users/bapa/Codes/KidsPuzzles/videos/DigitsPuzzle-10-step_f0.5_i0.2/training-episode-28600.mp4\n",
      "\n"
     ]
    },
    {
     "name": "stderr",
     "output_type": "stream",
     "text": [
      "                                                             "
     ]
    },
    {
     "name": "stdout",
     "output_type": "stream",
     "text": [
      "MoviePy - Done !\n",
      "MoviePy - video ready /Users/bapa/Codes/KidsPuzzles/videos/DigitsPuzzle-10-step_f0.5_i0.2/training-episode-28600.mp4\n"
     ]
    },
    {
     "name": "stderr",
     "output_type": "stream",
     "text": [
      "\r"
     ]
    },
    {
     "name": "stdout",
     "output_type": "stream",
     "text": [
      "--------------------------------------\n",
      "| rollout/              |            |\n",
      "|    ep_len_mean        | 48.1       |\n",
      "|    ep_rew_mean        | 4.29       |\n",
      "| time/                 |            |\n",
      "|    fps                | 273        |\n",
      "|    iterations         | 38600      |\n",
      "|    time_elapsed       | 9016       |\n",
      "|    total_timesteps    | 2470400    |\n",
      "| train/                |            |\n",
      "|    entropy_loss       | -2.32      |\n",
      "|    explained_variance | 0.97793955 |\n",
      "|    learning_rate      | 8.3e-06    |\n",
      "|    n_updates          | 38599      |\n",
      "|    policy_loss        | 0.523      |\n",
      "|    value_loss         | 0.313      |\n",
      "--------------------------------------\n",
      "MoviePy - Building video /Users/bapa/Codes/KidsPuzzles/videos/DigitsPuzzle-10-step_f0.5_i0.2/training-episode-28800.mp4.\n",
      "MoviePy - Writing video /Users/bapa/Codes/KidsPuzzles/videos/DigitsPuzzle-10-step_f0.5_i0.2/training-episode-28800.mp4\n",
      "\n"
     ]
    },
    {
     "name": "stderr",
     "output_type": "stream",
     "text": [
      "                                                             "
     ]
    },
    {
     "name": "stdout",
     "output_type": "stream",
     "text": [
      "MoviePy - Done !\n",
      "MoviePy - video ready /Users/bapa/Codes/KidsPuzzles/videos/DigitsPuzzle-10-step_f0.5_i0.2/training-episode-28800.mp4\n"
     ]
    },
    {
     "name": "stderr",
     "output_type": "stream",
     "text": [
      "\r"
     ]
    },
    {
     "name": "stdout",
     "output_type": "stream",
     "text": [
      "--------------------------------------\n",
      "| rollout/              |            |\n",
      "|    ep_len_mean        | 47.3       |\n",
      "|    ep_rew_mean        | 4.65       |\n",
      "| time/                 |            |\n",
      "|    fps                | 274        |\n",
      "|    iterations         | 38700      |\n",
      "|    time_elapsed       | 9039       |\n",
      "|    total_timesteps    | 2476800    |\n",
      "| train/                |            |\n",
      "|    entropy_loss       | -2.24      |\n",
      "|    explained_variance | 0.86137676 |\n",
      "|    learning_rate      | 8.3e-06    |\n",
      "|    n_updates          | 38699      |\n",
      "|    policy_loss        | -2.23      |\n",
      "|    value_loss         | 1.71       |\n",
      "--------------------------------------\n",
      "-------------------------------------\n",
      "| rollout/              |           |\n",
      "|    ep_len_mean        | 48        |\n",
      "|    ep_rew_mean        | 4.13      |\n",
      "| time/                 |           |\n",
      "|    fps                | 274       |\n",
      "|    iterations         | 38800     |\n",
      "|    time_elapsed       | 9062      |\n",
      "|    total_timesteps    | 2483200   |\n",
      "| train/                |           |\n",
      "|    entropy_loss       | -2.19     |\n",
      "|    explained_variance | 0.9144019 |\n",
      "|    learning_rate      | 8.3e-06   |\n",
      "|    n_updates          | 38799     |\n",
      "|    policy_loss        | -1.88     |\n",
      "|    value_loss         | 1.74      |\n",
      "-------------------------------------\n",
      "MoviePy - Building video /Users/bapa/Codes/KidsPuzzles/videos/DigitsPuzzle-10-step_f0.5_i0.2/training-episode-29000.mp4.\n",
      "MoviePy - Writing video /Users/bapa/Codes/KidsPuzzles/videos/DigitsPuzzle-10-step_f0.5_i0.2/training-episode-29000.mp4\n",
      "\n"
     ]
    },
    {
     "name": "stderr",
     "output_type": "stream",
     "text": [
      "                                                             "
     ]
    },
    {
     "name": "stdout",
     "output_type": "stream",
     "text": [
      "MoviePy - Done !\n",
      "MoviePy - video ready /Users/bapa/Codes/KidsPuzzles/videos/DigitsPuzzle-10-step_f0.5_i0.2/training-episode-29000.mp4\n"
     ]
    },
    {
     "name": "stderr",
     "output_type": "stream",
     "text": [
      "\r"
     ]
    },
    {
     "name": "stdout",
     "output_type": "stream",
     "text": [
      "--------------------------------------\n",
      "| rollout/              |            |\n",
      "|    ep_len_mean        | 47.6       |\n",
      "|    ep_rew_mean        | 4.51       |\n",
      "| time/                 |            |\n",
      "|    fps                | 274        |\n",
      "|    iterations         | 38900      |\n",
      "|    time_elapsed       | 9085       |\n",
      "|    total_timesteps    | 2489600    |\n",
      "| train/                |            |\n",
      "|    entropy_loss       | -2.1       |\n",
      "|    explained_variance | 0.95723164 |\n",
      "|    learning_rate      | 8.3e-06    |\n",
      "|    n_updates          | 38899      |\n",
      "|    policy_loss        | -0.105     |\n",
      "|    value_loss         | 0.298      |\n",
      "--------------------------------------\n",
      "MoviePy - Building video /Users/bapa/Codes/KidsPuzzles/videos/DigitsPuzzle-10-step_f0.5_i0.2/training-episode-29200.mp4.\n",
      "MoviePy - Writing video /Users/bapa/Codes/KidsPuzzles/videos/DigitsPuzzle-10-step_f0.5_i0.2/training-episode-29200.mp4\n",
      "\n"
     ]
    },
    {
     "name": "stderr",
     "output_type": "stream",
     "text": [
      "                                                             "
     ]
    },
    {
     "name": "stdout",
     "output_type": "stream",
     "text": [
      "MoviePy - Done !\n",
      "MoviePy - video ready /Users/bapa/Codes/KidsPuzzles/videos/DigitsPuzzle-10-step_f0.5_i0.2/training-episode-29200.mp4\n"
     ]
    },
    {
     "name": "stderr",
     "output_type": "stream",
     "text": [
      "\r"
     ]
    },
    {
     "name": "stdout",
     "output_type": "stream",
     "text": [
      "-------------------------------------\n",
      "| rollout/              |           |\n",
      "|    ep_len_mean        | 47.7      |\n",
      "|    ep_rew_mean        | 4.34      |\n",
      "| time/                 |           |\n",
      "|    fps                | 274       |\n",
      "|    iterations         | 39000     |\n",
      "|    time_elapsed       | 9108      |\n",
      "|    total_timesteps    | 2496000   |\n",
      "| train/                |           |\n",
      "|    entropy_loss       | -2.48     |\n",
      "|    explained_variance | 0.8835555 |\n",
      "|    learning_rate      | 8.3e-06   |\n",
      "|    n_updates          | 38999     |\n",
      "|    policy_loss        | -3.17     |\n",
      "|    value_loss         | 1.89      |\n",
      "-------------------------------------\n",
      "--------------------------------------\n",
      "| rollout/              |            |\n",
      "|    ep_len_mean        | 46.6       |\n",
      "|    ep_rew_mean        | 4.41       |\n",
      "| time/                 |            |\n",
      "|    fps                | 274        |\n",
      "|    iterations         | 39100      |\n",
      "|    time_elapsed       | 9131       |\n",
      "|    total_timesteps    | 2502400    |\n",
      "| train/                |            |\n",
      "|    entropy_loss       | -2.15      |\n",
      "|    explained_variance | 0.90800935 |\n",
      "|    learning_rate      | 8.3e-06    |\n",
      "|    n_updates          | 39099      |\n",
      "|    policy_loss        | -1.62      |\n",
      "|    value_loss         | 1.67       |\n",
      "--------------------------------------\n",
      "MoviePy - Building video /Users/bapa/Codes/KidsPuzzles/videos/DigitsPuzzle-10-step_f0.5_i0.2/training-episode-29400.mp4.\n",
      "MoviePy - Writing video /Users/bapa/Codes/KidsPuzzles/videos/DigitsPuzzle-10-step_f0.5_i0.2/training-episode-29400.mp4\n",
      "\n"
     ]
    },
    {
     "name": "stderr",
     "output_type": "stream",
     "text": [
      "                                                             "
     ]
    },
    {
     "name": "stdout",
     "output_type": "stream",
     "text": [
      "MoviePy - Done !\n",
      "MoviePy - video ready /Users/bapa/Codes/KidsPuzzles/videos/DigitsPuzzle-10-step_f0.5_i0.2/training-episode-29400.mp4\n"
     ]
    },
    {
     "name": "stderr",
     "output_type": "stream",
     "text": [
      "\r"
     ]
    },
    {
     "name": "stdout",
     "output_type": "stream",
     "text": [
      "------------------------------------\n",
      "| rollout/              |          |\n",
      "|    ep_len_mean        | 46.6     |\n",
      "|    ep_rew_mean        | 4.41     |\n",
      "| time/                 |          |\n",
      "|    fps                | 274      |\n",
      "|    iterations         | 39200    |\n",
      "|    time_elapsed       | 9155     |\n",
      "|    total_timesteps    | 2508800  |\n",
      "| train/                |          |\n",
      "|    entropy_loss       | -2.43    |\n",
      "|    explained_variance | 0.854892 |\n",
      "|    learning_rate      | 8.3e-06  |\n",
      "|    n_updates          | 39199    |\n",
      "|    policy_loss        | -0.778   |\n",
      "|    value_loss         | 1.12     |\n",
      "------------------------------------\n",
      "MoviePy - Building video /Users/bapa/Codes/KidsPuzzles/videos/DigitsPuzzle-10-step_f0.5_i0.2/training-episode-29600.mp4.\n",
      "MoviePy - Writing video /Users/bapa/Codes/KidsPuzzles/videos/DigitsPuzzle-10-step_f0.5_i0.2/training-episode-29600.mp4\n",
      "\n"
     ]
    },
    {
     "name": "stderr",
     "output_type": "stream",
     "text": [
      "                                                             "
     ]
    },
    {
     "name": "stdout",
     "output_type": "stream",
     "text": [
      "MoviePy - Done !\n",
      "MoviePy - video ready /Users/bapa/Codes/KidsPuzzles/videos/DigitsPuzzle-10-step_f0.5_i0.2/training-episode-29600.mp4\n"
     ]
    },
    {
     "name": "stderr",
     "output_type": "stream",
     "text": [
      "\r"
     ]
    },
    {
     "name": "stdout",
     "output_type": "stream",
     "text": [
      "-------------------------------------\n",
      "| rollout/              |           |\n",
      "|    ep_len_mean        | 48.4      |\n",
      "|    ep_rew_mean        | 4.49      |\n",
      "| time/                 |           |\n",
      "|    fps                | 274       |\n",
      "|    iterations         | 39300     |\n",
      "|    time_elapsed       | 9178      |\n",
      "|    total_timesteps    | 2515200   |\n",
      "| train/                |           |\n",
      "|    entropy_loss       | -2.19     |\n",
      "|    explained_variance | 0.9411545 |\n",
      "|    learning_rate      | 8.3e-06   |\n",
      "|    n_updates          | 39299     |\n",
      "|    policy_loss        | 1.09      |\n",
      "|    value_loss         | 0.496     |\n",
      "-------------------------------------\n",
      "-------------------------------------\n",
      "| rollout/              |           |\n",
      "|    ep_len_mean        | 48.7      |\n",
      "|    ep_rew_mean        | 4.39      |\n",
      "| time/                 |           |\n",
      "|    fps                | 274       |\n",
      "|    iterations         | 39400     |\n",
      "|    time_elapsed       | 9201      |\n",
      "|    total_timesteps    | 2521600   |\n",
      "| train/                |           |\n",
      "|    entropy_loss       | -2.18     |\n",
      "|    explained_variance | 0.9473502 |\n",
      "|    learning_rate      | 8.3e-06   |\n",
      "|    n_updates          | 39399     |\n",
      "|    policy_loss        | 0.785     |\n",
      "|    value_loss         | 0.392     |\n",
      "-------------------------------------\n",
      "MoviePy - Building video /Users/bapa/Codes/KidsPuzzles/videos/DigitsPuzzle-10-step_f0.5_i0.2/training-episode-29800.mp4.\n",
      "MoviePy - Writing video /Users/bapa/Codes/KidsPuzzles/videos/DigitsPuzzle-10-step_f0.5_i0.2/training-episode-29800.mp4\n",
      "\n"
     ]
    },
    {
     "name": "stderr",
     "output_type": "stream",
     "text": [
      "                                                             "
     ]
    },
    {
     "name": "stdout",
     "output_type": "stream",
     "text": [
      "MoviePy - Done !\n",
      "MoviePy - video ready /Users/bapa/Codes/KidsPuzzles/videos/DigitsPuzzle-10-step_f0.5_i0.2/training-episode-29800.mp4\n"
     ]
    },
    {
     "name": "stderr",
     "output_type": "stream",
     "text": [
      "\r"
     ]
    },
    {
     "name": "stdout",
     "output_type": "stream",
     "text": [
      "--------------------------------------\n",
      "| rollout/              |            |\n",
      "|    ep_len_mean        | 46.1       |\n",
      "|    ep_rew_mean        | 4.33       |\n",
      "| time/                 |            |\n",
      "|    fps                | 274        |\n",
      "|    iterations         | 39500      |\n",
      "|    time_elapsed       | 9224       |\n",
      "|    total_timesteps    | 2528000    |\n",
      "| train/                |            |\n",
      "|    entropy_loss       | -2.3       |\n",
      "|    explained_variance | 0.79872954 |\n",
      "|    learning_rate      | 8.3e-06    |\n",
      "|    n_updates          | 39499      |\n",
      "|    policy_loss        | -1.92      |\n",
      "|    value_loss         | 1.96       |\n",
      "--------------------------------------\n",
      "MoviePy - Building video /Users/bapa/Codes/KidsPuzzles/videos/DigitsPuzzle-10-step_f0.5_i0.2/training-episode-30000.mp4.\n",
      "MoviePy - Writing video /Users/bapa/Codes/KidsPuzzles/videos/DigitsPuzzle-10-step_f0.5_i0.2/training-episode-30000.mp4\n",
      "\n"
     ]
    },
    {
     "name": "stderr",
     "output_type": "stream",
     "text": [
      "                                                             "
     ]
    },
    {
     "name": "stdout",
     "output_type": "stream",
     "text": [
      "MoviePy - Done !\n",
      "MoviePy - video ready /Users/bapa/Codes/KidsPuzzles/videos/DigitsPuzzle-10-step_f0.5_i0.2/training-episode-30000.mp4\n"
     ]
    },
    {
     "name": "stderr",
     "output_type": "stream",
     "text": [
      "\r"
     ]
    },
    {
     "name": "stdout",
     "output_type": "stream",
     "text": [
      "-------------------------------------\n",
      "| rollout/              |           |\n",
      "|    ep_len_mean        | 47.9      |\n",
      "|    ep_rew_mean        | 4.5       |\n",
      "| time/                 |           |\n",
      "|    fps                | 274       |\n",
      "|    iterations         | 39600     |\n",
      "|    time_elapsed       | 9248      |\n",
      "|    total_timesteps    | 2534400   |\n",
      "| train/                |           |\n",
      "|    entropy_loss       | -2.28     |\n",
      "|    explained_variance | 0.7663664 |\n",
      "|    learning_rate      | 8.3e-06   |\n",
      "|    n_updates          | 39599     |\n",
      "|    policy_loss        | -2.95     |\n",
      "|    value_loss         | 4.75      |\n",
      "-------------------------------------\n",
      "--------------------------------------\n",
      "| rollout/              |            |\n",
      "|    ep_len_mean        | 46.6       |\n",
      "|    ep_rew_mean        | 4.41       |\n",
      "| time/                 |            |\n",
      "|    fps                | 274        |\n",
      "|    iterations         | 39700      |\n",
      "|    time_elapsed       | 9271       |\n",
      "|    total_timesteps    | 2540800    |\n",
      "| train/                |            |\n",
      "|    entropy_loss       | -2.47      |\n",
      "|    explained_variance | 0.88195485 |\n",
      "|    learning_rate      | 8.3e-06    |\n",
      "|    n_updates          | 39699      |\n",
      "|    policy_loss        | -1.46      |\n",
      "|    value_loss         | 1.06       |\n",
      "--------------------------------------\n",
      "MoviePy - Building video /Users/bapa/Codes/KidsPuzzles/videos/DigitsPuzzle-10-step_f0.5_i0.2/training-episode-30200.mp4.\n",
      "MoviePy - Writing video /Users/bapa/Codes/KidsPuzzles/videos/DigitsPuzzle-10-step_f0.5_i0.2/training-episode-30200.mp4\n",
      "\n"
     ]
    },
    {
     "name": "stderr",
     "output_type": "stream",
     "text": [
      "                                                             "
     ]
    },
    {
     "name": "stdout",
     "output_type": "stream",
     "text": [
      "MoviePy - Done !\n",
      "MoviePy - video ready /Users/bapa/Codes/KidsPuzzles/videos/DigitsPuzzle-10-step_f0.5_i0.2/training-episode-30200.mp4\n"
     ]
    },
    {
     "name": "stderr",
     "output_type": "stream",
     "text": [
      "\r"
     ]
    },
    {
     "name": "stdout",
     "output_type": "stream",
     "text": [
      "-------------------------------------\n",
      "| rollout/              |           |\n",
      "|    ep_len_mean        | 46.8      |\n",
      "|    ep_rew_mean        | 4.37      |\n",
      "| time/                 |           |\n",
      "|    fps                | 274       |\n",
      "|    iterations         | 39800     |\n",
      "|    time_elapsed       | 9294      |\n",
      "|    total_timesteps    | 2547200   |\n",
      "| train/                |           |\n",
      "|    entropy_loss       | -2.32     |\n",
      "|    explained_variance | 0.9138924 |\n",
      "|    learning_rate      | 8.3e-06   |\n",
      "|    n_updates          | 39799     |\n",
      "|    policy_loss        | 1.31      |\n",
      "|    value_loss         | 1.21      |\n",
      "-------------------------------------\n",
      "MoviePy - Building video /Users/bapa/Codes/KidsPuzzles/videos/DigitsPuzzle-10-step_f0.5_i0.2/training-episode-30400.mp4.\n",
      "MoviePy - Writing video /Users/bapa/Codes/KidsPuzzles/videos/DigitsPuzzle-10-step_f0.5_i0.2/training-episode-30400.mp4\n",
      "\n"
     ]
    },
    {
     "name": "stderr",
     "output_type": "stream",
     "text": [
      "                                                             "
     ]
    },
    {
     "name": "stdout",
     "output_type": "stream",
     "text": [
      "MoviePy - Done !\n",
      "MoviePy - video ready /Users/bapa/Codes/KidsPuzzles/videos/DigitsPuzzle-10-step_f0.5_i0.2/training-episode-30400.mp4\n"
     ]
    },
    {
     "name": "stderr",
     "output_type": "stream",
     "text": [
      "\r"
     ]
    },
    {
     "name": "stdout",
     "output_type": "stream",
     "text": [
      "-------------------------------------\n",
      "| rollout/              |           |\n",
      "|    ep_len_mean        | 47.6      |\n",
      "|    ep_rew_mean        | 4.26      |\n",
      "| time/                 |           |\n",
      "|    fps                | 274       |\n",
      "|    iterations         | 39900     |\n",
      "|    time_elapsed       | 9318      |\n",
      "|    total_timesteps    | 2553600   |\n",
      "| train/                |           |\n",
      "|    entropy_loss       | -2.14     |\n",
      "|    explained_variance | 0.9617283 |\n",
      "|    learning_rate      | 8.3e-06   |\n",
      "|    n_updates          | 39899     |\n",
      "|    policy_loss        | 0.0925    |\n",
      "|    value_loss         | 0.531     |\n",
      "-------------------------------------\n",
      "-------------------------------------\n",
      "| rollout/              |           |\n",
      "|    ep_len_mean        | 47.2      |\n",
      "|    ep_rew_mean        | 4.16      |\n",
      "| time/                 |           |\n",
      "|    fps                | 274       |\n",
      "|    iterations         | 40000     |\n",
      "|    time_elapsed       | 9341      |\n",
      "|    total_timesteps    | 2560000   |\n",
      "| train/                |           |\n",
      "|    entropy_loss       | -2.48     |\n",
      "|    explained_variance | 0.9674983 |\n",
      "|    learning_rate      | 8.3e-06   |\n",
      "|    n_updates          | 39999     |\n",
      "|    policy_loss        | -1.03     |\n",
      "|    value_loss         | 0.418     |\n",
      "-------------------------------------\n",
      "MoviePy - Building video /Users/bapa/Codes/KidsPuzzles/videos/DigitsPuzzle-10-step_f0.5_i0.2/training-episode-30600.mp4.\n",
      "MoviePy - Writing video /Users/bapa/Codes/KidsPuzzles/videos/DigitsPuzzle-10-step_f0.5_i0.2/training-episode-30600.mp4\n",
      "\n"
     ]
    },
    {
     "name": "stderr",
     "output_type": "stream",
     "text": [
      "                                                             "
     ]
    },
    {
     "name": "stdout",
     "output_type": "stream",
     "text": [
      "MoviePy - Done !\n",
      "MoviePy - video ready /Users/bapa/Codes/KidsPuzzles/videos/DigitsPuzzle-10-step_f0.5_i0.2/training-episode-30600.mp4\n"
     ]
    },
    {
     "name": "stderr",
     "output_type": "stream",
     "text": [
      "\r"
     ]
    },
    {
     "name": "stdout",
     "output_type": "stream",
     "text": [
      "------------------------------------\n",
      "| rollout/              |          |\n",
      "|    ep_len_mean        | 46.6     |\n",
      "|    ep_rew_mean        | 4.34     |\n",
      "| time/                 |          |\n",
      "|    fps                | 274      |\n",
      "|    iterations         | 40100    |\n",
      "|    time_elapsed       | 9365     |\n",
      "|    total_timesteps    | 2566400  |\n",
      "| train/                |          |\n",
      "|    entropy_loss       | -2.14    |\n",
      "|    explained_variance | 0.946701 |\n",
      "|    learning_rate      | 8.3e-06  |\n",
      "|    n_updates          | 40099    |\n",
      "|    policy_loss        | 0.289    |\n",
      "|    value_loss         | 0.685    |\n",
      "------------------------------------\n",
      "MoviePy - Building video /Users/bapa/Codes/KidsPuzzles/videos/DigitsPuzzle-10-step_f0.5_i0.2/training-episode-30800.mp4.\n",
      "MoviePy - Writing video /Users/bapa/Codes/KidsPuzzles/videos/DigitsPuzzle-10-step_f0.5_i0.2/training-episode-30800.mp4\n",
      "\n"
     ]
    },
    {
     "name": "stderr",
     "output_type": "stream",
     "text": [
      "                                                             "
     ]
    },
    {
     "name": "stdout",
     "output_type": "stream",
     "text": [
      "MoviePy - Done !\n",
      "MoviePy - video ready /Users/bapa/Codes/KidsPuzzles/videos/DigitsPuzzle-10-step_f0.5_i0.2/training-episode-30800.mp4\n"
     ]
    },
    {
     "name": "stderr",
     "output_type": "stream",
     "text": [
      "\r"
     ]
    },
    {
     "name": "stdout",
     "output_type": "stream",
     "text": [
      "--------------------------------------\n",
      "| rollout/              |            |\n",
      "|    ep_len_mean        | 46         |\n",
      "|    ep_rew_mean        | 4.36       |\n",
      "| time/                 |            |\n",
      "|    fps                | 274        |\n",
      "|    iterations         | 40200      |\n",
      "|    time_elapsed       | 9388       |\n",
      "|    total_timesteps    | 2572800    |\n",
      "| train/                |            |\n",
      "|    entropy_loss       | -2.25      |\n",
      "|    explained_variance | 0.93747014 |\n",
      "|    learning_rate      | 8.3e-06    |\n",
      "|    n_updates          | 40199      |\n",
      "|    policy_loss        | -1.33      |\n",
      "|    value_loss         | 0.673      |\n",
      "--------------------------------------\n",
      "MoviePy - Building video /Users/bapa/Codes/KidsPuzzles/videos/DigitsPuzzle-10-step_f0.5_i0.2/training-episode-31000.mp4.\n",
      "MoviePy - Writing video /Users/bapa/Codes/KidsPuzzles/videos/DigitsPuzzle-10-step_f0.5_i0.2/training-episode-31000.mp4\n",
      "\n"
     ]
    },
    {
     "name": "stderr",
     "output_type": "stream",
     "text": [
      "                                                             "
     ]
    },
    {
     "name": "stdout",
     "output_type": "stream",
     "text": [
      "MoviePy - Done !\n",
      "MoviePy - video ready /Users/bapa/Codes/KidsPuzzles/videos/DigitsPuzzle-10-step_f0.5_i0.2/training-episode-31000.mp4\n"
     ]
    },
    {
     "name": "stderr",
     "output_type": "stream",
     "text": [
      "\r"
     ]
    },
    {
     "name": "stdout",
     "output_type": "stream",
     "text": [
      "-------------------------------------\n",
      "| rollout/              |           |\n",
      "|    ep_len_mean        | 47.5      |\n",
      "|    ep_rew_mean        | 4.11      |\n",
      "| time/                 |           |\n",
      "|    fps                | 274       |\n",
      "|    iterations         | 40300     |\n",
      "|    time_elapsed       | 9412      |\n",
      "|    total_timesteps    | 2579200   |\n",
      "| train/                |           |\n",
      "|    entropy_loss       | -2.28     |\n",
      "|    explained_variance | 0.8958525 |\n",
      "|    learning_rate      | 8.3e-06   |\n",
      "|    n_updates          | 40299     |\n",
      "|    policy_loss        | -1.65     |\n",
      "|    value_loss         | 0.679     |\n",
      "-------------------------------------\n",
      "--------------------------------------\n",
      "| rollout/              |            |\n",
      "|    ep_len_mean        | 46.1       |\n",
      "|    ep_rew_mean        | 4.32       |\n",
      "| time/                 |            |\n",
      "|    fps                | 274        |\n",
      "|    iterations         | 40400      |\n",
      "|    time_elapsed       | 9435       |\n",
      "|    total_timesteps    | 2585600    |\n",
      "| train/                |            |\n",
      "|    entropy_loss       | -2.19      |\n",
      "|    explained_variance | 0.78696436 |\n",
      "|    learning_rate      | 8.3e-06    |\n",
      "|    n_updates          | 40399      |\n",
      "|    policy_loss        | 2.44       |\n",
      "|    value_loss         | 2.91       |\n",
      "--------------------------------------\n",
      "MoviePy - Building video /Users/bapa/Codes/KidsPuzzles/videos/DigitsPuzzle-10-step_f0.5_i0.2/training-episode-31200.mp4.\n",
      "MoviePy - Writing video /Users/bapa/Codes/KidsPuzzles/videos/DigitsPuzzle-10-step_f0.5_i0.2/training-episode-31200.mp4\n",
      "\n"
     ]
    },
    {
     "name": "stderr",
     "output_type": "stream",
     "text": [
      "                                                             "
     ]
    },
    {
     "name": "stdout",
     "output_type": "stream",
     "text": [
      "MoviePy - Done !\n",
      "MoviePy - video ready /Users/bapa/Codes/KidsPuzzles/videos/DigitsPuzzle-10-step_f0.5_i0.2/training-episode-31200.mp4\n"
     ]
    },
    {
     "name": "stderr",
     "output_type": "stream",
     "text": [
      "\r"
     ]
    },
    {
     "name": "stdout",
     "output_type": "stream",
     "text": [
      "------------------------------------\n",
      "| rollout/              |          |\n",
      "|    ep_len_mean        | 47.1     |\n",
      "|    ep_rew_mean        | 4.53     |\n",
      "| time/                 |          |\n",
      "|    fps                | 274      |\n",
      "|    iterations         | 40500    |\n",
      "|    time_elapsed       | 9459     |\n",
      "|    total_timesteps    | 2592000  |\n",
      "| train/                |          |\n",
      "|    entropy_loss       | -2.1     |\n",
      "|    explained_variance | 0.984788 |\n",
      "|    learning_rate      | 8.3e-06  |\n",
      "|    n_updates          | 40499    |\n",
      "|    policy_loss        | 0.431    |\n",
      "|    value_loss         | 0.169    |\n",
      "------------------------------------\n",
      "MoviePy - Building video /Users/bapa/Codes/KidsPuzzles/videos/DigitsPuzzle-10-step_f0.5_i0.2/training-episode-31400.mp4.\n",
      "MoviePy - Writing video /Users/bapa/Codes/KidsPuzzles/videos/DigitsPuzzle-10-step_f0.5_i0.2/training-episode-31400.mp4\n",
      "\n"
     ]
    },
    {
     "name": "stderr",
     "output_type": "stream",
     "text": [
      "                                                             "
     ]
    },
    {
     "name": "stdout",
     "output_type": "stream",
     "text": [
      "MoviePy - Done !\n",
      "MoviePy - video ready /Users/bapa/Codes/KidsPuzzles/videos/DigitsPuzzle-10-step_f0.5_i0.2/training-episode-31400.mp4\n"
     ]
    },
    {
     "name": "stderr",
     "output_type": "stream",
     "text": [
      "\r"
     ]
    },
    {
     "name": "stdout",
     "output_type": "stream",
     "text": [
      "-------------------------------------\n",
      "| rollout/              |           |\n",
      "|    ep_len_mean        | 46.4      |\n",
      "|    ep_rew_mean        | 4.37      |\n",
      "| time/                 |           |\n",
      "|    fps                | 274       |\n",
      "|    iterations         | 40600     |\n",
      "|    time_elapsed       | 9482      |\n",
      "|    total_timesteps    | 2598400   |\n",
      "| train/                |           |\n",
      "|    entropy_loss       | -2.26     |\n",
      "|    explained_variance | 0.9452897 |\n",
      "|    learning_rate      | 8.3e-06   |\n",
      "|    n_updates          | 40599     |\n",
      "|    policy_loss        | -0.323    |\n",
      "|    value_loss         | 0.26      |\n",
      "-------------------------------------\n",
      "--------------------------------------\n",
      "| rollout/              |            |\n",
      "|    ep_len_mean        | 46.9       |\n",
      "|    ep_rew_mean        | 4.44       |\n",
      "| time/                 |            |\n",
      "|    fps                | 274        |\n",
      "|    iterations         | 40700      |\n",
      "|    time_elapsed       | 9505       |\n",
      "|    total_timesteps    | 2604800    |\n",
      "| train/                |            |\n",
      "|    entropy_loss       | -2.33      |\n",
      "|    explained_variance | 0.91672367 |\n",
      "|    learning_rate      | 8.3e-06    |\n",
      "|    n_updates          | 40699      |\n",
      "|    policy_loss        | 1.68       |\n",
      "|    value_loss         | 1.15       |\n",
      "--------------------------------------\n",
      "MoviePy - Building video /Users/bapa/Codes/KidsPuzzles/videos/DigitsPuzzle-10-step_f0.5_i0.2/training-episode-31600.mp4.\n",
      "MoviePy - Writing video /Users/bapa/Codes/KidsPuzzles/videos/DigitsPuzzle-10-step_f0.5_i0.2/training-episode-31600.mp4\n",
      "\n"
     ]
    },
    {
     "name": "stderr",
     "output_type": "stream",
     "text": [
      "                                                             "
     ]
    },
    {
     "name": "stdout",
     "output_type": "stream",
     "text": [
      "MoviePy - Done !\n",
      "MoviePy - video ready /Users/bapa/Codes/KidsPuzzles/videos/DigitsPuzzle-10-step_f0.5_i0.2/training-episode-31600.mp4\n"
     ]
    },
    {
     "name": "stderr",
     "output_type": "stream",
     "text": [
      "\r"
     ]
    },
    {
     "name": "stdout",
     "output_type": "stream",
     "text": [
      "--------------------------------------\n",
      "| rollout/              |            |\n",
      "|    ep_len_mean        | 46.6       |\n",
      "|    ep_rew_mean        | 4.48       |\n",
      "| time/                 |            |\n",
      "|    fps                | 274        |\n",
      "|    iterations         | 40800      |\n",
      "|    time_elapsed       | 9529       |\n",
      "|    total_timesteps    | 2611200    |\n",
      "| train/                |            |\n",
      "|    entropy_loss       | -1.9       |\n",
      "|    explained_variance | 0.91055185 |\n",
      "|    learning_rate      | 8.3e-06    |\n",
      "|    n_updates          | 40799      |\n",
      "|    policy_loss        | 1.28       |\n",
      "|    value_loss         | 1.4        |\n",
      "--------------------------------------\n",
      "MoviePy - Building video /Users/bapa/Codes/KidsPuzzles/videos/DigitsPuzzle-10-step_f0.5_i0.2/training-episode-31800.mp4.\n",
      "MoviePy - Writing video /Users/bapa/Codes/KidsPuzzles/videos/DigitsPuzzle-10-step_f0.5_i0.2/training-episode-31800.mp4\n",
      "\n"
     ]
    },
    {
     "name": "stderr",
     "output_type": "stream",
     "text": [
      "                                                                       "
     ]
    },
    {
     "name": "stdout",
     "output_type": "stream",
     "text": [
      "MoviePy - Done !\n",
      "MoviePy - video ready /Users/bapa/Codes/KidsPuzzles/videos/DigitsPuzzle-10-step_f0.5_i0.2/training-episode-31800.mp4\n"
     ]
    },
    {
     "name": "stderr",
     "output_type": "stream",
     "text": [
      "\r"
     ]
    },
    {
     "name": "stdout",
     "output_type": "stream",
     "text": [
      "------------------------------------\n",
      "| rollout/              |          |\n",
      "|    ep_len_mean        | 46.9     |\n",
      "|    ep_rew_mean        | 4.28     |\n",
      "| time/                 |          |\n",
      "|    fps                | 273      |\n",
      "|    iterations         | 40900    |\n",
      "|    time_elapsed       | 9553     |\n",
      "|    total_timesteps    | 2617600  |\n",
      "| train/                |          |\n",
      "|    entropy_loss       | -2.21    |\n",
      "|    explained_variance | 0.931239 |\n",
      "|    learning_rate      | 8.3e-06  |\n",
      "|    n_updates          | 40899    |\n",
      "|    policy_loss        | -1.86    |\n",
      "|    value_loss         | 1.59     |\n",
      "------------------------------------\n",
      "--------------------------------------\n",
      "| rollout/              |            |\n",
      "|    ep_len_mean        | 45.8       |\n",
      "|    ep_rew_mean        | 4.6        |\n",
      "| time/                 |            |\n",
      "|    fps                | 274        |\n",
      "|    iterations         | 41000      |\n",
      "|    time_elapsed       | 9576       |\n",
      "|    total_timesteps    | 2624000    |\n",
      "| train/                |            |\n",
      "|    entropy_loss       | -2.14      |\n",
      "|    explained_variance | 0.96356446 |\n",
      "|    learning_rate      | 8.3e-06    |\n",
      "|    n_updates          | 40999      |\n",
      "|    policy_loss        | -1.33      |\n",
      "|    value_loss         | 0.564      |\n",
      "--------------------------------------\n",
      "MoviePy - Building video /Users/bapa/Codes/KidsPuzzles/videos/DigitsPuzzle-10-step_f0.5_i0.2/training-episode-32000.mp4.\n",
      "MoviePy - Writing video /Users/bapa/Codes/KidsPuzzles/videos/DigitsPuzzle-10-step_f0.5_i0.2/training-episode-32000.mp4\n",
      "\n"
     ]
    },
    {
     "name": "stderr",
     "output_type": "stream",
     "text": [
      "                                                             "
     ]
    },
    {
     "name": "stdout",
     "output_type": "stream",
     "text": [
      "MoviePy - Done !\n",
      "MoviePy - video ready /Users/bapa/Codes/KidsPuzzles/videos/DigitsPuzzle-10-step_f0.5_i0.2/training-episode-32000.mp4\n"
     ]
    },
    {
     "name": "stderr",
     "output_type": "stream",
     "text": [
      "\r"
     ]
    },
    {
     "name": "stdout",
     "output_type": "stream",
     "text": [
      "--------------------------------------\n",
      "| rollout/              |            |\n",
      "|    ep_len_mean        | 47.1       |\n",
      "|    ep_rew_mean        | 4.28       |\n",
      "| time/                 |            |\n",
      "|    fps                | 273        |\n",
      "|    iterations         | 41100      |\n",
      "|    time_elapsed       | 9600       |\n",
      "|    total_timesteps    | 2630400    |\n",
      "| train/                |            |\n",
      "|    entropy_loss       | -2.08      |\n",
      "|    explained_variance | 0.94886196 |\n",
      "|    learning_rate      | 8.3e-06    |\n",
      "|    n_updates          | 41099      |\n",
      "|    policy_loss        | 1.8        |\n",
      "|    value_loss         | 1.63       |\n",
      "--------------------------------------\n",
      "MoviePy - Building video /Users/bapa/Codes/KidsPuzzles/videos/DigitsPuzzle-10-step_f0.5_i0.2/training-episode-32200.mp4.\n",
      "MoviePy - Writing video /Users/bapa/Codes/KidsPuzzles/videos/DigitsPuzzle-10-step_f0.5_i0.2/training-episode-32200.mp4\n",
      "\n"
     ]
    },
    {
     "name": "stderr",
     "output_type": "stream",
     "text": [
      "                                                             "
     ]
    },
    {
     "name": "stdout",
     "output_type": "stream",
     "text": [
      "MoviePy - Done !\n",
      "MoviePy - video ready /Users/bapa/Codes/KidsPuzzles/videos/DigitsPuzzle-10-step_f0.5_i0.2/training-episode-32200.mp4\n"
     ]
    },
    {
     "name": "stderr",
     "output_type": "stream",
     "text": [
      "\r"
     ]
    },
    {
     "name": "stdout",
     "output_type": "stream",
     "text": [
      "--------------------------------------\n",
      "| rollout/              |            |\n",
      "|    ep_len_mean        | 47.1       |\n",
      "|    ep_rew_mean        | 4.16       |\n",
      "| time/                 |            |\n",
      "|    fps                | 273        |\n",
      "|    iterations         | 41200      |\n",
      "|    time_elapsed       | 9623       |\n",
      "|    total_timesteps    | 2636800    |\n",
      "| train/                |            |\n",
      "|    entropy_loss       | -2.3       |\n",
      "|    explained_variance | 0.93619734 |\n",
      "|    learning_rate      | 8.3e-06    |\n",
      "|    n_updates          | 41199      |\n",
      "|    policy_loss        | -1.14      |\n",
      "|    value_loss         | 1.03       |\n",
      "--------------------------------------\n",
      "-------------------------------------\n",
      "| rollout/              |           |\n",
      "|    ep_len_mean        | 47.1      |\n",
      "|    ep_rew_mean        | 4.5       |\n",
      "| time/                 |           |\n",
      "|    fps                | 274       |\n",
      "|    iterations         | 41300     |\n",
      "|    time_elapsed       | 9646      |\n",
      "|    total_timesteps    | 2643200   |\n",
      "| train/                |           |\n",
      "|    entropy_loss       | -2.33     |\n",
      "|    explained_variance | 0.9474984 |\n",
      "|    learning_rate      | 8.3e-06   |\n",
      "|    n_updates          | 41299     |\n",
      "|    policy_loss        | 0.395     |\n",
      "|    value_loss         | 0.393     |\n",
      "-------------------------------------\n",
      "MoviePy - Building video /Users/bapa/Codes/KidsPuzzles/videos/DigitsPuzzle-10-step_f0.5_i0.2/training-episode-32400.mp4.\n",
      "MoviePy - Writing video /Users/bapa/Codes/KidsPuzzles/videos/DigitsPuzzle-10-step_f0.5_i0.2/training-episode-32400.mp4\n",
      "\n"
     ]
    },
    {
     "name": "stderr",
     "output_type": "stream",
     "text": [
      "                                                             "
     ]
    },
    {
     "name": "stdout",
     "output_type": "stream",
     "text": [
      "MoviePy - Done !\n",
      "MoviePy - video ready /Users/bapa/Codes/KidsPuzzles/videos/DigitsPuzzle-10-step_f0.5_i0.2/training-episode-32400.mp4\n"
     ]
    },
    {
     "name": "stderr",
     "output_type": "stream",
     "text": [
      "\r"
     ]
    },
    {
     "name": "stdout",
     "output_type": "stream",
     "text": [
      "-------------------------------------\n",
      "| rollout/              |           |\n",
      "|    ep_len_mean        | 46.1      |\n",
      "|    ep_rew_mean        | 4.33      |\n",
      "| time/                 |           |\n",
      "|    fps                | 273       |\n",
      "|    iterations         | 41400     |\n",
      "|    time_elapsed       | 9670      |\n",
      "|    total_timesteps    | 2649600   |\n",
      "| train/                |           |\n",
      "|    entropy_loss       | -2.36     |\n",
      "|    explained_variance | 0.9279864 |\n",
      "|    learning_rate      | 8.3e-06   |\n",
      "|    n_updates          | 41399     |\n",
      "|    policy_loss        | -0.196    |\n",
      "|    value_loss         | 0.502     |\n",
      "-------------------------------------\n",
      "MoviePy - Building video /Users/bapa/Codes/KidsPuzzles/videos/DigitsPuzzle-10-step_f0.5_i0.2/training-episode-32600.mp4.\n",
      "MoviePy - Writing video /Users/bapa/Codes/KidsPuzzles/videos/DigitsPuzzle-10-step_f0.5_i0.2/training-episode-32600.mp4\n",
      "\n"
     ]
    },
    {
     "name": "stderr",
     "output_type": "stream",
     "text": [
      "                                                             "
     ]
    },
    {
     "name": "stdout",
     "output_type": "stream",
     "text": [
      "MoviePy - Done !\n",
      "MoviePy - video ready /Users/bapa/Codes/KidsPuzzles/videos/DigitsPuzzle-10-step_f0.5_i0.2/training-episode-32600.mp4\n"
     ]
    },
    {
     "name": "stderr",
     "output_type": "stream",
     "text": [
      "\r"
     ]
    },
    {
     "name": "stdout",
     "output_type": "stream",
     "text": [
      "--------------------------------------\n",
      "| rollout/              |            |\n",
      "|    ep_len_mean        | 45.3       |\n",
      "|    ep_rew_mean        | 4.67       |\n",
      "| time/                 |            |\n",
      "|    fps                | 273        |\n",
      "|    iterations         | 41500      |\n",
      "|    time_elapsed       | 9693       |\n",
      "|    total_timesteps    | 2656000    |\n",
      "| train/                |            |\n",
      "|    entropy_loss       | -2.44      |\n",
      "|    explained_variance | 0.88277036 |\n",
      "|    learning_rate      | 8.3e-06    |\n",
      "|    n_updates          | 41499      |\n",
      "|    policy_loss        | -2.16      |\n",
      "|    value_loss         | 1.2        |\n",
      "--------------------------------------\n",
      "-------------------------------------\n",
      "| rollout/              |           |\n",
      "|    ep_len_mean        | 48        |\n",
      "|    ep_rew_mean        | 4.35      |\n",
      "| time/                 |           |\n",
      "|    fps                | 273       |\n",
      "|    iterations         | 41600     |\n",
      "|    time_elapsed       | 9716      |\n",
      "|    total_timesteps    | 2662400   |\n",
      "| train/                |           |\n",
      "|    entropy_loss       | -2.18     |\n",
      "|    explained_variance | 0.9661141 |\n",
      "|    learning_rate      | 8.3e-06   |\n",
      "|    n_updates          | 41599     |\n",
      "|    policy_loss        | 1.57      |\n",
      "|    value_loss         | 0.848     |\n",
      "-------------------------------------\n",
      "MoviePy - Building video /Users/bapa/Codes/KidsPuzzles/videos/DigitsPuzzle-10-step_f0.5_i0.2/training-episode-32800.mp4.\n",
      "MoviePy - Writing video /Users/bapa/Codes/KidsPuzzles/videos/DigitsPuzzle-10-step_f0.5_i0.2/training-episode-32800.mp4\n",
      "\n"
     ]
    },
    {
     "name": "stderr",
     "output_type": "stream",
     "text": [
      "                                                             "
     ]
    },
    {
     "name": "stdout",
     "output_type": "stream",
     "text": [
      "MoviePy - Done !\n",
      "MoviePy - video ready /Users/bapa/Codes/KidsPuzzles/videos/DigitsPuzzle-10-step_f0.5_i0.2/training-episode-32800.mp4\n"
     ]
    },
    {
     "name": "stderr",
     "output_type": "stream",
     "text": [
      "\r"
     ]
    },
    {
     "name": "stdout",
     "output_type": "stream",
     "text": [
      "--------------------------------------\n",
      "| rollout/              |            |\n",
      "|    ep_len_mean        | 45.6       |\n",
      "|    ep_rew_mean        | 4.81       |\n",
      "| time/                 |            |\n",
      "|    fps                | 273        |\n",
      "|    iterations         | 41700      |\n",
      "|    time_elapsed       | 9740       |\n",
      "|    total_timesteps    | 2668800    |\n",
      "| train/                |            |\n",
      "|    entropy_loss       | -2.23      |\n",
      "|    explained_variance | 0.96752214 |\n",
      "|    learning_rate      | 8.3e-06    |\n",
      "|    n_updates          | 41699      |\n",
      "|    policy_loss        | 0.351      |\n",
      "|    value_loss         | 0.292      |\n",
      "--------------------------------------\n",
      "MoviePy - Building video /Users/bapa/Codes/KidsPuzzles/videos/DigitsPuzzle-10-step_f0.5_i0.2/training-episode-33000.mp4.\n",
      "MoviePy - Writing video /Users/bapa/Codes/KidsPuzzles/videos/DigitsPuzzle-10-step_f0.5_i0.2/training-episode-33000.mp4\n",
      "\n"
     ]
    },
    {
     "name": "stderr",
     "output_type": "stream",
     "text": [
      "                                                             "
     ]
    },
    {
     "name": "stdout",
     "output_type": "stream",
     "text": [
      "MoviePy - Done !\n",
      "MoviePy - video ready /Users/bapa/Codes/KidsPuzzles/videos/DigitsPuzzle-10-step_f0.5_i0.2/training-episode-33000.mp4\n"
     ]
    },
    {
     "name": "stderr",
     "output_type": "stream",
     "text": [
      "\r"
     ]
    },
    {
     "name": "stdout",
     "output_type": "stream",
     "text": [
      "-------------------------------------\n",
      "| rollout/              |           |\n",
      "|    ep_len_mean        | 47.2      |\n",
      "|    ep_rew_mean        | 4.21      |\n",
      "| time/                 |           |\n",
      "|    fps                | 273       |\n",
      "|    iterations         | 41800     |\n",
      "|    time_elapsed       | 9764      |\n",
      "|    total_timesteps    | 2675200   |\n",
      "| train/                |           |\n",
      "|    entropy_loss       | -2.2      |\n",
      "|    explained_variance | 0.9498561 |\n",
      "|    learning_rate      | 8.3e-06   |\n",
      "|    n_updates          | 41799     |\n",
      "|    policy_loss        | -0.418    |\n",
      "|    value_loss         | 0.496     |\n",
      "-------------------------------------\n",
      "MoviePy - Building video /Users/bapa/Codes/KidsPuzzles/videos/DigitsPuzzle-10-step_f0.5_i0.2/training-episode-33200.mp4.\n",
      "MoviePy - Writing video /Users/bapa/Codes/KidsPuzzles/videos/DigitsPuzzle-10-step_f0.5_i0.2/training-episode-33200.mp4\n",
      "\n"
     ]
    },
    {
     "name": "stderr",
     "output_type": "stream",
     "text": [
      "                                                             "
     ]
    },
    {
     "name": "stdout",
     "output_type": "stream",
     "text": [
      "MoviePy - Done !\n",
      "MoviePy - video ready /Users/bapa/Codes/KidsPuzzles/videos/DigitsPuzzle-10-step_f0.5_i0.2/training-episode-33200.mp4\n"
     ]
    },
    {
     "name": "stderr",
     "output_type": "stream",
     "text": [
      "\r"
     ]
    },
    {
     "name": "stdout",
     "output_type": "stream",
     "text": [
      "-------------------------------------\n",
      "| rollout/              |           |\n",
      "|    ep_len_mean        | 45.5      |\n",
      "|    ep_rew_mean        | 4.54      |\n",
      "| time/                 |           |\n",
      "|    fps                | 273       |\n",
      "|    iterations         | 41900     |\n",
      "|    time_elapsed       | 9787      |\n",
      "|    total_timesteps    | 2681600   |\n",
      "| train/                |           |\n",
      "|    entropy_loss       | -2.19     |\n",
      "|    explained_variance | 0.9733079 |\n",
      "|    learning_rate      | 8.3e-06   |\n",
      "|    n_updates          | 41899     |\n",
      "|    policy_loss        | 0.418     |\n",
      "|    value_loss         | 0.323     |\n",
      "-------------------------------------\n",
      "------------------------------------\n",
      "| rollout/              |          |\n",
      "|    ep_len_mean        | 46.1     |\n",
      "|    ep_rew_mean        | 4.67     |\n",
      "| time/                 |          |\n",
      "|    fps                | 273      |\n",
      "|    iterations         | 42000    |\n",
      "|    time_elapsed       | 9810     |\n",
      "|    total_timesteps    | 2688000  |\n",
      "| train/                |          |\n",
      "|    entropy_loss       | -2.34    |\n",
      "|    explained_variance | 0.962544 |\n",
      "|    learning_rate      | 8.3e-06  |\n",
      "|    n_updates          | 41999    |\n",
      "|    policy_loss        | 0.539    |\n",
      "|    value_loss         | 0.342    |\n",
      "------------------------------------\n",
      "MoviePy - Building video /Users/bapa/Codes/KidsPuzzles/videos/DigitsPuzzle-10-step_f0.5_i0.2/training-episode-33400.mp4.\n",
      "MoviePy - Writing video /Users/bapa/Codes/KidsPuzzles/videos/DigitsPuzzle-10-step_f0.5_i0.2/training-episode-33400.mp4\n",
      "\n"
     ]
    },
    {
     "name": "stderr",
     "output_type": "stream",
     "text": [
      "                                                             "
     ]
    },
    {
     "name": "stdout",
     "output_type": "stream",
     "text": [
      "MoviePy - Done !\n",
      "MoviePy - video ready /Users/bapa/Codes/KidsPuzzles/videos/DigitsPuzzle-10-step_f0.5_i0.2/training-episode-33400.mp4\n"
     ]
    },
    {
     "name": "stderr",
     "output_type": "stream",
     "text": [
      "\r"
     ]
    },
    {
     "name": "stdout",
     "output_type": "stream",
     "text": [
      "-------------------------------------\n",
      "| rollout/              |           |\n",
      "|    ep_len_mean        | 45.4      |\n",
      "|    ep_rew_mean        | 4.53      |\n",
      "| time/                 |           |\n",
      "|    fps                | 273       |\n",
      "|    iterations         | 42100     |\n",
      "|    time_elapsed       | 9834      |\n",
      "|    total_timesteps    | 2694400   |\n",
      "| train/                |           |\n",
      "|    entropy_loss       | -2.17     |\n",
      "|    explained_variance | 0.9237291 |\n",
      "|    learning_rate      | 8.3e-06   |\n",
      "|    n_updates          | 42099     |\n",
      "|    policy_loss        | 0.0463    |\n",
      "|    value_loss         | 0.893     |\n",
      "-------------------------------------\n",
      "MoviePy - Building video /Users/bapa/Codes/KidsPuzzles/videos/DigitsPuzzle-10-step_f0.5_i0.2/training-episode-33600.mp4.\n",
      "MoviePy - Writing video /Users/bapa/Codes/KidsPuzzles/videos/DigitsPuzzle-10-step_f0.5_i0.2/training-episode-33600.mp4\n",
      "\n"
     ]
    },
    {
     "name": "stderr",
     "output_type": "stream",
     "text": [
      "                                                             "
     ]
    },
    {
     "name": "stdout",
     "output_type": "stream",
     "text": [
      "MoviePy - Done !\n",
      "MoviePy - video ready /Users/bapa/Codes/KidsPuzzles/videos/DigitsPuzzle-10-step_f0.5_i0.2/training-episode-33600.mp4\n"
     ]
    },
    {
     "name": "stderr",
     "output_type": "stream",
     "text": [
      "\r"
     ]
    },
    {
     "name": "stdout",
     "output_type": "stream",
     "text": [
      "-------------------------------------\n",
      "| rollout/              |           |\n",
      "|    ep_len_mean        | 45.4      |\n",
      "|    ep_rew_mean        | 4.45      |\n",
      "| time/                 |           |\n",
      "|    fps                | 273       |\n",
      "|    iterations         | 42200     |\n",
      "|    time_elapsed       | 9858      |\n",
      "|    total_timesteps    | 2700800   |\n",
      "| train/                |           |\n",
      "|    entropy_loss       | -2.29     |\n",
      "|    explained_variance | 0.9586022 |\n",
      "|    learning_rate      | 8.3e-06   |\n",
      "|    n_updates          | 42199     |\n",
      "|    policy_loss        | -0.535    |\n",
      "|    value_loss         | 0.312     |\n",
      "-------------------------------------\n",
      "--------------------------------------\n",
      "| rollout/              |            |\n",
      "|    ep_len_mean        | 47.2       |\n",
      "|    ep_rew_mean        | 4.46       |\n",
      "| time/                 |            |\n",
      "|    fps                | 273        |\n",
      "|    iterations         | 42300      |\n",
      "|    time_elapsed       | 9881       |\n",
      "|    total_timesteps    | 2707200    |\n",
      "| train/                |            |\n",
      "|    entropy_loss       | -2.2       |\n",
      "|    explained_variance | 0.98128325 |\n",
      "|    learning_rate      | 8.3e-06    |\n",
      "|    n_updates          | 42299      |\n",
      "|    policy_loss        | -0.453     |\n",
      "|    value_loss         | 0.199      |\n",
      "--------------------------------------\n",
      "MoviePy - Building video /Users/bapa/Codes/KidsPuzzles/videos/DigitsPuzzle-10-step_f0.5_i0.2/training-episode-33800.mp4.\n",
      "MoviePy - Writing video /Users/bapa/Codes/KidsPuzzles/videos/DigitsPuzzle-10-step_f0.5_i0.2/training-episode-33800.mp4\n",
      "\n"
     ]
    },
    {
     "name": "stderr",
     "output_type": "stream",
     "text": [
      "                                                             "
     ]
    },
    {
     "name": "stdout",
     "output_type": "stream",
     "text": [
      "MoviePy - Done !\n",
      "MoviePy - video ready /Users/bapa/Codes/KidsPuzzles/videos/DigitsPuzzle-10-step_f0.5_i0.2/training-episode-33800.mp4\n"
     ]
    },
    {
     "name": "stderr",
     "output_type": "stream",
     "text": [
      "\r"
     ]
    },
    {
     "name": "stdout",
     "output_type": "stream",
     "text": [
      "-------------------------------------\n",
      "| rollout/              |           |\n",
      "|    ep_len_mean        | 46.8      |\n",
      "|    ep_rew_mean        | 4.55      |\n",
      "| time/                 |           |\n",
      "|    fps                | 273       |\n",
      "|    iterations         | 42400     |\n",
      "|    time_elapsed       | 9904      |\n",
      "|    total_timesteps    | 2713600   |\n",
      "| train/                |           |\n",
      "|    entropy_loss       | -2.21     |\n",
      "|    explained_variance | 0.9504986 |\n",
      "|    learning_rate      | 8.3e-06   |\n",
      "|    n_updates          | 42399     |\n",
      "|    policy_loss        | 0.238     |\n",
      "|    value_loss         | 0.537     |\n",
      "-------------------------------------\n",
      "MoviePy - Building video /Users/bapa/Codes/KidsPuzzles/videos/DigitsPuzzle-10-step_f0.5_i0.2/training-episode-34000.mp4.\n",
      "MoviePy - Writing video /Users/bapa/Codes/KidsPuzzles/videos/DigitsPuzzle-10-step_f0.5_i0.2/training-episode-34000.mp4\n",
      "\n"
     ]
    },
    {
     "name": "stderr",
     "output_type": "stream",
     "text": [
      "                                                             "
     ]
    },
    {
     "name": "stdout",
     "output_type": "stream",
     "text": [
      "MoviePy - Done !\n",
      "MoviePy - video ready /Users/bapa/Codes/KidsPuzzles/videos/DigitsPuzzle-10-step_f0.5_i0.2/training-episode-34000.mp4\n"
     ]
    },
    {
     "name": "stderr",
     "output_type": "stream",
     "text": [
      "\r"
     ]
    },
    {
     "name": "stdout",
     "output_type": "stream",
     "text": [
      "-------------------------------------\n",
      "| rollout/              |           |\n",
      "|    ep_len_mean        | 46.7      |\n",
      "|    ep_rew_mean        | 3.93      |\n",
      "| time/                 |           |\n",
      "|    fps                | 273       |\n",
      "|    iterations         | 42500     |\n",
      "|    time_elapsed       | 9928      |\n",
      "|    total_timesteps    | 2720000   |\n",
      "| train/                |           |\n",
      "|    entropy_loss       | -2.4      |\n",
      "|    explained_variance | 0.9316588 |\n",
      "|    learning_rate      | 8.3e-06   |\n",
      "|    n_updates          | 42499     |\n",
      "|    policy_loss        | -0.279    |\n",
      "|    value_loss         | 0.375     |\n",
      "-------------------------------------\n",
      "-------------------------------------\n",
      "| rollout/              |           |\n",
      "|    ep_len_mean        | 46.6      |\n",
      "|    ep_rew_mean        | 4.48      |\n",
      "| time/                 |           |\n",
      "|    fps                | 273       |\n",
      "|    iterations         | 42600     |\n",
      "|    time_elapsed       | 9951      |\n",
      "|    total_timesteps    | 2726400   |\n",
      "| train/                |           |\n",
      "|    entropy_loss       | -2.11     |\n",
      "|    explained_variance | 0.9622484 |\n",
      "|    learning_rate      | 8.3e-06   |\n",
      "|    n_updates          | 42599     |\n",
      "|    policy_loss        | 1.54      |\n",
      "|    value_loss         | 0.962     |\n",
      "-------------------------------------\n",
      "MoviePy - Building video /Users/bapa/Codes/KidsPuzzles/videos/DigitsPuzzle-10-step_f0.5_i0.2/training-episode-34200.mp4.\n",
      "MoviePy - Writing video /Users/bapa/Codes/KidsPuzzles/videos/DigitsPuzzle-10-step_f0.5_i0.2/training-episode-34200.mp4\n",
      "\n"
     ]
    },
    {
     "name": "stderr",
     "output_type": "stream",
     "text": [
      "                                                             "
     ]
    },
    {
     "name": "stdout",
     "output_type": "stream",
     "text": [
      "MoviePy - Done !\n",
      "MoviePy - video ready /Users/bapa/Codes/KidsPuzzles/videos/DigitsPuzzle-10-step_f0.5_i0.2/training-episode-34200.mp4\n"
     ]
    },
    {
     "name": "stderr",
     "output_type": "stream",
     "text": [
      "\r"
     ]
    },
    {
     "name": "stdout",
     "output_type": "stream",
     "text": [
      "-------------------------------------\n",
      "| rollout/              |           |\n",
      "|    ep_len_mean        | 45        |\n",
      "|    ep_rew_mean        | 4.52      |\n",
      "| time/                 |           |\n",
      "|    fps                | 273       |\n",
      "|    iterations         | 42700     |\n",
      "|    time_elapsed       | 9974      |\n",
      "|    total_timesteps    | 2732800   |\n",
      "| train/                |           |\n",
      "|    entropy_loss       | -2.14     |\n",
      "|    explained_variance | 0.9720179 |\n",
      "|    learning_rate      | 8.3e-06   |\n",
      "|    n_updates          | 42699     |\n",
      "|    policy_loss        | -0.162    |\n",
      "|    value_loss         | 0.0877    |\n",
      "-------------------------------------\n",
      "MoviePy - Building video /Users/bapa/Codes/KidsPuzzles/videos/DigitsPuzzle-10-step_f0.5_i0.2/training-episode-34400.mp4.\n",
      "MoviePy - Writing video /Users/bapa/Codes/KidsPuzzles/videos/DigitsPuzzle-10-step_f0.5_i0.2/training-episode-34400.mp4\n",
      "\n"
     ]
    },
    {
     "name": "stderr",
     "output_type": "stream",
     "text": [
      "                                                             "
     ]
    },
    {
     "name": "stdout",
     "output_type": "stream",
     "text": [
      "MoviePy - Done !\n",
      "MoviePy - video ready /Users/bapa/Codes/KidsPuzzles/videos/DigitsPuzzle-10-step_f0.5_i0.2/training-episode-34400.mp4\n"
     ]
    },
    {
     "name": "stderr",
     "output_type": "stream",
     "text": [
      "\r"
     ]
    },
    {
     "name": "stdout",
     "output_type": "stream",
     "text": [
      "-------------------------------------\n",
      "| rollout/              |           |\n",
      "|    ep_len_mean        | 45.8      |\n",
      "|    ep_rew_mean        | 4.41      |\n",
      "| time/                 |           |\n",
      "|    fps                | 273       |\n",
      "|    iterations         | 42800     |\n",
      "|    time_elapsed       | 9998      |\n",
      "|    total_timesteps    | 2739200   |\n",
      "| train/                |           |\n",
      "|    entropy_loss       | -2.32     |\n",
      "|    explained_variance | 0.9277967 |\n",
      "|    learning_rate      | 8.3e-06   |\n",
      "|    n_updates          | 42799     |\n",
      "|    policy_loss        | -0.862    |\n",
      "|    value_loss         | 0.642     |\n",
      "-------------------------------------\n",
      "-------------------------------------\n",
      "| rollout/              |           |\n",
      "|    ep_len_mean        | 46.2      |\n",
      "|    ep_rew_mean        | 4.56      |\n",
      "| time/                 |           |\n",
      "|    fps                | 273       |\n",
      "|    iterations         | 42900     |\n",
      "|    time_elapsed       | 10021     |\n",
      "|    total_timesteps    | 2745600   |\n",
      "| train/                |           |\n",
      "|    entropy_loss       | -2.23     |\n",
      "|    explained_variance | 0.9418226 |\n",
      "|    learning_rate      | 8.3e-06   |\n",
      "|    n_updates          | 42899     |\n",
      "|    policy_loss        | -1.36     |\n",
      "|    value_loss         | 0.983     |\n",
      "-------------------------------------\n",
      "MoviePy - Building video /Users/bapa/Codes/KidsPuzzles/videos/DigitsPuzzle-10-step_f0.5_i0.2/training-episode-34600.mp4.\n",
      "MoviePy - Writing video /Users/bapa/Codes/KidsPuzzles/videos/DigitsPuzzle-10-step_f0.5_i0.2/training-episode-34600.mp4\n",
      "\n"
     ]
    },
    {
     "name": "stderr",
     "output_type": "stream",
     "text": [
      "                                                             "
     ]
    },
    {
     "name": "stdout",
     "output_type": "stream",
     "text": [
      "MoviePy - Done !\n",
      "MoviePy - video ready /Users/bapa/Codes/KidsPuzzles/videos/DigitsPuzzle-10-step_f0.5_i0.2/training-episode-34600.mp4\n"
     ]
    },
    {
     "name": "stderr",
     "output_type": "stream",
     "text": [
      "\r"
     ]
    },
    {
     "name": "stdout",
     "output_type": "stream",
     "text": [
      "--------------------------------------\n",
      "| rollout/              |            |\n",
      "|    ep_len_mean        | 47.5       |\n",
      "|    ep_rew_mean        | 4.33       |\n",
      "| time/                 |            |\n",
      "|    fps                | 273        |\n",
      "|    iterations         | 43000      |\n",
      "|    time_elapsed       | 10044      |\n",
      "|    total_timesteps    | 2752000    |\n",
      "| train/                |            |\n",
      "|    entropy_loss       | -2.18      |\n",
      "|    explained_variance | 0.96475476 |\n",
      "|    learning_rate      | 8.3e-06    |\n",
      "|    n_updates          | 42999      |\n",
      "|    policy_loss        | 0.852      |\n",
      "|    value_loss         | 0.548      |\n",
      "--------------------------------------\n",
      "MoviePy - Building video /Users/bapa/Codes/KidsPuzzles/videos/DigitsPuzzle-10-step_f0.5_i0.2/training-episode-34800.mp4.\n",
      "MoviePy - Writing video /Users/bapa/Codes/KidsPuzzles/videos/DigitsPuzzle-10-step_f0.5_i0.2/training-episode-34800.mp4\n",
      "\n"
     ]
    },
    {
     "name": "stderr",
     "output_type": "stream",
     "text": [
      "                                                             "
     ]
    },
    {
     "name": "stdout",
     "output_type": "stream",
     "text": [
      "MoviePy - Done !\n",
      "MoviePy - video ready /Users/bapa/Codes/KidsPuzzles/videos/DigitsPuzzle-10-step_f0.5_i0.2/training-episode-34800.mp4\n"
     ]
    },
    {
     "name": "stderr",
     "output_type": "stream",
     "text": [
      "\r"
     ]
    },
    {
     "name": "stdout",
     "output_type": "stream",
     "text": [
      "-------------------------------------\n",
      "| rollout/              |           |\n",
      "|    ep_len_mean        | 47.8      |\n",
      "|    ep_rew_mean        | 4.33      |\n",
      "| time/                 |           |\n",
      "|    fps                | 273       |\n",
      "|    iterations         | 43100     |\n",
      "|    time_elapsed       | 10068     |\n",
      "|    total_timesteps    | 2758400   |\n",
      "| train/                |           |\n",
      "|    entropy_loss       | -2.22     |\n",
      "|    explained_variance | 0.9689374 |\n",
      "|    learning_rate      | 8.3e-06   |\n",
      "|    n_updates          | 43099     |\n",
      "|    policy_loss        | -1.8      |\n",
      "|    value_loss         | 0.801     |\n",
      "-------------------------------------\n",
      "MoviePy - Building video /Users/bapa/Codes/KidsPuzzles/videos/DigitsPuzzle-10-step_f0.5_i0.2/training-episode-35000.mp4.\n",
      "MoviePy - Writing video /Users/bapa/Codes/KidsPuzzles/videos/DigitsPuzzle-10-step_f0.5_i0.2/training-episode-35000.mp4\n",
      "\n"
     ]
    },
    {
     "name": "stderr",
     "output_type": "stream",
     "text": [
      "                                                             "
     ]
    },
    {
     "name": "stdout",
     "output_type": "stream",
     "text": [
      "MoviePy - Done !\n",
      "MoviePy - video ready /Users/bapa/Codes/KidsPuzzles/videos/DigitsPuzzle-10-step_f0.5_i0.2/training-episode-35000.mp4\n"
     ]
    },
    {
     "name": "stderr",
     "output_type": "stream",
     "text": [
      "\r"
     ]
    },
    {
     "name": "stdout",
     "output_type": "stream",
     "text": [
      "-------------------------------------\n",
      "| rollout/              |           |\n",
      "|    ep_len_mean        | 45.7      |\n",
      "|    ep_rew_mean        | 4.39      |\n",
      "| time/                 |           |\n",
      "|    fps                | 273       |\n",
      "|    iterations         | 43200     |\n",
      "|    time_elapsed       | 10092     |\n",
      "|    total_timesteps    | 2764800   |\n",
      "| train/                |           |\n",
      "|    entropy_loss       | -2.5      |\n",
      "|    explained_variance | 0.7714523 |\n",
      "|    learning_rate      | 8.3e-06   |\n",
      "|    n_updates          | 43199     |\n",
      "|    policy_loss        | -4.14     |\n",
      "|    value_loss         | 4.47      |\n",
      "-------------------------------------\n",
      "--------------------------------------\n",
      "| rollout/              |            |\n",
      "|    ep_len_mean        | 47.4       |\n",
      "|    ep_rew_mean        | 4.32       |\n",
      "| time/                 |            |\n",
      "|    fps                | 273        |\n",
      "|    iterations         | 43300      |\n",
      "|    time_elapsed       | 10115      |\n",
      "|    total_timesteps    | 2771200    |\n",
      "| train/                |            |\n",
      "|    entropy_loss       | -2.1       |\n",
      "|    explained_variance | 0.96163577 |\n",
      "|    learning_rate      | 8.3e-06    |\n",
      "|    n_updates          | 43299      |\n",
      "|    policy_loss        | 0.44       |\n",
      "|    value_loss         | 0.528      |\n",
      "--------------------------------------\n",
      "MoviePy - Building video /Users/bapa/Codes/KidsPuzzles/videos/DigitsPuzzle-10-step_f0.5_i0.2/training-episode-35200.mp4.\n",
      "MoviePy - Writing video /Users/bapa/Codes/KidsPuzzles/videos/DigitsPuzzle-10-step_f0.5_i0.2/training-episode-35200.mp4\n",
      "\n"
     ]
    },
    {
     "name": "stderr",
     "output_type": "stream",
     "text": [
      "                                                             "
     ]
    },
    {
     "name": "stdout",
     "output_type": "stream",
     "text": [
      "MoviePy - Done !\n",
      "MoviePy - video ready /Users/bapa/Codes/KidsPuzzles/videos/DigitsPuzzle-10-step_f0.5_i0.2/training-episode-35200.mp4\n"
     ]
    },
    {
     "name": "stderr",
     "output_type": "stream",
     "text": [
      "\r"
     ]
    },
    {
     "name": "stdout",
     "output_type": "stream",
     "text": [
      "--------------------------------------\n",
      "| rollout/              |            |\n",
      "|    ep_len_mean        | 46         |\n",
      "|    ep_rew_mean        | 4.44       |\n",
      "| time/                 |            |\n",
      "|    fps                | 273        |\n",
      "|    iterations         | 43400      |\n",
      "|    time_elapsed       | 10138      |\n",
      "|    total_timesteps    | 2777600    |\n",
      "| train/                |            |\n",
      "|    entropy_loss       | -2.27      |\n",
      "|    explained_variance | 0.98679215 |\n",
      "|    learning_rate      | 8.3e-06    |\n",
      "|    n_updates          | 43399      |\n",
      "|    policy_loss        | 1.1        |\n",
      "|    value_loss         | 0.327      |\n",
      "--------------------------------------\n",
      "MoviePy - Building video /Users/bapa/Codes/KidsPuzzles/videos/DigitsPuzzle-10-step_f0.5_i0.2/training-episode-35400.mp4.\n",
      "MoviePy - Writing video /Users/bapa/Codes/KidsPuzzles/videos/DigitsPuzzle-10-step_f0.5_i0.2/training-episode-35400.mp4\n",
      "\n"
     ]
    },
    {
     "name": "stderr",
     "output_type": "stream",
     "text": [
      "                                                             "
     ]
    },
    {
     "name": "stdout",
     "output_type": "stream",
     "text": [
      "MoviePy - Done !\n",
      "MoviePy - video ready /Users/bapa/Codes/KidsPuzzles/videos/DigitsPuzzle-10-step_f0.5_i0.2/training-episode-35400.mp4\n"
     ]
    },
    {
     "name": "stderr",
     "output_type": "stream",
     "text": [
      "\r"
     ]
    },
    {
     "name": "stdout",
     "output_type": "stream",
     "text": [
      "-------------------------------------\n",
      "| rollout/              |           |\n",
      "|    ep_len_mean        | 47.1      |\n",
      "|    ep_rew_mean        | 4.21      |\n",
      "| time/                 |           |\n",
      "|    fps                | 273       |\n",
      "|    iterations         | 43500     |\n",
      "|    time_elapsed       | 10162     |\n",
      "|    total_timesteps    | 2784000   |\n",
      "| train/                |           |\n",
      "|    entropy_loss       | -2.2      |\n",
      "|    explained_variance | 0.9804593 |\n",
      "|    learning_rate      | 8.3e-06   |\n",
      "|    n_updates          | 43499     |\n",
      "|    policy_loss        | 0.779     |\n",
      "|    value_loss         | 0.348     |\n",
      "-------------------------------------\n",
      "--------------------------------------\n",
      "| rollout/              |            |\n",
      "|    ep_len_mean        | 46.3       |\n",
      "|    ep_rew_mean        | 4.4        |\n",
      "| time/                 |            |\n",
      "|    fps                | 273        |\n",
      "|    iterations         | 43600      |\n",
      "|    time_elapsed       | 10185      |\n",
      "|    total_timesteps    | 2790400    |\n",
      "| train/                |            |\n",
      "|    entropy_loss       | -2.16      |\n",
      "|    explained_variance | 0.93342704 |\n",
      "|    learning_rate      | 8.3e-06    |\n",
      "|    n_updates          | 43599      |\n",
      "|    policy_loss        | -0.536     |\n",
      "|    value_loss         | 0.464      |\n",
      "--------------------------------------\n",
      "MoviePy - Building video /Users/bapa/Codes/KidsPuzzles/videos/DigitsPuzzle-10-step_f0.5_i0.2/training-episode-35600.mp4.\n",
      "MoviePy - Writing video /Users/bapa/Codes/KidsPuzzles/videos/DigitsPuzzle-10-step_f0.5_i0.2/training-episode-35600.mp4\n",
      "\n"
     ]
    },
    {
     "name": "stderr",
     "output_type": "stream",
     "text": [
      "                                                             "
     ]
    },
    {
     "name": "stdout",
     "output_type": "stream",
     "text": [
      "MoviePy - Done !\n",
      "MoviePy - video ready /Users/bapa/Codes/KidsPuzzles/videos/DigitsPuzzle-10-step_f0.5_i0.2/training-episode-35600.mp4\n"
     ]
    },
    {
     "name": "stderr",
     "output_type": "stream",
     "text": [
      "\r"
     ]
    },
    {
     "name": "stdout",
     "output_type": "stream",
     "text": [
      "--------------------------------------\n",
      "| rollout/              |            |\n",
      "|    ep_len_mean        | 47.2       |\n",
      "|    ep_rew_mean        | 4.43       |\n",
      "| time/                 |            |\n",
      "|    fps                | 273        |\n",
      "|    iterations         | 43700      |\n",
      "|    time_elapsed       | 10209      |\n",
      "|    total_timesteps    | 2796800    |\n",
      "| train/                |            |\n",
      "|    entropy_loss       | -2.28      |\n",
      "|    explained_variance | 0.90643555 |\n",
      "|    learning_rate      | 8.3e-06    |\n",
      "|    n_updates          | 43699      |\n",
      "|    policy_loss        | -1.6       |\n",
      "|    value_loss         | 0.726      |\n",
      "--------------------------------------\n",
      "MoviePy - Building video /Users/bapa/Codes/KidsPuzzles/videos/DigitsPuzzle-10-step_f0.5_i0.2/training-episode-35800.mp4.\n",
      "MoviePy - Writing video /Users/bapa/Codes/KidsPuzzles/videos/DigitsPuzzle-10-step_f0.5_i0.2/training-episode-35800.mp4\n",
      "\n"
     ]
    },
    {
     "name": "stderr",
     "output_type": "stream",
     "text": [
      "                                                             "
     ]
    },
    {
     "name": "stdout",
     "output_type": "stream",
     "text": [
      "MoviePy - Done !\n",
      "MoviePy - video ready /Users/bapa/Codes/KidsPuzzles/videos/DigitsPuzzle-10-step_f0.5_i0.2/training-episode-35800.mp4\n"
     ]
    },
    {
     "name": "stderr",
     "output_type": "stream",
     "text": [
      "\r"
     ]
    },
    {
     "name": "stdout",
     "output_type": "stream",
     "text": [
      "-------------------------------------\n",
      "| rollout/              |           |\n",
      "|    ep_len_mean        | 44.4      |\n",
      "|    ep_rew_mean        | 4.86      |\n",
      "| time/                 |           |\n",
      "|    fps                | 273       |\n",
      "|    iterations         | 43800     |\n",
      "|    time_elapsed       | 10232     |\n",
      "|    total_timesteps    | 2803200   |\n",
      "| train/                |           |\n",
      "|    entropy_loss       | -2.28     |\n",
      "|    explained_variance | 0.8643945 |\n",
      "|    learning_rate      | 8.3e-06   |\n",
      "|    n_updates          | 43799     |\n",
      "|    policy_loss        | -0.192    |\n",
      "|    value_loss         | 1.25      |\n",
      "-------------------------------------\n",
      "--------------------------------------\n",
      "| rollout/              |            |\n",
      "|    ep_len_mean        | 48         |\n",
      "|    ep_rew_mean        | 4.16       |\n",
      "| time/                 |            |\n",
      "|    fps                | 273        |\n",
      "|    iterations         | 43900      |\n",
      "|    time_elapsed       | 10256      |\n",
      "|    total_timesteps    | 2809600    |\n",
      "| train/                |            |\n",
      "|    entropy_loss       | -2.14      |\n",
      "|    explained_variance | 0.98294413 |\n",
      "|    learning_rate      | 8.3e-06    |\n",
      "|    n_updates          | 43899      |\n",
      "|    policy_loss        | 1.1        |\n",
      "|    value_loss         | 0.571      |\n",
      "--------------------------------------\n",
      "MoviePy - Building video /Users/bapa/Codes/KidsPuzzles/videos/DigitsPuzzle-10-step_f0.5_i0.2/training-episode-36000.mp4.\n",
      "MoviePy - Writing video /Users/bapa/Codes/KidsPuzzles/videos/DigitsPuzzle-10-step_f0.5_i0.2/training-episode-36000.mp4\n",
      "\n"
     ]
    },
    {
     "name": "stderr",
     "output_type": "stream",
     "text": [
      "                                                             "
     ]
    },
    {
     "name": "stdout",
     "output_type": "stream",
     "text": [
      "MoviePy - Done !\n",
      "MoviePy - video ready /Users/bapa/Codes/KidsPuzzles/videos/DigitsPuzzle-10-step_f0.5_i0.2/training-episode-36000.mp4\n"
     ]
    },
    {
     "name": "stderr",
     "output_type": "stream",
     "text": [
      "\r"
     ]
    },
    {
     "name": "stdout",
     "output_type": "stream",
     "text": [
      "-------------------------------------\n",
      "| rollout/              |           |\n",
      "|    ep_len_mean        | 46.9      |\n",
      "|    ep_rew_mean        | 4.63      |\n",
      "| time/                 |           |\n",
      "|    fps                | 273       |\n",
      "|    iterations         | 44000     |\n",
      "|    time_elapsed       | 10279     |\n",
      "|    total_timesteps    | 2816000   |\n",
      "| train/                |           |\n",
      "|    entropy_loss       | -2.19     |\n",
      "|    explained_variance | 0.9596418 |\n",
      "|    learning_rate      | 8.3e-06   |\n",
      "|    n_updates          | 43999     |\n",
      "|    policy_loss        | 0.853     |\n",
      "|    value_loss         | 0.41      |\n",
      "-------------------------------------\n",
      "MoviePy - Building video /Users/bapa/Codes/KidsPuzzles/videos/DigitsPuzzle-10-step_f0.5_i0.2/training-episode-36200.mp4.\n",
      "MoviePy - Writing video /Users/bapa/Codes/KidsPuzzles/videos/DigitsPuzzle-10-step_f0.5_i0.2/training-episode-36200.mp4\n",
      "\n"
     ]
    },
    {
     "name": "stderr",
     "output_type": "stream",
     "text": [
      "                                                             "
     ]
    },
    {
     "name": "stdout",
     "output_type": "stream",
     "text": [
      "MoviePy - Done !\n",
      "MoviePy - video ready /Users/bapa/Codes/KidsPuzzles/videos/DigitsPuzzle-10-step_f0.5_i0.2/training-episode-36200.mp4\n"
     ]
    },
    {
     "name": "stderr",
     "output_type": "stream",
     "text": [
      "\r"
     ]
    },
    {
     "name": "stdout",
     "output_type": "stream",
     "text": [
      "-------------------------------------\n",
      "| rollout/              |           |\n",
      "|    ep_len_mean        | 47.6      |\n",
      "|    ep_rew_mean        | 4.32      |\n",
      "| time/                 |           |\n",
      "|    fps                | 273       |\n",
      "|    iterations         | 44100     |\n",
      "|    time_elapsed       | 10303     |\n",
      "|    total_timesteps    | 2822400   |\n",
      "| train/                |           |\n",
      "|    entropy_loss       | -2.07     |\n",
      "|    explained_variance | 0.9933633 |\n",
      "|    learning_rate      | 8.3e-06   |\n",
      "|    n_updates          | 44099     |\n",
      "|    policy_loss        | 0.153     |\n",
      "|    value_loss         | 0.0875    |\n",
      "-------------------------------------\n",
      "-------------------------------------\n",
      "| rollout/              |           |\n",
      "|    ep_len_mean        | 45.6      |\n",
      "|    ep_rew_mean        | 4.79      |\n",
      "| time/                 |           |\n",
      "|    fps                | 273       |\n",
      "|    iterations         | 44200     |\n",
      "|    time_elapsed       | 10326     |\n",
      "|    total_timesteps    | 2828800   |\n",
      "| train/                |           |\n",
      "|    entropy_loss       | -2.19     |\n",
      "|    explained_variance | 0.9613103 |\n",
      "|    learning_rate      | 8.3e-06   |\n",
      "|    n_updates          | 44199     |\n",
      "|    policy_loss        | 0.395     |\n",
      "|    value_loss         | 0.287     |\n",
      "-------------------------------------\n",
      "MoviePy - Building video /Users/bapa/Codes/KidsPuzzles/videos/DigitsPuzzle-10-step_f0.5_i0.2/training-episode-36400.mp4.\n",
      "MoviePy - Writing video /Users/bapa/Codes/KidsPuzzles/videos/DigitsPuzzle-10-step_f0.5_i0.2/training-episode-36400.mp4\n",
      "\n"
     ]
    },
    {
     "name": "stderr",
     "output_type": "stream",
     "text": [
      "                                                             "
     ]
    },
    {
     "name": "stdout",
     "output_type": "stream",
     "text": [
      "MoviePy - Done !\n",
      "MoviePy - video ready /Users/bapa/Codes/KidsPuzzles/videos/DigitsPuzzle-10-step_f0.5_i0.2/training-episode-36400.mp4\n"
     ]
    },
    {
     "name": "stderr",
     "output_type": "stream",
     "text": [
      "\r"
     ]
    },
    {
     "name": "stdout",
     "output_type": "stream",
     "text": [
      "--------------------------------------\n",
      "| rollout/              |            |\n",
      "|    ep_len_mean        | 46.7       |\n",
      "|    ep_rew_mean        | 4.3        |\n",
      "| time/                 |            |\n",
      "|    fps                | 273        |\n",
      "|    iterations         | 44300      |\n",
      "|    time_elapsed       | 10350      |\n",
      "|    total_timesteps    | 2835200    |\n",
      "| train/                |            |\n",
      "|    entropy_loss       | -2.16      |\n",
      "|    explained_variance | 0.99119496 |\n",
      "|    learning_rate      | 8.3e-06    |\n",
      "|    n_updates          | 44299      |\n",
      "|    policy_loss        | 0.404      |\n",
      "|    value_loss         | 0.118      |\n",
      "--------------------------------------\n",
      "MoviePy - Building video /Users/bapa/Codes/KidsPuzzles/videos/DigitsPuzzle-10-step_f0.5_i0.2/training-episode-36600.mp4.\n",
      "MoviePy - Writing video /Users/bapa/Codes/KidsPuzzles/videos/DigitsPuzzle-10-step_f0.5_i0.2/training-episode-36600.mp4\n",
      "\n"
     ]
    },
    {
     "name": "stderr",
     "output_type": "stream",
     "text": [
      "                                                             "
     ]
    },
    {
     "name": "stdout",
     "output_type": "stream",
     "text": [
      "MoviePy - Done !\n",
      "MoviePy - video ready /Users/bapa/Codes/KidsPuzzles/videos/DigitsPuzzle-10-step_f0.5_i0.2/training-episode-36600.mp4\n"
     ]
    },
    {
     "name": "stderr",
     "output_type": "stream",
     "text": [
      "\r"
     ]
    },
    {
     "name": "stdout",
     "output_type": "stream",
     "text": [
      "--------------------------------------\n",
      "| rollout/              |            |\n",
      "|    ep_len_mean        | 45.9       |\n",
      "|    ep_rew_mean        | 4.54       |\n",
      "| time/                 |            |\n",
      "|    fps                | 273        |\n",
      "|    iterations         | 44400      |\n",
      "|    time_elapsed       | 10373      |\n",
      "|    total_timesteps    | 2841600    |\n",
      "| train/                |            |\n",
      "|    entropy_loss       | -2.29      |\n",
      "|    explained_variance | 0.98020136 |\n",
      "|    learning_rate      | 8.3e-06    |\n",
      "|    n_updates          | 44399      |\n",
      "|    policy_loss        | -0.589     |\n",
      "|    value_loss         | 0.225      |\n",
      "--------------------------------------\n",
      "-------------------------------------\n",
      "| rollout/              |           |\n",
      "|    ep_len_mean        | 46        |\n",
      "|    ep_rew_mean        | 4.39      |\n",
      "| time/                 |           |\n",
      "|    fps                | 273       |\n",
      "|    iterations         | 44500     |\n",
      "|    time_elapsed       | 10396     |\n",
      "|    total_timesteps    | 2848000   |\n",
      "| train/                |           |\n",
      "|    entropy_loss       | -2.27     |\n",
      "|    explained_variance | 0.8981377 |\n",
      "|    learning_rate      | 8.3e-06   |\n",
      "|    n_updates          | 44499     |\n",
      "|    policy_loss        | -0.948    |\n",
      "|    value_loss         | 0.518     |\n",
      "-------------------------------------\n",
      "MoviePy - Building video /Users/bapa/Codes/KidsPuzzles/videos/DigitsPuzzle-10-step_f0.5_i0.2/training-episode-36800.mp4.\n",
      "MoviePy - Writing video /Users/bapa/Codes/KidsPuzzles/videos/DigitsPuzzle-10-step_f0.5_i0.2/training-episode-36800.mp4\n",
      "\n"
     ]
    },
    {
     "name": "stderr",
     "output_type": "stream",
     "text": [
      "                                                             "
     ]
    },
    {
     "name": "stdout",
     "output_type": "stream",
     "text": [
      "MoviePy - Done !\n",
      "MoviePy - video ready /Users/bapa/Codes/KidsPuzzles/videos/DigitsPuzzle-10-step_f0.5_i0.2/training-episode-36800.mp4\n"
     ]
    },
    {
     "name": "stderr",
     "output_type": "stream",
     "text": [
      "\r"
     ]
    },
    {
     "name": "stdout",
     "output_type": "stream",
     "text": [
      "-------------------------------------\n",
      "| rollout/              |           |\n",
      "|    ep_len_mean        | 46        |\n",
      "|    ep_rew_mean        | 4.5       |\n",
      "| time/                 |           |\n",
      "|    fps                | 273       |\n",
      "|    iterations         | 44600     |\n",
      "|    time_elapsed       | 10420     |\n",
      "|    total_timesteps    | 2854400   |\n",
      "| train/                |           |\n",
      "|    entropy_loss       | -2.2      |\n",
      "|    explained_variance | 0.9739585 |\n",
      "|    learning_rate      | 8.3e-06   |\n",
      "|    n_updates          | 44599     |\n",
      "|    policy_loss        | -0.637    |\n",
      "|    value_loss         | 0.199     |\n",
      "-------------------------------------\n",
      "MoviePy - Building video /Users/bapa/Codes/KidsPuzzles/videos/DigitsPuzzle-10-step_f0.5_i0.2/training-episode-37000.mp4.\n",
      "MoviePy - Writing video /Users/bapa/Codes/KidsPuzzles/videos/DigitsPuzzle-10-step_f0.5_i0.2/training-episode-37000.mp4\n",
      "\n"
     ]
    },
    {
     "name": "stderr",
     "output_type": "stream",
     "text": [
      "                                                             "
     ]
    },
    {
     "name": "stdout",
     "output_type": "stream",
     "text": [
      "MoviePy - Done !\n",
      "MoviePy - video ready /Users/bapa/Codes/KidsPuzzles/videos/DigitsPuzzle-10-step_f0.5_i0.2/training-episode-37000.mp4\n"
     ]
    },
    {
     "name": "stderr",
     "output_type": "stream",
     "text": [
      "\r"
     ]
    },
    {
     "name": "stdout",
     "output_type": "stream",
     "text": [
      "-------------------------------------\n",
      "| rollout/              |           |\n",
      "|    ep_len_mean        | 46.8      |\n",
      "|    ep_rew_mean        | 4.04      |\n",
      "| time/                 |           |\n",
      "|    fps                | 273       |\n",
      "|    iterations         | 44700     |\n",
      "|    time_elapsed       | 10444     |\n",
      "|    total_timesteps    | 2860800   |\n",
      "| train/                |           |\n",
      "|    entropy_loss       | -2.14     |\n",
      "|    explained_variance | 0.7693704 |\n",
      "|    learning_rate      | 8.3e-06   |\n",
      "|    n_updates          | 44699     |\n",
      "|    policy_loss        | -0.777    |\n",
      "|    value_loss         | 1.3       |\n",
      "-------------------------------------\n",
      "MoviePy - Building video /Users/bapa/Codes/KidsPuzzles/videos/DigitsPuzzle-10-step_f0.5_i0.2/training-episode-37200.mp4.\n",
      "MoviePy - Writing video /Users/bapa/Codes/KidsPuzzles/videos/DigitsPuzzle-10-step_f0.5_i0.2/training-episode-37200.mp4\n",
      "\n"
     ]
    },
    {
     "name": "stderr",
     "output_type": "stream",
     "text": [
      "                                                             "
     ]
    },
    {
     "name": "stdout",
     "output_type": "stream",
     "text": [
      "MoviePy - Done !\n",
      "MoviePy - video ready /Users/bapa/Codes/KidsPuzzles/videos/DigitsPuzzle-10-step_f0.5_i0.2/training-episode-37200.mp4\n"
     ]
    },
    {
     "name": "stderr",
     "output_type": "stream",
     "text": [
      "\r"
     ]
    },
    {
     "name": "stdout",
     "output_type": "stream",
     "text": [
      "-------------------------------------\n",
      "| rollout/              |           |\n",
      "|    ep_len_mean        | 47.1      |\n",
      "|    ep_rew_mean        | 4.22      |\n",
      "| time/                 |           |\n",
      "|    fps                | 273       |\n",
      "|    iterations         | 44800     |\n",
      "|    time_elapsed       | 10467     |\n",
      "|    total_timesteps    | 2867200   |\n",
      "| train/                |           |\n",
      "|    entropy_loss       | -2.33     |\n",
      "|    explained_variance | 0.9194398 |\n",
      "|    learning_rate      | 8.3e-06   |\n",
      "|    n_updates          | 44799     |\n",
      "|    policy_loss        | -2.34     |\n",
      "|    value_loss         | 2.08      |\n",
      "-------------------------------------\n",
      "--------------------------------------\n",
      "| rollout/              |            |\n",
      "|    ep_len_mean        | 46         |\n",
      "|    ep_rew_mean        | 4.39       |\n",
      "| time/                 |            |\n",
      "|    fps                | 273        |\n",
      "|    iterations         | 44900      |\n",
      "|    time_elapsed       | 10490      |\n",
      "|    total_timesteps    | 2873600    |\n",
      "| train/                |            |\n",
      "|    entropy_loss       | -2.13      |\n",
      "|    explained_variance | 0.96427155 |\n",
      "|    learning_rate      | 8.3e-06    |\n",
      "|    n_updates          | 44899      |\n",
      "|    policy_loss        | 0.135      |\n",
      "|    value_loss         | 0.36       |\n",
      "--------------------------------------\n",
      "MoviePy - Building video /Users/bapa/Codes/KidsPuzzles/videos/DigitsPuzzle-10-step_f0.5_i0.2/training-episode-37400.mp4.\n",
      "MoviePy - Writing video /Users/bapa/Codes/KidsPuzzles/videos/DigitsPuzzle-10-step_f0.5_i0.2/training-episode-37400.mp4\n",
      "\n"
     ]
    },
    {
     "name": "stderr",
     "output_type": "stream",
     "text": [
      "                                                             "
     ]
    },
    {
     "name": "stdout",
     "output_type": "stream",
     "text": [
      "MoviePy - Done !\n",
      "MoviePy - video ready /Users/bapa/Codes/KidsPuzzles/videos/DigitsPuzzle-10-step_f0.5_i0.2/training-episode-37400.mp4\n"
     ]
    },
    {
     "name": "stderr",
     "output_type": "stream",
     "text": [
      "\r"
     ]
    },
    {
     "name": "stdout",
     "output_type": "stream",
     "text": [
      "-------------------------------------\n",
      "| rollout/              |           |\n",
      "|    ep_len_mean        | 47        |\n",
      "|    ep_rew_mean        | 4.21      |\n",
      "| time/                 |           |\n",
      "|    fps                | 273       |\n",
      "|    iterations         | 45000     |\n",
      "|    time_elapsed       | 10514     |\n",
      "|    total_timesteps    | 2880000   |\n",
      "| train/                |           |\n",
      "|    entropy_loss       | -2.1      |\n",
      "|    explained_variance | 0.9191129 |\n",
      "|    learning_rate      | 8.3e-06   |\n",
      "|    n_updates          | 44999     |\n",
      "|    policy_loss        | 0.173     |\n",
      "|    value_loss         | 0.26      |\n",
      "-------------------------------------\n",
      "MoviePy - Building video /Users/bapa/Codes/KidsPuzzles/videos/DigitsPuzzle-10-step_f0.5_i0.2/training-episode-37600.mp4.\n",
      "MoviePy - Writing video /Users/bapa/Codes/KidsPuzzles/videos/DigitsPuzzle-10-step_f0.5_i0.2/training-episode-37600.mp4\n",
      "\n"
     ]
    },
    {
     "name": "stderr",
     "output_type": "stream",
     "text": [
      "                                                             "
     ]
    },
    {
     "name": "stdout",
     "output_type": "stream",
     "text": [
      "MoviePy - Done !\n",
      "MoviePy - video ready /Users/bapa/Codes/KidsPuzzles/videos/DigitsPuzzle-10-step_f0.5_i0.2/training-episode-37600.mp4\n"
     ]
    },
    {
     "name": "stderr",
     "output_type": "stream",
     "text": [
      "\r"
     ]
    },
    {
     "name": "stdout",
     "output_type": "stream",
     "text": [
      "--------------------------------------\n",
      "| rollout/              |            |\n",
      "|    ep_len_mean        | 46.9       |\n",
      "|    ep_rew_mean        | 4.42       |\n",
      "| time/                 |            |\n",
      "|    fps                | 273        |\n",
      "|    iterations         | 45100      |\n",
      "|    time_elapsed       | 10537      |\n",
      "|    total_timesteps    | 2886400    |\n",
      "| train/                |            |\n",
      "|    entropy_loss       | -2.16      |\n",
      "|    explained_variance | 0.95475745 |\n",
      "|    learning_rate      | 8.3e-06    |\n",
      "|    n_updates          | 45099      |\n",
      "|    policy_loss        | 0.3        |\n",
      "|    value_loss         | 0.33       |\n",
      "--------------------------------------\n",
      "--------------------------------------\n",
      "| rollout/              |            |\n",
      "|    ep_len_mean        | 46.4       |\n",
      "|    ep_rew_mean        | 4.4        |\n",
      "| time/                 |            |\n",
      "|    fps                | 273        |\n",
      "|    iterations         | 45200      |\n",
      "|    time_elapsed       | 10560      |\n",
      "|    total_timesteps    | 2892800    |\n",
      "| train/                |            |\n",
      "|    entropy_loss       | -2.17      |\n",
      "|    explained_variance | 0.85898834 |\n",
      "|    learning_rate      | 8.3e-06    |\n",
      "|    n_updates          | 45199      |\n",
      "|    policy_loss        | -1.68      |\n",
      "|    value_loss         | 1.84       |\n",
      "--------------------------------------\n",
      "MoviePy - Building video /Users/bapa/Codes/KidsPuzzles/videos/DigitsPuzzle-10-step_f0.5_i0.2/training-episode-37800.mp4.\n",
      "MoviePy - Writing video /Users/bapa/Codes/KidsPuzzles/videos/DigitsPuzzle-10-step_f0.5_i0.2/training-episode-37800.mp4\n",
      "\n"
     ]
    },
    {
     "name": "stderr",
     "output_type": "stream",
     "text": [
      "                                                             "
     ]
    },
    {
     "name": "stdout",
     "output_type": "stream",
     "text": [
      "MoviePy - Done !\n",
      "MoviePy - video ready /Users/bapa/Codes/KidsPuzzles/videos/DigitsPuzzle-10-step_f0.5_i0.2/training-episode-37800.mp4\n"
     ]
    },
    {
     "name": "stderr",
     "output_type": "stream",
     "text": [
      "\r"
     ]
    },
    {
     "name": "stdout",
     "output_type": "stream",
     "text": [
      "-------------------------------------\n",
      "| rollout/              |           |\n",
      "|    ep_len_mean        | 46.6      |\n",
      "|    ep_rew_mean        | 4.14      |\n",
      "| time/                 |           |\n",
      "|    fps                | 273       |\n",
      "|    iterations         | 45300     |\n",
      "|    time_elapsed       | 10584     |\n",
      "|    total_timesteps    | 2899200   |\n",
      "| train/                |           |\n",
      "|    entropy_loss       | -2.09     |\n",
      "|    explained_variance | 0.9854331 |\n",
      "|    learning_rate      | 8.3e-06   |\n",
      "|    n_updates          | 45299     |\n",
      "|    policy_loss        | 0.275     |\n",
      "|    value_loss         | 0.194     |\n",
      "-------------------------------------\n",
      "MoviePy - Building video /Users/bapa/Codes/KidsPuzzles/videos/DigitsPuzzle-10-step_f0.5_i0.2/training-episode-38000.mp4.\n",
      "MoviePy - Writing video /Users/bapa/Codes/KidsPuzzles/videos/DigitsPuzzle-10-step_f0.5_i0.2/training-episode-38000.mp4\n",
      "\n"
     ]
    },
    {
     "name": "stderr",
     "output_type": "stream",
     "text": [
      "                                                             "
     ]
    },
    {
     "name": "stdout",
     "output_type": "stream",
     "text": [
      "MoviePy - Done !\n",
      "MoviePy - video ready /Users/bapa/Codes/KidsPuzzles/videos/DigitsPuzzle-10-step_f0.5_i0.2/training-episode-38000.mp4\n"
     ]
    },
    {
     "name": "stderr",
     "output_type": "stream",
     "text": [
      "\r"
     ]
    },
    {
     "name": "stdout",
     "output_type": "stream",
     "text": [
      "--------------------------------------\n",
      "| rollout/              |            |\n",
      "|    ep_len_mean        | 46.3       |\n",
      "|    ep_rew_mean        | 4.7        |\n",
      "| time/                 |            |\n",
      "|    fps                | 273        |\n",
      "|    iterations         | 45400      |\n",
      "|    time_elapsed       | 10607      |\n",
      "|    total_timesteps    | 2905600    |\n",
      "| train/                |            |\n",
      "|    entropy_loss       | -2.16      |\n",
      "|    explained_variance | 0.96781826 |\n",
      "|    learning_rate      | 8.3e-06    |\n",
      "|    n_updates          | 45399      |\n",
      "|    policy_loss        | -0.153     |\n",
      "|    value_loss         | 0.176      |\n",
      "--------------------------------------\n",
      "-------------------------------------\n",
      "| rollout/              |           |\n",
      "|    ep_len_mean        | 44.4      |\n",
      "|    ep_rew_mean        | 4.91      |\n",
      "| time/                 |           |\n",
      "|    fps                | 273       |\n",
      "|    iterations         | 45500     |\n",
      "|    time_elapsed       | 10630     |\n",
      "|    total_timesteps    | 2912000   |\n",
      "| train/                |           |\n",
      "|    entropy_loss       | -2.39     |\n",
      "|    explained_variance | 0.8723839 |\n",
      "|    learning_rate      | 8.3e-06   |\n",
      "|    n_updates          | 45499     |\n",
      "|    policy_loss        | -0.962    |\n",
      "|    value_loss         | 0.604     |\n",
      "-------------------------------------\n",
      "MoviePy - Building video /Users/bapa/Codes/KidsPuzzles/videos/DigitsPuzzle-10-step_f0.5_i0.2/training-episode-38200.mp4.\n",
      "MoviePy - Writing video /Users/bapa/Codes/KidsPuzzles/videos/DigitsPuzzle-10-step_f0.5_i0.2/training-episode-38200.mp4\n",
      "\n"
     ]
    },
    {
     "name": "stderr",
     "output_type": "stream",
     "text": [
      "                                                             "
     ]
    },
    {
     "name": "stdout",
     "output_type": "stream",
     "text": [
      "MoviePy - Done !\n",
      "MoviePy - video ready /Users/bapa/Codes/KidsPuzzles/videos/DigitsPuzzle-10-step_f0.5_i0.2/training-episode-38200.mp4\n"
     ]
    },
    {
     "name": "stderr",
     "output_type": "stream",
     "text": [
      "\r"
     ]
    },
    {
     "name": "stdout",
     "output_type": "stream",
     "text": [
      "--------------------------------------\n",
      "| rollout/              |            |\n",
      "|    ep_len_mean        | 46         |\n",
      "|    ep_rew_mean        | 4.31       |\n",
      "| time/                 |            |\n",
      "|    fps                | 273        |\n",
      "|    iterations         | 45600      |\n",
      "|    time_elapsed       | 10654      |\n",
      "|    total_timesteps    | 2918400    |\n",
      "| train/                |            |\n",
      "|    entropy_loss       | -2.39      |\n",
      "|    explained_variance | 0.92162186 |\n",
      "|    learning_rate      | 8.3e-06    |\n",
      "|    n_updates          | 45599      |\n",
      "|    policy_loss        | -0.847     |\n",
      "|    value_loss         | 1.04       |\n",
      "--------------------------------------\n",
      "MoviePy - Building video /Users/bapa/Codes/KidsPuzzles/videos/DigitsPuzzle-10-step_f0.5_i0.2/training-episode-38400.mp4.\n",
      "MoviePy - Writing video /Users/bapa/Codes/KidsPuzzles/videos/DigitsPuzzle-10-step_f0.5_i0.2/training-episode-38400.mp4\n",
      "\n"
     ]
    },
    {
     "name": "stderr",
     "output_type": "stream",
     "text": [
      "                                                             "
     ]
    },
    {
     "name": "stdout",
     "output_type": "stream",
     "text": [
      "MoviePy - Done !\n",
      "MoviePy - video ready /Users/bapa/Codes/KidsPuzzles/videos/DigitsPuzzle-10-step_f0.5_i0.2/training-episode-38400.mp4\n"
     ]
    },
    {
     "name": "stderr",
     "output_type": "stream",
     "text": [
      "\r"
     ]
    },
    {
     "name": "stdout",
     "output_type": "stream",
     "text": [
      "------------------------------------\n",
      "| rollout/              |          |\n",
      "|    ep_len_mean        | 48       |\n",
      "|    ep_rew_mean        | 3.98     |\n",
      "| time/                 |          |\n",
      "|    fps                | 273      |\n",
      "|    iterations         | 45700    |\n",
      "|    time_elapsed       | 10678    |\n",
      "|    total_timesteps    | 2924800  |\n",
      "| train/                |          |\n",
      "|    entropy_loss       | -2.12    |\n",
      "|    explained_variance | 0.97366  |\n",
      "|    learning_rate      | 8.3e-06  |\n",
      "|    n_updates          | 45699    |\n",
      "|    policy_loss        | -0.109   |\n",
      "|    value_loss         | 0.428    |\n",
      "------------------------------------\n",
      "--------------------------------------\n",
      "| rollout/              |            |\n",
      "|    ep_len_mean        | 46.5       |\n",
      "|    ep_rew_mean        | 4.4        |\n",
      "| time/                 |            |\n",
      "|    fps                | 273        |\n",
      "|    iterations         | 45800      |\n",
      "|    time_elapsed       | 10701      |\n",
      "|    total_timesteps    | 2931200    |\n",
      "| train/                |            |\n",
      "|    entropy_loss       | -2.18      |\n",
      "|    explained_variance | 0.93053347 |\n",
      "|    learning_rate      | 8.3e-06    |\n",
      "|    n_updates          | 45799      |\n",
      "|    policy_loss        | 1.66       |\n",
      "|    value_loss         | 1.2        |\n",
      "--------------------------------------\n",
      "MoviePy - Building video /Users/bapa/Codes/KidsPuzzles/videos/DigitsPuzzle-10-step_f0.5_i0.2/training-episode-38600.mp4.\n",
      "MoviePy - Writing video /Users/bapa/Codes/KidsPuzzles/videos/DigitsPuzzle-10-step_f0.5_i0.2/training-episode-38600.mp4\n",
      "\n"
     ]
    },
    {
     "name": "stderr",
     "output_type": "stream",
     "text": [
      "                                                             "
     ]
    },
    {
     "name": "stdout",
     "output_type": "stream",
     "text": [
      "MoviePy - Done !\n",
      "MoviePy - video ready /Users/bapa/Codes/KidsPuzzles/videos/DigitsPuzzle-10-step_f0.5_i0.2/training-episode-38600.mp4\n"
     ]
    },
    {
     "name": "stderr",
     "output_type": "stream",
     "text": [
      "\r"
     ]
    },
    {
     "name": "stdout",
     "output_type": "stream",
     "text": [
      "--------------------------------------\n",
      "| rollout/              |            |\n",
      "|    ep_len_mean        | 46.9       |\n",
      "|    ep_rew_mean        | 4.5        |\n",
      "| time/                 |            |\n",
      "|    fps                | 273        |\n",
      "|    iterations         | 45900      |\n",
      "|    time_elapsed       | 10724      |\n",
      "|    total_timesteps    | 2937600    |\n",
      "| train/                |            |\n",
      "|    entropy_loss       | -2.17      |\n",
      "|    explained_variance | 0.93107116 |\n",
      "|    learning_rate      | 8.3e-06    |\n",
      "|    n_updates          | 45899      |\n",
      "|    policy_loss        | 0.467      |\n",
      "|    value_loss         | 0.673      |\n",
      "--------------------------------------\n",
      "MoviePy - Building video /Users/bapa/Codes/KidsPuzzles/videos/DigitsPuzzle-10-step_f0.5_i0.2/training-episode-38800.mp4.\n",
      "MoviePy - Writing video /Users/bapa/Codes/KidsPuzzles/videos/DigitsPuzzle-10-step_f0.5_i0.2/training-episode-38800.mp4\n",
      "\n"
     ]
    },
    {
     "name": "stderr",
     "output_type": "stream",
     "text": [
      "                                                             "
     ]
    },
    {
     "name": "stdout",
     "output_type": "stream",
     "text": [
      "MoviePy - Done !\n",
      "MoviePy - video ready /Users/bapa/Codes/KidsPuzzles/videos/DigitsPuzzle-10-step_f0.5_i0.2/training-episode-38800.mp4\n"
     ]
    },
    {
     "name": "stderr",
     "output_type": "stream",
     "text": [
      "\r"
     ]
    },
    {
     "name": "stdout",
     "output_type": "stream",
     "text": [
      "-------------------------------------\n",
      "| rollout/              |           |\n",
      "|    ep_len_mean        | 47.1      |\n",
      "|    ep_rew_mean        | 4.34      |\n",
      "| time/                 |           |\n",
      "|    fps                | 273       |\n",
      "|    iterations         | 46000     |\n",
      "|    time_elapsed       | 10748     |\n",
      "|    total_timesteps    | 2944000   |\n",
      "| train/                |           |\n",
      "|    entropy_loss       | -2.41     |\n",
      "|    explained_variance | 0.9753087 |\n",
      "|    learning_rate      | 8.3e-06   |\n",
      "|    n_updates          | 45999     |\n",
      "|    policy_loss        | 0.103     |\n",
      "|    value_loss         | 0.0927    |\n",
      "-------------------------------------\n",
      "--------------------------------------\n",
      "| rollout/              |            |\n",
      "|    ep_len_mean        | 46.7       |\n",
      "|    ep_rew_mean        | 4.52       |\n",
      "| time/                 |            |\n",
      "|    fps                | 273        |\n",
      "|    iterations         | 46100      |\n",
      "|    time_elapsed       | 10771      |\n",
      "|    total_timesteps    | 2950400    |\n",
      "| train/                |            |\n",
      "|    entropy_loss       | -2.17      |\n",
      "|    explained_variance | 0.78440416 |\n",
      "|    learning_rate      | 8.3e-06    |\n",
      "|    n_updates          | 46099      |\n",
      "|    policy_loss        | 1.91       |\n",
      "|    value_loss         | 2.48       |\n",
      "--------------------------------------\n",
      "MoviePy - Building video /Users/bapa/Codes/KidsPuzzles/videos/DigitsPuzzle-10-step_f0.5_i0.2/training-episode-39000.mp4.\n",
      "MoviePy - Writing video /Users/bapa/Codes/KidsPuzzles/videos/DigitsPuzzle-10-step_f0.5_i0.2/training-episode-39000.mp4\n",
      "\n"
     ]
    },
    {
     "name": "stderr",
     "output_type": "stream",
     "text": [
      "                                                             "
     ]
    },
    {
     "name": "stdout",
     "output_type": "stream",
     "text": [
      "MoviePy - Done !\n",
      "MoviePy - video ready /Users/bapa/Codes/KidsPuzzles/videos/DigitsPuzzle-10-step_f0.5_i0.2/training-episode-39000.mp4\n"
     ]
    },
    {
     "name": "stderr",
     "output_type": "stream",
     "text": [
      "\r"
     ]
    },
    {
     "name": "stdout",
     "output_type": "stream",
     "text": [
      "-------------------------------------\n",
      "| rollout/              |           |\n",
      "|    ep_len_mean        | 45.9      |\n",
      "|    ep_rew_mean        | 4.29      |\n",
      "| time/                 |           |\n",
      "|    fps                | 273       |\n",
      "|    iterations         | 46200     |\n",
      "|    time_elapsed       | 10795     |\n",
      "|    total_timesteps    | 2956800   |\n",
      "| train/                |           |\n",
      "|    entropy_loss       | -2.17     |\n",
      "|    explained_variance | 0.9788434 |\n",
      "|    learning_rate      | 8.3e-06   |\n",
      "|    n_updates          | 46199     |\n",
      "|    policy_loss        | -0.255    |\n",
      "|    value_loss         | 0.158     |\n",
      "-------------------------------------\n",
      "MoviePy - Building video /Users/bapa/Codes/KidsPuzzles/videos/DigitsPuzzle-10-step_f0.5_i0.2/training-episode-39200.mp4.\n",
      "MoviePy - Writing video /Users/bapa/Codes/KidsPuzzles/videos/DigitsPuzzle-10-step_f0.5_i0.2/training-episode-39200.mp4\n",
      "\n"
     ]
    },
    {
     "name": "stderr",
     "output_type": "stream",
     "text": [
      "                                                             "
     ]
    },
    {
     "name": "stdout",
     "output_type": "stream",
     "text": [
      "MoviePy - Done !\n",
      "MoviePy - video ready /Users/bapa/Codes/KidsPuzzles/videos/DigitsPuzzle-10-step_f0.5_i0.2/training-episode-39200.mp4\n"
     ]
    },
    {
     "name": "stderr",
     "output_type": "stream",
     "text": [
      "\r"
     ]
    },
    {
     "name": "stdout",
     "output_type": "stream",
     "text": [
      "-------------------------------------\n",
      "| rollout/              |           |\n",
      "|    ep_len_mean        | 48.1      |\n",
      "|    ep_rew_mean        | 4.07      |\n",
      "| time/                 |           |\n",
      "|    fps                | 273       |\n",
      "|    iterations         | 46300     |\n",
      "|    time_elapsed       | 10818     |\n",
      "|    total_timesteps    | 2963200   |\n",
      "| train/                |           |\n",
      "|    entropy_loss       | -2.22     |\n",
      "|    explained_variance | 0.8238703 |\n",
      "|    learning_rate      | 8.3e-06   |\n",
      "|    n_updates          | 46299     |\n",
      "|    policy_loss        | -1.88     |\n",
      "|    value_loss         | 4.39      |\n",
      "-------------------------------------\n",
      "MoviePy - Building video /Users/bapa/Codes/KidsPuzzles/videos/DigitsPuzzle-10-step_f0.5_i0.2/training-episode-39400.mp4.\n",
      "MoviePy - Writing video /Users/bapa/Codes/KidsPuzzles/videos/DigitsPuzzle-10-step_f0.5_i0.2/training-episode-39400.mp4\n",
      "\n"
     ]
    },
    {
     "name": "stderr",
     "output_type": "stream",
     "text": [
      "                                                             "
     ]
    },
    {
     "name": "stdout",
     "output_type": "stream",
     "text": [
      "MoviePy - Done !\n",
      "MoviePy - video ready /Users/bapa/Codes/KidsPuzzles/videos/DigitsPuzzle-10-step_f0.5_i0.2/training-episode-39400.mp4\n"
     ]
    },
    {
     "name": "stderr",
     "output_type": "stream",
     "text": [
      "\r"
     ]
    },
    {
     "name": "stdout",
     "output_type": "stream",
     "text": [
      "--------------------------------------\n",
      "| rollout/              |            |\n",
      "|    ep_len_mean        | 46.4       |\n",
      "|    ep_rew_mean        | 4.56       |\n",
      "| time/                 |            |\n",
      "|    fps                | 273        |\n",
      "|    iterations         | 46400      |\n",
      "|    time_elapsed       | 10842      |\n",
      "|    total_timesteps    | 2969600    |\n",
      "| train/                |            |\n",
      "|    entropy_loss       | -2.26      |\n",
      "|    explained_variance | 0.94792205 |\n",
      "|    learning_rate      | 8.3e-06    |\n",
      "|    n_updates          | 46399      |\n",
      "|    policy_loss        | 1.12       |\n",
      "|    value_loss         | 0.558      |\n",
      "--------------------------------------\n",
      "-------------------------------------\n",
      "| rollout/              |           |\n",
      "|    ep_len_mean        | 47.1      |\n",
      "|    ep_rew_mean        | 4.28      |\n",
      "| time/                 |           |\n",
      "|    fps                | 273       |\n",
      "|    iterations         | 46500     |\n",
      "|    time_elapsed       | 10865     |\n",
      "|    total_timesteps    | 2976000   |\n",
      "| train/                |           |\n",
      "|    entropy_loss       | -2.27     |\n",
      "|    explained_variance | 0.9711793 |\n",
      "|    learning_rate      | 8.3e-06   |\n",
      "|    n_updates          | 46499     |\n",
      "|    policy_loss        | -0.641    |\n",
      "|    value_loss         | 0.273     |\n",
      "-------------------------------------\n",
      "MoviePy - Building video /Users/bapa/Codes/KidsPuzzles/videos/DigitsPuzzle-10-step_f0.5_i0.2/training-episode-39600.mp4.\n",
      "MoviePy - Writing video /Users/bapa/Codes/KidsPuzzles/videos/DigitsPuzzle-10-step_f0.5_i0.2/training-episode-39600.mp4\n",
      "\n"
     ]
    },
    {
     "name": "stderr",
     "output_type": "stream",
     "text": [
      "                                                             "
     ]
    },
    {
     "name": "stdout",
     "output_type": "stream",
     "text": [
      "MoviePy - Done !\n",
      "MoviePy - video ready /Users/bapa/Codes/KidsPuzzles/videos/DigitsPuzzle-10-step_f0.5_i0.2/training-episode-39600.mp4\n"
     ]
    },
    {
     "name": "stderr",
     "output_type": "stream",
     "text": [
      "\r"
     ]
    },
    {
     "name": "stdout",
     "output_type": "stream",
     "text": [
      "--------------------------------------\n",
      "| rollout/              |            |\n",
      "|    ep_len_mean        | 46.1       |\n",
      "|    ep_rew_mean        | 4.27       |\n",
      "| time/                 |            |\n",
      "|    fps                | 273        |\n",
      "|    iterations         | 46600      |\n",
      "|    time_elapsed       | 10888      |\n",
      "|    total_timesteps    | 2982400    |\n",
      "| train/                |            |\n",
      "|    entropy_loss       | -2.35      |\n",
      "|    explained_variance | 0.97471917 |\n",
      "|    learning_rate      | 8.3e-06    |\n",
      "|    n_updates          | 46599      |\n",
      "|    policy_loss        | 0.358      |\n",
      "|    value_loss         | 0.581      |\n",
      "--------------------------------------\n",
      "MoviePy - Building video /Users/bapa/Codes/KidsPuzzles/videos/DigitsPuzzle-10-step_f0.5_i0.2/training-episode-39800.mp4.\n",
      "MoviePy - Writing video /Users/bapa/Codes/KidsPuzzles/videos/DigitsPuzzle-10-step_f0.5_i0.2/training-episode-39800.mp4\n",
      "\n"
     ]
    },
    {
     "name": "stderr",
     "output_type": "stream",
     "text": [
      "                                                             "
     ]
    },
    {
     "name": "stdout",
     "output_type": "stream",
     "text": [
      "MoviePy - Done !\n",
      "MoviePy - video ready /Users/bapa/Codes/KidsPuzzles/videos/DigitsPuzzle-10-step_f0.5_i0.2/training-episode-39800.mp4\n"
     ]
    },
    {
     "name": "stderr",
     "output_type": "stream",
     "text": [
      "\r"
     ]
    },
    {
     "name": "stdout",
     "output_type": "stream",
     "text": [
      "-------------------------------------\n",
      "| rollout/              |           |\n",
      "|    ep_len_mean        | 46.3      |\n",
      "|    ep_rew_mean        | 4.8       |\n",
      "| time/                 |           |\n",
      "|    fps                | 273       |\n",
      "|    iterations         | 46700     |\n",
      "|    time_elapsed       | 10911     |\n",
      "|    total_timesteps    | 2988800   |\n",
      "| train/                |           |\n",
      "|    entropy_loss       | -2.24     |\n",
      "|    explained_variance | 0.9239767 |\n",
      "|    learning_rate      | 8.3e-06   |\n",
      "|    n_updates          | 46699     |\n",
      "|    policy_loss        | -1.35     |\n",
      "|    value_loss         | 0.973     |\n",
      "-------------------------------------\n",
      "-------------------------------------\n",
      "| rollout/              |           |\n",
      "|    ep_len_mean        | 46.8      |\n",
      "|    ep_rew_mean        | 4.25      |\n",
      "| time/                 |           |\n",
      "|    fps                | 273       |\n",
      "|    iterations         | 46800     |\n",
      "|    time_elapsed       | 10934     |\n",
      "|    total_timesteps    | 2995200   |\n",
      "| train/                |           |\n",
      "|    entropy_loss       | -2.26     |\n",
      "|    explained_variance | 0.8975935 |\n",
      "|    learning_rate      | 8.3e-06   |\n",
      "|    n_updates          | 46799     |\n",
      "|    policy_loss        | -2.06     |\n",
      "|    value_loss         | 2.13      |\n",
      "-------------------------------------\n",
      "MoviePy - Building video /Users/bapa/Codes/KidsPuzzles/videos/DigitsPuzzle-10-step_f0.5_i0.2/training-episode-40000.mp4.\n",
      "MoviePy - Writing video /Users/bapa/Codes/KidsPuzzles/videos/DigitsPuzzle-10-step_f0.5_i0.2/training-episode-40000.mp4\n",
      "\n"
     ]
    },
    {
     "name": "stderr",
     "output_type": "stream",
     "text": [
      "                                                             "
     ]
    },
    {
     "name": "stdout",
     "output_type": "stream",
     "text": [
      "MoviePy - Done !\n",
      "MoviePy - video ready /Users/bapa/Codes/KidsPuzzles/videos/DigitsPuzzle-10-step_f0.5_i0.2/training-episode-40000.mp4\n"
     ]
    },
    {
     "name": "stderr",
     "output_type": "stream",
     "text": [
      "\r"
     ]
    },
    {
     "data": {
      "text/plain": [
       "<stable_baselines3.a2c.a2c.A2C at 0x12bd085f0>"
      ]
     },
     "execution_count": 5,
     "metadata": {},
     "output_type": "execute_result"
    }
   ],
   "source": [
    "    \n",
    "video_folder = f\"DigitsPuzzle-{n_digits}-{lr_name}\"\n",
    "env = RecordVideo(env, video_folder=f\"videos/{video_folder}\", name_prefix=\"training\",\n",
    "                episode_trigger=lambda x: x % record_freq == 0)\n",
    "\n",
    "model = A2C(\n",
    "    \"MultiInputPolicy\", \n",
    "    env, \n",
    "    ent_coef=0.01,\n",
    "    n_steps=64,\n",
    "    verbose=1, \n",
    "    device=\"mps\", \n",
    "    learning_rate=lr_scheduler,\n",
    "    tensorboard_log=f\"./logs/a2c_digitspuzzle_nd{n_digits}_{lr_name}/\"\n",
    ")\n",
    "model.learn(total_timesteps=total_timesteps)"
   ]
  },
  {
   "cell_type": "code",
   "execution_count": 6,
   "metadata": {},
   "outputs": [
    {
     "name": "stderr",
     "output_type": "stream",
     "text": [
      "2025-02-09 12:48:27.298 python[40735:2934412] +[IMKClient subclass]: chose IMKClient_Modern\n",
      "2025-02-09 12:48:27.298 python[40735:2934412] +[IMKInputSession subclass]: chose IMKInputSession_Modern\n"
     ]
    },
    {
     "name": "stdout",
     "output_type": "stream",
     "text": [
      "Total reward:  [2.5222225]\n"
     ]
    }
   ],
   "source": [
    "import time\n",
    "vec_env = model.get_env()\n",
    "observations = vec_env.reset()\n",
    "reward_sum = 0\n",
    "for _ in range(50):\n",
    "    action, _state = model.predict(observations)\n",
    "    observations, reward, terminated, info = vec_env.step(action)\n",
    "    vec_env.render(\"human\")\n",
    "    time.sleep(5)\n",
    "\n",
    "    reward_sum += reward\n",
    "    if terminated:\n",
    "        observations = vec_env.reset()\n",
    "\n",
    "print(\"Total reward: \", reward_sum)"
   ]
  },
  {
   "cell_type": "code",
   "execution_count": 7,
   "metadata": {},
   "outputs": [],
   "source": [
    "env.close()"
   ]
  }
 ],
 "metadata": {
  "kernelspec": {
   "display_name": "gym",
   "language": "python",
   "name": "python3"
  },
  "language_info": {
   "codemirror_mode": {
    "name": "ipython",
    "version": 3
   },
   "file_extension": ".py",
   "mimetype": "text/x-python",
   "name": "python",
   "nbconvert_exporter": "python",
   "pygments_lexer": "ipython3",
   "version": "3.12.5"
  }
 },
 "nbformat": 4,
 "nbformat_minor": 2
}
