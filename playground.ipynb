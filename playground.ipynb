{
 "cells": [
  {
   "cell_type": "markdown",
   "metadata": {},
   "source": [
    "# Import"
   ]
  },
  {
   "cell_type": "code",
   "execution_count": 4,
   "metadata": {},
   "outputs": [
    {
     "name": "stderr",
     "output_type": "stream",
     "text": [
      "2025-02-21 04:46:59.950 python[5316:191207] +[IMKClient subclass]: chose IMKClient_Modern\n",
      "2025-02-21 04:46:59.950 python[5316:191207] +[IMKInputSession subclass]: chose IMKInputSession_Modern\n"
     ]
    }
   ],
   "source": [
    "import gymnasium as gym\n",
    "import kidpuzzles\n",
    "\n",
    "env = gym.make('kidpuzzles/DigitsPuzzleEnv-v0', render_mode = 'human')\n",
    "\n",
    "observations = env.reset()\n",
    "\n",
    "for _ in range(3):\n",
    "    action = env.action_space.sample()\n",
    "    observations, reward, terminated, truncated, info = env.step(action)\n",
    "    env.render()\n",
    "\n",
    "    if terminated:\n",
    "        observations = env.reset()\n",
    "\n",
    "env.close()"
   ]
  },
  {
   "cell_type": "code",
   "execution_count": 1,
   "metadata": {},
   "outputs": [],
   "source": [
    "import sys \n",
    "import math\n",
    "import gymnasium as gym\n",
    "from gymnasium.wrappers.record_video import RecordVideo\n",
    "from gymnasium.wrappers.record_episode_statistics import RecordEpisodeStatistics\n",
    "import kidpuzzles\n",
    "from stable_baselines3 import A2C"
   ]
  },
  {
   "cell_type": "markdown",
   "metadata": {},
   "source": [
    "# Training\n",
    "## Learning rate schedule"
   ]
  },
  {
   "cell_type": "code",
   "execution_count": 2,
   "metadata": {},
   "outputs": [],
   "source": [
    "def linear_scheduler(initial_value):\n",
    "    def func(progress_remaining):\n",
    "        return initial_value * progress_remaining\n",
    "    return func\n",
    "\n",
    "def step_scheduler(initial_value, drop_interval, drop_factor):\n",
    "    def func(progress_remaining):\n",
    "        return initial_value * (drop_factor ** (int((1 - progress_remaining) / drop_interval)))\n",
    "    return func\n",
    "\n",
    "def cosine_annealing_scheduler(initial_value, T_max):\n",
    "    def func(progress_remaining):\n",
    "        return initial_value * (1 + math.cos(math.pi * progress_remaining / T_max)) / 2\n",
    "    return func"
   ]
  },
  {
   "cell_type": "markdown",
   "metadata": {},
   "source": [
    "## Env"
   ]
  },
  {
   "cell_type": "code",
   "execution_count": 3,
   "metadata": {},
   "outputs": [],
   "source": [
    "\n",
    "n_digits = 10\n",
    "# reward_clipped = -0.02\n",
    "# reward_enter_target_area = 0.01\n",
    "# reward_exit_target_area = -0.02\n",
    "\n",
    "env = gym.make(\n",
    "    'kidpuzzles/DigitsPuzzleEnv-v0', \n",
    "    render_mode = 'rgb_array', \n",
    "    n_digits = n_digits,\n",
    "    # reward_clipped = reward_clipped,\n",
    "    # reward_enter_target_area = reward_enter_target_area,\n",
    "    # reward_exit_target_area = reward_exit_target_area\n",
    ")\n",
    "\n",
    "record_freq = 200\n",
    "\n",
    "total_timesteps=5_000_000\n",
    "initial_lr = 7e-4\n",
    "lin_lr_scheduler = linear_scheduler(initial_lr)\n",
    "step_lr_scheduler = step_scheduler(initial_value=initial_lr, drop_factor=0.5, drop_interval=0.33)\n",
    "cos_lr_scheduler = cosine_annealing_scheduler(initial_lr, T_max=total_timesteps)"
   ]
  },
  {
   "cell_type": "code",
   "execution_count": null,
   "metadata": {},
   "outputs": [],
   "source": [
    "lr_scheduler = step_lr_scheduler\n",
    "lr_name = \"step_f0.5_i0.33\""
   ]
  },
  {
   "cell_type": "markdown",
   "metadata": {},
   "source": [
    "## Training the agent"
   ]
  },
  {
   "cell_type": "code",
   "execution_count": null,
   "metadata": {},
   "outputs": [
    {
     "name": "stderr",
     "output_type": "stream",
     "text": [
      "/Users/bapa/miniconda3/envs/gym/lib/python3.12/site-packages/gymnasium/wrappers/record_video.py:94: UserWarning: \u001b[33mWARN: Overwriting existing videos at /Users/bapa/Codes/KidsPuzzles/videos/DigitsPuzzle-10-step_f0.5_i0.33 folder (try specifying a different `video_folder` for the `RecordVideo` wrapper if this is not desired)\u001b[0m\n",
      "  logger.warn(\n"
     ]
    },
    {
     "name": "stdout",
     "output_type": "stream",
     "text": [
      "Using mps device\n",
      "Wrapping the env with a `Monitor` wrapper\n",
      "Wrapping the env in a DummyVecEnv.\n",
      "Logging to ./logs/a2c_digitspuzzle_nd10_step_f0.5_i0.33/A2C_2\n",
      "MoviePy - Building video /Users/bapa/Codes/KidsPuzzles/videos/DigitsPuzzle-10-step_f0.5_i0.33/training-episode-0.mp4.\n",
      "MoviePy - Writing video /Users/bapa/Codes/KidsPuzzles/videos/DigitsPuzzle-10-step_f0.5_i0.33/training-episode-0.mp4\n",
      "\n"
     ]
    },
    {
     "name": "stderr",
     "output_type": "stream",
     "text": [
      "                                                                          "
     ]
    },
    {
     "name": "stdout",
     "output_type": "stream",
     "text": [
      "MoviePy - Done !\n",
      "MoviePy - video ready /Users/bapa/Codes/KidsPuzzles/videos/DigitsPuzzle-10-step_f0.5_i0.33/training-episode-0.mp4\n"
     ]
    },
    {
     "name": "stderr",
     "output_type": "stream",
     "text": [
      "\r"
     ]
    }
   ],
   "source": [
    "    \n",
    "video_folder = f\"DigitsPuzzle-{n_digits}-{lr_name}\"\n",
    "env = RecordVideo(env, video_folder=f\"videos/{video_folder}\", name_prefix=\"training\",\n",
    "                episode_trigger=lambda x: x % record_freq == 0)\n",
    "\n",
    "model = A2C(\n",
    "    \"MultiInputPolicy\", \n",
    "    env, \n",
    "    ent_coef=0.01,\n",
    "    n_steps=64,\n",
    "    verbose=1, \n",
    "    device=\"mps\", \n",
    "    learning_rate=lr_scheduler,\n",
    "    tensorboard_log=f\"./logs/a2c_digitspuzzle_nd{n_digits}_{lr_name}/\"\n",
    ")\n",
    "model.learn(total_timesteps=total_timesteps)"
   ]
  },
  {
   "cell_type": "markdown",
   "metadata": {},
   "source": [
    "# Testing the agent"
   ]
  },
  {
   "cell_type": "code",
   "execution_count": null,
   "metadata": {},
   "outputs": [
    {
     "name": "stderr",
     "output_type": "stream",
     "text": [
      "2025-02-09 12:48:27.298 python[40735:2934412] +[IMKClient subclass]: chose IMKClient_Modern\n",
      "2025-02-09 12:48:27.298 python[40735:2934412] +[IMKInputSession subclass]: chose IMKInputSession_Modern\n"
     ]
    },
    {
     "name": "stdout",
     "output_type": "stream",
     "text": [
      "Total reward:  [2.5222225]\n"
     ]
    }
   ],
   "source": [
    "import time\n",
    "vec_env = model.get_env()\n",
    "observations = vec_env.reset()\n",
    "reward_sum = 0\n",
    "for _ in range(10):\n",
    "    action, _state = model.predict(observations)\n",
    "    observations, reward, terminated, info = vec_env.step(action)\n",
    "    vec_env.render(\"human\")\n",
    "    time.sleep(5)\n",
    "\n",
    "    reward_sum += reward\n",
    "    if terminated:\n",
    "        observations = vec_env.reset()\n",
    "\n",
    "print(\"Total reward: \", reward_sum)"
   ]
  },
  {
   "cell_type": "code",
   "execution_count": null,
   "metadata": {},
   "outputs": [],
   "source": [
    "env.close()"
   ]
  }
 ],
 "metadata": {
  "kernelspec": {
   "display_name": "gym",
   "language": "python",
   "name": "python3"
  },
  "language_info": {
   "codemirror_mode": {
    "name": "ipython",
    "version": 3
   },
   "file_extension": ".py",
   "mimetype": "text/x-python",
   "name": "python",
   "nbconvert_exporter": "python",
   "pygments_lexer": "ipython3",
   "version": "3.12.5"
  }
 },
 "nbformat": 4,
 "nbformat_minor": 2
}
