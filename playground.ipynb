{
 "cells": [
  {
   "cell_type": "code",
   "execution_count": 1,
   "metadata": {},
   "outputs": [
    {
     "name": "stdout",
     "output_type": "stream",
     "text": [
      "Using mps device\n",
      "Wrapping the env with a `Monitor` wrapper\n",
      "Wrapping the env in a DummyVecEnv.\n",
      "Logging to ./logs/a2c_digitspuzzle_nd2/A2C_2\n",
      "MoviePy - Building video /Users/bapa/Codes/KidsPuzzles/videos/DigitsPuzzle-2--0.02-0.01--0.02/training-episode-0.mp4.\n",
      "MoviePy - Writing video /Users/bapa/Codes/KidsPuzzles/videos/DigitsPuzzle-2--0.02-0.01--0.02/training-episode-0.mp4\n",
      "\n"
     ]
    },
    {
     "name": "stderr",
     "output_type": "stream",
     "text": [
      "                                                             "
     ]
    },
    {
     "name": "stdout",
     "output_type": "stream",
     "text": [
      "MoviePy - Done !\n",
      "MoviePy - video ready /Users/bapa/Codes/KidsPuzzles/videos/DigitsPuzzle-2--0.02-0.01--0.02/training-episode-0.mp4\n"
     ]
    },
    {
     "name": "stderr",
     "output_type": "stream",
     "text": [
      "\r"
     ]
    },
    {
     "name": "stdout",
     "output_type": "stream",
     "text": [
      "------------------------------------\n",
      "| rollout/              |          |\n",
      "|    ep_len_mean        | 157      |\n",
      "|    ep_rew_mean        | -52.7    |\n",
      "| time/                 |          |\n",
      "|    fps                | 87       |\n",
      "|    iterations         | 100      |\n",
      "|    time_elapsed       | 5        |\n",
      "|    total_timesteps    | 500      |\n",
      "| train/                |          |\n",
      "|    entropy_loss       | -2.06    |\n",
      "|    explained_variance | 0.0      |\n",
      "|    learning_rate      | 0.0007   |\n",
      "|    n_updates          | 99       |\n",
      "|    policy_loss        | -1.79    |\n",
      "|    value_loss         | 0.927    |\n",
      "------------------------------------\n",
      "----------------------------------------\n",
      "| rollout/              |              |\n",
      "|    ep_len_mean        | 142          |\n",
      "|    ep_rew_mean        | -46          |\n",
      "| time/                 |              |\n",
      "|    fps                | 120          |\n",
      "|    iterations         | 200          |\n",
      "|    time_elapsed       | 8            |\n",
      "|    total_timesteps    | 1000         |\n",
      "| train/                |              |\n",
      "|    entropy_loss       | -2.03        |\n",
      "|    explained_variance | -0.032670975 |\n",
      "|    learning_rate      | 0.0007       |\n",
      "|    n_updates          | 199          |\n",
      "|    policy_loss        | -0.0383      |\n",
      "|    value_loss         | 0.00874      |\n",
      "----------------------------------------\n",
      "---------------------------------------\n",
      "| rollout/              |             |\n",
      "|    ep_len_mean        | 120         |\n",
      "|    ep_rew_mean        | -37.5       |\n",
      "| time/                 |             |\n",
      "|    fps                | 137         |\n",
      "|    iterations         | 300         |\n",
      "|    time_elapsed       | 10          |\n",
      "|    total_timesteps    | 1500        |\n",
      "| train/                |             |\n",
      "|    entropy_loss       | -2.04       |\n",
      "|    explained_variance | 0.048255682 |\n",
      "|    learning_rate      | 0.0007      |\n",
      "|    n_updates          | 299         |\n",
      "|    policy_loss        | -0.753      |\n",
      "|    value_loss         | 0.136       |\n",
      "---------------------------------------\n",
      "--------------------------------------\n",
      "| rollout/              |            |\n",
      "|    ep_len_mean        | 125        |\n",
      "|    ep_rew_mean        | -39.1      |\n",
      "| time/                 |            |\n",
      "|    fps                | 148        |\n",
      "|    iterations         | 400        |\n",
      "|    time_elapsed       | 13         |\n",
      "|    total_timesteps    | 2000       |\n",
      "| train/                |            |\n",
      "|    entropy_loss       | -2.06      |\n",
      "|    explained_variance | 0.06546795 |\n",
      "|    learning_rate      | 0.0007     |\n",
      "|    n_updates          | 399        |\n",
      "|    policy_loss        | -0.279     |\n",
      "|    value_loss         | 0.0252     |\n",
      "--------------------------------------\n",
      "---------------------------------------\n",
      "| rollout/              |             |\n",
      "|    ep_len_mean        | 124         |\n",
      "|    ep_rew_mean        | -38.1       |\n",
      "| time/                 |             |\n",
      "|    fps                | 155         |\n",
      "|    iterations         | 500         |\n",
      "|    time_elapsed       | 16          |\n",
      "|    total_timesteps    | 2500        |\n",
      "| train/                |             |\n",
      "|    entropy_loss       | -2.04       |\n",
      "|    explained_variance | 0.021565437 |\n",
      "|    learning_rate      | 0.0007      |\n",
      "|    n_updates          | 499         |\n",
      "|    policy_loss        | 0.338       |\n",
      "|    value_loss         | 0.0469      |\n",
      "---------------------------------------\n",
      "----------------------------------------\n",
      "| rollout/              |              |\n",
      "|    ep_len_mean        | 90.8         |\n",
      "|    ep_rew_mean        | -26.5        |\n",
      "| time/                 |              |\n",
      "|    fps                | 160          |\n",
      "|    iterations         | 600          |\n",
      "|    time_elapsed       | 18           |\n",
      "|    total_timesteps    | 3000         |\n",
      "| train/                |              |\n",
      "|    entropy_loss       | -1.99        |\n",
      "|    explained_variance | -0.110922694 |\n",
      "|    learning_rate      | 0.0007       |\n",
      "|    n_updates          | 599          |\n",
      "|    policy_loss        | 0.301        |\n",
      "|    value_loss         | 0.0275       |\n",
      "----------------------------------------\n",
      "-----------------------------------------\n",
      "| rollout/              |               |\n",
      "|    ep_len_mean        | 74.3          |\n",
      "|    ep_rew_mean        | -20.9         |\n",
      "| time/                 |               |\n",
      "|    fps                | 164           |\n",
      "|    iterations         | 700           |\n",
      "|    time_elapsed       | 21            |\n",
      "|    total_timesteps    | 3500          |\n",
      "| train/                |               |\n",
      "|    entropy_loss       | -1.86         |\n",
      "|    explained_variance | -0.0015103817 |\n",
      "|    learning_rate      | 0.0007        |\n",
      "|    n_updates          | 699           |\n",
      "|    policy_loss        | 29.7          |\n",
      "|    value_loss         | 506           |\n",
      "-----------------------------------------\n",
      "-------------------------------------\n",
      "| rollout/              |           |\n",
      "|    ep_len_mean        | 57.8      |\n",
      "|    ep_rew_mean        | -15.4     |\n",
      "| time/                 |           |\n",
      "|    fps                | 167       |\n",
      "|    iterations         | 800       |\n",
      "|    time_elapsed       | 23        |\n",
      "|    total_timesteps    | 4000      |\n",
      "| train/                |           |\n",
      "|    entropy_loss       | -1.73     |\n",
      "|    explained_variance | 0.0726313 |\n",
      "|    learning_rate      | 0.0007    |\n",
      "|    n_updates          | 799       |\n",
      "|    policy_loss        | -0.16     |\n",
      "|    value_loss         | 0.0124    |\n",
      "-------------------------------------\n",
      "----------------------------------------\n",
      "| rollout/              |              |\n",
      "|    ep_len_mean        | 36.1         |\n",
      "|    ep_rew_mean        | -8.48        |\n",
      "| time/                 |              |\n",
      "|    fps                | 169          |\n",
      "|    iterations         | 900          |\n",
      "|    time_elapsed       | 26           |\n",
      "|    total_timesteps    | 4500         |\n",
      "| train/                |              |\n",
      "|    entropy_loss       | -1.75        |\n",
      "|    explained_variance | -0.004955888 |\n",
      "|    learning_rate      | 0.0007       |\n",
      "|    n_updates          | 899          |\n",
      "|    policy_loss        | 10.4         |\n",
      "|    value_loss         | 149          |\n",
      "----------------------------------------\n",
      "---------------------------------------\n",
      "| rollout/              |             |\n",
      "|    ep_len_mean        | 14.8        |\n",
      "|    ep_rew_mean        | -2.06       |\n",
      "| time/                 |             |\n",
      "|    fps                | 171         |\n",
      "|    iterations         | 1000        |\n",
      "|    time_elapsed       | 29          |\n",
      "|    total_timesteps    | 5000        |\n",
      "| train/                |             |\n",
      "|    entropy_loss       | -1.53       |\n",
      "|    explained_variance | -0.01411128 |\n",
      "|    learning_rate      | 0.0007      |\n",
      "|    n_updates          | 999         |\n",
      "|    policy_loss        | -0.57       |\n",
      "|    value_loss         | 0.128       |\n",
      "---------------------------------------\n",
      "MoviePy - Building video /Users/bapa/Codes/KidsPuzzles/videos/DigitsPuzzle-2--0.02-0.01--0.02/training-episode-200.mp4.\n",
      "MoviePy - Writing video /Users/bapa/Codes/KidsPuzzles/videos/DigitsPuzzle-2--0.02-0.01--0.02/training-episode-200.mp4\n",
      "\n"
     ]
    },
    {
     "name": "stderr",
     "output_type": "stream",
     "text": [
      "                                                            "
     ]
    },
    {
     "name": "stdout",
     "output_type": "stream",
     "text": [
      "MoviePy - Done !\n",
      "MoviePy - video ready /Users/bapa/Codes/KidsPuzzles/videos/DigitsPuzzle-2--0.02-0.01--0.02/training-episode-200.mp4\n"
     ]
    },
    {
     "name": "stderr",
     "output_type": "stream",
     "text": [
      "\r"
     ]
    },
    {
     "name": "stdout",
     "output_type": "stream",
     "text": [
      "-------------------------------------\n",
      "| rollout/              |           |\n",
      "|    ep_len_mean        | 9.65      |\n",
      "|    ep_rew_mean        | -0.822    |\n",
      "| time/                 |           |\n",
      "|    fps                | 171       |\n",
      "|    iterations         | 1100      |\n",
      "|    time_elapsed       | 31        |\n",
      "|    total_timesteps    | 5500      |\n",
      "| train/                |           |\n",
      "|    entropy_loss       | -1.63     |\n",
      "|    explained_variance | 0.5160639 |\n",
      "|    learning_rate      | 0.0007    |\n",
      "|    n_updates          | 1099      |\n",
      "|    policy_loss        | -0.192    |\n",
      "|    value_loss         | 0.013     |\n",
      "-------------------------------------\n",
      "--------------------------------------\n",
      "| rollout/              |            |\n",
      "|    ep_len_mean        | 7.67       |\n",
      "|    ep_rew_mean        | -0.45      |\n",
      "| time/                 |            |\n",
      "|    fps                | 173        |\n",
      "|    iterations         | 1200       |\n",
      "|    time_elapsed       | 34         |\n",
      "|    total_timesteps    | 6000       |\n",
      "| train/                |            |\n",
      "|    entropy_loss       | -1.43      |\n",
      "|    explained_variance | 0.56263673 |\n",
      "|    learning_rate      | 0.0007     |\n",
      "|    n_updates          | 1199       |\n",
      "|    policy_loss        | 1.83       |\n",
      "|    value_loss         | 3.63       |\n",
      "--------------------------------------\n",
      "-------------------------------------\n",
      "| rollout/              |           |\n",
      "|    ep_len_mean        | 6.59      |\n",
      "|    ep_rew_mean        | -0.185    |\n",
      "| time/                 |           |\n",
      "|    fps                | 174       |\n",
      "|    iterations         | 1300      |\n",
      "|    time_elapsed       | 37        |\n",
      "|    total_timesteps    | 6500      |\n",
      "| train/                |           |\n",
      "|    entropy_loss       | -1.05     |\n",
      "|    explained_variance | 0.8485088 |\n",
      "|    learning_rate      | 0.0007    |\n",
      "|    n_updates          | 1299      |\n",
      "|    policy_loss        | 0.422     |\n",
      "|    value_loss         | 0.348     |\n",
      "-------------------------------------\n",
      "MoviePy - Building video /Users/bapa/Codes/KidsPuzzles/videos/DigitsPuzzle-2--0.02-0.01--0.02/training-episode-400.mp4.\n",
      "MoviePy - Writing video /Users/bapa/Codes/KidsPuzzles/videos/DigitsPuzzle-2--0.02-0.01--0.02/training-episode-400.mp4\n",
      "\n"
     ]
    },
    {
     "name": "stderr",
     "output_type": "stream",
     "text": [
      "                                                             "
     ]
    },
    {
     "name": "stdout",
     "output_type": "stream",
     "text": [
      "MoviePy - Done !\n",
      "MoviePy - video ready /Users/bapa/Codes/KidsPuzzles/videos/DigitsPuzzle-2--0.02-0.01--0.02/training-episode-400.mp4\n"
     ]
    },
    {
     "name": "stderr",
     "output_type": "stream",
     "text": [
      "\r"
     ]
    },
    {
     "name": "stdout",
     "output_type": "stream",
     "text": [
      "-------------------------------------\n",
      "| rollout/              |           |\n",
      "|    ep_len_mean        | 5.64      |\n",
      "|    ep_rew_mean        | 0.024     |\n",
      "| time/                 |           |\n",
      "|    fps                | 175       |\n",
      "|    iterations         | 1400      |\n",
      "|    time_elapsed       | 39        |\n",
      "|    total_timesteps    | 7000      |\n",
      "| train/                |           |\n",
      "|    entropy_loss       | -1.21     |\n",
      "|    explained_variance | 0.2122261 |\n",
      "|    learning_rate      | 0.0007    |\n",
      "|    n_updates          | 1399      |\n",
      "|    policy_loss        | 0.186     |\n",
      "|    value_loss         | 0.294     |\n",
      "-------------------------------------\n",
      "------------------------------------\n",
      "| rollout/              |          |\n",
      "|    ep_len_mean        | 4.42     |\n",
      "|    ep_rew_mean        | 0.289    |\n",
      "| time/                 |          |\n",
      "|    fps                | 176      |\n",
      "|    iterations         | 1500     |\n",
      "|    time_elapsed       | 42       |\n",
      "|    total_timesteps    | 7500     |\n",
      "| train/                |          |\n",
      "|    entropy_loss       | -0.703   |\n",
      "|    explained_variance | 0.509821 |\n",
      "|    learning_rate      | 0.0007   |\n",
      "|    n_updates          | 1499     |\n",
      "|    policy_loss        | -0.0545  |\n",
      "|    value_loss         | 0.0292   |\n",
      "------------------------------------\n",
      "MoviePy - Building video /Users/bapa/Codes/KidsPuzzles/videos/DigitsPuzzle-2--0.02-0.01--0.02/training-episode-600.mp4.\n",
      "MoviePy - Writing video /Users/bapa/Codes/KidsPuzzles/videos/DigitsPuzzle-2--0.02-0.01--0.02/training-episode-600.mp4\n",
      "\n"
     ]
    },
    {
     "name": "stderr",
     "output_type": "stream",
     "text": [
      "                                                            "
     ]
    },
    {
     "name": "stdout",
     "output_type": "stream",
     "text": [
      "MoviePy - Done !\n",
      "MoviePy - video ready /Users/bapa/Codes/KidsPuzzles/videos/DigitsPuzzle-2--0.02-0.01--0.02/training-episode-600.mp4\n"
     ]
    },
    {
     "name": "stderr",
     "output_type": "stream",
     "text": [
      "\r"
     ]
    },
    {
     "name": "stdout",
     "output_type": "stream",
     "text": [
      "-------------------------------------\n",
      "| rollout/              |           |\n",
      "|    ep_len_mean        | 4.7       |\n",
      "|    ep_rew_mean        | 0.235     |\n",
      "| time/                 |           |\n",
      "|    fps                | 177       |\n",
      "|    iterations         | 1600      |\n",
      "|    time_elapsed       | 45        |\n",
      "|    total_timesteps    | 8000      |\n",
      "| train/                |           |\n",
      "|    entropy_loss       | -1.03     |\n",
      "|    explained_variance | 0.6649202 |\n",
      "|    learning_rate      | 0.0007    |\n",
      "|    n_updates          | 1599      |\n",
      "|    policy_loss        | 0.0428    |\n",
      "|    value_loss         | 0.0313    |\n",
      "-------------------------------------\n",
      "-------------------------------------\n",
      "| rollout/              |           |\n",
      "|    ep_len_mean        | 4.53      |\n",
      "|    ep_rew_mean        | 0.276     |\n",
      "| time/                 |           |\n",
      "|    fps                | 177       |\n",
      "|    iterations         | 1700      |\n",
      "|    time_elapsed       | 47        |\n",
      "|    total_timesteps    | 8500      |\n",
      "| train/                |           |\n",
      "|    entropy_loss       | -0.897    |\n",
      "|    explained_variance | 0.3300916 |\n",
      "|    learning_rate      | 0.0007    |\n",
      "|    n_updates          | 1699      |\n",
      "|    policy_loss        | -0.348    |\n",
      "|    value_loss         | 0.0869    |\n",
      "-------------------------------------\n",
      "MoviePy - Building video /Users/bapa/Codes/KidsPuzzles/videos/DigitsPuzzle-2--0.02-0.01--0.02/training-episode-800.mp4.\n",
      "MoviePy - Writing video /Users/bapa/Codes/KidsPuzzles/videos/DigitsPuzzle-2--0.02-0.01--0.02/training-episode-800.mp4\n",
      "\n"
     ]
    },
    {
     "name": "stderr",
     "output_type": "stream",
     "text": [
      "                                                            "
     ]
    },
    {
     "name": "stdout",
     "output_type": "stream",
     "text": [
      "MoviePy - Done !\n",
      "MoviePy - video ready /Users/bapa/Codes/KidsPuzzles/videos/DigitsPuzzle-2--0.02-0.01--0.02/training-episode-800.mp4\n"
     ]
    },
    {
     "name": "stderr",
     "output_type": "stream",
     "text": [
      "\r"
     ]
    },
    {
     "name": "stdout",
     "output_type": "stream",
     "text": [
      "-------------------------------------\n",
      "| rollout/              |           |\n",
      "|    ep_len_mean        | 4.56      |\n",
      "|    ep_rew_mean        | 0.242     |\n",
      "| time/                 |           |\n",
      "|    fps                | 177       |\n",
      "|    iterations         | 1800      |\n",
      "|    time_elapsed       | 50        |\n",
      "|    total_timesteps    | 9000      |\n",
      "| train/                |           |\n",
      "|    entropy_loss       | -0.884    |\n",
      "|    explained_variance | 0.9667167 |\n",
      "|    learning_rate      | 0.0007    |\n",
      "|    n_updates          | 1799      |\n",
      "|    policy_loss        | 0.0494    |\n",
      "|    value_loss         | 0.0129    |\n",
      "-------------------------------------\n",
      "MoviePy - Building video /Users/bapa/Codes/KidsPuzzles/videos/DigitsPuzzle-2--0.02-0.01--0.02/training-episode-1000.mp4.\n",
      "MoviePy - Writing video /Users/bapa/Codes/KidsPuzzles/videos/DigitsPuzzle-2--0.02-0.01--0.02/training-episode-1000.mp4\n",
      "\n"
     ]
    },
    {
     "name": "stderr",
     "output_type": "stream",
     "text": [
      "                                                            "
     ]
    },
    {
     "name": "stdout",
     "output_type": "stream",
     "text": [
      "MoviePy - Done !\n",
      "MoviePy - video ready /Users/bapa/Codes/KidsPuzzles/videos/DigitsPuzzle-2--0.02-0.01--0.02/training-episode-1000.mp4\n",
      "-------------------------------------\n",
      "| rollout/              |           |\n",
      "|    ep_len_mean        | 4.13      |\n",
      "|    ep_rew_mean        | 0.356     |\n",
      "| time/                 |           |\n",
      "|    fps                | 177       |\n",
      "|    iterations         | 1900      |\n",
      "|    time_elapsed       | 53        |\n",
      "|    total_timesteps    | 9500      |\n",
      "| train/                |           |\n",
      "|    entropy_loss       | -0.723    |\n",
      "|    explained_variance | 0.6444261 |\n",
      "|    learning_rate      | 0.0007    |\n",
      "|    n_updates          | 1899      |\n",
      "|    policy_loss        | 0.027     |\n",
      "|    value_loss         | 0.0645    |\n",
      "-------------------------------------\n"
     ]
    },
    {
     "name": "stderr",
     "output_type": "stream",
     "text": [
      "\r"
     ]
    },
    {
     "name": "stdout",
     "output_type": "stream",
     "text": [
      "--------------------------------------\n",
      "| rollout/              |            |\n",
      "|    ep_len_mean        | 4.16       |\n",
      "|    ep_rew_mean        | 0.348      |\n",
      "| time/                 |            |\n",
      "|    fps                | 178        |\n",
      "|    iterations         | 2000       |\n",
      "|    time_elapsed       | 56         |\n",
      "|    total_timesteps    | 10000      |\n",
      "| train/                |            |\n",
      "|    entropy_loss       | -0.658     |\n",
      "|    explained_variance | 0.30437064 |\n",
      "|    learning_rate      | 0.0007     |\n",
      "|    n_updates          | 1999       |\n",
      "|    policy_loss        | -0.297     |\n",
      "|    value_loss         | 0.0441     |\n",
      "--------------------------------------\n"
     ]
    },
    {
     "data": {
      "text/plain": [
       "<stable_baselines3.a2c.a2c.A2C at 0x13122a090>"
      ]
     },
     "execution_count": 1,
     "metadata": {},
     "output_type": "execute_result"
    }
   ],
   "source": [
    "import sys \n",
    "import gymnasium as gym\n",
    "from gymnasium.wrappers.record_video import RecordVideo\n",
    "from gymnasium.wrappers.record_episode_statistics import RecordEpisodeStatistics\n",
    "import kidspuzzles\n",
    "from stable_baselines3 import A2C\n",
    "\n",
    "n_digits = 2\n",
    "# reward_clipped = -0.02\n",
    "# reward_enter_target_area = 0.01\n",
    "# reward_exit_target_area = -0.02\n",
    "\n",
    "env = gym.make(\n",
    "    'kidspuzzles/DigitsPuzzleEnv-v0', \n",
    "    render_mode = 'rgb_array', \n",
    "    n_digits = n_digits,\n",
    "    # reward_clipped = reward_clipped,\n",
    "    # reward_enter_target_area = reward_enter_target_area,\n",
    "    # reward_exit_target_area = reward_exit_target_area\n",
    ")\n",
    "\n",
    "video_folder = f\"DigitsPuzzle-{n_digits}\"\n",
    "record_freq = 200\n",
    "\n",
    "env = RecordVideo(env, video_folder=f\"videos/{video_folder}\", name_prefix=\"training\",\n",
    "                  episode_trigger=lambda x: x % record_freq == 0)\n",
    "\n",
    "model = A2C(\n",
    "    \"MultiInputPolicy\", \n",
    "    env, \n",
    "    verbose=1, \n",
    "    device=\"mps\", \n",
    "    tensorboard_log=f\"./logs/a2c_digitspuzzle_nd{n_digits}/\"\n",
    ")\n",
    "model.learn(total_timesteps=10_000)"
   ]
  },
  {
   "cell_type": "code",
   "execution_count": 2,
   "metadata": {},
   "outputs": [
    {
     "name": "stderr",
     "output_type": "stream",
     "text": [
      "/Users/bapa/miniconda3/envs/gym/lib/python3.12/site-packages/gymnasium/core.py:311: UserWarning: \u001b[33mWARN: env.reward_list to get variables from other wrappers is deprecated and will be removed in v1.0, to get this variable you can do `env.unwrapped.reward_list` for environment variables or `env.get_wrapper_attr('reward_list')` that will search the reminding wrappers.\u001b[0m\n",
      "  logger.warn(\n"
     ]
    },
    {
     "data": {
      "text/plain": [
       "<matplotlib.collections.PathCollection at 0x302b24c20>"
      ]
     },
     "execution_count": 2,
     "metadata": {},
     "output_type": "execute_result"
    },
    {
     "data": {
      "image/png": "[encoded data removed]",
      "text/plain": [
       "<Figure size 640x480 with 1 Axes>"
      ]
     },
     "metadata": {},
     "output_type": "display_data"
    }
   ],
   "source": [
    "import matplotlib.pyplot as plt \n",
    "y = env.reward_list[::-500]\n",
    "plt.scatter(range(len(y)), y)"
   ]
  },
  {
   "cell_type": "code",
   "execution_count": 3,
   "metadata": {},
   "outputs": [
    {
     "name": "stderr",
     "output_type": "stream",
     "text": [
      "2025-01-16 23:40:05.436 python[3887:126464] +[IMKClient subclass]: chose IMKClient_Modern\n",
      "2025-01-16 23:40:05.436 python[3887:126464] +[IMKInputSession subclass]: chose IMKInputSession_Modern\n"
     ]
    },
    {
     "name": "stdout",
     "output_type": "stream",
     "text": [
      "Total reward:  [3.1999998]\n"
     ]
    }
   ],
   "source": [
    "import time\n",
    "vec_env = model.get_env()\n",
    "observations = vec_env.reset()\n",
    "reward_sum = 0\n",
    "for _ in range(50):\n",
    "    action, _state = model.predict(observations)\n",
    "    observations, reward, terminated, info = vec_env.step(action)\n",
    "    vec_env.render(\"human\")\n",
    "    time.sleep(5)\n",
    "\n",
    "    reward_sum += reward\n",
    "    if terminated:\n",
    "        observations = vec_env.reset()\n",
    "\n",
    "print(\"Total reward: \", reward_sum)"
   ]
  },
  {
   "cell_type": "code",
   "execution_count": 4,
   "metadata": {},
   "outputs": [],
   "source": [
    "env.close()"
   ]
  }
 ],
 "metadata": {
  "kernelspec": {
   "display_name": "gym",
   "language": "python",
   "name": "python3"
  },
  "language_info": {
   "codemirror_mode": {
    "name": "ipython",
    "version": 3
   },
   "file_extension": ".py",
   "mimetype": "text/x-python",
   "name": "python",
   "nbconvert_exporter": "python",
   "pygments_lexer": "ipython3",
   "version": "3.12.5"
  }
 },
 "nbformat": 4,
 "nbformat_minor": 2
}
