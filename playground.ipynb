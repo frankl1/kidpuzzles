{
 "cells": [
  {
   "cell_type": "code",
   "execution_count": null,
   "metadata": {},
   "outputs": [],
   "source": [
    "import sys \n",
    "import gymnasium as gym\n",
    "from gymnasium.wrappers.record_video import RecordVideo\n",
    "from gymnasium.wrappers.record_episode_statistics import RecordEpisodeStatistics\n",
    "import kidspuzzles\n",
    "from stable_baselines3 import A2C\n",
    "\n",
    "n_digits = 10\n",
    "# reward_clipped = -0.02\n",
    "# reward_enter_target_area = 0.01\n",
    "# reward_exit_target_area = -0.02\n",
    "\n",
    "env = gym.make(\n",
    "    'kidspuzzles/DigitsPuzzleEnv-v0', \n",
    "    render_mode = 'rgb_array', \n",
    "    n_digits = n_digits,\n",
    "    # reward_clipped = reward_clipped,\n",
    "    # reward_enter_target_area = reward_enter_target_area,\n",
    "    # reward_exit_target_area = reward_exit_target_area\n",
    ")\n",
    "\n",
    "video_folder = f\"DigitsPuzzle-{n_digits}\"\n",
    "record_freq = 200\n",
    "\n",
    "env = RecordVideo(env, video_folder=f\"videos/{video_folder}\", name_prefix=\"training\",\n",
    "                  episode_trigger=lambda x: x % record_freq == 0)\n",
    "\n",
    "model = A2C(\n",
    "    \"MultiInputPolicy\", \n",
    "    env, \n",
    "    ent_coef=0.01,\n",
    "    n_steps=64,\n",
    "    verbose=1, \n",
    "    device=\"mps\", \n",
    "    tensorboard_log=f\"./logs/a2c_digitspuzzle_nd{n_digits}/\"\n",
    ")\n",
    "model.learn(total_timesteps=2_000_000)"
   ]
  },
  {
   "cell_type": "code",
   "execution_count": null,
   "metadata": {},
   "outputs": [
    {
     "name": "stdout",
     "output_type": "stream",
     "text": [
      "Total reward:  [-7.835555]\n"
     ]
    }
   ],
   "source": [
    "import time\n",
    "vec_env = model.get_env()\n",
    "observations = vec_env.reset()\n",
    "reward_sum = 0\n",
    "for _ in range(50):\n",
    "    action, _state = model.predict(observations)\n",
    "    observations, reward, terminated, info = vec_env.step(action)\n",
    "    vec_env.render(\"human\")\n",
    "    time.sleep(5)\n",
    "\n",
    "    reward_sum += reward\n",
    "    if terminated:\n",
    "        observations = vec_env.reset()\n",
    "\n",
    "print(\"Total reward: \", reward_sum)"
   ]
  },
  {
   "cell_type": "code",
   "execution_count": null,
   "metadata": {},
   "outputs": [],
   "source": [
    "env.close()"
   ]
  }
 ],
 "metadata": {
  "kernelspec": {
   "display_name": "gym",
   "language": "python",
   "name": "python3"
  },
  "language_info": {
   "codemirror_mode": {
    "name": "ipython",
    "version": 3
   },
   "file_extension": ".py",
   "mimetype": "text/x-python",
   "name": "python",
   "nbconvert_exporter": "python",
   "pygments_lexer": "ipython3",
   "version": "3.12.5"
  }
 },
 "nbformat": 4,
 "nbformat_minor": 2
}
