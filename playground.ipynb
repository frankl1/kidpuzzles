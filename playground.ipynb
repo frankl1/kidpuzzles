{
 "cells": [
  {
   "cell_type": "code",
   "execution_count": null,
   "metadata": {},
   "outputs": [
    {
     "name": "stderr",
     "output_type": "stream",
     "text": [
      "/Users/bapa/miniconda3/envs/gym/lib/python3.12/site-packages/gymnasium/wrappers/record_video.py:94: UserWarning: \u001b[33mWARN: Overwriting existing videos at /Users/bapa/Codes/KidsPuzzles/videos/DigitsPuzzle-3 folder (try specifying a different `video_folder` for the `RecordVideo` wrapper if this is not desired)\u001b[0m\n",
      "  logger.warn(\n"
     ]
    },
    {
     "name": "stdout",
     "output_type": "stream",
     "text": [
      "Using mps device\n",
      "Wrapping the env with a `Monitor` wrapper\n",
      "Wrapping the env in a DummyVecEnv.\n"
     ]
    }
   ],
   "source": [
    "import sys \n",
    "import gymnasium as gym\n",
    "from gymnasium.wrappers.record_video import RecordVideo\n",
    "from gymnasium.wrappers.record_episode_statistics import RecordEpisodeStatistics\n",
    "import kidspuzzles\n",
    "from stable_baselines3 import A2C\n",
    "\n",
    "n_digits = 3\n",
    "# reward_clipped = -0.02\n",
    "# reward_enter_target_area = 0.01\n",
    "# reward_exit_target_area = -0.02\n",
    "\n",
    "env = gym.make(\n",
    "    'kidspuzzles/DigitsPuzzleEnv-v0', \n",
    "    render_mode = 'rgb_array', \n",
    "    n_digits = n_digits,\n",
    "    # reward_clipped = reward_clipped,\n",
    "    # reward_enter_target_area = reward_enter_target_area,\n",
    "    # reward_exit_target_area = reward_exit_target_area\n",
    ")\n",
    "\n",
    "video_folder = f\"DigitsPuzzle-{n_digits}\"\n",
    "record_freq = 200\n",
    "\n",
    "env = RecordVideo(env, video_folder=f\"videos/{video_folder}\", name_prefix=\"training\",\n",
    "                  episode_trigger=lambda x: x % record_freq == 0)\n",
    "\n",
    "model = A2C(\n",
    "    \"MultiInputPolicy\", \n",
    "    env, \n",
    "    verbose=1, \n",
    "    device=\"mps\", \n",
    "    tensorboard_log=f\"./logs/a2c_digitspuzzle_nd{n_digits}/\"\n",
    ")\n",
    "model.learn(total_timesteps=100_000)"
   ]
  },
  {
   "cell_type": "code",
   "execution_count": null,
   "metadata": {},
   "outputs": [
    {
     "name": "stderr",
     "output_type": "stream",
     "text": [
      "2025-02-03 04:06:14.943 python[25375:218441] +[IMKClient subclass]: chose IMKClient_Modern\n",
      "2025-02-03 04:06:14.943 python[25375:218441] +[IMKInputSession subclass]: chose IMKInputSession_Modern\n"
     ]
    },
    {
     "name": "stdout",
     "output_type": "stream",
     "text": [
      "Total reward:  [-6.437141]\n"
     ]
    }
   ],
   "source": [
    "import time\n",
    "vec_env = model.get_env()\n",
    "observations = vec_env.reset()\n",
    "reward_sum = 0\n",
    "for _ in range(50):\n",
    "    action, _state = model.predict(observations)\n",
    "    observations, reward, terminated, info = vec_env.step(action)\n",
    "    vec_env.render(\"human\")\n",
    "    time.sleep(5)\n",
    "\n",
    "    reward_sum += reward\n",
    "    if terminated:\n",
    "        observations = vec_env.reset()\n",
    "\n",
    "print(\"Total reward: \", reward_sum)"
   ]
  },
  {
   "cell_type": "code",
   "execution_count": 3,
   "metadata": {},
   "outputs": [],
   "source": [
    "env.close()"
   ]
  }
 ],
 "metadata": {
  "kernelspec": {
   "display_name": "gym",
   "language": "python",
   "name": "python3"
  },
  "language_info": {
   "codemirror_mode": {
    "name": "ipython",
    "version": 3
   },
   "file_extension": ".py",
   "mimetype": "text/x-python",
   "name": "python",
   "nbconvert_exporter": "python",
   "pygments_lexer": "ipython3",
   "version": "3.12.5"
  }
 },
 "nbformat": 4,
 "nbformat_minor": 2
}
