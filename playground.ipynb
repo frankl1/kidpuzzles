{
 "cells": [
  {
   "cell_type": "code",
   "execution_count": null,
   "metadata": {},
   "outputs": [
    {
     "name": "stdout",
     "output_type": "stream",
     "text": [
      "Using cpu device\n",
      "Wrapping the env with a `Monitor` wrapper\n",
      "Wrapping the env in a DummyVecEnv.\n"
     ]
    },
    {
     "ename": "",
     "evalue": "",
     "output_type": "error",
     "traceback": [
      "\u001b[1;31mThe Kernel crashed while executing code in the current cell or a previous cell. \n",
      "\u001b[1;31mPlease review the code in the cell(s) to identify a possible cause of the failure. \n",
      "\u001b[1;31mClick <a href='https://aka.ms/vscodeJupyterKernelCrash'>here</a> for more info. \n",
      "\u001b[1;31mView Jupyter <a href='command:jupyter.viewOutput'>log</a> for further details."
     ]
    }
   ],
   "source": [
    "import sys \n",
    "import gymnasium as gym\n",
    "import kidspuzzles\n",
    "from stable_baselines3 import A2C\n",
    "\n",
    "env = gym.make('kidspuzzles/DigitsPuzzleEnv-v0', size = 10, render_mode = 'human')\n",
    "\n",
    "model = A2C(\"MultiInputPolicy\", env, verbose=1)\n",
    "model.learn(total_timesteps=10)\n",
    "\n",
    "vec_env = model.get_env()\n",
    "observations = vec_env.reset()\n",
    "for _ in range(100):\n",
    "    action, _state = model.predict(observations, deterministic=True)\n",
    "    observations, reward, terminated, info = vec_env.step(action)\n",
    "    vec_env.render(\"human\")\n",
    "    # if terminated:\n",
    "    #     observations, info = vec_env.reset()\n",
    "\n",
    "env.close()"
   ]
  }
 ],
 "metadata": {
  "kernelspec": {
   "display_name": "gym",
   "language": "python",
   "name": "python3"
  },
  "language_info": {
   "codemirror_mode": {
    "name": "ipython",
    "version": 3
   },
   "file_extension": ".py",
   "mimetype": "text/x-python",
   "name": "python",
   "nbconvert_exporter": "python",
   "pygments_lexer": "ipython3",
   "version": "3.12.5"
  }
 },
 "nbformat": 4,
 "nbformat_minor": 2
}
